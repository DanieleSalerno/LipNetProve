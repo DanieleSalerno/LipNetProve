{
 "cells": [
  {
   "cell_type": "code",
   "execution_count": 1,
   "metadata": {
    "collapsed": true
   },
   "outputs": [
    {
     "name": "stdout",
     "output_type": "stream",
     "text": [
      "Python 2.7.18\r\n"
     ]
    }
   ],
   "source": [
    "!python -V"
   ]
  },
  {
   "cell_type": "code",
   "execution_count": 3,
   "outputs": [
    {
     "name": "stdout",
     "output_type": "stream",
     "text": [
      "Cloning into 'LipNet'...\r\n",
      "remote: Enumerating objects: 352, done.\u001B[K\r\n",
      "remote: Counting objects: 100% (9/9), done.\u001B[K\r\n",
      "remote: Compressing objects: 100% (9/9), done.\u001B[K\r\n",
      "remote: Total 352 (delta 4), reused 0 (delta 0), pack-reused 343\u001B[K\r\n",
      "Receiving objects: 100% (352/352), 125.85 MiB | 7.28 MiB/s, done.\r\n",
      "Resolving deltas: 100% (129/129), done.\r\n",
      "Updating files: 100% (134/134), done.\r\n"
     ]
    }
   ],
   "source": [
    "!git clone https://github.com/rizkiarm/LipNet.git"
   ],
   "metadata": {
    "collapsed": false,
    "pycharm": {
     "name": "#%%\n"
    }
   }
  },
  {
   "cell_type": "code",
   "execution_count": null,
   "outputs": [],
   "source": [
    "%cd LipNet/\n",
    "%pip install -e .\n",
    "\n",
    "#da eseguire nel terminale\n",
    "#dlib e cmake utlime versioni"
   ],
   "metadata": {
    "collapsed": false,
    "pycharm": {
     "name": "#%%\n",
     "is_executing": true
    }
   }
  },
  {
   "cell_type": "code",
   "execution_count": 5,
   "outputs": [
    {
     "name": "stdout",
     "output_type": "stream",
     "text": [
      "pip 19.3.1 from /Users/benedettosimone/PycharmProjects/pythonProject/venv/lib/python2.7/site-packages/pip (python 2.7)\r\n"
     ]
    }
   ],
   "source": [
    "!pip -V"
   ],
   "metadata": {
    "collapsed": false,
    "pycharm": {
     "name": "#%%\n"
    }
   }
  },
  {
   "cell_type": "code",
   "execution_count": 6,
   "outputs": [
    {
     "name": "stdout",
     "output_type": "stream",
     "text": [
      "\u001B[33mDEPRECATION: Python 2.7 will reach the end of its life on January 1st, 2020. Please upgrade your Python as Python 2.7 won't be maintained after that date. A future version of pip will drop support for Python 2.7. More details about Python 2 support in pip, can be found at https://pip.pypa.io/en/latest/development/release-process/#python-2-support\u001B[0m\r\n",
      "Collecting tensorflow==1.15\r\n",
      "  Using cached https://files.pythonhosted.org/packages/b9/be/140e6c4deef96ddfe3837ef7ffc396a06cca73c958989835ac8f05773678/tensorflow-1.15.0-cp27-cp27m-macosx_10_11_x86_64.whl\r\n",
      "Requirement already satisfied: functools32>=3.2.3 in /Users/benedettosimone/PycharmProjects/pythonProject/venv/lib/python2.7/site-packages (from tensorflow==1.15) (3.2.3.post2)\r\n",
      "Collecting backports.weakref>=1.0rc1; python_version < \"3.4\"\r\n",
      "  Using cached https://files.pythonhosted.org/packages/88/ec/f598b633c3d5ffe267aaada57d961c94fdfa183c5c3ebda2b6d151943db6/backports.weakref-1.0.post1-py2.py3-none-any.whl\r\n",
      "Requirement already satisfied: six>=1.10.0 in /Users/benedettosimone/PycharmProjects/pythonProject/venv/lib/python2.7/site-packages (from tensorflow==1.15) (1.16.0)\r\n",
      "Collecting grpcio>=1.8.6\r\n",
      "  Using cached https://files.pythonhosted.org/packages/bd/81/6c704c002a992b9d6466c739e3e7687e0bb2365d8cd63d7fc8e95d502cb6/grpcio-1.41.1.tar.gz\r\n",
      "Collecting astor>=0.6.0\r\n",
      "  Using cached https://files.pythonhosted.org/packages/c3/88/97eef84f48fa04fbd6750e62dcceafba6c63c81b7ac1420856c8dcc0a3f9/astor-0.8.1-py2.py3-none-any.whl\r\n",
      "Collecting tensorflow-estimator==1.15.1\r\n",
      "  Using cached https://files.pythonhosted.org/packages/de/62/2ee9cd74c9fa2fa450877847ba560b260f5d0fb70ee0595203082dafcc9d/tensorflow_estimator-1.15.1-py2.py3-none-any.whl\r\n",
      "Collecting google-pasta>=0.1.6\r\n",
      "  Using cached https://files.pythonhosted.org/packages/59/22/38238cd9b83dd8a857abd7c907b8fe68ceff1611ab3ca5f0e80a5e025956/google_pasta-0.2.0-py2-none-any.whl\r\n",
      "Requirement already satisfied: protobuf>=3.6.1 in /Users/benedettosimone/PycharmProjects/pythonProject/venv/lib/python2.7/site-packages (from tensorflow==1.15) (3.17.3)\r\n",
      "Collecting termcolor>=1.1.0\r\n",
      "  Using cached https://files.pythonhosted.org/packages/8a/48/a76be51647d0eb9f10e2a4511bf3ffb8cc1e6b14e9e4fab46173aa79f981/termcolor-1.1.0.tar.gz\r\n",
      "Collecting opt-einsum>=2.3.2\r\n",
      "  Using cached https://files.pythonhosted.org/packages/f6/d6/44792ec668bcda7d91913c75237314e688f70415ab2acd7172c845f0b24f/opt_einsum-2.3.2.tar.gz\r\n",
      "Collecting numpy<2.0,>=1.16.0\r\n",
      "  Using cached https://files.pythonhosted.org/packages/09/96/84cf406fe7d589f3dba9fc0f737e65985a3526c6d8c783f02d4b5a10825d/numpy-1.16.6-cp27-cp27m-macosx_10_9_x86_64.whl\r\n",
      "Requirement already satisfied: mock>=2.0.0 in /Users/benedettosimone/PycharmProjects/pythonProject/venv/lib/python2.7/site-packages (from tensorflow==1.15) (3.0.5)\r\n",
      "Collecting gast==0.2.2\r\n",
      "  Using cached https://files.pythonhosted.org/packages/4e/35/11749bf99b2d4e3cceb4d55ca22590b0d7c2c62b9de38ac4a4a7f4687421/gast-0.2.2.tar.gz\r\n",
      "Requirement already satisfied: wheel in /Users/benedettosimone/PycharmProjects/pythonProject/venv/lib/python2.7/site-packages (from tensorflow==1.15) (0.36.2)\r\n",
      "Collecting absl-py>=0.7.0\r\n",
      "  Using cached https://files.pythonhosted.org/packages/25/d9/22a0b010487da88200c3f0672c67e892b5399b7a13d105d3863511399f6e/absl-py-0.15.0.tar.gz\r\n",
      "Collecting keras-applications>=1.0.8\r\n",
      "  Using cached https://files.pythonhosted.org/packages/21/56/4bcec5a8d9503a87e58e814c4e32ac2b32c37c685672c30bc8c54c6e478a/Keras_Applications-1.0.8.tar.gz\r\n",
      "Collecting wrapt>=1.11.1\r\n",
      "  Using cached https://files.pythonhosted.org/packages/88/86/9ca2f9c095a0e7389cc0fa3df0995073de34628aa15a9b09829dd598e8e5/wrapt-1.13.3-cp27-cp27m-macosx_10_9_x86_64.whl\r\n",
      "Requirement already satisfied: enum34>=1.1.6; python_version < \"3.4\" in /Users/benedettosimone/PycharmProjects/pythonProject/venv/lib/python2.7/site-packages (from tensorflow==1.15) (1.1.10)\r\n",
      "Collecting keras-preprocessing>=1.0.5\r\n",
      "  Using cached https://files.pythonhosted.org/packages/79/4c/7c3275a01e12ef9368a892926ab932b33bb13d55794881e3573482b378a7/Keras_Preprocessing-1.1.2-py2.py3-none-any.whl\r\n",
      "Collecting tensorboard<1.16.0,>=1.15.0\r\n",
      "  Using cached https://files.pythonhosted.org/packages/d0/93/32ed4e1421885d3ca6bad68ff53d5310580e0ba30b1bd7d36c174a744207/tensorboard-1.15.0-py2-none-any.whl\r\n",
      "Requirement already satisfied: futures>=2.2.0 in /Users/benedettosimone/PycharmProjects/pythonProject/venv/lib/python2.7/site-packages (from grpcio>=1.8.6->tensorflow==1.15) (3.3.0)\r\n",
      "Requirement already satisfied: funcsigs>=1; python_version < \"3.3\" in /Users/benedettosimone/PycharmProjects/pythonProject/venv/lib/python2.7/site-packages (from mock>=2.0.0->tensorflow==1.15) (1.0.2)\r\n",
      "Requirement already satisfied: h5py in /Users/benedettosimone/PycharmProjects/pythonProject/venv/lib/python2.7/site-packages (from keras-applications>=1.0.8->tensorflow==1.15) (2.6.0)\r\n",
      "Requirement already satisfied: setuptools>=41.0.0 in /Users/benedettosimone/PycharmProjects/pythonProject/venv/lib/python2.7/site-packages (from tensorboard<1.16.0,>=1.15.0->tensorflow==1.15) (44.1.1)\r\n",
      "Collecting markdown>=2.6.8\r\n",
      "  Using cached https://files.pythonhosted.org/packages/c0/4e/fd492e91abdc2d2fcb70ef453064d980688762079397f779758e055f6575/Markdown-3.1.1-py2.py3-none-any.whl\r\n",
      "Collecting werkzeug>=0.11.15\r\n",
      "  Using cached https://files.pythonhosted.org/packages/cc/94/5f7079a0e00bd6863ef8f1da638721e9da21e5bacee597595b318f71d62e/Werkzeug-1.0.1-py2.py3-none-any.whl\r\n",
      "Building wheels for collected packages: grpcio, termcolor, opt-einsum, gast, absl-py, keras-applications\r\n",
      "  Building wheel for grpcio (setup.py) ... \u001B[?25ldone\r\n",
      "\u001B[?25h  Created wheel for grpcio: filename=grpcio-1.41.1-cp27-cp27m-macosx_12_0_x86_64.whl size=3356026 sha256=b2c368a50093ceed3885aa73934fe3eadf65e1d05485b86617e7cb28afefbcf2\r\n",
      "  Stored in directory: /Users/benedettosimone/Library/Caches/pip/wheels/c4/93/65/a16057b837ece5b0b2a2a16253dfa7a649352db2e7370179e8\r\n",
      "  Building wheel for termcolor (setup.py) ... \u001B[?25ldone\r\n",
      "\u001B[?25h  Created wheel for termcolor: filename=termcolor-1.1.0-cp27-none-any.whl size=4833 sha256=048a53498b8f159e5c355f4fd4be67681f1d4ebca67af7bbf89db8cd99cb14d0\r\n",
      "  Stored in directory: /Users/benedettosimone/Library/Caches/pip/wheels/7c/06/54/bc84598ba1daf8f970247f550b175aaaee85f68b4b0c5ab2c6\r\n",
      "  Building wheel for opt-einsum (setup.py) ... \u001B[?25ldone\r\n",
      "\u001B[?25h  Created wheel for opt-einsum: filename=opt_einsum-2.3.2-cp27-none-any.whl size=49883 sha256=1a13b40422e359723ed2af95da2abe275fc9088b9dd2db8a16f5e4834f87a28e\r\n",
      "  Stored in directory: /Users/benedettosimone/Library/Caches/pip/wheels/51/3e/a3/b351fae0cbf15373c2136a54a70f43fea5fe91d8168a5faaa4\r\n",
      "  Building wheel for gast (setup.py) ... \u001B[?25ldone\r\n",
      "\u001B[?25h  Created wheel for gast: filename=gast-0.2.2-cp27-none-any.whl size=7539 sha256=2f4c7911253066bde9271c0eef6c80eded9c0bd9e5c765a197342f004f4884fa\r\n",
      "  Stored in directory: /Users/benedettosimone/Library/Caches/pip/wheels/5c/2e/7e/a1d4d4fcebe6c381f378ce7743a3ced3699feb89bcfbdadadd\r\n",
      "  Building wheel for absl-py (setup.py) ... \u001B[?25ldone\r\n",
      "\u001B[?25h  Created wheel for absl-py: filename=absl_py-0.15.0-cp27-none-any.whl size=132009 sha256=136fefaaae87778aa82182e05a05c899fd800feab2cf2b30c001fd0a66778c1b\r\n",
      "  Stored in directory: /Users/benedettosimone/Library/Caches/pip/wheels/19/f3/f9/f5b598f0b550f4140026ca6a7aa6b016929cefc369b5104df6\r\n",
      "  Building wheel for keras-applications (setup.py) ... \u001B[?25ldone\r\n",
      "\u001B[?25h  Created wheel for keras-applications: filename=Keras_Applications-1.0.8-cp27-none-any.whl size=50703 sha256=82d1ce1034b431b2baaf03d3def262b86b596a9983dca2e3d00f38d99e99821f\r\n",
      "  Stored in directory: /Users/benedettosimone/Library/Caches/pip/wheels/dd/f2/5d/2689b5547f32c4e258c3b7ccbe7f1d0f2afbb84fb01e830792\r\n",
      "Successfully built grpcio termcolor opt-einsum gast absl-py keras-applications\r\n",
      "\u001B[31mERROR: lipnet 0.1.6 has requirement numpy==1.12.1, but you'll have numpy 1.16.6 which is incompatible.\u001B[0m\r\n",
      "Installing collected packages: backports.weakref, grpcio, astor, tensorflow-estimator, google-pasta, termcolor, numpy, opt-einsum, gast, absl-py, keras-applications, wrapt, keras-preprocessing, markdown, werkzeug, tensorboard, tensorflow\r\n",
      "  Found existing installation: numpy 1.12.1\r\n",
      "    Uninstalling numpy-1.12.1:\r\n",
      "      Successfully uninstalled numpy-1.12.1\r\n",
      "Successfully installed absl-py-0.15.0 astor-0.8.1 backports.weakref-1.0.post1 gast-0.2.2 google-pasta-0.2.0 grpcio-1.41.1 keras-applications-1.0.8 keras-preprocessing-1.1.2 markdown-3.1.1 numpy-1.16.6 opt-einsum-2.3.2 tensorboard-1.15.0 tensorflow-1.15.0 tensorflow-estimator-1.15.1 termcolor-1.1.0 werkzeug-1.0.1 wrapt-1.13.3\r\n",
      "\u001B[33mWARNING: You are using pip version 19.3.1; however, version 22.0.2 is available.\r\n",
      "You should consider upgrading via the 'pip install --upgrade pip' command.\u001B[0m\r\n"
     ]
    }
   ],
   "source": [
    "!pip install tensorflow==1.15"
   ],
   "metadata": {
    "collapsed": false,
    "pycharm": {
     "name": "#%%\n"
    }
   }
  },
  {
   "cell_type": "code",
   "execution_count": 8,
   "outputs": [
    {
     "name": "stdout",
     "output_type": "stream",
     "text": [
      "LICENSE          \u001B[34mevaluation\u001B[m\u001B[m/      \u001B[34mscripts\u001B[m\u001B[m/         \u001B[34mtraining\u001B[m\u001B[m/\r\n",
      "README.md        \u001B[34mlipnet\u001B[m\u001B[m/          \u001B[31msetup.py\u001B[m\u001B[m*\r\n",
      "\u001B[34massets\u001B[m\u001B[m/          \u001B[34mlipnet.egg-info\u001B[m\u001B[m/ \u001B[34mtests\u001B[m\u001B[m/\r\n",
      "\u001B[34mcommon\u001B[m\u001B[m/          \u001B[31mpredict\u001B[m\u001B[m*         \u001B[31mtrain\u001B[m\u001B[m*\r\n"
     ]
    }
   ],
   "source": [
    "%ls"
   ],
   "metadata": {
    "collapsed": false,
    "pycharm": {
     "name": "#%%\n"
    }
   }
  },
  {
   "cell_type": "code",
   "execution_count": 3,
   "outputs": [
    {
     "name": "stdout",
     "output_type": "stream",
     "text": [
      "/Users/benedettosimone/PycharmProjects/pythonProject/LipNet\n"
     ]
    }
   ],
   "source": [
    "%cd Lipnet"
   ],
   "metadata": {
    "collapsed": false,
    "pycharm": {
     "name": "#%%\n"
    }
   }
  },
  {
   "cell_type": "code",
   "execution_count": 2,
   "outputs": [
    {
     "name": "stdout",
     "output_type": "stream",
     "text": [
      "\u001B[34mLipNet\u001B[m\u001B[m/     main.ipynb  \u001B[34mvenv\u001B[m\u001B[m/\r\n"
     ]
    }
   ],
   "source": [
    "%ls"
   ],
   "metadata": {
    "collapsed": false,
    "pycharm": {
     "name": "#%%\n"
    }
   }
  },
  {
   "cell_type": "markdown",
   "source": [
    "# Test - repository video"
   ],
   "metadata": {
    "collapsed": false,
    "pycharm": {
     "name": "#%% md\n"
    }
   }
  },
  {
   "cell_type": "code",
   "execution_count": 13,
   "outputs": [
    {
     "name": "stdout",
     "output_type": "stream",
     "text": [
      "Using TensorFlow backend.\r\n",
      "\r\n",
      "Loading data from disk...\r\n",
      "/Users/benedettosimone/PycharmProjects/pythonProject/venv/lib/python2.7/site-packages/scipy/misc/pilutil.py:482: FutureWarning: Conversion of the second argument of issubdtype from `int` to `np.signedinteger` is deprecated. In future, it will be treated as `np.int64 == np.dtype(int).type`.\r\n",
      "  if issubdtype(ts, int):\r\n",
      "/Users/benedettosimone/PycharmProjects/pythonProject/venv/lib/python2.7/site-packages/scipy/misc/pilutil.py:485: FutureWarning: Conversion of the second argument of issubdtype from `float` to `np.floating` is deprecated. In future, it will be treated as `np.float64 == np.dtype(float).type`.\r\n",
      "  elif issubdtype(type(size), float):\r\n",
      "Data loaded.\r\n",
      "\r\n",
      "WARNING:tensorflow:From /Users/benedettosimone/PycharmProjects/pythonProject/venv/lib/python2.7/site-packages/keras/backend/tensorflow_backend.py:349: The name tf.placeholder is deprecated. Please use tf.compat.v1.placeholder instead.\r\n",
      "\r\n",
      "WARNING:tensorflow:From /Users/benedettosimone/PycharmProjects/pythonProject/venv/lib/python2.7/site-packages/keras/backend/tensorflow_backend.py:3192: The name tf.truncated_normal is deprecated. Please use tf.random.truncated_normal instead.\r\n",
      "\r\n",
      "WARNING:tensorflow:From /Users/benedettosimone/PycharmProjects/pythonProject/venv/lib/python2.7/site-packages/keras/backend/tensorflow_backend.py:99: The name tf.get_default_graph is deprecated. Please use tf.compat.v1.get_default_graph instead.\r\n",
      "\r\n",
      "WARNING:tensorflow:From /Users/benedettosimone/PycharmProjects/pythonProject/venv/lib/python2.7/site-packages/keras/backend/tensorflow_backend.py:2681: calling dropout (from tensorflow.python.ops.nn_ops) with keep_prob is deprecated and will be removed in a future version.\r\n",
      "Instructions for updating:\r\n",
      "Please use `rate` instead of `keep_prob`. Rate should be set to `rate = 1 - keep_prob`.\r\n",
      "WARNING:tensorflow:From /Users/benedettosimone/PycharmProjects/pythonProject/venv/lib/python2.7/site-packages/keras/backend/tensorflow_backend.py:1062: calling reduce_prod_v1 (from tensorflow.python.ops.math_ops) with keep_dims is deprecated and will be removed in a future version.\r\n",
      "Instructions for updating:\r\n",
      "keep_dims is deprecated, use keepdims instead\r\n",
      "WARNING:tensorflow:From /Users/benedettosimone/PycharmProjects/pythonProject/venv/lib/python2.7/site-packages/keras/backend/tensorflow_backend.py:1044: calling reduce_sum_v1 (from tensorflow.python.ops.math_ops) with keep_dims is deprecated and will be removed in a future version.\r\n",
      "Instructions for updating:\r\n",
      "keep_dims is deprecated, use keepdims instead\r\n",
      "WARNING:tensorflow:From /Users/benedettosimone/PycharmProjects/pythonProject/venv/lib/python2.7/site-packages/keras/backend/tensorflow_backend.py:1008: calling reduce_max_v1 (from tensorflow.python.ops.math_ops) with keep_dims is deprecated and will be removed in a future version.\r\n",
      "Instructions for updating:\r\n",
      "keep_dims is deprecated, use keepdims instead\r\n",
      "WARNING:tensorflow:From /Users/benedettosimone/PycharmProjects/pythonProject/venv/lib/python2.7/site-packages/keras/backend/tensorflow_backend.py:3256: to_int32 (from tensorflow.python.ops.math_ops) is deprecated and will be removed in a future version.\r\n",
      "Instructions for updating:\r\n",
      "Use `tf.cast` instead.\r\n",
      "WARNING:tensorflow:From /Users/benedettosimone/PycharmProjects/pythonProject/venv/lib/python2.7/site-packages/tensorflow_core/python/ops/array_ops.py:1475: where (from tensorflow.python.ops.array_ops) is deprecated and will be removed in a future version.\r\n",
      "Instructions for updating:\r\n",
      "Use tf.where in 2.0, which has the same broadcast rule as np.where\r\n",
      "WARNING:tensorflow:From /Users/benedettosimone/PycharmProjects/pythonProject/venv/lib/python2.7/site-packages/keras/backend/tensorflow_backend.py:3236: to_int64 (from tensorflow.python.ops.math_ops) is deprecated and will be removed in a future version.\r\n",
      "Instructions for updating:\r\n",
      "Use `tf.cast` instead.\r\n",
      "WARNING:tensorflow:From /Users/benedettosimone/PycharmProjects/pythonProject/venv/lib/python2.7/site-packages/keras/backend/tensorflow_backend.py:3260: The name tf.log is deprecated. Please use tf.math.log instead.\r\n",
      "\r\n",
      "WARNING:tensorflow:From /Users/benedettosimone/PycharmProjects/pythonProject/venv/lib/python2.7/site-packages/keras/optimizers.py:675: The name tf.train.Optimizer is deprecated. Please use tf.compat.v1.train.Optimizer instead.\r\n",
      "\r\n",
      "WARNING:tensorflow:From /Users/benedettosimone/PycharmProjects/pythonProject/venv/lib/python2.7/site-packages/keras/backend/tensorflow_backend.py:140: The name tf.get_default_session is deprecated. Please use tf.compat.v1.get_default_session instead.\r\n",
      "\r\n",
      "WARNING:tensorflow:From /Users/benedettosimone/PycharmProjects/pythonProject/venv/lib/python2.7/site-packages/keras/backend/tensorflow_backend.py:145: The name tf.ConfigProto is deprecated. Please use tf.compat.v1.ConfigProto instead.\r\n",
      "\r\n",
      "WARNING:tensorflow:From /Users/benedettosimone/PycharmProjects/pythonProject/venv/lib/python2.7/site-packages/keras/backend/tensorflow_backend.py:150: The name tf.Session is deprecated. Please use tf.compat.v1.Session instead.\r\n",
      "\r\n",
      "2022-02-02 17:21:04.682435: I tensorflow/core/platform/cpu_feature_guard.cc:142] Your CPU supports instructions that this TensorFlow binary was not compiled to use: AVX2 FMA\r\n",
      "2022-02-02 17:21:04.699919: I tensorflow/compiler/xla/service/service.cc:168] XLA service 0x7fe2dbb91720 initialized for platform Host (this does not guarantee that XLA will be used). Devices:\r\n",
      "2022-02-02 17:21:04.699948: I tensorflow/compiler/xla/service/service.cc:176]   StreamExecutor device (0): Host, Default Version\r\n",
      "WARNING:tensorflow:From /Users/benedettosimone/PycharmProjects/pythonProject/venv/lib/python2.7/site-packages/keras/backend/tensorflow_backend.py:298: The name tf.global_variables is deprecated. Please use tf.compat.v1.global_variables instead.\r\n",
      "\r\n",
      "WARNING:tensorflow:From /Users/benedettosimone/PycharmProjects/pythonProject/venv/lib/python2.7/site-packages/keras/backend/tensorflow_backend.py:306: The name tf.variables_initializer is deprecated. Please use tf.compat.v1.variables_initializer instead.\r\n",
      "\r\n",
      "WARNING:tensorflow:From /Users/benedettosimone/PycharmProjects/pythonProject/venv/lib/python2.7/site-packages/keras/backend/tensorflow_backend.py:3310: sparse_to_dense (from tensorflow.python.ops.sparse_ops) is deprecated and will be removed in a future version.\r\n",
      "Instructions for updating:\r\n",
      "Create a `tf.sparse.SparseTensor` and use `tf.sparse.to_dense` instead.\r\n",
      "/Users/benedettosimone/PycharmProjects/pythonProject/venv/lib/python2.7/site-packages/matplotlib/figure.py:402: UserWarning: matplotlib is currently using a non-GUI backend, so cannot show the figure\r\n",
      "  \"matplotlib is currently using a non-GUI backend, \"\r\n",
      "\r\n",
      " __                   __  __          __      \r\n",
      "/\\ \\       __        /\\ \\/\\ \\        /\\ \\__   \r\n",
      "\\ \\ \\     /\\_\\  _____\\ \\ `\\\\ \\     __\\ \\ ,_\\  \r\n",
      " \\ \\ \\  __\\/\\ \\/\\ '__`\\ \\ , ` \\  /'__`\\ \\ \\/  \r\n",
      "  \\ \\ \\L\\ \\\\ \\ \\ \\ \\L\\ \\ \\ \\`\\ \\/\\  __/\\ \\ \\_ \r\n",
      "   \\ \\____/ \\ \\_\\ \\ ,__/\\ \\_\\ \\_\\ \\____\\\\ \\__\\\r\n",
      "    \\/___/   \\/_/\\ \\ \\/  \\/_/\\/_/\\/____/ \\/__/\r\n",
      "                  \\ \\_\\                       \r\n",
      "                   \\/_/                       \r\n",
      "\r\n",
      "             ---------------------------- \r\n",
      "[ DECODED ] |> set white with p two soon |\r\n",
      "             ---------------------------- \r\n"
     ]
    }
   ],
   "source": [
    "!bash predict evaluation/models/overlapped-weights368.h5 evaluation/samples/id2_vcd_swwp2s.mpg"
   ],
   "metadata": {
    "collapsed": false,
    "pycharm": {
     "name": "#%%\n"
    }
   }
  },
  {
   "cell_type": "code",
   "execution_count": 15,
   "outputs": [
    {
     "name": "stdout",
     "output_type": "stream",
     "text": [
      "Using TensorFlow backend.\r\n",
      "\r\n",
      "Loading data from disk...\r\n",
      "/Users/benedettosimone/PycharmProjects/pythonProject/venv/lib/python2.7/site-packages/scipy/misc/pilutil.py:482: FutureWarning: Conversion of the second argument of issubdtype from `int` to `np.signedinteger` is deprecated. In future, it will be treated as `np.int64 == np.dtype(int).type`.\r\n",
      "  if issubdtype(ts, int):\r\n",
      "/Users/benedettosimone/PycharmProjects/pythonProject/venv/lib/python2.7/site-packages/scipy/misc/pilutil.py:485: FutureWarning: Conversion of the second argument of issubdtype from `float` to `np.floating` is deprecated. In future, it will be treated as `np.float64 == np.dtype(float).type`.\r\n",
      "  elif issubdtype(type(size), float):\r\n",
      "Data loaded.\r\n",
      "\r\n",
      "WARNING:tensorflow:From /Users/benedettosimone/PycharmProjects/pythonProject/venv/lib/python2.7/site-packages/keras/backend/tensorflow_backend.py:349: The name tf.placeholder is deprecated. Please use tf.compat.v1.placeholder instead.\r\n",
      "\r\n",
      "WARNING:tensorflow:From /Users/benedettosimone/PycharmProjects/pythonProject/venv/lib/python2.7/site-packages/keras/backend/tensorflow_backend.py:3192: The name tf.truncated_normal is deprecated. Please use tf.random.truncated_normal instead.\r\n",
      "\r\n",
      "WARNING:tensorflow:From /Users/benedettosimone/PycharmProjects/pythonProject/venv/lib/python2.7/site-packages/keras/backend/tensorflow_backend.py:99: The name tf.get_default_graph is deprecated. Please use tf.compat.v1.get_default_graph instead.\r\n",
      "\r\n",
      "WARNING:tensorflow:From /Users/benedettosimone/PycharmProjects/pythonProject/venv/lib/python2.7/site-packages/keras/backend/tensorflow_backend.py:2681: calling dropout (from tensorflow.python.ops.nn_ops) with keep_prob is deprecated and will be removed in a future version.\r\n",
      "Instructions for updating:\r\n",
      "Please use `rate` instead of `keep_prob`. Rate should be set to `rate = 1 - keep_prob`.\r\n",
      "WARNING:tensorflow:From /Users/benedettosimone/PycharmProjects/pythonProject/venv/lib/python2.7/site-packages/keras/backend/tensorflow_backend.py:1062: calling reduce_prod_v1 (from tensorflow.python.ops.math_ops) with keep_dims is deprecated and will be removed in a future version.\r\n",
      "Instructions for updating:\r\n",
      "keep_dims is deprecated, use keepdims instead\r\n",
      "WARNING:tensorflow:From /Users/benedettosimone/PycharmProjects/pythonProject/venv/lib/python2.7/site-packages/keras/backend/tensorflow_backend.py:1044: calling reduce_sum_v1 (from tensorflow.python.ops.math_ops) with keep_dims is deprecated and will be removed in a future version.\r\n",
      "Instructions for updating:\r\n",
      "keep_dims is deprecated, use keepdims instead\r\n",
      "WARNING:tensorflow:From /Users/benedettosimone/PycharmProjects/pythonProject/venv/lib/python2.7/site-packages/keras/backend/tensorflow_backend.py:1008: calling reduce_max_v1 (from tensorflow.python.ops.math_ops) with keep_dims is deprecated and will be removed in a future version.\r\n",
      "Instructions for updating:\r\n",
      "keep_dims is deprecated, use keepdims instead\r\n",
      "WARNING:tensorflow:From /Users/benedettosimone/PycharmProjects/pythonProject/venv/lib/python2.7/site-packages/keras/backend/tensorflow_backend.py:3256: to_int32 (from tensorflow.python.ops.math_ops) is deprecated and will be removed in a future version.\r\n",
      "Instructions for updating:\r\n",
      "Use `tf.cast` instead.\r\n",
      "WARNING:tensorflow:From /Users/benedettosimone/PycharmProjects/pythonProject/venv/lib/python2.7/site-packages/tensorflow_core/python/ops/array_ops.py:1475: where (from tensorflow.python.ops.array_ops) is deprecated and will be removed in a future version.\r\n",
      "Instructions for updating:\r\n",
      "Use tf.where in 2.0, which has the same broadcast rule as np.where\r\n",
      "WARNING:tensorflow:From /Users/benedettosimone/PycharmProjects/pythonProject/venv/lib/python2.7/site-packages/keras/backend/tensorflow_backend.py:3236: to_int64 (from tensorflow.python.ops.math_ops) is deprecated and will be removed in a future version.\r\n",
      "Instructions for updating:\r\n",
      "Use `tf.cast` instead.\r\n",
      "WARNING:tensorflow:From /Users/benedettosimone/PycharmProjects/pythonProject/venv/lib/python2.7/site-packages/keras/backend/tensorflow_backend.py:3260: The name tf.log is deprecated. Please use tf.math.log instead.\r\n",
      "\r\n",
      "WARNING:tensorflow:From /Users/benedettosimone/PycharmProjects/pythonProject/venv/lib/python2.7/site-packages/keras/optimizers.py:675: The name tf.train.Optimizer is deprecated. Please use tf.compat.v1.train.Optimizer instead.\r\n",
      "\r\n",
      "WARNING:tensorflow:From /Users/benedettosimone/PycharmProjects/pythonProject/venv/lib/python2.7/site-packages/keras/backend/tensorflow_backend.py:140: The name tf.get_default_session is deprecated. Please use tf.compat.v1.get_default_session instead.\r\n",
      "\r\n",
      "WARNING:tensorflow:From /Users/benedettosimone/PycharmProjects/pythonProject/venv/lib/python2.7/site-packages/keras/backend/tensorflow_backend.py:145: The name tf.ConfigProto is deprecated. Please use tf.compat.v1.ConfigProto instead.\r\n",
      "\r\n",
      "WARNING:tensorflow:From /Users/benedettosimone/PycharmProjects/pythonProject/venv/lib/python2.7/site-packages/keras/backend/tensorflow_backend.py:150: The name tf.Session is deprecated. Please use tf.compat.v1.Session instead.\r\n",
      "\r\n",
      "2022-02-02 17:23:44.398264: I tensorflow/core/platform/cpu_feature_guard.cc:142] Your CPU supports instructions that this TensorFlow binary was not compiled to use: AVX2 FMA\r\n",
      "2022-02-02 17:23:44.412332: I tensorflow/compiler/xla/service/service.cc:168] XLA service 0x7f817dc9b8c0 initialized for platform Host (this does not guarantee that XLA will be used). Devices:\r\n",
      "2022-02-02 17:23:44.412363: I tensorflow/compiler/xla/service/service.cc:176]   StreamExecutor device (0): Host, Default Version\r\n",
      "WARNING:tensorflow:From /Users/benedettosimone/PycharmProjects/pythonProject/venv/lib/python2.7/site-packages/keras/backend/tensorflow_backend.py:298: The name tf.global_variables is deprecated. Please use tf.compat.v1.global_variables instead.\r\n",
      "\r\n",
      "WARNING:tensorflow:From /Users/benedettosimone/PycharmProjects/pythonProject/venv/lib/python2.7/site-packages/keras/backend/tensorflow_backend.py:306: The name tf.variables_initializer is deprecated. Please use tf.compat.v1.variables_initializer instead.\r\n",
      "\r\n",
      "WARNING:tensorflow:From /Users/benedettosimone/PycharmProjects/pythonProject/venv/lib/python2.7/site-packages/keras/backend/tensorflow_backend.py:3310: sparse_to_dense (from tensorflow.python.ops.sparse_ops) is deprecated and will be removed in a future version.\r\n",
      "Instructions for updating:\r\n",
      "Create a `tf.sparse.SparseTensor` and use `tf.sparse.to_dense` instead.\r\n",
      "/Users/benedettosimone/PycharmProjects/pythonProject/venv/lib/python2.7/site-packages/matplotlib/figure.py:402: UserWarning: matplotlib is currently using a non-GUI backend, so cannot show the figure\r\n",
      "  \"matplotlib is currently using a non-GUI backend, \"\r\n",
      "\r\n",
      " __                   __  __          __      \r\n",
      "/\\ \\       __        /\\ \\/\\ \\        /\\ \\__   \r\n",
      "\\ \\ \\     /\\_\\  _____\\ \\ `\\\\ \\     __\\ \\ ,_\\  \r\n",
      " \\ \\ \\  __\\/\\ \\/\\ '__`\\ \\ , ` \\  /'__`\\ \\ \\/  \r\n",
      "  \\ \\ \\L\\ \\\\ \\ \\ \\ \\L\\ \\ \\ \\`\\ \\/\\  __/\\ \\ \\_ \r\n",
      "   \\ \\____/ \\ \\_\\ \\ ,__/\\ \\_\\ \\_\\ \\____\\\\ \\__\\\r\n",
      "    \\/___/   \\/_/\\ \\ \\/  \\/_/\\/_/\\/____/ \\/__/\r\n",
      "                  \\ \\_\\                       \r\n",
      "                   \\/_/                       \r\n",
      "\r\n",
      "             -------------------------- \r\n",
      "[ DECODED ] |> lay blue by c two again |\r\n",
      "             -------------------------- \r\n"
     ]
    }
   ],
   "source": [
    "!bash predict evaluation/models/overlapped-weights368.h5 evaluation/samples/GRID/lbbc2a.mpg"
   ],
   "metadata": {
    "collapsed": false,
    "pycharm": {
     "name": "#%%\n"
    }
   }
  },
  {
   "cell_type": "code",
   "execution_count": 16,
   "outputs": [
    {
     "name": "stdout",
     "output_type": "stream",
     "text": [
      "Using TensorFlow backend.\r\n",
      "\r\n",
      "Loading data from disk...\r\n",
      "/Users/benedettosimone/PycharmProjects/pythonProject/venv/lib/python2.7/site-packages/scipy/misc/pilutil.py:482: FutureWarning: Conversion of the second argument of issubdtype from `int` to `np.signedinteger` is deprecated. In future, it will be treated as `np.int64 == np.dtype(int).type`.\r\n",
      "  if issubdtype(ts, int):\r\n",
      "/Users/benedettosimone/PycharmProjects/pythonProject/venv/lib/python2.7/site-packages/scipy/misc/pilutil.py:485: FutureWarning: Conversion of the second argument of issubdtype from `float` to `np.floating` is deprecated. In future, it will be treated as `np.float64 == np.dtype(float).type`.\r\n",
      "  elif issubdtype(type(size), float):\r\n",
      "Data loaded.\r\n",
      "\r\n",
      "WARNING:tensorflow:From /Users/benedettosimone/PycharmProjects/pythonProject/venv/lib/python2.7/site-packages/keras/backend/tensorflow_backend.py:349: The name tf.placeholder is deprecated. Please use tf.compat.v1.placeholder instead.\r\n",
      "\r\n",
      "WARNING:tensorflow:From /Users/benedettosimone/PycharmProjects/pythonProject/venv/lib/python2.7/site-packages/keras/backend/tensorflow_backend.py:3192: The name tf.truncated_normal is deprecated. Please use tf.random.truncated_normal instead.\r\n",
      "\r\n",
      "WARNING:tensorflow:From /Users/benedettosimone/PycharmProjects/pythonProject/venv/lib/python2.7/site-packages/keras/backend/tensorflow_backend.py:99: The name tf.get_default_graph is deprecated. Please use tf.compat.v1.get_default_graph instead.\r\n",
      "\r\n",
      "WARNING:tensorflow:From /Users/benedettosimone/PycharmProjects/pythonProject/venv/lib/python2.7/site-packages/keras/backend/tensorflow_backend.py:2681: calling dropout (from tensorflow.python.ops.nn_ops) with keep_prob is deprecated and will be removed in a future version.\r\n",
      "Instructions for updating:\r\n",
      "Please use `rate` instead of `keep_prob`. Rate should be set to `rate = 1 - keep_prob`.\r\n",
      "WARNING:tensorflow:From /Users/benedettosimone/PycharmProjects/pythonProject/venv/lib/python2.7/site-packages/keras/backend/tensorflow_backend.py:1062: calling reduce_prod_v1 (from tensorflow.python.ops.math_ops) with keep_dims is deprecated and will be removed in a future version.\r\n",
      "Instructions for updating:\r\n",
      "keep_dims is deprecated, use keepdims instead\r\n",
      "WARNING:tensorflow:From /Users/benedettosimone/PycharmProjects/pythonProject/venv/lib/python2.7/site-packages/keras/backend/tensorflow_backend.py:1044: calling reduce_sum_v1 (from tensorflow.python.ops.math_ops) with keep_dims is deprecated and will be removed in a future version.\r\n",
      "Instructions for updating:\r\n",
      "keep_dims is deprecated, use keepdims instead\r\n",
      "WARNING:tensorflow:From /Users/benedettosimone/PycharmProjects/pythonProject/venv/lib/python2.7/site-packages/keras/backend/tensorflow_backend.py:1008: calling reduce_max_v1 (from tensorflow.python.ops.math_ops) with keep_dims is deprecated and will be removed in a future version.\r\n",
      "Instructions for updating:\r\n",
      "keep_dims is deprecated, use keepdims instead\r\n",
      "WARNING:tensorflow:From /Users/benedettosimone/PycharmProjects/pythonProject/venv/lib/python2.7/site-packages/keras/backend/tensorflow_backend.py:3256: to_int32 (from tensorflow.python.ops.math_ops) is deprecated and will be removed in a future version.\r\n",
      "Instructions for updating:\r\n",
      "Use `tf.cast` instead.\r\n",
      "WARNING:tensorflow:From /Users/benedettosimone/PycharmProjects/pythonProject/venv/lib/python2.7/site-packages/tensorflow_core/python/ops/array_ops.py:1475: where (from tensorflow.python.ops.array_ops) is deprecated and will be removed in a future version.\r\n",
      "Instructions for updating:\r\n",
      "Use tf.where in 2.0, which has the same broadcast rule as np.where\r\n",
      "WARNING:tensorflow:From /Users/benedettosimone/PycharmProjects/pythonProject/venv/lib/python2.7/site-packages/keras/backend/tensorflow_backend.py:3236: to_int64 (from tensorflow.python.ops.math_ops) is deprecated and will be removed in a future version.\r\n",
      "Instructions for updating:\r\n",
      "Use `tf.cast` instead.\r\n",
      "WARNING:tensorflow:From /Users/benedettosimone/PycharmProjects/pythonProject/venv/lib/python2.7/site-packages/keras/backend/tensorflow_backend.py:3260: The name tf.log is deprecated. Please use tf.math.log instead.\r\n",
      "\r\n",
      "WARNING:tensorflow:From /Users/benedettosimone/PycharmProjects/pythonProject/venv/lib/python2.7/site-packages/keras/optimizers.py:675: The name tf.train.Optimizer is deprecated. Please use tf.compat.v1.train.Optimizer instead.\r\n",
      "\r\n",
      "WARNING:tensorflow:From /Users/benedettosimone/PycharmProjects/pythonProject/venv/lib/python2.7/site-packages/keras/backend/tensorflow_backend.py:140: The name tf.get_default_session is deprecated. Please use tf.compat.v1.get_default_session instead.\r\n",
      "\r\n",
      "WARNING:tensorflow:From /Users/benedettosimone/PycharmProjects/pythonProject/venv/lib/python2.7/site-packages/keras/backend/tensorflow_backend.py:145: The name tf.ConfigProto is deprecated. Please use tf.compat.v1.ConfigProto instead.\r\n",
      "\r\n",
      "WARNING:tensorflow:From /Users/benedettosimone/PycharmProjects/pythonProject/venv/lib/python2.7/site-packages/keras/backend/tensorflow_backend.py:150: The name tf.Session is deprecated. Please use tf.compat.v1.Session instead.\r\n",
      "\r\n",
      "2022-02-02 17:45:54.742896: I tensorflow/core/platform/cpu_feature_guard.cc:142] Your CPU supports instructions that this TensorFlow binary was not compiled to use: AVX2 FMA\r\n",
      "2022-02-02 17:45:54.759246: I tensorflow/compiler/xla/service/service.cc:168] XLA service 0x7f9b8832cfc0 initialized for platform Host (this does not guarantee that XLA will be used). Devices:\r\n",
      "2022-02-02 17:45:54.759274: I tensorflow/compiler/xla/service/service.cc:176]   StreamExecutor device (0): Host, Default Version\r\n",
      "WARNING:tensorflow:From /Users/benedettosimone/PycharmProjects/pythonProject/venv/lib/python2.7/site-packages/keras/backend/tensorflow_backend.py:298: The name tf.global_variables is deprecated. Please use tf.compat.v1.global_variables instead.\r\n",
      "\r\n",
      "WARNING:tensorflow:From /Users/benedettosimone/PycharmProjects/pythonProject/venv/lib/python2.7/site-packages/keras/backend/tensorflow_backend.py:306: The name tf.variables_initializer is deprecated. Please use tf.compat.v1.variables_initializer instead.\r\n",
      "\r\n",
      "WARNING:tensorflow:From /Users/benedettosimone/PycharmProjects/pythonProject/venv/lib/python2.7/site-packages/keras/backend/tensorflow_backend.py:3310: sparse_to_dense (from tensorflow.python.ops.sparse_ops) is deprecated and will be removed in a future version.\r\n",
      "Instructions for updating:\r\n",
      "Create a `tf.sparse.SparseTensor` and use `tf.sparse.to_dense` instead.\r\n",
      "/Users/benedettosimone/PycharmProjects/pythonProject/venv/lib/python2.7/site-packages/matplotlib/figure.py:402: UserWarning: matplotlib is currently using a non-GUI backend, so cannot show the figure\r\n",
      "  \"matplotlib is currently using a non-GUI backend, \"\r\n",
      "\r\n",
      " __                   __  __          __      \r\n",
      "/\\ \\       __        /\\ \\/\\ \\        /\\ \\__   \r\n",
      "\\ \\ \\     /\\_\\  _____\\ \\ `\\\\ \\     __\\ \\ ,_\\  \r\n",
      " \\ \\ \\  __\\/\\ \\/\\ '__`\\ \\ , ` \\  /'__`\\ \\ \\/  \r\n",
      "  \\ \\ \\L\\ \\\\ \\ \\ \\ \\L\\ \\ \\ \\`\\ \\/\\  __/\\ \\ \\_ \r\n",
      "   \\ \\____/ \\ \\_\\ \\ ,__/\\ \\_\\ \\_\\ \\____\\\\ \\__\\\r\n",
      "    \\/___/   \\/_/\\ \\ \\/  \\/_/\\/_/\\/____/ \\/__/\r\n",
      "                  \\ \\_\\                       \r\n",
      "                   \\/_/                       \r\n",
      "\r\n",
      "             ------------------------ \r\n",
      "[ DECODED ] |> bin blue at f two now |\r\n",
      "             ------------------------ \r\n"
     ]
    }
   ],
   "source": [
    "!bash predict evaluation/models/overlapped-weights368.h5 evaluation/samples/GRID/bbaf2n.mpg"
   ],
   "metadata": {
    "collapsed": false,
    "pycharm": {
     "name": "#%%\n"
    }
   }
  },
  {
   "cell_type": "markdown",
   "source": [
    "# Test video BS"
   ],
   "metadata": {
    "collapsed": false,
    "pycharm": {
     "name": "#%% md\n"
    }
   }
  },
  {
   "cell_type": "code",
   "execution_count": 17,
   "outputs": [
    {
     "name": "stdout",
     "output_type": "stream",
     "text": [
      "Using TensorFlow backend.\r\n",
      "\r\n",
      "Loading data from disk...\r\n",
      "/Users/benedettosimone/PycharmProjects/pythonProject/venv/lib/python2.7/site-packages/scipy/misc/pilutil.py:482: FutureWarning: Conversion of the second argument of issubdtype from `int` to `np.signedinteger` is deprecated. In future, it will be treated as `np.int64 == np.dtype(int).type`.\r\n",
      "  if issubdtype(ts, int):\r\n",
      "/Users/benedettosimone/PycharmProjects/pythonProject/venv/lib/python2.7/site-packages/scipy/misc/pilutil.py:485: FutureWarning: Conversion of the second argument of issubdtype from `float` to `np.floating` is deprecated. In future, it will be treated as `np.float64 == np.dtype(float).type`.\r\n",
      "  elif issubdtype(type(size), float):\r\n",
      "Data loaded.\r\n",
      "\r\n",
      "WARNING:tensorflow:From /Users/benedettosimone/PycharmProjects/pythonProject/venv/lib/python2.7/site-packages/keras/backend/tensorflow_backend.py:349: The name tf.placeholder is deprecated. Please use tf.compat.v1.placeholder instead.\r\n",
      "\r\n",
      "WARNING:tensorflow:From /Users/benedettosimone/PycharmProjects/pythonProject/venv/lib/python2.7/site-packages/keras/backend/tensorflow_backend.py:3192: The name tf.truncated_normal is deprecated. Please use tf.random.truncated_normal instead.\r\n",
      "\r\n",
      "WARNING:tensorflow:From /Users/benedettosimone/PycharmProjects/pythonProject/venv/lib/python2.7/site-packages/keras/backend/tensorflow_backend.py:99: The name tf.get_default_graph is deprecated. Please use tf.compat.v1.get_default_graph instead.\r\n",
      "\r\n",
      "WARNING:tensorflow:From /Users/benedettosimone/PycharmProjects/pythonProject/venv/lib/python2.7/site-packages/keras/backend/tensorflow_backend.py:2681: calling dropout (from tensorflow.python.ops.nn_ops) with keep_prob is deprecated and will be removed in a future version.\r\n",
      "Instructions for updating:\r\n",
      "Please use `rate` instead of `keep_prob`. Rate should be set to `rate = 1 - keep_prob`.\r\n",
      "WARNING:tensorflow:From /Users/benedettosimone/PycharmProjects/pythonProject/venv/lib/python2.7/site-packages/keras/backend/tensorflow_backend.py:1062: calling reduce_prod_v1 (from tensorflow.python.ops.math_ops) with keep_dims is deprecated and will be removed in a future version.\r\n",
      "Instructions for updating:\r\n",
      "keep_dims is deprecated, use keepdims instead\r\n",
      "WARNING:tensorflow:From /Users/benedettosimone/PycharmProjects/pythonProject/venv/lib/python2.7/site-packages/keras/backend/tensorflow_backend.py:1044: calling reduce_sum_v1 (from tensorflow.python.ops.math_ops) with keep_dims is deprecated and will be removed in a future version.\r\n",
      "Instructions for updating:\r\n",
      "keep_dims is deprecated, use keepdims instead\r\n",
      "WARNING:tensorflow:From /Users/benedettosimone/PycharmProjects/pythonProject/venv/lib/python2.7/site-packages/keras/backend/tensorflow_backend.py:1008: calling reduce_max_v1 (from tensorflow.python.ops.math_ops) with keep_dims is deprecated and will be removed in a future version.\r\n",
      "Instructions for updating:\r\n",
      "keep_dims is deprecated, use keepdims instead\r\n",
      "WARNING:tensorflow:From /Users/benedettosimone/PycharmProjects/pythonProject/venv/lib/python2.7/site-packages/keras/backend/tensorflow_backend.py:3256: to_int32 (from tensorflow.python.ops.math_ops) is deprecated and will be removed in a future version.\r\n",
      "Instructions for updating:\r\n",
      "Use `tf.cast` instead.\r\n",
      "WARNING:tensorflow:From /Users/benedettosimone/PycharmProjects/pythonProject/venv/lib/python2.7/site-packages/tensorflow_core/python/ops/array_ops.py:1475: where (from tensorflow.python.ops.array_ops) is deprecated and will be removed in a future version.\r\n",
      "Instructions for updating:\r\n",
      "Use tf.where in 2.0, which has the same broadcast rule as np.where\r\n",
      "WARNING:tensorflow:From /Users/benedettosimone/PycharmProjects/pythonProject/venv/lib/python2.7/site-packages/keras/backend/tensorflow_backend.py:3236: to_int64 (from tensorflow.python.ops.math_ops) is deprecated and will be removed in a future version.\r\n",
      "Instructions for updating:\r\n",
      "Use `tf.cast` instead.\r\n",
      "WARNING:tensorflow:From /Users/benedettosimone/PycharmProjects/pythonProject/venv/lib/python2.7/site-packages/keras/backend/tensorflow_backend.py:3260: The name tf.log is deprecated. Please use tf.math.log instead.\r\n",
      "\r\n",
      "WARNING:tensorflow:From /Users/benedettosimone/PycharmProjects/pythonProject/venv/lib/python2.7/site-packages/keras/optimizers.py:675: The name tf.train.Optimizer is deprecated. Please use tf.compat.v1.train.Optimizer instead.\r\n",
      "\r\n",
      "WARNING:tensorflow:From /Users/benedettosimone/PycharmProjects/pythonProject/venv/lib/python2.7/site-packages/keras/backend/tensorflow_backend.py:140: The name tf.get_default_session is deprecated. Please use tf.compat.v1.get_default_session instead.\r\n",
      "\r\n",
      "WARNING:tensorflow:From /Users/benedettosimone/PycharmProjects/pythonProject/venv/lib/python2.7/site-packages/keras/backend/tensorflow_backend.py:145: The name tf.ConfigProto is deprecated. Please use tf.compat.v1.ConfigProto instead.\r\n",
      "\r\n",
      "WARNING:tensorflow:From /Users/benedettosimone/PycharmProjects/pythonProject/venv/lib/python2.7/site-packages/keras/backend/tensorflow_backend.py:150: The name tf.Session is deprecated. Please use tf.compat.v1.Session instead.\r\n",
      "\r\n",
      "2022-02-02 18:25:50.826006: I tensorflow/core/platform/cpu_feature_guard.cc:142] Your CPU supports instructions that this TensorFlow binary was not compiled to use: AVX2 FMA\r\n",
      "2022-02-02 18:25:50.844520: I tensorflow/compiler/xla/service/service.cc:168] XLA service 0x7fb7964ffe30 initialized for platform Host (this does not guarantee that XLA will be used). Devices:\r\n",
      "2022-02-02 18:25:50.844541: I tensorflow/compiler/xla/service/service.cc:176]   StreamExecutor device (0): Host, Default Version\r\n",
      "WARNING:tensorflow:From /Users/benedettosimone/PycharmProjects/pythonProject/venv/lib/python2.7/site-packages/keras/backend/tensorflow_backend.py:298: The name tf.global_variables is deprecated. Please use tf.compat.v1.global_variables instead.\r\n",
      "\r\n",
      "WARNING:tensorflow:From /Users/benedettosimone/PycharmProjects/pythonProject/venv/lib/python2.7/site-packages/keras/backend/tensorflow_backend.py:306: The name tf.variables_initializer is deprecated. Please use tf.compat.v1.variables_initializer instead.\r\n",
      "\r\n",
      "WARNING:tensorflow:From /Users/benedettosimone/PycharmProjects/pythonProject/venv/lib/python2.7/site-packages/keras/backend/tensorflow_backend.py:3310: sparse_to_dense (from tensorflow.python.ops.sparse_ops) is deprecated and will be removed in a future version.\r\n",
      "Instructions for updating:\r\n",
      "Create a `tf.sparse.SparseTensor` and use `tf.sparse.to_dense` instead.\r\n",
      "/Users/benedettosimone/PycharmProjects/pythonProject/venv/lib/python2.7/site-packages/matplotlib/figure.py:402: UserWarning: matplotlib is currently using a non-GUI backend, so cannot show the figure\r\n",
      "  \"matplotlib is currently using a non-GUI backend, \"\r\n",
      "\r\n",
      " __                   __  __          __      \r\n",
      "/\\ \\       __        /\\ \\/\\ \\        /\\ \\__   \r\n",
      "\\ \\ \\     /\\_\\  _____\\ \\ `\\\\ \\     __\\ \\ ,_\\  \r\n",
      " \\ \\ \\  __\\/\\ \\/\\ '__`\\ \\ , ` \\  /'__`\\ \\ \\/  \r\n",
      "  \\ \\ \\L\\ \\\\ \\ \\ \\ \\L\\ \\ \\ \\`\\ \\/\\  __/\\ \\ \\_ \r\n",
      "   \\ \\____/ \\ \\_\\ \\ ,__/\\ \\_\\ \\_\\ \\____\\\\ \\__\\\r\n",
      "    \\/___/   \\/_/\\ \\ \\/  \\/_/\\/_/\\/____/ \\/__/\r\n",
      "                  \\ \\_\\                       \r\n",
      "                   \\/_/                       \r\n",
      "\r\n",
      "             -------------------------- \r\n",
      "[ DECODED ] |> bin blue a n nine again |\r\n",
      "             -------------------------- \r\n"
     ]
    }
   ],
   "source": [
    "!bash predict evaluation/models/overlapped-weights368.h5 evaluation/samples/setBlueByMSixAgain.mpg"
   ],
   "metadata": {
    "collapsed": false,
    "pycharm": {
     "name": "#%%\n"
    }
   }
  },
  {
   "cell_type": "code",
   "execution_count": 18,
   "outputs": [
    {
     "name": "stdout",
     "output_type": "stream",
     "text": [
      "Using TensorFlow backend.\r\n",
      "\r\n",
      "Loading data from disk...\r\n",
      "/Users/benedettosimone/PycharmProjects/pythonProject/venv/lib/python2.7/site-packages/scipy/misc/pilutil.py:482: FutureWarning: Conversion of the second argument of issubdtype from `int` to `np.signedinteger` is deprecated. In future, it will be treated as `np.int64 == np.dtype(int).type`.\r\n",
      "  if issubdtype(ts, int):\r\n",
      "/Users/benedettosimone/PycharmProjects/pythonProject/venv/lib/python2.7/site-packages/scipy/misc/pilutil.py:485: FutureWarning: Conversion of the second argument of issubdtype from `float` to `np.floating` is deprecated. In future, it will be treated as `np.float64 == np.dtype(float).type`.\r\n",
      "  elif issubdtype(type(size), float):\r\n",
      "Data loaded.\r\n",
      "\r\n",
      "WARNING:tensorflow:From /Users/benedettosimone/PycharmProjects/pythonProject/venv/lib/python2.7/site-packages/keras/backend/tensorflow_backend.py:349: The name tf.placeholder is deprecated. Please use tf.compat.v1.placeholder instead.\r\n",
      "\r\n",
      "WARNING:tensorflow:From /Users/benedettosimone/PycharmProjects/pythonProject/venv/lib/python2.7/site-packages/keras/backend/tensorflow_backend.py:3192: The name tf.truncated_normal is deprecated. Please use tf.random.truncated_normal instead.\r\n",
      "\r\n",
      "WARNING:tensorflow:From /Users/benedettosimone/PycharmProjects/pythonProject/venv/lib/python2.7/site-packages/keras/backend/tensorflow_backend.py:99: The name tf.get_default_graph is deprecated. Please use tf.compat.v1.get_default_graph instead.\r\n",
      "\r\n",
      "WARNING:tensorflow:From /Users/benedettosimone/PycharmProjects/pythonProject/venv/lib/python2.7/site-packages/keras/backend/tensorflow_backend.py:2681: calling dropout (from tensorflow.python.ops.nn_ops) with keep_prob is deprecated and will be removed in a future version.\r\n",
      "Instructions for updating:\r\n",
      "Please use `rate` instead of `keep_prob`. Rate should be set to `rate = 1 - keep_prob`.\r\n",
      "WARNING:tensorflow:From /Users/benedettosimone/PycharmProjects/pythonProject/venv/lib/python2.7/site-packages/keras/backend/tensorflow_backend.py:1062: calling reduce_prod_v1 (from tensorflow.python.ops.math_ops) with keep_dims is deprecated and will be removed in a future version.\r\n",
      "Instructions for updating:\r\n",
      "keep_dims is deprecated, use keepdims instead\r\n",
      "WARNING:tensorflow:From /Users/benedettosimone/PycharmProjects/pythonProject/venv/lib/python2.7/site-packages/keras/backend/tensorflow_backend.py:1044: calling reduce_sum_v1 (from tensorflow.python.ops.math_ops) with keep_dims is deprecated and will be removed in a future version.\r\n",
      "Instructions for updating:\r\n",
      "keep_dims is deprecated, use keepdims instead\r\n",
      "WARNING:tensorflow:From /Users/benedettosimone/PycharmProjects/pythonProject/venv/lib/python2.7/site-packages/keras/backend/tensorflow_backend.py:1008: calling reduce_max_v1 (from tensorflow.python.ops.math_ops) with keep_dims is deprecated and will be removed in a future version.\r\n",
      "Instructions for updating:\r\n",
      "keep_dims is deprecated, use keepdims instead\r\n",
      "WARNING:tensorflow:From /Users/benedettosimone/PycharmProjects/pythonProject/venv/lib/python2.7/site-packages/keras/backend/tensorflow_backend.py:3256: to_int32 (from tensorflow.python.ops.math_ops) is deprecated and will be removed in a future version.\r\n",
      "Instructions for updating:\r\n",
      "Use `tf.cast` instead.\r\n",
      "WARNING:tensorflow:From /Users/benedettosimone/PycharmProjects/pythonProject/venv/lib/python2.7/site-packages/tensorflow_core/python/ops/array_ops.py:1475: where (from tensorflow.python.ops.array_ops) is deprecated and will be removed in a future version.\r\n",
      "Instructions for updating:\r\n",
      "Use tf.where in 2.0, which has the same broadcast rule as np.where\r\n",
      "WARNING:tensorflow:From /Users/benedettosimone/PycharmProjects/pythonProject/venv/lib/python2.7/site-packages/keras/backend/tensorflow_backend.py:3236: to_int64 (from tensorflow.python.ops.math_ops) is deprecated and will be removed in a future version.\r\n",
      "Instructions for updating:\r\n",
      "Use `tf.cast` instead.\r\n",
      "WARNING:tensorflow:From /Users/benedettosimone/PycharmProjects/pythonProject/venv/lib/python2.7/site-packages/keras/backend/tensorflow_backend.py:3260: The name tf.log is deprecated. Please use tf.math.log instead.\r\n",
      "\r\n",
      "WARNING:tensorflow:From /Users/benedettosimone/PycharmProjects/pythonProject/venv/lib/python2.7/site-packages/keras/optimizers.py:675: The name tf.train.Optimizer is deprecated. Please use tf.compat.v1.train.Optimizer instead.\r\n",
      "\r\n",
      "WARNING:tensorflow:From /Users/benedettosimone/PycharmProjects/pythonProject/venv/lib/python2.7/site-packages/keras/backend/tensorflow_backend.py:140: The name tf.get_default_session is deprecated. Please use tf.compat.v1.get_default_session instead.\r\n",
      "\r\n",
      "WARNING:tensorflow:From /Users/benedettosimone/PycharmProjects/pythonProject/venv/lib/python2.7/site-packages/keras/backend/tensorflow_backend.py:145: The name tf.ConfigProto is deprecated. Please use tf.compat.v1.ConfigProto instead.\r\n",
      "\r\n",
      "WARNING:tensorflow:From /Users/benedettosimone/PycharmProjects/pythonProject/venv/lib/python2.7/site-packages/keras/backend/tensorflow_backend.py:150: The name tf.Session is deprecated. Please use tf.compat.v1.Session instead.\r\n",
      "\r\n",
      "2022-02-02 18:35:09.556114: I tensorflow/core/platform/cpu_feature_guard.cc:142] Your CPU supports instructions that this TensorFlow binary was not compiled to use: AVX2 FMA\r\n",
      "2022-02-02 18:35:09.572391: I tensorflow/compiler/xla/service/service.cc:168] XLA service 0x7fb486d65b10 initialized for platform Host (this does not guarantee that XLA will be used). Devices:\r\n",
      "2022-02-02 18:35:09.572410: I tensorflow/compiler/xla/service/service.cc:176]   StreamExecutor device (0): Host, Default Version\r\n",
      "WARNING:tensorflow:From /Users/benedettosimone/PycharmProjects/pythonProject/venv/lib/python2.7/site-packages/keras/backend/tensorflow_backend.py:298: The name tf.global_variables is deprecated. Please use tf.compat.v1.global_variables instead.\r\n",
      "\r\n",
      "WARNING:tensorflow:From /Users/benedettosimone/PycharmProjects/pythonProject/venv/lib/python2.7/site-packages/keras/backend/tensorflow_backend.py:306: The name tf.variables_initializer is deprecated. Please use tf.compat.v1.variables_initializer instead.\r\n",
      "\r\n",
      "WARNING:tensorflow:From /Users/benedettosimone/PycharmProjects/pythonProject/venv/lib/python2.7/site-packages/keras/backend/tensorflow_backend.py:3310: sparse_to_dense (from tensorflow.python.ops.sparse_ops) is deprecated and will be removed in a future version.\r\n",
      "Instructions for updating:\r\n",
      "Create a `tf.sparse.SparseTensor` and use `tf.sparse.to_dense` instead.\r\n",
      "/Users/benedettosimone/PycharmProjects/pythonProject/venv/lib/python2.7/site-packages/matplotlib/figure.py:402: UserWarning: matplotlib is currently using a non-GUI backend, so cannot show the figure\r\n",
      "  \"matplotlib is currently using a non-GUI backend, \"\r\n",
      "\r\n",
      " __                   __  __          __      \r\n",
      "/\\ \\       __        /\\ \\/\\ \\        /\\ \\__   \r\n",
      "\\ \\ \\     /\\_\\  _____\\ \\ `\\\\ \\     __\\ \\ ,_\\  \r\n",
      " \\ \\ \\  __\\/\\ \\/\\ '__`\\ \\ , ` \\  /'__`\\ \\ \\/  \r\n",
      "  \\ \\ \\L\\ \\\\ \\ \\ \\ \\L\\ \\ \\ \\`\\ \\/\\  __/\\ \\ \\_ \r\n",
      "   \\ \\____/ \\ \\_\\ \\ ,__/\\ \\_\\ \\_\\ \\____\\\\ \\__\\\r\n",
      "    \\/___/   \\/_/\\ \\ \\/  \\/_/\\/_/\\/____/ \\/__/\r\n",
      "                  \\ \\_\\                       \r\n",
      "                   \\/_/                       \r\n",
      "\r\n",
      "             -------------------------- \r\n",
      "[ DECODED ] |> bin red at d nine again |\r\n",
      "             -------------------------- \r\n"
     ]
    }
   ],
   "source": [
    "!bash predict evaluation/models/overlapped-weights368.h5 evaluation/samples/setBlueByMSixAgain_2_.mpg"
   ],
   "metadata": {
    "collapsed": false,
    "pycharm": {
     "name": "#%%\n"
    }
   }
  },
  {
   "cell_type": "code",
   "execution_count": 19,
   "outputs": [
    {
     "name": "stdout",
     "output_type": "stream",
     "text": [
      "Using TensorFlow backend.\r\n",
      "\r\n",
      "Loading data from disk...\r\n",
      "/Users/benedettosimone/PycharmProjects/pythonProject/venv/lib/python2.7/site-packages/scipy/misc/pilutil.py:482: FutureWarning: Conversion of the second argument of issubdtype from `int` to `np.signedinteger` is deprecated. In future, it will be treated as `np.int64 == np.dtype(int).type`.\r\n",
      "  if issubdtype(ts, int):\r\n",
      "/Users/benedettosimone/PycharmProjects/pythonProject/venv/lib/python2.7/site-packages/scipy/misc/pilutil.py:485: FutureWarning: Conversion of the second argument of issubdtype from `float` to `np.floating` is deprecated. In future, it will be treated as `np.float64 == np.dtype(float).type`.\r\n",
      "  elif issubdtype(type(size), float):\r\n",
      "Data loaded.\r\n",
      "\r\n",
      "WARNING:tensorflow:From /Users/benedettosimone/PycharmProjects/pythonProject/venv/lib/python2.7/site-packages/keras/backend/tensorflow_backend.py:349: The name tf.placeholder is deprecated. Please use tf.compat.v1.placeholder instead.\r\n",
      "\r\n",
      "WARNING:tensorflow:From /Users/benedettosimone/PycharmProjects/pythonProject/venv/lib/python2.7/site-packages/keras/backend/tensorflow_backend.py:3192: The name tf.truncated_normal is deprecated. Please use tf.random.truncated_normal instead.\r\n",
      "\r\n",
      "WARNING:tensorflow:From /Users/benedettosimone/PycharmProjects/pythonProject/venv/lib/python2.7/site-packages/keras/backend/tensorflow_backend.py:99: The name tf.get_default_graph is deprecated. Please use tf.compat.v1.get_default_graph instead.\r\n",
      "\r\n",
      "WARNING:tensorflow:From /Users/benedettosimone/PycharmProjects/pythonProject/venv/lib/python2.7/site-packages/keras/backend/tensorflow_backend.py:2681: calling dropout (from tensorflow.python.ops.nn_ops) with keep_prob is deprecated and will be removed in a future version.\r\n",
      "Instructions for updating:\r\n",
      "Please use `rate` instead of `keep_prob`. Rate should be set to `rate = 1 - keep_prob`.\r\n",
      "WARNING:tensorflow:From /Users/benedettosimone/PycharmProjects/pythonProject/venv/lib/python2.7/site-packages/keras/backend/tensorflow_backend.py:1062: calling reduce_prod_v1 (from tensorflow.python.ops.math_ops) with keep_dims is deprecated and will be removed in a future version.\r\n",
      "Instructions for updating:\r\n",
      "keep_dims is deprecated, use keepdims instead\r\n",
      "WARNING:tensorflow:From /Users/benedettosimone/PycharmProjects/pythonProject/venv/lib/python2.7/site-packages/keras/backend/tensorflow_backend.py:1044: calling reduce_sum_v1 (from tensorflow.python.ops.math_ops) with keep_dims is deprecated and will be removed in a future version.\r\n",
      "Instructions for updating:\r\n",
      "keep_dims is deprecated, use keepdims instead\r\n",
      "WARNING:tensorflow:From /Users/benedettosimone/PycharmProjects/pythonProject/venv/lib/python2.7/site-packages/keras/backend/tensorflow_backend.py:1008: calling reduce_max_v1 (from tensorflow.python.ops.math_ops) with keep_dims is deprecated and will be removed in a future version.\r\n",
      "Instructions for updating:\r\n",
      "keep_dims is deprecated, use keepdims instead\r\n",
      "WARNING:tensorflow:From /Users/benedettosimone/PycharmProjects/pythonProject/venv/lib/python2.7/site-packages/keras/backend/tensorflow_backend.py:3256: to_int32 (from tensorflow.python.ops.math_ops) is deprecated and will be removed in a future version.\r\n",
      "Instructions for updating:\r\n",
      "Use `tf.cast` instead.\r\n",
      "WARNING:tensorflow:From /Users/benedettosimone/PycharmProjects/pythonProject/venv/lib/python2.7/site-packages/tensorflow_core/python/ops/array_ops.py:1475: where (from tensorflow.python.ops.array_ops) is deprecated and will be removed in a future version.\r\n",
      "Instructions for updating:\r\n",
      "Use tf.where in 2.0, which has the same broadcast rule as np.where\r\n",
      "WARNING:tensorflow:From /Users/benedettosimone/PycharmProjects/pythonProject/venv/lib/python2.7/site-packages/keras/backend/tensorflow_backend.py:3236: to_int64 (from tensorflow.python.ops.math_ops) is deprecated and will be removed in a future version.\r\n",
      "Instructions for updating:\r\n",
      "Use `tf.cast` instead.\r\n",
      "WARNING:tensorflow:From /Users/benedettosimone/PycharmProjects/pythonProject/venv/lib/python2.7/site-packages/keras/backend/tensorflow_backend.py:3260: The name tf.log is deprecated. Please use tf.math.log instead.\r\n",
      "\r\n",
      "WARNING:tensorflow:From /Users/benedettosimone/PycharmProjects/pythonProject/venv/lib/python2.7/site-packages/keras/optimizers.py:675: The name tf.train.Optimizer is deprecated. Please use tf.compat.v1.train.Optimizer instead.\r\n",
      "\r\n",
      "WARNING:tensorflow:From /Users/benedettosimone/PycharmProjects/pythonProject/venv/lib/python2.7/site-packages/keras/backend/tensorflow_backend.py:140: The name tf.get_default_session is deprecated. Please use tf.compat.v1.get_default_session instead.\r\n",
      "\r\n",
      "WARNING:tensorflow:From /Users/benedettosimone/PycharmProjects/pythonProject/venv/lib/python2.7/site-packages/keras/backend/tensorflow_backend.py:145: The name tf.ConfigProto is deprecated. Please use tf.compat.v1.ConfigProto instead.\r\n",
      "\r\n",
      "WARNING:tensorflow:From /Users/benedettosimone/PycharmProjects/pythonProject/venv/lib/python2.7/site-packages/keras/backend/tensorflow_backend.py:150: The name tf.Session is deprecated. Please use tf.compat.v1.Session instead.\r\n",
      "\r\n",
      "2022-02-02 18:36:24.588524: I tensorflow/core/platform/cpu_feature_guard.cc:142] Your CPU supports instructions that this TensorFlow binary was not compiled to use: AVX2 FMA\r\n",
      "2022-02-02 18:36:24.607824: I tensorflow/compiler/xla/service/service.cc:168] XLA service 0x7f77a97bd5d0 initialized for platform Host (this does not guarantee that XLA will be used). Devices:\r\n",
      "2022-02-02 18:36:24.607844: I tensorflow/compiler/xla/service/service.cc:176]   StreamExecutor device (0): Host, Default Version\r\n",
      "WARNING:tensorflow:From /Users/benedettosimone/PycharmProjects/pythonProject/venv/lib/python2.7/site-packages/keras/backend/tensorflow_backend.py:298: The name tf.global_variables is deprecated. Please use tf.compat.v1.global_variables instead.\r\n",
      "\r\n",
      "WARNING:tensorflow:From /Users/benedettosimone/PycharmProjects/pythonProject/venv/lib/python2.7/site-packages/keras/backend/tensorflow_backend.py:306: The name tf.variables_initializer is deprecated. Please use tf.compat.v1.variables_initializer instead.\r\n",
      "\r\n",
      "WARNING:tensorflow:From /Users/benedettosimone/PycharmProjects/pythonProject/venv/lib/python2.7/site-packages/keras/backend/tensorflow_backend.py:3310: sparse_to_dense (from tensorflow.python.ops.sparse_ops) is deprecated and will be removed in a future version.\r\n",
      "Instructions for updating:\r\n",
      "Create a `tf.sparse.SparseTensor` and use `tf.sparse.to_dense` instead.\r\n",
      "/Users/benedettosimone/PycharmProjects/pythonProject/venv/lib/python2.7/site-packages/matplotlib/figure.py:402: UserWarning: matplotlib is currently using a non-GUI backend, so cannot show the figure\r\n",
      "  \"matplotlib is currently using a non-GUI backend, \"\r\n",
      "\r\n",
      " __                   __  __          __      \r\n",
      "/\\ \\       __        /\\ \\/\\ \\        /\\ \\__   \r\n",
      "\\ \\ \\     /\\_\\  _____\\ \\ `\\\\ \\     __\\ \\ ,_\\  \r\n",
      " \\ \\ \\  __\\/\\ \\/\\ '__`\\ \\ , ` \\  /'__`\\ \\ \\/  \r\n",
      "  \\ \\ \\L\\ \\\\ \\ \\ \\ \\L\\ \\ \\ \\`\\ \\/\\  __/\\ \\ \\_ \r\n",
      "   \\ \\____/ \\ \\_\\ \\ ,__/\\ \\_\\ \\_\\ \\____\\\\ \\__\\\r\n",
      "    \\/___/   \\/_/\\ \\ \\/  \\/_/\\/_/\\/____/ \\/__/\r\n",
      "                  \\ \\_\\                       \r\n",
      "                   \\/_/                       \r\n",
      "\r\n",
      "             --------------------- \r\n",
      "[ DECODED ] |> a red a c five now |\r\n",
      "             --------------------- \r\n"
     ]
    }
   ],
   "source": [
    "!bash predict evaluation/models/overlapped-weights368.h5 evaluation/samples/layBlueAtNFiveSoon.mpg"
   ],
   "metadata": {
    "collapsed": false,
    "pycharm": {
     "name": "#%%\n"
    }
   }
  },
  {
   "cell_type": "markdown",
   "source": [
    "# New set BS"
   ],
   "metadata": {
    "collapsed": false,
    "pycharm": {
     "name": "#%% md\n"
    }
   }
  },
  {
   "cell_type": "code",
   "execution_count": 4,
   "outputs": [
    {
     "name": "stdout",
     "output_type": "stream",
     "text": [
      "Using TensorFlow backend.\r\n",
      "\r\n",
      "Loading data from disk...\r\n",
      "/Users/benedettosimone/PycharmProjects/pythonProject/venv/lib/python2.7/site-packages/scipy/misc/pilutil.py:482: FutureWarning: Conversion of the second argument of issubdtype from `int` to `np.signedinteger` is deprecated. In future, it will be treated as `np.int64 == np.dtype(int).type`.\r\n",
      "  if issubdtype(ts, int):\r\n",
      "/Users/benedettosimone/PycharmProjects/pythonProject/venv/lib/python2.7/site-packages/scipy/misc/pilutil.py:485: FutureWarning: Conversion of the second argument of issubdtype from `float` to `np.floating` is deprecated. In future, it will be treated as `np.float64 == np.dtype(float).type`.\r\n",
      "  elif issubdtype(type(size), float):\r\n",
      "Data loaded.\r\n",
      "\r\n",
      "WARNING:tensorflow:From /Users/benedettosimone/PycharmProjects/pythonProject/venv/lib/python2.7/site-packages/keras/backend/tensorflow_backend.py:349: The name tf.placeholder is deprecated. Please use tf.compat.v1.placeholder instead.\r\n",
      "\r\n",
      "WARNING:tensorflow:From /Users/benedettosimone/PycharmProjects/pythonProject/venv/lib/python2.7/site-packages/keras/backend/tensorflow_backend.py:3192: The name tf.truncated_normal is deprecated. Please use tf.random.truncated_normal instead.\r\n",
      "\r\n",
      "WARNING:tensorflow:From /Users/benedettosimone/PycharmProjects/pythonProject/venv/lib/python2.7/site-packages/keras/backend/tensorflow_backend.py:99: The name tf.get_default_graph is deprecated. Please use tf.compat.v1.get_default_graph instead.\r\n",
      "\r\n",
      "WARNING:tensorflow:From /Users/benedettosimone/PycharmProjects/pythonProject/venv/lib/python2.7/site-packages/keras/backend/tensorflow_backend.py:2681: calling dropout (from tensorflow.python.ops.nn_ops) with keep_prob is deprecated and will be removed in a future version.\r\n",
      "Instructions for updating:\r\n",
      "Please use `rate` instead of `keep_prob`. Rate should be set to `rate = 1 - keep_prob`.\r\n",
      "WARNING:tensorflow:From /Users/benedettosimone/PycharmProjects/pythonProject/venv/lib/python2.7/site-packages/keras/backend/tensorflow_backend.py:1062: calling reduce_prod_v1 (from tensorflow.python.ops.math_ops) with keep_dims is deprecated and will be removed in a future version.\r\n",
      "Instructions for updating:\r\n",
      "keep_dims is deprecated, use keepdims instead\r\n",
      "WARNING:tensorflow:From /Users/benedettosimone/PycharmProjects/pythonProject/venv/lib/python2.7/site-packages/keras/backend/tensorflow_backend.py:1044: calling reduce_sum_v1 (from tensorflow.python.ops.math_ops) with keep_dims is deprecated and will be removed in a future version.\r\n",
      "Instructions for updating:\r\n",
      "keep_dims is deprecated, use keepdims instead\r\n",
      "WARNING:tensorflow:From /Users/benedettosimone/PycharmProjects/pythonProject/venv/lib/python2.7/site-packages/keras/backend/tensorflow_backend.py:1008: calling reduce_max_v1 (from tensorflow.python.ops.math_ops) with keep_dims is deprecated and will be removed in a future version.\r\n",
      "Instructions for updating:\r\n",
      "keep_dims is deprecated, use keepdims instead\r\n",
      "WARNING:tensorflow:From /Users/benedettosimone/PycharmProjects/pythonProject/venv/lib/python2.7/site-packages/keras/backend/tensorflow_backend.py:3256: to_int32 (from tensorflow.python.ops.math_ops) is deprecated and will be removed in a future version.\r\n",
      "Instructions for updating:\r\n",
      "Use `tf.cast` instead.\r\n",
      "WARNING:tensorflow:From /Users/benedettosimone/PycharmProjects/pythonProject/venv/lib/python2.7/site-packages/tensorflow_core/python/ops/array_ops.py:1475: where (from tensorflow.python.ops.array_ops) is deprecated and will be removed in a future version.\r\n",
      "Instructions for updating:\r\n",
      "Use tf.where in 2.0, which has the same broadcast rule as np.where\r\n",
      "WARNING:tensorflow:From /Users/benedettosimone/PycharmProjects/pythonProject/venv/lib/python2.7/site-packages/keras/backend/tensorflow_backend.py:3236: to_int64 (from tensorflow.python.ops.math_ops) is deprecated and will be removed in a future version.\r\n",
      "Instructions for updating:\r\n",
      "Use `tf.cast` instead.\r\n",
      "WARNING:tensorflow:From /Users/benedettosimone/PycharmProjects/pythonProject/venv/lib/python2.7/site-packages/keras/backend/tensorflow_backend.py:3260: The name tf.log is deprecated. Please use tf.math.log instead.\r\n",
      "\r\n",
      "WARNING:tensorflow:From /Users/benedettosimone/PycharmProjects/pythonProject/venv/lib/python2.7/site-packages/keras/optimizers.py:675: The name tf.train.Optimizer is deprecated. Please use tf.compat.v1.train.Optimizer instead.\r\n",
      "\r\n",
      "WARNING:tensorflow:From /Users/benedettosimone/PycharmProjects/pythonProject/venv/lib/python2.7/site-packages/keras/backend/tensorflow_backend.py:140: The name tf.get_default_session is deprecated. Please use tf.compat.v1.get_default_session instead.\r\n",
      "\r\n",
      "WARNING:tensorflow:From /Users/benedettosimone/PycharmProjects/pythonProject/venv/lib/python2.7/site-packages/keras/backend/tensorflow_backend.py:145: The name tf.ConfigProto is deprecated. Please use tf.compat.v1.ConfigProto instead.\r\n",
      "\r\n",
      "WARNING:tensorflow:From /Users/benedettosimone/PycharmProjects/pythonProject/venv/lib/python2.7/site-packages/keras/backend/tensorflow_backend.py:150: The name tf.Session is deprecated. Please use tf.compat.v1.Session instead.\r\n",
      "\r\n",
      "2022-02-03 10:41:15.592560: I tensorflow/core/platform/cpu_feature_guard.cc:142] Your CPU supports instructions that this TensorFlow binary was not compiled to use: AVX2 FMA\r\n",
      "2022-02-03 10:41:15.609956: I tensorflow/compiler/xla/service/service.cc:168] XLA service 0x7fa70cc94b30 initialized for platform Host (this does not guarantee that XLA will be used). Devices:\r\n",
      "2022-02-03 10:41:15.609975: I tensorflow/compiler/xla/service/service.cc:176]   StreamExecutor device (0): Host, Default Version\r\n",
      "WARNING:tensorflow:From /Users/benedettosimone/PycharmProjects/pythonProject/venv/lib/python2.7/site-packages/keras/backend/tensorflow_backend.py:298: The name tf.global_variables is deprecated. Please use tf.compat.v1.global_variables instead.\r\n",
      "\r\n",
      "WARNING:tensorflow:From /Users/benedettosimone/PycharmProjects/pythonProject/venv/lib/python2.7/site-packages/keras/backend/tensorflow_backend.py:306: The name tf.variables_initializer is deprecated. Please use tf.compat.v1.variables_initializer instead.\r\n",
      "\r\n",
      "WARNING:tensorflow:From /Users/benedettosimone/PycharmProjects/pythonProject/venv/lib/python2.7/site-packages/keras/backend/tensorflow_backend.py:3310: sparse_to_dense (from tensorflow.python.ops.sparse_ops) is deprecated and will be removed in a future version.\r\n",
      "Instructions for updating:\r\n",
      "Create a `tf.sparse.SparseTensor` and use `tf.sparse.to_dense` instead.\r\n",
      "/Users/benedettosimone/PycharmProjects/pythonProject/venv/lib/python2.7/site-packages/matplotlib/figure.py:402: UserWarning: matplotlib is currently using a non-GUI backend, so cannot show the figure\r\n",
      "  \"matplotlib is currently using a non-GUI backend, \"\r\n",
      "\r\n",
      " __                   __  __          __      \r\n",
      "/\\ \\       __        /\\ \\/\\ \\        /\\ \\__   \r\n",
      "\\ \\ \\     /\\_\\  _____\\ \\ `\\\\ \\     __\\ \\ ,_\\  \r\n",
      " \\ \\ \\  __\\/\\ \\/\\ '__`\\ \\ , ` \\  /'__`\\ \\ \\/  \r\n",
      "  \\ \\ \\L\\ \\\\ \\ \\ \\ \\L\\ \\ \\ \\`\\ \\/\\  __/\\ \\ \\_ \r\n",
      "   \\ \\____/ \\ \\_\\ \\ ,__/\\ \\_\\ \\_\\ \\____\\\\ \\__\\\r\n",
      "    \\/___/   \\/_/\\ \\ \\/  \\/_/\\/_/\\/____/ \\/__/\r\n",
      "                  \\ \\_\\                       \r\n",
      "                   \\/_/                       \r\n",
      "\r\n",
      "             ----------------------- \r\n",
      "[ DECODED ] |> a blue by s six soon |\r\n",
      "             ----------------------- \r\n"
     ]
    }
   ],
   "source": [
    "!bash predict evaluation/models/overlapped-weights368.h5 evaluation/samples/setBlueByMSixAgain-2.1.mpg"
   ],
   "metadata": {
    "collapsed": false,
    "pycharm": {
     "name": "#%%\n"
    }
   }
  },
  {
   "cell_type": "code",
   "execution_count": 5,
   "outputs": [
    {
     "name": "stdout",
     "output_type": "stream",
     "text": [
      "Using TensorFlow backend.\r\n",
      "\r\n",
      "Loading data from disk...\r\n",
      "/Users/benedettosimone/PycharmProjects/pythonProject/venv/lib/python2.7/site-packages/scipy/misc/pilutil.py:482: FutureWarning: Conversion of the second argument of issubdtype from `int` to `np.signedinteger` is deprecated. In future, it will be treated as `np.int64 == np.dtype(int).type`.\r\n",
      "  if issubdtype(ts, int):\r\n",
      "/Users/benedettosimone/PycharmProjects/pythonProject/venv/lib/python2.7/site-packages/scipy/misc/pilutil.py:485: FutureWarning: Conversion of the second argument of issubdtype from `float` to `np.floating` is deprecated. In future, it will be treated as `np.float64 == np.dtype(float).type`.\r\n",
      "  elif issubdtype(type(size), float):\r\n",
      "Data loaded.\r\n",
      "\r\n",
      "WARNING:tensorflow:From /Users/benedettosimone/PycharmProjects/pythonProject/venv/lib/python2.7/site-packages/keras/backend/tensorflow_backend.py:349: The name tf.placeholder is deprecated. Please use tf.compat.v1.placeholder instead.\r\n",
      "\r\n",
      "WARNING:tensorflow:From /Users/benedettosimone/PycharmProjects/pythonProject/venv/lib/python2.7/site-packages/keras/backend/tensorflow_backend.py:3192: The name tf.truncated_normal is deprecated. Please use tf.random.truncated_normal instead.\r\n",
      "\r\n",
      "WARNING:tensorflow:From /Users/benedettosimone/PycharmProjects/pythonProject/venv/lib/python2.7/site-packages/keras/backend/tensorflow_backend.py:99: The name tf.get_default_graph is deprecated. Please use tf.compat.v1.get_default_graph instead.\r\n",
      "\r\n",
      "WARNING:tensorflow:From /Users/benedettosimone/PycharmProjects/pythonProject/venv/lib/python2.7/site-packages/keras/backend/tensorflow_backend.py:2681: calling dropout (from tensorflow.python.ops.nn_ops) with keep_prob is deprecated and will be removed in a future version.\r\n",
      "Instructions for updating:\r\n",
      "Please use `rate` instead of `keep_prob`. Rate should be set to `rate = 1 - keep_prob`.\r\n",
      "WARNING:tensorflow:From /Users/benedettosimone/PycharmProjects/pythonProject/venv/lib/python2.7/site-packages/keras/backend/tensorflow_backend.py:1062: calling reduce_prod_v1 (from tensorflow.python.ops.math_ops) with keep_dims is deprecated and will be removed in a future version.\r\n",
      "Instructions for updating:\r\n",
      "keep_dims is deprecated, use keepdims instead\r\n",
      "WARNING:tensorflow:From /Users/benedettosimone/PycharmProjects/pythonProject/venv/lib/python2.7/site-packages/keras/backend/tensorflow_backend.py:1044: calling reduce_sum_v1 (from tensorflow.python.ops.math_ops) with keep_dims is deprecated and will be removed in a future version.\r\n",
      "Instructions for updating:\r\n",
      "keep_dims is deprecated, use keepdims instead\r\n",
      "WARNING:tensorflow:From /Users/benedettosimone/PycharmProjects/pythonProject/venv/lib/python2.7/site-packages/keras/backend/tensorflow_backend.py:1008: calling reduce_max_v1 (from tensorflow.python.ops.math_ops) with keep_dims is deprecated and will be removed in a future version.\r\n",
      "Instructions for updating:\r\n",
      "keep_dims is deprecated, use keepdims instead\r\n",
      "WARNING:tensorflow:From /Users/benedettosimone/PycharmProjects/pythonProject/venv/lib/python2.7/site-packages/keras/backend/tensorflow_backend.py:3256: to_int32 (from tensorflow.python.ops.math_ops) is deprecated and will be removed in a future version.\r\n",
      "Instructions for updating:\r\n",
      "Use `tf.cast` instead.\r\n",
      "WARNING:tensorflow:From /Users/benedettosimone/PycharmProjects/pythonProject/venv/lib/python2.7/site-packages/tensorflow_core/python/ops/array_ops.py:1475: where (from tensorflow.python.ops.array_ops) is deprecated and will be removed in a future version.\r\n",
      "Instructions for updating:\r\n",
      "Use tf.where in 2.0, which has the same broadcast rule as np.where\r\n",
      "WARNING:tensorflow:From /Users/benedettosimone/PycharmProjects/pythonProject/venv/lib/python2.7/site-packages/keras/backend/tensorflow_backend.py:3236: to_int64 (from tensorflow.python.ops.math_ops) is deprecated and will be removed in a future version.\r\n",
      "Instructions for updating:\r\n",
      "Use `tf.cast` instead.\r\n",
      "WARNING:tensorflow:From /Users/benedettosimone/PycharmProjects/pythonProject/venv/lib/python2.7/site-packages/keras/backend/tensorflow_backend.py:3260: The name tf.log is deprecated. Please use tf.math.log instead.\r\n",
      "\r\n",
      "WARNING:tensorflow:From /Users/benedettosimone/PycharmProjects/pythonProject/venv/lib/python2.7/site-packages/keras/optimizers.py:675: The name tf.train.Optimizer is deprecated. Please use tf.compat.v1.train.Optimizer instead.\r\n",
      "\r\n",
      "WARNING:tensorflow:From /Users/benedettosimone/PycharmProjects/pythonProject/venv/lib/python2.7/site-packages/keras/backend/tensorflow_backend.py:140: The name tf.get_default_session is deprecated. Please use tf.compat.v1.get_default_session instead.\r\n",
      "\r\n",
      "WARNING:tensorflow:From /Users/benedettosimone/PycharmProjects/pythonProject/venv/lib/python2.7/site-packages/keras/backend/tensorflow_backend.py:145: The name tf.ConfigProto is deprecated. Please use tf.compat.v1.ConfigProto instead.\r\n",
      "\r\n",
      "WARNING:tensorflow:From /Users/benedettosimone/PycharmProjects/pythonProject/venv/lib/python2.7/site-packages/keras/backend/tensorflow_backend.py:150: The name tf.Session is deprecated. Please use tf.compat.v1.Session instead.\r\n",
      "\r\n",
      "2022-02-03 10:42:44.726175: I tensorflow/core/platform/cpu_feature_guard.cc:142] Your CPU supports instructions that this TensorFlow binary was not compiled to use: AVX2 FMA\r\n",
      "2022-02-03 10:42:44.738480: I tensorflow/compiler/xla/service/service.cc:168] XLA service 0x7fabfd4dd340 initialized for platform Host (this does not guarantee that XLA will be used). Devices:\r\n",
      "2022-02-03 10:42:44.738538: I tensorflow/compiler/xla/service/service.cc:176]   StreamExecutor device (0): Host, Default Version\r\n",
      "WARNING:tensorflow:From /Users/benedettosimone/PycharmProjects/pythonProject/venv/lib/python2.7/site-packages/keras/backend/tensorflow_backend.py:298: The name tf.global_variables is deprecated. Please use tf.compat.v1.global_variables instead.\r\n",
      "\r\n",
      "WARNING:tensorflow:From /Users/benedettosimone/PycharmProjects/pythonProject/venv/lib/python2.7/site-packages/keras/backend/tensorflow_backend.py:306: The name tf.variables_initializer is deprecated. Please use tf.compat.v1.variables_initializer instead.\r\n",
      "\r\n",
      "WARNING:tensorflow:From /Users/benedettosimone/PycharmProjects/pythonProject/venv/lib/python2.7/site-packages/keras/backend/tensorflow_backend.py:3310: sparse_to_dense (from tensorflow.python.ops.sparse_ops) is deprecated and will be removed in a future version.\r\n",
      "Instructions for updating:\r\n",
      "Create a `tf.sparse.SparseTensor` and use `tf.sparse.to_dense` instead.\r\n",
      "/Users/benedettosimone/PycharmProjects/pythonProject/venv/lib/python2.7/site-packages/matplotlib/figure.py:402: UserWarning: matplotlib is currently using a non-GUI backend, so cannot show the figure\r\n",
      "  \"matplotlib is currently using a non-GUI backend, \"\r\n",
      "\r\n",
      " __                   __  __          __      \r\n",
      "/\\ \\       __        /\\ \\/\\ \\        /\\ \\__   \r\n",
      "\\ \\ \\     /\\_\\  _____\\ \\ `\\\\ \\     __\\ \\ ,_\\  \r\n",
      " \\ \\ \\  __\\/\\ \\/\\ '__`\\ \\ , ` \\  /'__`\\ \\ \\/  \r\n",
      "  \\ \\ \\L\\ \\\\ \\ \\ \\ \\L\\ \\ \\ \\`\\ \\/\\  __/\\ \\ \\_ \r\n",
      "   \\ \\____/ \\ \\_\\ \\ ,__/\\ \\_\\ \\_\\ \\____\\\\ \\__\\\r\n",
      "    \\/___/   \\/_/\\ \\ \\/  \\/_/\\/_/\\/____/ \\/__/\r\n",
      "                  \\ \\_\\                       \r\n",
      "                   \\/_/                       \r\n",
      "\r\n",
      "             ------------------------- \r\n",
      "[ DECODED ] |> bin blue i s six again |\r\n",
      "             ------------------------- \r\n"
     ]
    }
   ],
   "source": [
    "!bash predict evaluation/models/overlapped-weights368.h5 evaluation/samples/setBlueByMSixAgain-2.2.mpg"
   ],
   "metadata": {
    "collapsed": false,
    "pycharm": {
     "name": "#%%\n"
    }
   }
  },
  {
   "cell_type": "code",
   "execution_count": 6,
   "outputs": [
    {
     "name": "stdout",
     "output_type": "stream",
     "text": [
      "Using TensorFlow backend.\r\n",
      "\r\n",
      "Loading data from disk...\r\n",
      "/Users/benedettosimone/PycharmProjects/pythonProject/venv/lib/python2.7/site-packages/scipy/misc/pilutil.py:482: FutureWarning: Conversion of the second argument of issubdtype from `int` to `np.signedinteger` is deprecated. In future, it will be treated as `np.int64 == np.dtype(int).type`.\r\n",
      "  if issubdtype(ts, int):\r\n",
      "/Users/benedettosimone/PycharmProjects/pythonProject/venv/lib/python2.7/site-packages/scipy/misc/pilutil.py:485: FutureWarning: Conversion of the second argument of issubdtype from `float` to `np.floating` is deprecated. In future, it will be treated as `np.float64 == np.dtype(float).type`.\r\n",
      "  elif issubdtype(type(size), float):\r\n",
      "Data loaded.\r\n",
      "\r\n",
      "WARNING:tensorflow:From /Users/benedettosimone/PycharmProjects/pythonProject/venv/lib/python2.7/site-packages/keras/backend/tensorflow_backend.py:349: The name tf.placeholder is deprecated. Please use tf.compat.v1.placeholder instead.\r\n",
      "\r\n",
      "WARNING:tensorflow:From /Users/benedettosimone/PycharmProjects/pythonProject/venv/lib/python2.7/site-packages/keras/backend/tensorflow_backend.py:3192: The name tf.truncated_normal is deprecated. Please use tf.random.truncated_normal instead.\r\n",
      "\r\n",
      "WARNING:tensorflow:From /Users/benedettosimone/PycharmProjects/pythonProject/venv/lib/python2.7/site-packages/keras/backend/tensorflow_backend.py:99: The name tf.get_default_graph is deprecated. Please use tf.compat.v1.get_default_graph instead.\r\n",
      "\r\n",
      "WARNING:tensorflow:From /Users/benedettosimone/PycharmProjects/pythonProject/venv/lib/python2.7/site-packages/keras/backend/tensorflow_backend.py:2681: calling dropout (from tensorflow.python.ops.nn_ops) with keep_prob is deprecated and will be removed in a future version.\r\n",
      "Instructions for updating:\r\n",
      "Please use `rate` instead of `keep_prob`. Rate should be set to `rate = 1 - keep_prob`.\r\n",
      "WARNING:tensorflow:From /Users/benedettosimone/PycharmProjects/pythonProject/venv/lib/python2.7/site-packages/keras/backend/tensorflow_backend.py:1062: calling reduce_prod_v1 (from tensorflow.python.ops.math_ops) with keep_dims is deprecated and will be removed in a future version.\r\n",
      "Instructions for updating:\r\n",
      "keep_dims is deprecated, use keepdims instead\r\n",
      "WARNING:tensorflow:From /Users/benedettosimone/PycharmProjects/pythonProject/venv/lib/python2.7/site-packages/keras/backend/tensorflow_backend.py:1044: calling reduce_sum_v1 (from tensorflow.python.ops.math_ops) with keep_dims is deprecated and will be removed in a future version.\r\n",
      "Instructions for updating:\r\n",
      "keep_dims is deprecated, use keepdims instead\r\n",
      "WARNING:tensorflow:From /Users/benedettosimone/PycharmProjects/pythonProject/venv/lib/python2.7/site-packages/keras/backend/tensorflow_backend.py:1008: calling reduce_max_v1 (from tensorflow.python.ops.math_ops) with keep_dims is deprecated and will be removed in a future version.\r\n",
      "Instructions for updating:\r\n",
      "keep_dims is deprecated, use keepdims instead\r\n",
      "WARNING:tensorflow:From /Users/benedettosimone/PycharmProjects/pythonProject/venv/lib/python2.7/site-packages/keras/backend/tensorflow_backend.py:3256: to_int32 (from tensorflow.python.ops.math_ops) is deprecated and will be removed in a future version.\r\n",
      "Instructions for updating:\r\n",
      "Use `tf.cast` instead.\r\n",
      "WARNING:tensorflow:From /Users/benedettosimone/PycharmProjects/pythonProject/venv/lib/python2.7/site-packages/tensorflow_core/python/ops/array_ops.py:1475: where (from tensorflow.python.ops.array_ops) is deprecated and will be removed in a future version.\r\n",
      "Instructions for updating:\r\n",
      "Use tf.where in 2.0, which has the same broadcast rule as np.where\r\n",
      "WARNING:tensorflow:From /Users/benedettosimone/PycharmProjects/pythonProject/venv/lib/python2.7/site-packages/keras/backend/tensorflow_backend.py:3236: to_int64 (from tensorflow.python.ops.math_ops) is deprecated and will be removed in a future version.\r\n",
      "Instructions for updating:\r\n",
      "Use `tf.cast` instead.\r\n",
      "WARNING:tensorflow:From /Users/benedettosimone/PycharmProjects/pythonProject/venv/lib/python2.7/site-packages/keras/backend/tensorflow_backend.py:3260: The name tf.log is deprecated. Please use tf.math.log instead.\r\n",
      "\r\n",
      "WARNING:tensorflow:From /Users/benedettosimone/PycharmProjects/pythonProject/venv/lib/python2.7/site-packages/keras/optimizers.py:675: The name tf.train.Optimizer is deprecated. Please use tf.compat.v1.train.Optimizer instead.\r\n",
      "\r\n",
      "WARNING:tensorflow:From /Users/benedettosimone/PycharmProjects/pythonProject/venv/lib/python2.7/site-packages/keras/backend/tensorflow_backend.py:140: The name tf.get_default_session is deprecated. Please use tf.compat.v1.get_default_session instead.\r\n",
      "\r\n",
      "WARNING:tensorflow:From /Users/benedettosimone/PycharmProjects/pythonProject/venv/lib/python2.7/site-packages/keras/backend/tensorflow_backend.py:145: The name tf.ConfigProto is deprecated. Please use tf.compat.v1.ConfigProto instead.\r\n",
      "\r\n",
      "WARNING:tensorflow:From /Users/benedettosimone/PycharmProjects/pythonProject/venv/lib/python2.7/site-packages/keras/backend/tensorflow_backend.py:150: The name tf.Session is deprecated. Please use tf.compat.v1.Session instead.\r\n",
      "\r\n",
      "2022-02-03 10:43:50.501242: I tensorflow/core/platform/cpu_feature_guard.cc:142] Your CPU supports instructions that this TensorFlow binary was not compiled to use: AVX2 FMA\r\n",
      "2022-02-03 10:43:50.514362: I tensorflow/compiler/xla/service/service.cc:168] XLA service 0x7faace0cce00 initialized for platform Host (this does not guarantee that XLA will be used). Devices:\r\n",
      "2022-02-03 10:43:50.514389: I tensorflow/compiler/xla/service/service.cc:176]   StreamExecutor device (0): Host, Default Version\r\n",
      "WARNING:tensorflow:From /Users/benedettosimone/PycharmProjects/pythonProject/venv/lib/python2.7/site-packages/keras/backend/tensorflow_backend.py:298: The name tf.global_variables is deprecated. Please use tf.compat.v1.global_variables instead.\r\n",
      "\r\n",
      "WARNING:tensorflow:From /Users/benedettosimone/PycharmProjects/pythonProject/venv/lib/python2.7/site-packages/keras/backend/tensorflow_backend.py:306: The name tf.variables_initializer is deprecated. Please use tf.compat.v1.variables_initializer instead.\r\n",
      "\r\n",
      "WARNING:tensorflow:From /Users/benedettosimone/PycharmProjects/pythonProject/venv/lib/python2.7/site-packages/keras/backend/tensorflow_backend.py:3310: sparse_to_dense (from tensorflow.python.ops.sparse_ops) is deprecated and will be removed in a future version.\r\n",
      "Instructions for updating:\r\n",
      "Create a `tf.sparse.SparseTensor` and use `tf.sparse.to_dense` instead.\r\n",
      "/Users/benedettosimone/PycharmProjects/pythonProject/venv/lib/python2.7/site-packages/matplotlib/figure.py:402: UserWarning: matplotlib is currently using a non-GUI backend, so cannot show the figure\r\n",
      "  \"matplotlib is currently using a non-GUI backend, \"\r\n",
      "\r\n",
      " __                   __  __          __      \r\n",
      "/\\ \\       __        /\\ \\/\\ \\        /\\ \\__   \r\n",
      "\\ \\ \\     /\\_\\  _____\\ \\ `\\\\ \\     __\\ \\ ,_\\  \r\n",
      " \\ \\ \\  __\\/\\ \\/\\ '__`\\ \\ , ` \\  /'__`\\ \\ \\/  \r\n",
      "  \\ \\ \\L\\ \\\\ \\ \\ \\ \\L\\ \\ \\ \\`\\ \\/\\  __/\\ \\ \\_ \r\n",
      "   \\ \\____/ \\ \\_\\ \\ ,__/\\ \\_\\ \\_\\ \\____\\\\ \\__\\\r\n",
      "    \\/___/   \\/_/\\ \\ \\/  \\/_/\\/_/\\/____/ \\/__/\r\n",
      "                  \\ \\_\\                       \r\n",
      "                   \\/_/                       \r\n",
      "\r\n",
      "             ------------------------- \r\n",
      "[ DECODED ] |> bin red at k nine soon |\r\n",
      "             ------------------------- \r\n"
     ]
    }
   ],
   "source": [
    "!bash predict evaluation/models/overlapped-weights368.h5 evaluation/samples/layGreenAtCThreeSoon-1.1.mpg"
   ],
   "metadata": {
    "collapsed": false,
    "pycharm": {
     "name": "#%%\n"
    }
   }
  },
  {
   "cell_type": "code",
   "execution_count": 7,
   "outputs": [
    {
     "name": "stdout",
     "output_type": "stream",
     "text": [
      "Using TensorFlow backend.\r\n",
      "\r\n",
      "Loading data from disk...\r\n",
      "/Users/benedettosimone/PycharmProjects/pythonProject/venv/lib/python2.7/site-packages/scipy/misc/pilutil.py:482: FutureWarning: Conversion of the second argument of issubdtype from `int` to `np.signedinteger` is deprecated. In future, it will be treated as `np.int64 == np.dtype(int).type`.\r\n",
      "  if issubdtype(ts, int):\r\n",
      "/Users/benedettosimone/PycharmProjects/pythonProject/venv/lib/python2.7/site-packages/scipy/misc/pilutil.py:485: FutureWarning: Conversion of the second argument of issubdtype from `float` to `np.floating` is deprecated. In future, it will be treated as `np.float64 == np.dtype(float).type`.\r\n",
      "  elif issubdtype(type(size), float):\r\n",
      "Data loaded.\r\n",
      "\r\n",
      "WARNING:tensorflow:From /Users/benedettosimone/PycharmProjects/pythonProject/venv/lib/python2.7/site-packages/keras/backend/tensorflow_backend.py:349: The name tf.placeholder is deprecated. Please use tf.compat.v1.placeholder instead.\r\n",
      "\r\n",
      "WARNING:tensorflow:From /Users/benedettosimone/PycharmProjects/pythonProject/venv/lib/python2.7/site-packages/keras/backend/tensorflow_backend.py:3192: The name tf.truncated_normal is deprecated. Please use tf.random.truncated_normal instead.\r\n",
      "\r\n",
      "WARNING:tensorflow:From /Users/benedettosimone/PycharmProjects/pythonProject/venv/lib/python2.7/site-packages/keras/backend/tensorflow_backend.py:99: The name tf.get_default_graph is deprecated. Please use tf.compat.v1.get_default_graph instead.\r\n",
      "\r\n",
      "WARNING:tensorflow:From /Users/benedettosimone/PycharmProjects/pythonProject/venv/lib/python2.7/site-packages/keras/backend/tensorflow_backend.py:2681: calling dropout (from tensorflow.python.ops.nn_ops) with keep_prob is deprecated and will be removed in a future version.\r\n",
      "Instructions for updating:\r\n",
      "Please use `rate` instead of `keep_prob`. Rate should be set to `rate = 1 - keep_prob`.\r\n",
      "WARNING:tensorflow:From /Users/benedettosimone/PycharmProjects/pythonProject/venv/lib/python2.7/site-packages/keras/backend/tensorflow_backend.py:1062: calling reduce_prod_v1 (from tensorflow.python.ops.math_ops) with keep_dims is deprecated and will be removed in a future version.\r\n",
      "Instructions for updating:\r\n",
      "keep_dims is deprecated, use keepdims instead\r\n",
      "WARNING:tensorflow:From /Users/benedettosimone/PycharmProjects/pythonProject/venv/lib/python2.7/site-packages/keras/backend/tensorflow_backend.py:1044: calling reduce_sum_v1 (from tensorflow.python.ops.math_ops) with keep_dims is deprecated and will be removed in a future version.\r\n",
      "Instructions for updating:\r\n",
      "keep_dims is deprecated, use keepdims instead\r\n",
      "WARNING:tensorflow:From /Users/benedettosimone/PycharmProjects/pythonProject/venv/lib/python2.7/site-packages/keras/backend/tensorflow_backend.py:1008: calling reduce_max_v1 (from tensorflow.python.ops.math_ops) with keep_dims is deprecated and will be removed in a future version.\r\n",
      "Instructions for updating:\r\n",
      "keep_dims is deprecated, use keepdims instead\r\n",
      "WARNING:tensorflow:From /Users/benedettosimone/PycharmProjects/pythonProject/venv/lib/python2.7/site-packages/keras/backend/tensorflow_backend.py:3256: to_int32 (from tensorflow.python.ops.math_ops) is deprecated and will be removed in a future version.\r\n",
      "Instructions for updating:\r\n",
      "Use `tf.cast` instead.\r\n",
      "WARNING:tensorflow:From /Users/benedettosimone/PycharmProjects/pythonProject/venv/lib/python2.7/site-packages/tensorflow_core/python/ops/array_ops.py:1475: where (from tensorflow.python.ops.array_ops) is deprecated and will be removed in a future version.\r\n",
      "Instructions for updating:\r\n",
      "Use tf.where in 2.0, which has the same broadcast rule as np.where\r\n",
      "WARNING:tensorflow:From /Users/benedettosimone/PycharmProjects/pythonProject/venv/lib/python2.7/site-packages/keras/backend/tensorflow_backend.py:3236: to_int64 (from tensorflow.python.ops.math_ops) is deprecated and will be removed in a future version.\r\n",
      "Instructions for updating:\r\n",
      "Use `tf.cast` instead.\r\n",
      "WARNING:tensorflow:From /Users/benedettosimone/PycharmProjects/pythonProject/venv/lib/python2.7/site-packages/keras/backend/tensorflow_backend.py:3260: The name tf.log is deprecated. Please use tf.math.log instead.\r\n",
      "\r\n",
      "WARNING:tensorflow:From /Users/benedettosimone/PycharmProjects/pythonProject/venv/lib/python2.7/site-packages/keras/optimizers.py:675: The name tf.train.Optimizer is deprecated. Please use tf.compat.v1.train.Optimizer instead.\r\n",
      "\r\n",
      "WARNING:tensorflow:From /Users/benedettosimone/PycharmProjects/pythonProject/venv/lib/python2.7/site-packages/keras/backend/tensorflow_backend.py:140: The name tf.get_default_session is deprecated. Please use tf.compat.v1.get_default_session instead.\r\n",
      "\r\n",
      "WARNING:tensorflow:From /Users/benedettosimone/PycharmProjects/pythonProject/venv/lib/python2.7/site-packages/keras/backend/tensorflow_backend.py:145: The name tf.ConfigProto is deprecated. Please use tf.compat.v1.ConfigProto instead.\r\n",
      "\r\n",
      "WARNING:tensorflow:From /Users/benedettosimone/PycharmProjects/pythonProject/venv/lib/python2.7/site-packages/keras/backend/tensorflow_backend.py:150: The name tf.Session is deprecated. Please use tf.compat.v1.Session instead.\r\n",
      "\r\n",
      "2022-02-03 10:44:44.897337: I tensorflow/core/platform/cpu_feature_guard.cc:142] Your CPU supports instructions that this TensorFlow binary was not compiled to use: AVX2 FMA\r\n",
      "2022-02-03 10:44:44.911665: I tensorflow/compiler/xla/service/service.cc:168] XLA service 0x7fb45c18b530 initialized for platform Host (this does not guarantee that XLA will be used). Devices:\r\n",
      "2022-02-03 10:44:44.911687: I tensorflow/compiler/xla/service/service.cc:176]   StreamExecutor device (0): Host, Default Version\r\n",
      "WARNING:tensorflow:From /Users/benedettosimone/PycharmProjects/pythonProject/venv/lib/python2.7/site-packages/keras/backend/tensorflow_backend.py:298: The name tf.global_variables is deprecated. Please use tf.compat.v1.global_variables instead.\r\n",
      "\r\n",
      "WARNING:tensorflow:From /Users/benedettosimone/PycharmProjects/pythonProject/venv/lib/python2.7/site-packages/keras/backend/tensorflow_backend.py:306: The name tf.variables_initializer is deprecated. Please use tf.compat.v1.variables_initializer instead.\r\n",
      "\r\n",
      "WARNING:tensorflow:From /Users/benedettosimone/PycharmProjects/pythonProject/venv/lib/python2.7/site-packages/keras/backend/tensorflow_backend.py:3310: sparse_to_dense (from tensorflow.python.ops.sparse_ops) is deprecated and will be removed in a future version.\r\n",
      "Instructions for updating:\r\n",
      "Create a `tf.sparse.SparseTensor` and use `tf.sparse.to_dense` instead.\r\n",
      "/Users/benedettosimone/PycharmProjects/pythonProject/venv/lib/python2.7/site-packages/matplotlib/figure.py:402: UserWarning: matplotlib is currently using a non-GUI backend, so cannot show the figure\r\n",
      "  \"matplotlib is currently using a non-GUI backend, \"\r\n",
      "\r\n",
      " __                   __  __          __      \r\n",
      "/\\ \\       __        /\\ \\/\\ \\        /\\ \\__   \r\n",
      "\\ \\ \\     /\\_\\  _____\\ \\ `\\\\ \\     __\\ \\ ,_\\  \r\n",
      " \\ \\ \\  __\\/\\ \\/\\ '__`\\ \\ , ` \\  /'__`\\ \\ \\/  \r\n",
      "  \\ \\ \\L\\ \\\\ \\ \\ \\ \\L\\ \\ \\ \\`\\ \\/\\  __/\\ \\ \\_ \r\n",
      "   \\ \\____/ \\ \\_\\ \\ ,__/\\ \\_\\ \\_\\ \\____\\\\ \\__\\\r\n",
      "    \\/___/   \\/_/\\ \\ \\/  \\/_/\\/_/\\/____/ \\/__/\r\n",
      "                  \\ \\_\\                       \r\n",
      "                   \\/_/                       \r\n",
      "\r\n",
      "             ---------------------------- \r\n",
      "[ DECODED ] |> place green i b nine soon |\r\n",
      "             ---------------------------- \r\n"
     ]
    }
   ],
   "source": [
    "!bash predict evaluation/models/overlapped-weights368.h5 evaluation/samples/layGreenAtCThreeSoon-1-3.mpg"
   ],
   "metadata": {
    "collapsed": false,
    "pycharm": {
     "name": "#%%\n"
    }
   }
  },
  {
   "cell_type": "code",
   "execution_count": null,
   "outputs": [],
   "source": [],
   "metadata": {
    "collapsed": false,
    "pycharm": {
     "name": "#%%\n"
    }
   }
  }
 ],
 "metadata": {
  "kernelspec": {
   "display_name": "Python 2",
   "language": "python",
   "name": "python2"
  },
  "language_info": {
   "codemirror_mode": {
    "name": "ipython",
    "version": 2
   },
   "file_extension": ".py",
   "mimetype": "text/x-python",
   "name": "python",
   "nbconvert_exporter": "python",
   "pygments_lexer": "ipython2",
   "version": "2.7.6"
  }
 },
 "nbformat": 4,
 "nbformat_minor": 0
}