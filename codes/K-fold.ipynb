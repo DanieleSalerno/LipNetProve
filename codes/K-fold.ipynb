{
 "cells": [
  {
   "cell_type": "code",
   "execution_count": 6,
   "metadata": {
    "collapsed": true
   },
   "outputs": [],
   "source": [
    "import numpy as np\n",
    "import pandas as pd\n",
    "import os\n",
    "from sklearn.model_selection import KFold, StratifiedKFold\n",
    "import tensorflow as tf\n",
    "from tensorflow.keras.preprocessing.image import ImageDataGenerator"
   ]
  },
  {
   "cell_type": "code",
   "execution_count": 1,
   "outputs": [
    {
     "data": {
      "text/plain": "'/Users/benedettosimone/PycharmProjects/LipNetProve/Dataset/Train'"
     },
     "execution_count": 1,
     "metadata": {},
     "output_type": "execute_result"
    }
   ],
   "source": [
    "import os\n",
    "os.chdir('../Dataset/Train')\n",
    "os.getcwd()"
   ],
   "metadata": {
    "collapsed": false,
    "pycharm": {
     "name": "#%%\n"
    }
   }
  },
  {
   "cell_type": "code",
   "execution_count": 2,
   "outputs": [],
   "source": [
    "data=[]\n",
    "for l in os.listdir():\n",
    "    os.chdir(l)\n",
    "    for m in os.listdir():\n",
    "        data.append([l+'/'+m, l])\n",
    "    os.chdir('..')"
   ],
   "metadata": {
    "collapsed": false,
    "pycharm": {
     "name": "#%%\n"
    }
   }
  },
  {
   "cell_type": "code",
   "execution_count": 3,
   "outputs": [
    {
     "data": {
      "text/plain": "[['r/F01_words08_06.jpg', 'r'],\n ['r/F09_words08_07.jpg', 'r'],\n ['r/M07_words08_02.jpg', 'r'],\n ['r/M01_words08_05.jpg', 'r'],\n ['r/F08_words08_03.jpg', 'r'],\n ['r/F07_words08_01.jpg', 'r'],\n ['r/M01_words08_10.jpg', 'r'],\n ['r/M01_words08_04.jpg', 'r'],\n ['r/F08_words08_02.jpg', 'r'],\n ['r/M07_words08_03.jpg', 'r'],\n ['r/F09_words08_06.jpg', 'r'],\n ['r/M08_words08_01.jpg', 'r'],\n ['r/F01_words08_07.jpg', 'r'],\n ['r/F09_words08_04.jpg', 'r'],\n ['r/F01_words08_05.jpg', 'r'],\n ['r/M08_words08_03.jpg', 'r'],\n ['r/F09_words08_10.jpg', 'r'],\n ['r/M07_words08_01.jpg', 'r'],\n ['r/M01_words08_06.jpg', 'r'],\n ['r/F07_words08_02.jpg', 'r'],\n ['r/F07_words08_03.jpg', 'r'],\n ['r/F08_words08_01.jpg', 'r'],\n ['r/M01_words08_07.jpg', 'r'],\n ['r/F01_words08_04.jpg', 'r'],\n ['r/M08_words08_02.jpg', 'r'],\n ['r/F09_words08_05.jpg', 'r'],\n ['r/F01_words08_10.jpg', 'r'],\n ['r/F09_words08_01.jpg', 'r'],\n ['r/M08_words08_06.jpg', 'r'],\n ['r/M07_words08_04.jpg', 'r'],\n ['r/M07_words08_10.jpg', 'r'],\n ['r/M01_words08_03.jpg', 'r'],\n ['r/F08_words08_05.jpg', 'r'],\n ['r/F07_words08_07.jpg', 'r'],\n ['r/F07_words08_06.jpg', 'r'],\n ['r/M01_words08_02.jpg', 'r'],\n ['r/F08_words08_04.jpg', 'r'],\n ['r/F08_words08_10.jpg', 'r'],\n ['r/M07_words08_05.jpg', 'r'],\n ['r/M08_words08_07.jpg', 'r'],\n ['r/F01_words08_01.jpg', 'r'],\n ['r/F01_words08_03.jpg', 'r'],\n ['r/M08_words08_05.jpg', 'r'],\n ['r/F09_words08_02.jpg', 'r'],\n ['r/M07_words08_07.jpg', 'r'],\n ['r/F08_words08_06.jpg', 'r'],\n ['r/F07_words08_10.jpg', 'r'],\n ['r/F07_words08_04.jpg', 'r'],\n ['r/F07_words08_05.jpg', 'r'],\n ['r/F08_words08_07.jpg', 'r'],\n ['r/M01_words08_01.jpg', 'r'],\n ['r/M07_words08_06.jpg', 'r'],\n ['r/M08_words08_10.jpg', 'r'],\n ['r/F09_words08_03.jpg', 'r'],\n ['r/F01_words08_02.jpg', 'r'],\n ['r/M08_words08_04.jpg', 'r'],\n ['r/F05_words08_04.jpg', 'r'],\n ['r/F10_words08_04.jpg', 'r'],\n ['r/F05_words08_10.jpg', 'r'],\n ['r/M04_words08_03.jpg', 'r'],\n ['r/F10_words08_10.jpg', 'r'],\n ['r/F02_words08_07.jpg', 'r'],\n ['r/M02_words08_04.jpg', 'r'],\n ['r/M02_words08_10.jpg', 'r'],\n ['r/M02_words08_05.jpg', 'r'],\n ['r/F11_words08_01.jpg', 'r'],\n ['r/F02_words08_06.jpg', 'r'],\n ['r/M04_words08_02.jpg', 'r'],\n ['r/F10_words08_05.jpg', 'r'],\n ['r/F05_words08_05.jpg', 'r'],\n ['r/F05_words08_07.jpg', 'r'],\n ['r/F10_words08_07.jpg', 'r'],\n ['r/F02_words08_10.jpg', 'r'],\n ['r/F02_words08_04.jpg', 'r'],\n ['r/F11_words08_03.jpg', 'r'],\n ['r/M02_words08_07.jpg', 'r'],\n ['r/M02_words08_06.jpg', 'r'],\n ['r/F11_words08_02.jpg', 'r'],\n ['r/F02_words08_05.jpg', 'r'],\n ['r/F10_words08_06.jpg', 'r'],\n ['r/F05_words08_06.jpg', 'r'],\n ['r/M04_words08_01.jpg', 'r'],\n ['r/M04_words08_05.jpg', 'r'],\n ['r/F10_words08_02.jpg', 'r'],\n ['r/F05_words08_02.jpg', 'r'],\n ['r/F02_words08_01.jpg', 'r'],\n ['r/F11_words08_06.jpg', 'r'],\n ['r/M02_words08_02.jpg', 'r'],\n ['r/M02_words08_03.jpg', 'r'],\n ['r/F11_words08_07.jpg', 'r'],\n ['r/F05_words08_03.jpg', 'r'],\n ['r/M04_words08_10.jpg', 'r'],\n ['r/F10_words08_03.jpg', 'r'],\n ['r/M04_words08_04.jpg', 'r'],\n ['r/F10_words08_01.jpg', 'r'],\n ['r/F05_words08_01.jpg', 'r'],\n ['r/M04_words08_06.jpg', 'r'],\n ['r/F02_words08_02.jpg', 'r'],\n ['r/F11_words08_05.jpg', 'r'],\n ['r/M02_words08_01.jpg', 'r'],\n ['r/F11_words08_04.jpg', 'r'],\n ['r/F11_words08_10.jpg', 'r'],\n ['r/F02_words08_03.jpg', 'r'],\n ['r/M04_words08_07.jpg', 'r'],\n ['r/F11_words08_09.jpg', 'r'],\n ['r/F11_words08_08.jpg', 'r'],\n ['r/M04_words08_09.jpg', 'r'],\n ['r/M04_words08_08.jpg', 'r'],\n ['r/F02_words08_08.jpg', 'r'],\n ['r/F02_words08_09.jpg', 'r'],\n ['r/F10_words08_08.jpg', 'r'],\n ['r/F05_words08_08.jpg', 'r'],\n ['r/M02_words08_08.jpg', 'r'],\n ['r/M02_words08_09.jpg', 'r'],\n ['r/F05_words08_09.jpg', 'r'],\n ['r/F10_words08_09.jpg', 'r'],\n ['r/M08_words08_09.jpg', 'r'],\n ['r/F07_words08_08.jpg', 'r'],\n ['r/F07_words08_09.jpg', 'r'],\n ['r/M08_words08_08.jpg', 'r'],\n ['r/M07_words08_08.jpg', 'r'],\n ['r/F08_words08_09.jpg', 'r'],\n ['r/F08_words08_08.jpg', 'r'],\n ['r/M07_words08_09.jpg', 'r'],\n ['r/F01_words08_09.jpg', 'r'],\n ['r/F09_words08_08.jpg', 'r'],\n ['r/F09_words08_09.jpg', 'r'],\n ['r/F01_words08_08.jpg', 'r'],\n ['r/M01_words08_09.jpg', 'r'],\n ['r/M01_words08_08.jpg', 'r'],\n ['i/F08_phrases09_03.jpg', 'i'],\n ['i/F07_phrases09_10.jpg', 'i'],\n ['i/F07_phrases09_04.jpg', 'i'],\n ['i/M02_phrases09_04.jpg', 'i'],\n ['i/M02_phrases09_05.jpg', 'i'],\n ['i/F07_phrases09_05.jpg', 'i'],\n ['i/F08_phrases09_02.jpg', 'i'],\n ['i/F07_phrases09_07.jpg', 'i'],\n ['i/M02_phrases09_06.jpg', 'i'],\n ['i/F07_phrases09_06.jpg', 'i'],\n ['i/F08_phrases09_01.jpg', 'i'],\n ['i/M01_phrases09_08.jpg', 'i'],\n ['i/F07_phrases09_02.jpg', 'i'],\n ['i/F08_phrases09_05.jpg', 'i'],\n ['i/F04_phrases09_08.jpg', 'i'],\n ['i/M02_phrases09_02.jpg', 'i'],\n ['i/M02_phrases09_03.jpg', 'i'],\n ['i/F04_phrases09_09.jpg', 'i'],\n ['i/F08_phrases09_04.jpg', 'i'],\n ['i/F08_phrases09_10.jpg', 'i'],\n ['i/F07_phrases09_03.jpg', 'i'],\n ['i/M01_phrases09_09.jpg', 'i'],\n ['i/F07_phrases09_01.jpg', 'i'],\n ['i/F08_phrases09_06.jpg', 'i'],\n ['i/F10_phrases09_09.jpg', 'i'],\n ['i/F10_phrases09_08.jpg', 'i'],\n ['i/F08_phrases09_07.jpg', 'i'],\n ['i/F09_phrases09_02.jpg', 'i'],\n ['i/F06_phrases09_05.jpg', 'i'],\n ['i/F02_phrases09_01.jpg', 'i'],\n ['i/M07_phrases09_01.jpg', 'i'],\n ['i/M08_phrases09_06.jpg', 'i'],\n ['i/M08_phrases09_07.jpg', 'i'],\n ['i/F06_phrases09_04.jpg', 'i'],\n ['i/F06_phrases09_10.jpg', 'i'],\n ['i/F09_phrases09_03.jpg', 'i'],\n ['i/F09_phrases09_01.jpg', 'i'],\n ['i/F06_phrases09_06.jpg', 'i'],\n ['i/F02_phrases09_02.jpg', 'i'],\n ['i/M04_phrases09_08.jpg', 'i'],\n ['i/M07_phrases09_02.jpg', 'i'],\n ['i/M08_phrases09_05.jpg', 'i'],\n ['i/F01_phrases09_08.jpg', 'i'],\n ['i/F01_phrases09_09.jpg', 'i'],\n ['i/M08_phrases09_04.jpg', 'i'],\n ['i/M07_phrases09_03.jpg', 'i'],\n ['i/M04_phrases09_09.jpg', 'i'],\n ['i/F02_phrases09_03.jpg', 'i'],\n ['i/F06_phrases09_07.jpg', 'i'],\n ['i/F06_phrases09_03.jpg', 'i'],\n ['i/F09_phrases09_10.jpg', 'i'],\n ['i/F09_phrases09_04.jpg', 'i'],\n ['i/F05_phrases09_09.jpg', 'i'],\n ['i/F02_phrases09_07.jpg', 'i'],\n ['i/M07_phrases09_07.jpg', 'i'],\n ['i/M07_phrases09_06.jpg', 'i'],\n ['i/M08_phrases09_01.jpg', 'i'],\n ['i/F02_phrases09_06.jpg', 'i'],\n ['i/F05_phrases09_08.jpg', 'i'],\n ['i/F09_phrases09_05.jpg', 'i'],\n ['i/F06_phrases09_02.jpg', 'i'],\n ['i/F09_phrases09_07.jpg', 'i'],\n ['i/F02_phrases09_04.jpg', 'i'],\n ['i/F02_phrases09_10.jpg', 'i'],\n ['i/M08_phrases09_03.jpg', 'i'],\n ['i/M07_phrases09_10.jpg', 'i'],\n ['i/M07_phrases09_04.jpg', 'i'],\n ['i/M07_phrases09_05.jpg', 'i'],\n ['i/M08_phrases09_02.jpg', 'i'],\n ['i/F02_phrases09_05.jpg', 'i'],\n ['i/F09_phrases09_06.jpg', 'i'],\n ['i/F06_phrases09_01.jpg', 'i'],\n ['i/F05_phrases09_06.jpg', 'i'],\n ['i/F02_phrases09_08.jpg', 'i'],\n ['i/M04_phrases09_02.jpg', 'i'],\n ['i/M07_phrases09_08.jpg', 'i'],\n ['i/F01_phrases09_02.jpg', 'i'],\n ['i/F01_phrases09_03.jpg', 'i'],\n ['i/M07_phrases09_09.jpg', 'i'],\n ['i/M04_phrases09_03.jpg', 'i'],\n ['i/F02_phrases09_09.jpg', 'i'],\n ['i/F05_phrases09_07.jpg', 'i'],\n ['i/F05_phrases09_05.jpg', 'i'],\n ['i/F01_phrases09_01.jpg', 'i'],\n ['i/F05_phrases09_10.jpg', 'i'],\n ['i/F05_phrases09_04.jpg', 'i'],\n ['i/F09_phrases09_09.jpg', 'i'],\n ['i/M04_phrases09_04.jpg', 'i'],\n ['i/M04_phrases09_10.jpg', 'i'],\n ['i/F01_phrases09_10.jpg', 'i'],\n ['i/F01_phrases09_04.jpg', 'i'],\n ['i/F01_phrases09_05.jpg', 'i'],\n ['i/M04_phrases09_05.jpg', 'i'],\n ['i/F05_phrases09_01.jpg', 'i'],\n ['i/F06_phrases09_09.jpg', 'i'],\n ['i/F05_phrases09_03.jpg', 'i'],\n ['i/M04_phrases09_07.jpg', 'i'],\n ['i/F01_phrases09_07.jpg', 'i'],\n ['i/F01_phrases09_06.jpg', 'i'],\n ['i/M04_phrases09_06.jpg', 'i'],\n ['i/F05_phrases09_02.jpg', 'i'],\n ['i/F06_phrases09_08.jpg', 'i'],\n ['i/M01_phrases09_07.jpg', 'i'],\n ['i/F04_phrases09_07.jpg', 'i'],\n ['i/F10_phrases09_05.jpg', 'i'],\n ['i/F10_phrases09_10.jpg', 'i'],\n ['i/F10_phrases09_04.jpg', 'i'],\n ['i/F04_phrases09_06.jpg', 'i'],\n ['i/M01_phrases09_06.jpg', 'i'],\n ['i/M01_phrases09_10.jpg', 'i'],\n ['i/M01_phrases09_04.jpg', 'i'],\n ['i/F08_phrases09_09.jpg', 'i'],\n ['i/F04_phrases09_04.jpg', 'i'],\n ['i/F04_phrases09_10.jpg', 'i'],\n ['i/F10_phrases09_06.jpg', 'i'],\n ['i/F10_phrases09_07.jpg', 'i'],\n ['i/F04_phrases09_05.jpg', 'i'],\n ['i/F08_phrases09_08.jpg', 'i'],\n ['i/M01_phrases09_05.jpg', 'i'],\n ['i/M01_phrases09_01.jpg', 'i'],\n ['i/F04_phrases09_01.jpg', 'i'],\n ['i/F10_phrases09_03.jpg', 'i'],\n ['i/F10_phrases09_02.jpg', 'i'],\n ['i/M01_phrases09_02.jpg', 'i'],\n ['i/F07_phrases09_08.jpg', 'i'],\n ['i/F04_phrases09_02.jpg', 'i'],\n ['i/F10_phrases09_01.jpg', 'i'],\n ['i/F04_phrases09_03.jpg', 'i'],\n ['i/F07_phrases09_09.jpg', 'i'],\n ['i/M01_phrases09_03.jpg', 'i'],\n ['n/F07_words04_01.jpg', 'n'],\n ['n/M01_words04_05.jpg', 'n'],\n ['n/F08_words04_03.jpg', 'n'],\n ['n/M07_words04_02.jpg', 'n'],\n ['n/F09_words04_07.jpg', 'n'],\n ['n/F01_words04_06.jpg', 'n'],\n ['n/M08_words04_01.jpg', 'n'],\n ['n/F01_words04_07.jpg', 'n'],\n ['n/F09_words04_06.jpg', 'n'],\n ['n/M07_words04_03.jpg', 'n'],\n ['n/M01_words04_04.jpg', 'n'],\n ['n/F08_words04_02.jpg', 'n'],\n ['n/M01_words04_10.jpg', 'n'],\n ['n/F07_words04_02.jpg', 'n'],\n ['n/M01_words04_06.jpg', 'n'],\n ['n/M07_words04_01.jpg', 'n'],\n ['n/F01_words04_05.jpg', 'n'],\n ['n/F09_words04_10.jpg', 'n'],\n ['n/M08_words04_03.jpg', 'n'],\n ['n/F09_words04_04.jpg', 'n'],\n ['n/F09_words04_05.jpg', 'n'],\n ['n/F01_words04_10.jpg', 'n'],\n ['n/F01_words04_04.jpg', 'n'],\n ['n/M08_words04_02.jpg', 'n'],\n ['n/F08_words04_01.jpg', 'n'],\n ['n/M01_words04_07.jpg', 'n'],\n ['n/F07_words04_03.jpg', 'n'],\n ['n/F07_words04_07.jpg', 'n'],\n ['n/M01_words04_03.jpg', 'n'],\n ['n/F08_words04_05.jpg', 'n'],\n ['n/M07_words04_10.jpg', 'n'],\n ['n/M07_words04_04.jpg', 'n'],\n ['n/M08_words04_06.jpg', 'n'],\n ['n/F09_words04_01.jpg', 'n'],\n ['n/M08_words04_07.jpg', 'n'],\n ['n/F01_words04_01.jpg', 'n'],\n ['n/M07_words04_05.jpg', 'n'],\n ['n/F08_words04_10.jpg', 'n'],\n ['n/M01_words04_02.jpg', 'n'],\n ['n/F08_words04_04.jpg', 'n'],\n ['n/F07_words04_06.jpg', 'n'],\n ['n/F07_words04_04.jpg', 'n'],\n ['n/F07_words04_10.jpg', 'n'],\n ['n/F08_words04_06.jpg', 'n'],\n ['n/M07_words04_07.jpg', 'n'],\n ['n/F09_words04_02.jpg', 'n'],\n ['n/F01_words04_03.jpg', 'n'],\n ['n/M08_words04_05.jpg', 'n'],\n ['n/F01_words04_02.jpg', 'n'],\n ['n/M08_words04_04.jpg', 'n'],\n ['n/F09_words04_03.jpg', 'n'],\n ['n/M08_words04_10.jpg', 'n'],\n ['n/M07_words04_06.jpg', 'n'],\n ['n/F08_words04_07.jpg', 'n'],\n ['n/M01_words04_01.jpg', 'n'],\n ['n/F07_words04_05.jpg', 'n'],\n ['n/M02_words04_10.jpg', 'n'],\n ['n/M02_words04_04.jpg', 'n'],\n ['n/F02_words04_07.jpg', 'n'],\n ['n/F10_words04_10.jpg', 'n'],\n ['n/M04_words04_03.jpg', 'n'],\n ['n/F05_words04_10.jpg', 'n'],\n ['n/F10_words04_04.jpg', 'n'],\n ['n/F05_words04_04.jpg', 'n'],\n ['n/F05_words04_05.jpg', 'n'],\n ['n/F10_words04_05.jpg', 'n'],\n ['n/M04_words04_02.jpg', 'n'],\n ['n/F02_words04_06.jpg', 'n'],\n ['n/F11_words04_01.jpg', 'n'],\n ['n/M02_words04_05.jpg', 'n'],\n ['n/M02_words04_07.jpg', 'n'],\n ['n/F11_words04_03.jpg', 'n'],\n ['n/F02_words04_04.jpg', 'n'],\n ['n/F02_words04_10.jpg', 'n'],\n ['n/F10_words04_07.jpg', 'n'],\n ['n/F05_words04_07.jpg', 'n'],\n ['n/M04_words04_01.jpg', 'n'],\n ['n/F05_words04_06.jpg', 'n'],\n ['n/F10_words04_06.jpg', 'n'],\n ['n/F02_words04_05.jpg', 'n'],\n ['n/F11_words04_02.jpg', 'n'],\n ['n/M02_words04_06.jpg', 'n'],\n ['n/M02_words04_02.jpg', 'n'],\n ['n/F11_words04_06.jpg', 'n'],\n ['n/F02_words04_01.jpg', 'n'],\n ['n/F05_words04_02.jpg', 'n'],\n ['n/F10_words04_02.jpg', 'n'],\n ['n/M04_words04_05.jpg', 'n'],\n ['n/M04_words04_04.jpg', 'n'],\n ['n/F10_words04_03.jpg', 'n'],\n ['n/M04_words04_10.jpg', 'n'],\n ['n/F05_words04_03.jpg', 'n'],\n ['n/F11_words04_07.jpg', 'n'],\n ['n/M02_words04_03.jpg', 'n'],\n ['n/M02_words04_01.jpg', 'n'],\n ['n/F11_words04_05.jpg', 'n'],\n ['n/F02_words04_02.jpg', 'n'],\n ['n/M04_words04_06.jpg', 'n'],\n ['n/F05_words04_01.jpg', 'n'],\n ['n/F10_words04_01.jpg', 'n'],\n ['n/M04_words04_07.jpg', 'n'],\n ['n/F02_words04_03.jpg', 'n'],\n ['n/F11_words04_10.jpg', 'n'],\n ['n/F11_words04_04.jpg', 'n'],\n ['n/F11_words04_09.jpg', 'n'],\n ['n/F11_words04_08.jpg', 'n'],\n ['n/M04_words04_09.jpg', 'n'],\n ['n/M04_words04_08.jpg', 'n'],\n ['n/F02_words04_08.jpg', 'n'],\n ['n/F02_words04_09.jpg', 'n'],\n ['n/M02_words04_08.jpg', 'n'],\n ['n/F05_words04_08.jpg', 'n'],\n ['n/F10_words04_08.jpg', 'n'],\n ['n/F10_words04_09.jpg', 'n'],\n ['n/F05_words04_09.jpg', 'n'],\n ['n/M02_words04_09.jpg', 'n'],\n ['n/F07_words04_08.jpg', 'n'],\n ['n/M08_words04_09.jpg', 'n'],\n ['n/M08_words04_08.jpg', 'n'],\n ['n/F07_words04_09.jpg', 'n'],\n ['n/F08_words04_09.jpg', 'n'],\n ['n/M07_words04_08.jpg', 'n'],\n ['n/M07_words04_09.jpg', 'n'],\n ['n/F08_words04_08.jpg', 'n'],\n ['n/F09_words04_08.jpg', 'n'],\n ['n/F01_words04_09.jpg', 'n'],\n ['n/F01_words04_08.jpg', 'n'],\n ['n/F09_words04_09.jpg', 'n'],\n ['n/M01_words04_09.jpg', 'n'],\n ['n/M01_words04_08.jpg', 'n'],\n ['g/F07_phrases07_01.jpg', 'g'],\n ['g/F08_phrases07_06.jpg', 'g'],\n ['g/M01_phrases07_08.jpg', 'g'],\n ['g/F07_phrases07_02.jpg', 'g'],\n ['g/F08_phrases07_05.jpg', 'g'],\n ['g/F04_phrases07_08.jpg', 'g'],\n ['g/F04_phrases07_09.jpg', 'g'],\n ['g/F08_phrases07_10.jpg', 'g'],\n ['g/F08_phrases07_04.jpg', 'g'],\n ['g/F07_phrases07_03.jpg', 'g'],\n ['g/M01_phrases07_09.jpg', 'g'],\n ['g/F07_phrases07_07.jpg', 'g'],\n ['g/F07_phrases07_06.jpg', 'g'],\n ['g/F08_phrases07_01.jpg', 'g'],\n ['g/F08_phrases07_03.jpg', 'g'],\n ['g/F07_phrases07_04.jpg', 'g'],\n ['g/F07_phrases07_10.jpg', 'g'],\n ['g/F07_phrases07_05.jpg', 'g'],\n ['g/F08_phrases07_02.jpg', 'g'],\n ['g/F09_phrases07_07.jpg', 'g'],\n ['g/F02_phrases07_10.jpg', 'g'],\n ['g/F02_phrases07_04.jpg', 'g'],\n ['g/M08_phrases07_03.jpg', 'g'],\n ['g/M07_phrases07_04.jpg', 'g'],\n ['g/M07_phrases07_10.jpg', 'g'],\n ['g/F11_phrases07_08.jpg', 'g'],\n ['g/F11_phrases07_09.jpg', 'g'],\n ['g/M07_phrases07_05.jpg', 'g'],\n ['g/M08_phrases07_02.jpg', 'g'],\n ['g/F02_phrases07_05.jpg', 'g'],\n ['g/F09_phrases07_06.jpg', 'g'],\n ['g/F06_phrases07_01.jpg', 'g'],\n ['g/F06_phrases07_03.jpg', 'g'],\n ['g/F09_phrases07_10.jpg', 'g'],\n ['g/F05_phrases07_09.jpg', 'g'],\n ['g/F02_phrases07_07.jpg', 'g'],\n ['g/M07_phrases07_07.jpg', 'g'],\n ['g/M07_phrases07_06.jpg', 'g'],\n ['g/M08_phrases07_01.jpg', 'g'],\n ['g/F02_phrases07_06.jpg', 'g'],\n ['g/F05_phrases07_08.jpg', 'g'],\n ['g/F09_phrases07_05.jpg', 'g'],\n ['g/F06_phrases07_02.jpg', 'g'],\n ['g/F09_phrases07_01.jpg', 'g'],\n ['g/F06_phrases07_06.jpg', 'g'],\n ['g/F02_phrases07_02.jpg', 'g'],\n ['g/M04_phrases07_08.jpg', 'g'],\n ['g/M07_phrases07_02.jpg', 'g'],\n ['g/M08_phrases07_05.jpg', 'g'],\n ['g/F01_phrases07_08.jpg', 'g'],\n ['g/F01_phrases07_09.jpg', 'g'],\n ['g/M08_phrases07_10.jpg', 'g'],\n ['g/M08_phrases07_04.jpg', 'g'],\n ['g/M07_phrases07_03.jpg', 'g'],\n ['g/M04_phrases07_09.jpg', 'g'],\n ['g/F02_phrases07_03.jpg', 'g'],\n ['g/F06_phrases07_07.jpg', 'g'],\n ['g/F09_phrases07_02.jpg', 'g'],\n ['g/F06_phrases07_05.jpg', 'g'],\n ['g/F02_phrases07_01.jpg', 'g'],\n ['g/M07_phrases07_01.jpg', 'g'],\n ['g/M08_phrases07_06.jpg', 'g'],\n ['g/M08_phrases07_07.jpg', 'g'],\n ['g/F06_phrases07_10.jpg', 'g'],\n ['g/F06_phrases07_04.jpg', 'g'],\n ['g/F09_phrases07_03.jpg', 'g'],\n ['g/F06_phrases07_09.jpg', 'g'],\n ['g/F05_phrases07_03.jpg', 'g'],\n ['g/M04_phrases07_07.jpg', 'g'],\n ['g/F11_phrases07_01.jpg', 'g'],\n ['g/F01_phrases07_07.jpg', 'g'],\n ['g/F01_phrases07_06.jpg', 'g'],\n ['g/M04_phrases07_06.jpg', 'g'],\n ['g/F05_phrases07_02.jpg', 'g'],\n ['g/F06_phrases07_08.jpg', 'g'],\n ['g/M04_phrases07_10.jpg', 'g'],\n ['g/M04_phrases07_04.jpg', 'g'],\n ['g/M08_phrases07_09.jpg', 'g'],\n ['g/F01_phrases07_04.jpg', 'g'],\n ['g/F01_phrases07_10.jpg', 'g'],\n ['g/F01_phrases07_05.jpg', 'g'],\n ['g/M08_phrases07_08.jpg', 'g'],\n ['g/M04_phrases07_05.jpg', 'g'],\n ['g/F05_phrases07_01.jpg', 'g'],\n ['g/F09_phrases07_08.jpg', 'g'],\n ['g/F05_phrases07_05.jpg', 'g'],\n ['g/M04_phrases07_01.jpg', 'g'],\n ['g/F11_phrases07_07.jpg', 'g'],\n ['g/F01_phrases07_01.jpg', 'g'],\n ['g/F11_phrases07_06.jpg', 'g'],\n ['g/F05_phrases07_04.jpg', 'g'],\n ['g/F05_phrases07_10.jpg', 'g'],\n ['g/F09_phrases07_09.jpg', 'g'],\n ['g/F05_phrases07_06.jpg', 'g'],\n ['g/F02_phrases07_08.jpg', 'g'],\n ['g/M04_phrases07_02.jpg', 'g'],\n ['g/M07_phrases07_08.jpg', 'g'],\n ['g/F11_phrases07_10.jpg', 'g'],\n ['g/F01_phrases07_02.jpg', 'g'],\n ['g/F11_phrases07_04.jpg', 'g'],\n ['g/F01_phrases07_03.jpg', 'g'],\n ['g/F11_phrases07_05.jpg', 'g'],\n ['g/M07_phrases07_09.jpg', 'g'],\n ['g/M04_phrases07_03.jpg', 'g'],\n ['g/F02_phrases07_09.jpg', 'g'],\n ['g/F05_phrases07_07.jpg', 'g'],\n ['g/M01_phrases07_02.jpg', 'g'],\n ['g/F07_phrases07_08.jpg', 'g'],\n ['g/F04_phrases07_02.jpg', 'g'],\n ['g/F10_phrases07_01.jpg', 'g'],\n ['g/F04_phrases07_03.jpg', 'g'],\n ['g/F07_phrases07_09.jpg', 'g'],\n ['g/M01_phrases07_03.jpg', 'g'],\n ['g/F04_phrases07_01.jpg', 'g'],\n ['g/F10_phrases07_03.jpg', 'g'],\n ['g/F10_phrases07_02.jpg', 'g'],\n ['g/M01_phrases07_04.jpg', 'g'],\n ['g/M01_phrases07_10.jpg', 'g'],\n ['g/F08_phrases07_09.jpg', 'g'],\n ['g/F04_phrases07_10.jpg', 'g'],\n ['g/F04_phrases07_04.jpg', 'g'],\n ['g/F10_phrases07_06.jpg', 'g'],\n ['g/F04_phrases07_05.jpg', 'g'],\n ['g/F08_phrases07_08.jpg', 'g'],\n ['g/M01_phrases07_05.jpg', 'g'],\n ['g/F04_phrases07_07.jpg', 'g'],\n ['g/F10_phrases07_05.jpg', 'g'],\n ['g/F10_phrases07_04.jpg', 'g'],\n ['g/F10_phrases07_10.jpg', 'g'],\n ['g/F04_phrases07_06.jpg', 'g'],\n ['t/F11_words10_02.jpg', 't'],\n ['t/F04_words10_02.jpg', 't'],\n ['t/F02_words10_05.jpg', 't'],\n ['t/F05_words10_06.jpg', 't'],\n ['t/F10_words10_06.jpg', 't'],\n ['t/F10_words10_07.jpg', 't'],\n ['t/F05_words10_07.jpg', 't'],\n ['t/F02_words10_10.jpg', 't'],\n ['t/F02_words10_04.jpg', 't'],\n ['t/F04_words10_03.jpg', 't'],\n ['t/F11_words10_03.jpg', 't'],\n ['t/F11_words10_01.jpg', 't'],\n ['t/F04_words10_01.jpg', 't'],\n ['t/F02_words10_06.jpg', 't'],\n ['t/F05_words10_05.jpg', 't'],\n ['t/F10_words10_05.jpg', 't'],\n ['t/F10_words10_04.jpg', 't'],\n ['t/F05_words10_04.jpg', 't'],\n ['t/F10_words10_10.jpg', 't'],\n ['t/F05_words10_10.jpg', 't'],\n ['t/F02_words10_07.jpg', 't'],\n ['t/F04_words10_04.jpg', 't'],\n ['t/F11_words10_04.jpg', 't'],\n ['t/F04_words10_10.jpg', 't'],\n ['t/F11_words10_10.jpg', 't'],\n ['t/F02_words10_03.jpg', 't'],\n ['t/F05_words10_01.jpg', 't'],\n ['t/F10_words10_01.jpg', 't'],\n ['t/F02_words10_02.jpg', 't'],\n ['t/F11_words10_05.jpg', 't'],\n ['t/F04_words10_05.jpg', 't'],\n ['t/M02_words10_01.jpg', 't'],\n ['t/F04_words10_07.jpg', 't'],\n ['t/F11_words10_07.jpg', 't'],\n ['t/F10_words10_03.jpg', 't'],\n ['t/F05_words10_03.jpg', 't'],\n ['t/F05_words10_02.jpg', 't'],\n ['t/F10_words10_02.jpg', 't'],\n ['t/F02_words10_01.jpg', 't'],\n ['t/F11_words10_06.jpg', 't'],\n ['t/F04_words10_06.jpg', 't'],\n ['t/M02_words10_02.jpg', 't'],\n ['t/F07_words10_03.jpg', 't'],\n ['t/M01_words10_07.jpg', 't'],\n ['t/F08_words10_01.jpg', 't'],\n ['t/F06_words10_07.jpg', 't'],\n ['t/M08_words10_02.jpg', 't'],\n ['t/F01_words10_04.jpg', 't'],\n ['t/F01_words10_10.jpg', 't'],\n ['t/F09_words10_05.jpg', 't'],\n ['t/F09_words10_04.jpg', 't'],\n ['t/M08_words10_03.jpg', 't'],\n ['t/F09_words10_10.jpg', 't'],\n ['t/F01_words10_05.jpg', 't'],\n ['t/F06_words10_06.jpg', 't'],\n ['t/M01_words10_06.jpg', 't'],\n ['t/F07_words10_02.jpg', 't'],\n ['t/M01_words10_10.jpg', 't'],\n ['t/F08_words10_02.jpg', 't'],\n ['t/M01_words10_04.jpg', 't'],\n ['t/F06_words10_10.jpg', 't'],\n ['t/M07_words10_03.jpg', 't'],\n ['t/F06_words10_04.jpg', 't'],\n ['t/F09_words10_06.jpg', 't'],\n ['t/F01_words10_07.jpg', 't'],\n ['t/M08_words10_01.jpg', 't'],\n ['t/F01_words10_06.jpg', 't'],\n ['t/F09_words10_07.jpg', 't'],\n ['t/F06_words10_05.jpg', 't'],\n ['t/F08_words10_03.jpg', 't'],\n ['t/M01_words10_05.jpg', 't'],\n ['t/F07_words10_01.jpg', 't'],\n ['t/F07_words10_05.jpg', 't'],\n ['t/M01_words10_01.jpg', 't'],\n ['t/F08_words10_07.jpg', 't'],\n ['t/M07_words10_06.jpg', 't'],\n ['t/F06_words10_01.jpg', 't'],\n ['t/M08_words10_10.jpg', 't'],\n ['t/F09_words10_03.jpg', 't'],\n ['t/M08_words10_04.jpg', 't'],\n ['t/F01_words10_02.jpg', 't'],\n ['t/M08_words10_05.jpg', 't'],\n ['t/F01_words10_03.jpg', 't'],\n ['t/F09_words10_02.jpg', 't'],\n ['t/M07_words10_07.jpg', 't'],\n ['t/F08_words10_06.jpg', 't'],\n ['t/F07_words10_10.jpg', 't'],\n ['t/F07_words10_04.jpg', 't'],\n ['t/F07_words10_06.jpg', 't'],\n ['t/F08_words10_04.jpg', 't'],\n ['t/M01_words10_02.jpg', 't'],\n ['t/F08_words10_10.jpg', 't'],\n ['t/F06_words10_02.jpg', 't'],\n ['t/M07_words10_05.jpg', 't'],\n ['t/F01_words10_01.jpg', 't'],\n ['t/M08_words10_07.jpg', 't'],\n ['t/F09_words10_01.jpg', 't'],\n ['t/M08_words10_06.jpg', 't'],\n ['t/M07_words10_04.jpg', 't'],\n ['t/F06_words10_03.jpg', 't'],\n ['t/M07_words10_10.jpg', 't'],\n ['t/F08_words10_05.jpg', 't'],\n ['t/M01_words10_03.jpg', 't'],\n ['t/F07_words10_07.jpg', 't'],\n ['t/F08_words10_08.jpg', 't'],\n ['t/M07_words10_09.jpg', 't'],\n ['t/M07_words10_08.jpg', 't'],\n ['t/F08_words10_09.jpg', 't'],\n ['t/F07_words10_09.jpg', 't'],\n ['t/M08_words10_08.jpg', 't'],\n ['t/M08_words10_09.jpg', 't'],\n ['t/F07_words10_08.jpg', 't'],\n ['t/M01_words10_08.jpg', 't'],\n ['t/F06_words10_08.jpg', 't'],\n ['t/F06_words10_09.jpg', 't'],\n ['t/M01_words10_09.jpg', 't'],\n ['t/F09_words10_09.jpg', 't'],\n ['t/F01_words10_08.jpg', 't'],\n ['t/F01_words10_09.jpg', 't'],\n ['t/F09_words10_08.jpg', 't'],\n ['t/F11_words10_08.jpg', 't'],\n ['t/F04_words10_08.jpg', 't'],\n ['t/F04_words10_09.jpg', 't'],\n ['t/F11_words10_09.jpg', 't'],\n ['t/F10_words10_09.jpg', 't'],\n ['t/F05_words10_09.jpg', 't'],\n ['t/F05_words10_08.jpg', 't'],\n ['t/F10_words10_08.jpg', 't'],\n ['t/F02_words10_09.jpg', 't'],\n ['t/F02_words10_08.jpg', 't'],\n ['s/M04_words09_08.jpg', 's'],\n ['s/M04_words09_09.jpg', 's'],\n ['s/F04_words09_08.jpg', 's'],\n ['s/F11_words09_08.jpg', 's'],\n ['s/F11_words09_09.jpg', 's'],\n ['s/F04_words09_09.jpg', 's'],\n ['s/F05_words09_09.jpg', 's'],\n ['s/F05_words09_08.jpg', 's'],\n ['s/F02_words09_09.jpg', 's'],\n ['s/F02_words09_08.jpg', 's'],\n ['s/F08_words09_08.jpg', 's'],\n ['s/M07_words09_09.jpg', 's'],\n ['s/M07_words09_08.jpg', 's'],\n ['s/F08_words09_09.jpg', 's'],\n ['s/F07_words09_09.jpg', 's'],\n ['s/M08_words09_08.jpg', 's'],\n ['s/M08_words09_09.jpg', 's'],\n ['s/F07_words09_08.jpg', 's'],\n ['s/M01_words09_08.jpg', 's'],\n ['s/F06_words09_08.jpg', 's'],\n ['s/F06_words09_09.jpg', 's'],\n ['s/M01_words09_09.jpg', 's'],\n ['s/F01_words09_08.jpg', 's'],\n ['s/F09_words09_09.jpg', 's'],\n ['s/F09_words09_08.jpg', 's'],\n ['s/F01_words09_09.jpg', 's'],\n ['s/F08_words09_01.jpg', 's'],\n ['s/M01_words09_07.jpg', 's'],\n ['s/F07_words09_03.jpg', 's'],\n ['s/F09_words09_05.jpg', 's'],\n ['s/F01_words09_10.jpg', 's'],\n ['s/F01_words09_04.jpg', 's'],\n ['s/M08_words09_02.jpg', 's'],\n ['s/F06_words09_07.jpg', 's'],\n ['s/F06_words09_06.jpg', 's'],\n ['s/M07_words09_01.jpg', 's'],\n ['s/F01_words09_05.jpg', 's'],\n ['s/F09_words09_10.jpg', 's'],\n ['s/M08_words09_03.jpg', 's'],\n ['s/F09_words09_04.jpg', 's'],\n ['s/F07_words09_02.jpg', 's'],\n ['s/M01_words09_06.jpg', 's'],\n ['s/M01_words09_04.jpg', 's'],\n ['s/F08_words09_02.jpg', 's'],\n ['s/M01_words09_10.jpg', 's'],\n ['s/M08_words09_01.jpg', 's'],\n ['s/F01_words09_07.jpg', 's'],\n ['s/F09_words09_06.jpg', 's'],\n ['s/F06_words09_04.jpg', 's'],\n ['s/M07_words09_03.jpg', 's'],\n ['s/F06_words09_10.jpg', 's'],\n ['s/M07_words09_02.jpg', 's'],\n ['s/F06_words09_05.jpg', 's'],\n ['s/F09_words09_07.jpg', 's'],\n ['s/F01_words09_06.jpg', 's'],\n ['s/F07_words09_01.jpg', 's'],\n ['s/M01_words09_05.jpg', 's'],\n ['s/F08_words09_03.jpg', 's'],\n ['s/F08_words09_07.jpg', 's'],\n ['s/M01_words09_01.jpg', 's'],\n ['s/F07_words09_05.jpg', 's'],\n ['s/F01_words09_02.jpg', 's'],\n ['s/M08_words09_04.jpg', 's'],\n ['s/F09_words09_03.jpg', 's'],\n ['s/M08_words09_10.jpg', 's'],\n ['s/F06_words09_01.jpg', 's'],\n ['s/M07_words09_06.jpg', 's'],\n ['s/M07_words09_07.jpg', 's'],\n ['s/F09_words09_02.jpg', 's'],\n ['s/F01_words09_03.jpg', 's'],\n ['s/M08_words09_05.jpg', 's'],\n ['s/F07_words09_04.jpg', 's'],\n ['s/F07_words09_10.jpg', 's'],\n ['s/F08_words09_06.jpg', 's'],\n ['s/F08_words09_10.jpg', 's'],\n ['s/M01_words09_02.jpg', 's'],\n ['s/F08_words09_04.jpg', 's'],\n ['s/F07_words09_06.jpg', 's'],\n ['s/M08_words09_07.jpg', 's'],\n ['s/F01_words09_01.jpg', 's'],\n ['s/M07_words09_05.jpg', 's'],\n ['s/F06_words09_02.jpg', 's'],\n ['s/M07_words09_10.jpg', 's'],\n ['s/F06_words09_03.jpg', 's'],\n ['s/M07_words09_04.jpg', 's'],\n ['s/M08_words09_06.jpg', 's'],\n ['s/F09_words09_01.jpg', 's'],\n ['s/F07_words09_07.jpg', 's'],\n ['s/M01_words09_03.jpg', 's'],\n ['s/F08_words09_05.jpg', 's'],\n ['s/F04_words09_02.jpg', 's'],\n ['s/F11_words09_02.jpg', 's'],\n ['s/M04_words09_01.jpg', 's'],\n ['s/F05_words09_06.jpg', 's'],\n ['s/F02_words09_05.jpg', 's'],\n ['s/F02_words09_04.jpg', 's'],\n ['s/F02_words09_10.jpg', 's'],\n ['s/F05_words09_07.jpg', 's'],\n ['s/F11_words09_03.jpg', 's'],\n ['s/F04_words09_03.jpg', 's'],\n ['s/F04_words09_01.jpg', 's'],\n ['s/F11_words09_01.jpg', 's'],\n ['s/F05_words09_05.jpg', 's'],\n ['s/M04_words09_02.jpg', 's'],\n ['s/F02_words09_06.jpg', 's'],\n ['s/F02_words09_07.jpg', 's'],\n ['s/M04_words09_03.jpg', 's'],\n ['s/F05_words09_10.jpg', 's'],\n ['s/F05_words09_04.jpg', 's'],\n ['s/F11_words09_10.jpg', 's'],\n ['s/F04_words09_10.jpg', 's'],\n ['s/F11_words09_04.jpg', 's'],\n ['s/F04_words09_04.jpg', 's'],\n ['s/M04_words09_07.jpg', 's'],\n ['s/F02_words09_03.jpg', 's'],\n ['s/F02_words09_02.jpg', 's'],\n ['s/M04_words09_06.jpg', 's'],\n ['s/F05_words09_01.jpg', 's'],\n ['s/F04_words09_05.jpg', 's'],\n ['s/F11_words09_05.jpg', 's'],\n ['s/F11_words09_07.jpg', 's'],\n ['s/F04_words09_07.jpg', 's'],\n ['s/M04_words09_04.jpg', 's'],\n ['s/M04_words09_10.jpg', 's'],\n ['s/F05_words09_03.jpg', 's'],\n ['s/F02_words09_01.jpg', 's'],\n ['s/F05_words09_02.jpg', 's'],\n ['s/M04_words09_05.jpg', 's'],\n ['s/F04_words09_06.jpg', 's'],\n ['s/F11_words09_06.jpg', 's'],\n ['a/M08_phrases01_01.jpg', 'a'],\n ['a/M07_phrases01_06.jpg', 'a'],\n ['a/F06_phrases01_02.jpg', 'a'],\n ['a/F09_phrases01_05.jpg', 'a'],\n ['a/F05_phrases01_08.jpg', 'a'],\n ['a/F05_phrases01_09.jpg', 'a'],\n ['a/F09_phrases01_04.jpg', 'a'],\n ['a/F09_phrases01_10.jpg', 'a'],\n ['a/F06_phrases01_03.jpg', 'a'],\n ['a/M07_phrases01_07.jpg', 'a'],\n ['a/M08_phrases01_02.jpg', 'a'],\n ['a/M07_phrases01_05.jpg', 'a'],\n ['a/F11_phrases01_09.jpg', 'a'],\n ['a/F06_phrases01_01.jpg', 'a'],\n ['a/F09_phrases01_06.jpg', 'a'],\n ['a/F11_phrases01_08.jpg', 'a'],\n ['a/M07_phrases01_04.jpg', 'a'],\n ['a/M07_phrases01_10.jpg', 'a'],\n ['a/M08_phrases01_03.jpg', 'a'],\n ['a/M08_phrases01_07.jpg', 'a'],\n ['a/F09_phrases01_03.jpg', 'a'],\n ['a/F06_phrases01_10.jpg', 'a'],\n ['a/F06_phrases01_04.jpg', 'a'],\n ['a/F06_phrases01_05.jpg', 'a'],\n ['a/F09_phrases01_02.jpg', 'a'],\n ['a/M08_phrases01_06.jpg', 'a'],\n ['a/M07_phrases01_01.jpg', 'a'],\n ['a/M04_phrases01_09.jpg', 'a'],\n ['a/M07_phrases01_03.jpg', 'a'],\n ['a/M08_phrases01_10.jpg', 'a'],\n ['a/M08_phrases01_04.jpg', 'a'],\n ['a/F06_phrases01_07.jpg', 'a'],\n ['a/F09_phrases01_01.jpg', 'a'],\n ['a/M08_phrases01_05.jpg', 'a'],\n ['a/M07_phrases01_02.jpg', 'a'],\n ['a/M04_phrases01_08.jpg', 'a'],\n ['a/M01_phrases01_09.jpg', 'a'],\n ['a/F07_phrases01_03.jpg', 'a'],\n ['a/F08_phrases01_10.jpg', 'a'],\n ['a/F08_phrases01_04.jpg', 'a'],\n ['a/M02_phrases01_03.jpg', 'a'],\n ['a/M02_phrases01_02.jpg', 'a'],\n ['a/F08_phrases01_05.jpg', 'a'],\n ['a/F07_phrases01_02.jpg', 'a'],\n ['a/M01_phrases01_08.jpg', 'a'],\n ['a/F10_phrases01_08.jpg', 'a'],\n ['a/F08_phrases01_07.jpg', 'a'],\n ['a/M02_phrases01_01.jpg', 'a'],\n ['a/F08_phrases01_06.jpg', 'a'],\n ['a/F07_phrases01_01.jpg', 'a'],\n ['a/F10_phrases01_09.jpg', 'a'],\n ['a/F07_phrases01_05.jpg', 'a'],\n ['a/M02_phrases01_05.jpg', 'a'],\n ['a/M02_phrases01_10.jpg', 'a'],\n ['a/M02_phrases01_04.jpg', 'a'],\n ['a/F07_phrases01_04.jpg', 'a'],\n ['a/M02_phrases01_06.jpg', 'a'],\n ['a/M02_phrases01_07.jpg', 'a'],\n ['a/F10_phrases01_02.jpg', 'a'],\n ['a/M01_phrases01_01.jpg', 'a'],\n ['a/F10_phrases01_03.jpg', 'a'],\n ['a/F10_phrases01_01.jpg', 'a'],\n ['a/M01_phrases01_03.jpg', 'a'],\n ['a/F04_phrases01_03.jpg', 'a'],\n ['a/M02_phrases01_09.jpg', 'a'],\n ['a/M02_phrases01_08.jpg', 'a'],\n ['a/F04_phrases01_02.jpg', 'a'],\n ['a/M01_phrases01_02.jpg', 'a'],\n ['a/F10_phrases01_04.jpg', 'a'],\n ['a/F10_phrases01_10.jpg', 'a'],\n ['a/M01_phrases01_06.jpg', 'a'],\n ['a/F04_phrases01_06.jpg', 'a'],\n ['a/F04_phrases01_07.jpg', 'a'],\n ['a/M01_phrases01_07.jpg', 'a'],\n ['a/F10_phrases01_05.jpg', 'a'],\n ['a/F10_phrases01_07.jpg', 'a'],\n ['a/M01_phrases01_05.jpg', 'a'],\n ['a/F08_phrases01_08.jpg', 'a'],\n ['a/F04_phrases01_05.jpg', 'a'],\n ['a/F04_phrases01_04.jpg', 'a'],\n ['a/F08_phrases01_09.jpg', 'a'],\n ['a/M01_phrases01_04.jpg', 'a'],\n ['a/M01_phrases01_10.jpg', 'a'],\n ['a/F10_phrases01_06.jpg', 'a'],\n ['a/M04_phrases01_05.jpg', 'a'],\n ['a/M08_phrases01_08.jpg', 'a'],\n ['a/F11_phrases01_03.jpg', 'a'],\n ['a/F05_phrases01_01.jpg', 'a'],\n ['a/F11_phrases01_02.jpg', 'a'],\n ['a/M08_phrases01_09.jpg', 'a'],\n ['a/M04_phrases01_10.jpg', 'a'],\n ['a/M04_phrases01_04.jpg', 'a'],\n ['a/M04_phrases01_06.jpg', 'a'],\n ['a/F06_phrases01_08.jpg', 'a'],\n ['a/F05_phrases01_02.jpg', 'a'],\n ['a/F05_phrases01_03.jpg', 'a'],\n ['a/F06_phrases01_09.jpg', 'a'],\n ['a/F11_phrases01_01.jpg', 'a'],\n ['a/M04_phrases01_07.jpg', 'a'],\n ['a/M04_phrases01_03.jpg', 'a'],\n ['a/M07_phrases01_09.jpg', 'a'],\n ['a/F11_phrases01_05.jpg', 'a'],\n ['a/F05_phrases01_07.jpg', 'a'],\n ['a/F05_phrases01_06.jpg', 'a'],\n ['a/F11_phrases01_10.jpg', 'a'],\n ['a/F11_phrases01_04.jpg', 'a'],\n ['a/M07_phrases01_08.jpg', 'a'],\n ['a/M04_phrases01_02.jpg', 'a'],\n ['a/F11_phrases01_06.jpg', 'a'],\n ['a/F09_phrases01_09.jpg', 'a'],\n ['a/F05_phrases01_04.jpg', 'a'],\n ['a/F05_phrases01_10.jpg', 'a'],\n ['a/F05_phrases01_05.jpg', 'a'],\n ['a/F11_phrases01_07.jpg', 'a'],\n ['a/M04_phrases01_01.jpg', 'a'],\n ['f/M04_phrases06_05.jpg', 'f'],\n ['f/M08_phrases06_08.jpg', 'f'],\n ['f/F11_phrases06_03.jpg', 'f'],\n ['f/F05_phrases06_01.jpg', 'f'],\n ['f/F11_phrases06_02.jpg', 'f'],\n ['f/M08_phrases06_09.jpg', 'f'],\n ['f/M04_phrases06_04.jpg', 'f'],\n ['f/M04_phrases06_10.jpg', 'f'],\n ['f/M04_phrases06_06.jpg', 'f'],\n ['f/F06_phrases06_08.jpg', 'f'],\n ['f/F05_phrases06_02.jpg', 'f'],\n ['f/F05_phrases06_03.jpg', 'f'],\n ['f/F06_phrases06_09.jpg', 'f'],\n ['f/F11_phrases06_01.jpg', 'f'],\n ['f/M04_phrases06_07.jpg', 'f'],\n ['f/F02_phrases06_09.jpg', 'f'],\n ['f/M04_phrases06_03.jpg', 'f'],\n ['f/M07_phrases06_09.jpg', 'f'],\n ['f/F11_phrases06_05.jpg', 'f'],\n ['f/F05_phrases06_07.jpg', 'f'],\n ['f/F05_phrases06_06.jpg', 'f'],\n ['f/F11_phrases06_04.jpg', 'f'],\n ['f/F11_phrases06_10.jpg', 'f'],\n ['f/M07_phrases06_08.jpg', 'f'],\n ['f/M04_phrases06_02.jpg', 'f'],\n ['f/F02_phrases06_08.jpg', 'f'],\n ['f/F11_phrases06_06.jpg', 'f'],\n ['f/F09_phrases06_09.jpg', 'f'],\n ['f/F05_phrases06_10.jpg', 'f'],\n ['f/F05_phrases06_04.jpg', 'f'],\n ['f/F05_phrases06_05.jpg', 'f'],\n ['f/F09_phrases06_08.jpg', 'f'],\n ['f/F11_phrases06_07.jpg', 'f'],\n ['f/M04_phrases06_01.jpg', 'f'],\n ['f/F10_phrases06_02.jpg', 'f'],\n ['f/F04_phrases06_01.jpg', 'f'],\n ['f/M01_phrases06_01.jpg', 'f'],\n ['f/F10_phrases06_03.jpg', 'f'],\n ['f/F10_phrases06_01.jpg', 'f'],\n ['f/M01_phrases06_03.jpg', 'f'],\n ['f/F07_phrases06_09.jpg', 'f'],\n ['f/F04_phrases06_03.jpg', 'f'],\n ['f/M02_phrases06_09.jpg', 'f'],\n ['f/M02_phrases06_08.jpg', 'f'],\n ['f/F04_phrases06_02.jpg', 'f'],\n ['f/F07_phrases06_08.jpg', 'f'],\n ['f/M01_phrases06_02.jpg', 'f'],\n ['f/F10_phrases06_10.jpg', 'f'],\n ['f/F10_phrases06_04.jpg', 'f'],\n ['f/M01_phrases06_06.jpg', 'f'],\n ['f/F04_phrases06_06.jpg', 'f'],\n ['f/M01_phrases06_07.jpg', 'f'],\n ['f/F10_phrases06_05.jpg', 'f'],\n ['f/F10_phrases06_07.jpg', 'f'],\n ['f/M01_phrases06_05.jpg', 'f'],\n ['f/F08_phrases06_08.jpg', 'f'],\n ['f/F04_phrases06_05.jpg', 'f'],\n ['f/F04_phrases06_04.jpg', 'f'],\n ['f/F08_phrases06_09.jpg', 'f'],\n ['f/M01_phrases06_10.jpg', 'f'],\n ['f/M01_phrases06_04.jpg', 'f'],\n ['f/F10_phrases06_06.jpg', 'f'],\n ['f/M01_phrases06_09.jpg', 'f'],\n ['f/F08_phrases06_04.jpg', 'f'],\n ['f/F08_phrases06_10.jpg', 'f'],\n ['f/F07_phrases06_03.jpg', 'f'],\n ['f/M02_phrases06_03.jpg', 'f'],\n ['f/M02_phrases06_02.jpg', 'f'],\n ['f/F07_phrases06_02.jpg', 'f'],\n ['f/F08_phrases06_05.jpg', 'f'],\n ['f/M01_phrases06_08.jpg', 'f'],\n ['f/F10_phrases06_08.jpg', 'f'],\n ['f/F08_phrases06_07.jpg', 'f'],\n ['f/M02_phrases06_01.jpg', 'f'],\n ['f/F07_phrases06_01.jpg', 'f'],\n ['f/F08_phrases06_06.jpg', 'f'],\n ['f/F10_phrases06_09.jpg', 'f'],\n ['f/F07_phrases06_05.jpg', 'f'],\n ['f/M02_phrases06_05.jpg', 'f'],\n ['f/M02_phrases06_04.jpg', 'f'],\n ['f/M02_phrases06_10.jpg', 'f'],\n ['f/F07_phrases06_10.jpg', 'f'],\n ['f/F07_phrases06_04.jpg', 'f'],\n ['f/F07_phrases06_06.jpg', 'f'],\n ['f/M02_phrases06_06.jpg', 'f'],\n ['f/M02_phrases06_07.jpg', 'f'],\n ['f/F07_phrases06_07.jpg', 'f'],\n ['f/F02_phrases06_06.jpg', 'f'],\n ['f/M07_phrases06_06.jpg', 'f'],\n ['f/M08_phrases06_01.jpg', 'f'],\n ['f/F09_phrases06_05.jpg', 'f'],\n ['f/F06_phrases06_02.jpg', 'f'],\n ['f/F05_phrases06_08.jpg', 'f'],\n ['f/F05_phrases06_09.jpg', 'f'],\n ['f/F06_phrases06_03.jpg', 'f'],\n ['f/F09_phrases06_10.jpg', 'f'],\n ['f/F09_phrases06_04.jpg', 'f'],\n ['f/M07_phrases06_07.jpg', 'f'],\n ['f/F02_phrases06_07.jpg', 'f'],\n ['f/F02_phrases06_05.jpg', 'f'],\n ['f/M07_phrases06_05.jpg', 'f'],\n ['f/M08_phrases06_02.jpg', 'f'],\n ['f/F11_phrases06_09.jpg', 'f'],\n ['f/F09_phrases06_06.jpg', 'f'],\n ['f/F06_phrases06_01.jpg', 'f'],\n ...]"
     },
     "execution_count": 3,
     "metadata": {},
     "output_type": "execute_result"
    }
   ],
   "source": [
    "data"
   ],
   "metadata": {
    "collapsed": false,
    "pycharm": {
     "name": "#%%\n"
    }
   }
  },
  {
   "cell_type": "code",
   "execution_count": 14,
   "outputs": [
    {
     "data": {
      "text/plain": "'/Users/benedettosimone/PycharmProjects/LipNetProve/codes'"
     },
     "execution_count": 14,
     "metadata": {},
     "output_type": "execute_result"
    }
   ],
   "source": [
    "os.getcwd()"
   ],
   "metadata": {
    "collapsed": false,
    "pycharm": {
     "name": "#%%\n"
    }
   }
  },
  {
   "cell_type": "code",
   "execution_count": 4,
   "outputs": [],
   "source": [],
   "metadata": {
    "collapsed": false,
    "pycharm": {
     "name": "#%%\n"
    }
   }
  },
  {
   "cell_type": "code",
   "execution_count": 4,
   "outputs": [],
   "source": [
    "import csv\n",
    "os.chdir('../../codes')\n",
    "header = ['filename', 'label']\n",
    "\n",
    "with open('training_labels.csv', 'w', encoding='UTF8', newline='') as f:\n",
    "    writer = csv.writer(f)\n",
    "\n",
    "    # write the header\n",
    "    writer.writerow(header)\n",
    "\n",
    "    # write multiple rows\n",
    "    writer.writerows(data)"
   ],
   "metadata": {
    "collapsed": false,
    "pycharm": {
     "name": "#%%\n"
    }
   }
  },
  {
   "cell_type": "code",
   "execution_count": 7,
   "outputs": [],
   "source": [
    "train_data = pd.read_csv('training_labels.csv')\n",
    "Y = train_data[['label']]\n",
    "\n",
    "kf = KFold(n_splits = 5)\n",
    "\n",
    "skf = StratifiedKFold(n_splits = 5, random_state = 7, shuffle = True)"
   ],
   "metadata": {
    "collapsed": false,
    "pycharm": {
     "name": "#%%\n"
    }
   }
  },
  {
   "cell_type": "code",
   "execution_count": 8,
   "outputs": [],
   "source": [
    "idg = ImageDataGenerator(rescale=1./255)"
   ],
   "metadata": {
    "collapsed": false,
    "pycharm": {
     "name": "#%%\n"
    }
   }
  },
  {
   "cell_type": "code",
   "execution_count": 9,
   "outputs": [],
   "source": [
    "def get_model_name(k):\n",
    "    return 'model_'+str(k)+'.h5'"
   ],
   "metadata": {
    "collapsed": false,
    "pycharm": {
     "name": "#%%\n"
    }
   }
  },
  {
   "cell_type": "code",
   "execution_count": 10,
   "outputs": [],
   "source": [
    "def create_new_model():\n",
    "    import os\n",
    "    import numpy as np\n",
    "    from keras.models import Sequential # To initialise the nn as a sequence of layers\n",
    "    from keras.layers import Convolution2D # To make the convolution layer for 2D images\n",
    "    from keras.layers import MaxPooling2D #\n",
    "    from keras.layers import Flatten\n",
    "    from keras.layers import Dense\n",
    "    from keras.layers import Dropout\n",
    "    from keras.callbacks import CSVLogger\n",
    "    from tensorflow.keras.optimizers import RMSprop\n",
    "    from keras.layers import BatchNormalization\n",
    "    from tensorflow.keras.optimizers import Adam\n",
    "    from keras.models import load_model\n",
    "    from keras.callbacks import ModelCheckpoint\n",
    "    from keras.layers import Activation\n",
    "    from keras.layers import GlobalAveragePooling2D\n",
    "\n",
    "    csv=CSVLogger(\"2_adam-Copy1.log\")\n",
    "    #filepath=\"weights-improvement-{epoch:02d}-{val_acc:.2f}.hdf5\"\n",
    "    #checkpoint = ModelCheckpoint(filepath, monitor='val_acc', verbose=1, save_best_only=True, mode='max')\n",
    "\n",
    "\n",
    "    # Initialising the CNN\n",
    "    classifier = Sequential()\n",
    "\n",
    "    # Step 1 - Convolution\n",
    "    classifier.add(Convolution2D(32,(3,3),input_shape = (224,224,1), activation = 'sigmoid',name='convo2'))\n",
    "    # Step 2 - Pooling\n",
    "    classifier.add(MaxPooling2D(pool_size = (2,2)))\n",
    "\n",
    "    # Step 1 - Convolution\n",
    "    classifier.add(Convolution2D(32,(3,3),activation = 'sigmoid',name='convo3'))\n",
    "    # Step 2 - Pooling\n",
    "    classifier.add(MaxPooling2D(pool_size = (2,2)))\n",
    "    # Step 3 - Flattening\n",
    "    classifier.add(Convolution2D(64,(3,3),activation = 'relu',name='convo4'))\n",
    "    # Step 2 - Pooling\n",
    "    classifier.add(MaxPooling2D(pool_size = (2,2)))\n",
    "    # Step 3 - Flatten\n",
    "    classifier.add(Flatten())\n",
    "\n",
    "    classifier.add(Dropout((0.6)))\n",
    "    classifier.add(Dense(1024))\n",
    "    classifier.add(BatchNormalization(scale = False))\n",
    "    classifier.add(Activation('relu'))\n",
    "    classifier.add(Dropout((0.4)))\n",
    "    classifier.add(Dense(20, activation = 'softmax'))\n",
    "\n",
    "    return classifier"
   ],
   "metadata": {
    "collapsed": false,
    "pycharm": {
     "name": "#%%\n"
    }
   }
  },
  {
   "cell_type": "code",
   "execution_count": 11,
   "outputs": [
    {
     "name": "stdout",
     "output_type": "stream",
     "text": [
      "Found 2068 validated image filenames belonging to 20 classes.\n",
      "Found 517 validated image filenames belonging to 20 classes.\n"
     ]
    },
    {
     "name": "stderr",
     "output_type": "stream",
     "text": [
      "2022-01-12 13:17:57.747834: I tensorflow/core/platform/cpu_feature_guard.cc:151] This TensorFlow binary is optimized with oneAPI Deep Neural Network Library (oneDNN) to use the following CPU instructions in performance-critical operations:  AVX2 FMA\n",
      "To enable them in other operations, rebuild TensorFlow with the appropriate compiler flags.\n"
     ]
    },
    {
     "ename": "ImportError",
     "evalue": "Could not import PIL.Image. The use of `load_img` requires PIL.",
     "output_type": "error",
     "traceback": [
      "\u001B[0;31m---------------------------------------------------------------------------\u001B[0m",
      "\u001B[0;31mImportError\u001B[0m                               Traceback (most recent call last)",
      "\u001B[0;32m/var/folders/tb/n9ftq3cd11s91p64q_k5lvy00000gn/T/ipykernel_15446/2939767175.py\u001B[0m in \u001B[0;36m<module>\u001B[0;34m\u001B[0m\n\u001B[1;32m     31\u001B[0m         \u001B[0;31m# This saves the best model\u001B[0m\u001B[0;34m\u001B[0m\u001B[0;34m\u001B[0m\u001B[0;34m\u001B[0m\u001B[0m\n\u001B[1;32m     32\u001B[0m         \u001B[0;31m# FIT THE MODEL\u001B[0m\u001B[0;34m\u001B[0m\u001B[0;34m\u001B[0m\u001B[0;34m\u001B[0m\u001B[0m\n\u001B[0;32m---> 33\u001B[0;31m \thistory = model.fit(train_data_generator,\n\u001B[0m\u001B[1;32m     34\u001B[0m                             \u001B[0mepochs\u001B[0m\u001B[0;34m=\u001B[0m\u001B[0;36m10\u001B[0m\u001B[0;34m,\u001B[0m\u001B[0;34m\u001B[0m\u001B[0;34m\u001B[0m\u001B[0m\n\u001B[1;32m     35\u001B[0m                             \u001B[0mcallbacks\u001B[0m\u001B[0;34m=\u001B[0m\u001B[0mcallbacks_list\u001B[0m\u001B[0;34m,\u001B[0m\u001B[0;34m\u001B[0m\u001B[0;34m\u001B[0m\u001B[0m\n",
      "\u001B[0;32m~/PycharmProjects/LipNetProve/venv/lib/python3.9/site-packages/keras/utils/traceback_utils.py\u001B[0m in \u001B[0;36merror_handler\u001B[0;34m(*args, **kwargs)\u001B[0m\n\u001B[1;32m     65\u001B[0m     \u001B[0;32mexcept\u001B[0m \u001B[0mException\u001B[0m \u001B[0;32mas\u001B[0m \u001B[0me\u001B[0m\u001B[0;34m:\u001B[0m  \u001B[0;31m# pylint: disable=broad-except\u001B[0m\u001B[0;34m\u001B[0m\u001B[0;34m\u001B[0m\u001B[0m\n\u001B[1;32m     66\u001B[0m       \u001B[0mfiltered_tb\u001B[0m \u001B[0;34m=\u001B[0m \u001B[0m_process_traceback_frames\u001B[0m\u001B[0;34m(\u001B[0m\u001B[0me\u001B[0m\u001B[0;34m.\u001B[0m\u001B[0m__traceback__\u001B[0m\u001B[0;34m)\u001B[0m\u001B[0;34m\u001B[0m\u001B[0;34m\u001B[0m\u001B[0m\n\u001B[0;32m---> 67\u001B[0;31m       \u001B[0;32mraise\u001B[0m \u001B[0me\u001B[0m\u001B[0;34m.\u001B[0m\u001B[0mwith_traceback\u001B[0m\u001B[0;34m(\u001B[0m\u001B[0mfiltered_tb\u001B[0m\u001B[0;34m)\u001B[0m \u001B[0;32mfrom\u001B[0m \u001B[0;32mNone\u001B[0m\u001B[0;34m\u001B[0m\u001B[0;34m\u001B[0m\u001B[0m\n\u001B[0m\u001B[1;32m     68\u001B[0m     \u001B[0;32mfinally\u001B[0m\u001B[0;34m:\u001B[0m\u001B[0;34m\u001B[0m\u001B[0;34m\u001B[0m\u001B[0m\n\u001B[1;32m     69\u001B[0m       \u001B[0;32mdel\u001B[0m \u001B[0mfiltered_tb\u001B[0m\u001B[0;34m\u001B[0m\u001B[0;34m\u001B[0m\u001B[0m\n",
      "\u001B[0;32m~/PycharmProjects/LipNetProve/venv/lib/python3.9/site-packages/keras_preprocessing/image/utils.py\u001B[0m in \u001B[0;36mload_img\u001B[0;34m(path, grayscale, color_mode, target_size, interpolation)\u001B[0m\n\u001B[1;32m    109\u001B[0m         \u001B[0mcolor_mode\u001B[0m \u001B[0;34m=\u001B[0m \u001B[0;34m'grayscale'\u001B[0m\u001B[0;34m\u001B[0m\u001B[0;34m\u001B[0m\u001B[0m\n\u001B[1;32m    110\u001B[0m     \u001B[0;32mif\u001B[0m \u001B[0mpil_image\u001B[0m \u001B[0;32mis\u001B[0m \u001B[0;32mNone\u001B[0m\u001B[0;34m:\u001B[0m\u001B[0;34m\u001B[0m\u001B[0;34m\u001B[0m\u001B[0m\n\u001B[0;32m--> 111\u001B[0;31m         raise ImportError('Could not import PIL.Image. '\n\u001B[0m\u001B[1;32m    112\u001B[0m                           'The use of `load_img` requires PIL.')\n\u001B[1;32m    113\u001B[0m     \u001B[0;32mwith\u001B[0m \u001B[0mopen\u001B[0m\u001B[0;34m(\u001B[0m\u001B[0mpath\u001B[0m\u001B[0;34m,\u001B[0m \u001B[0;34m'rb'\u001B[0m\u001B[0;34m)\u001B[0m \u001B[0;32mas\u001B[0m \u001B[0mf\u001B[0m\u001B[0;34m:\u001B[0m\u001B[0;34m\u001B[0m\u001B[0;34m\u001B[0m\u001B[0m\n",
      "\u001B[0;31mImportError\u001B[0m: Could not import PIL.Image. The use of `load_img` requires PIL."
     ]
    }
   ],
   "source": [
    "VALIDATION_ACCURACY = []\n",
    "VALIDATION_LOSS = []\n",
    "\n",
    "save_dir = '/saved_models/'\n",
    "fold_var = 1\n",
    "\n",
    "for train_index, val_index in skf.split(np.zeros(2585),Y):\n",
    "\ttraining_data = train_data.iloc[train_index]\n",
    "\tvalidation_data = train_data.iloc[val_index]\n",
    "\n",
    "\ttrain_data_generator = idg.flow_from_dataframe(training_data, directory = '../Dataset/Train',\n",
    "\t\t\t\t\t\t       x_col = \"filename\", y_col = \"label\",\n",
    "\t\t\t\t\t\t       class_mode = \"categorical\", shuffle = True)\n",
    "\tvalid_data_generator  = idg.flow_from_dataframe(validation_data, directory =  '../Dataset/Train',\n",
    "\t\t\t\t\t\t\tx_col = \"filename\", y_col = \"label\",\n",
    "\t\t\t\t\t\t\tclass_mode = \"categorical\", shuffle = True)\n",
    "\n",
    "\t# CREATE NEW MODEL\n",
    "\tmodel = create_new_model()\n",
    "\t# COMPILE NEW MODEL\n",
    "\tmodel.compile(loss='categorical_crossentropy',\n",
    "\t\t      optimizer=\"Adam\",\n",
    "\t\t      metrics=['accuracy'])\n",
    "\n",
    "\t# CREATE CALLBACKS\n",
    "\tcheckpoint = tf.keras.callbacks.ModelCheckpoint(save_dir+get_model_name(fold_var),\n",
    "\t\t\t\t\t\t\tmonitor='val_accuracy', verbose=1,\n",
    "\t\t\t\t\t\t\tsave_best_only=True, mode='max')\n",
    "\tcallbacks_list = [checkpoint]\n",
    "\t# There can be other callbacks, but just showing one because it involves the model name\n",
    "\t# This saves the best model\n",
    "\t# FIT THE MODEL\n",
    "\thistory = model.fit(train_data_generator,\n",
    "\t\t\t    epochs=10,\n",
    "\t\t\t    callbacks=callbacks_list,\n",
    "\t\t\t    validation_data=valid_data_generator)\n",
    "\t#PLOT HISTORY\n",
    "\t#\t\t:\n",
    "\t#\t\t:\n",
    "\n",
    "\t# LOAD BEST MODEL to evaluate the performance of the model\n",
    "\tmodel.load_weights(\"/saved_models/model_\"+str(fold_var)+\".h5\")\n",
    "\n",
    "\tresults = model.evaluate(valid_data_generator)\n",
    "\tresults = dict(zip(model.metrics_names,results))\n",
    "\n",
    "\tVALIDATION_ACCURACY.append(results['accuracy'])\n",
    "\tVALIDATION_LOSS.append(results['loss'])\n",
    "\n",
    "\ttf.keras.backend.clear_session()\n",
    "\n",
    "\tfold_var += 1"
   ],
   "metadata": {
    "collapsed": false,
    "pycharm": {
     "name": "#%%\n"
    }
   }
  },
  {
   "cell_type": "code",
   "execution_count": null,
   "outputs": [],
   "source": [],
   "metadata": {
    "collapsed": false,
    "pycharm": {
     "name": "#%%\n"
    }
   }
  }
 ],
 "metadata": {
  "kernelspec": {
   "display_name": "Python 3",
   "language": "python",
   "name": "python3"
  },
  "language_info": {
   "codemirror_mode": {
    "name": "ipython",
    "version": 2
   },
   "file_extension": ".py",
   "mimetype": "text/x-python",
   "name": "python",
   "nbconvert_exporter": "python",
   "pygments_lexer": "ipython2",
   "version": "2.7.6"
  }
 },
 "nbformat": 4,
 "nbformat_minor": 0
}