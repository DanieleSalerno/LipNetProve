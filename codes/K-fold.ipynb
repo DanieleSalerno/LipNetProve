{
 "cells": [
  {
   "cell_type": "code",
   "execution_count": 8,
   "metadata": {
    "collapsed": true
   },
   "outputs": [],
   "source": [
    "import numpy as np\n",
    "import pandas as pd\n",
    "import os\n",
    "from sklearn.model_selection import KFold, StratifiedKFold\n",
    "import tensorflow as tf\n",
    "from tensorflow.keras.preprocessing.image import ImageDataGenerator"
   ]
  },
  {
   "cell_type": "code",
   "execution_count": 1,
   "outputs": [
    {
     "data": {
      "text/plain": "'/Users/benedettosimone/PycharmProjects/LipNetProve/Dataset/Train'"
     },
     "execution_count": 1,
     "metadata": {},
     "output_type": "execute_result"
    }
   ],
   "source": [
    "import os\n",
    "os.chdir('../Dataset/Train')\n",
    "os.getcwd()"
   ],
   "metadata": {
    "collapsed": false,
    "pycharm": {
     "name": "#%%\n"
    }
   }
  },
  {
   "cell_type": "code",
   "execution_count": 2,
   "outputs": [],
   "source": [
    "data=[]\n",
    "for l in os.listdir():\n",
    "    os.chdir(l)\n",
    "    for m in os.listdir():\n",
    "        data.append([m, l])\n",
    "    os.chdir('..')"
   ],
   "metadata": {
    "collapsed": false,
    "pycharm": {
     "name": "#%%\n"
    }
   }
  },
  {
   "cell_type": "code",
   "execution_count": 4,
   "outputs": [
    {
     "data": {
      "text/plain": "[['F01_words08_06.jpg', 'r'],\n ['F09_words08_07.jpg', 'r'],\n ['M07_words08_02.jpg', 'r'],\n ['M01_words08_05.jpg', 'r'],\n ['F08_words08_03.jpg', 'r'],\n ['F07_words08_01.jpg', 'r'],\n ['M01_words08_10.jpg', 'r'],\n ['M01_words08_04.jpg', 'r'],\n ['F08_words08_02.jpg', 'r'],\n ['M07_words08_03.jpg', 'r'],\n ['F09_words08_06.jpg', 'r'],\n ['M08_words08_01.jpg', 'r'],\n ['F01_words08_07.jpg', 'r'],\n ['F09_words08_04.jpg', 'r'],\n ['F01_words08_05.jpg', 'r'],\n ['M08_words08_03.jpg', 'r'],\n ['F09_words08_10.jpg', 'r'],\n ['M07_words08_01.jpg', 'r'],\n ['M01_words08_06.jpg', 'r'],\n ['F07_words08_02.jpg', 'r'],\n ['F07_words08_03.jpg', 'r'],\n ['F08_words08_01.jpg', 'r'],\n ['M01_words08_07.jpg', 'r'],\n ['F01_words08_04.jpg', 'r'],\n ['M08_words08_02.jpg', 'r'],\n ['F09_words08_05.jpg', 'r'],\n ['F01_words08_10.jpg', 'r'],\n ['F09_words08_01.jpg', 'r'],\n ['M08_words08_06.jpg', 'r'],\n ['M07_words08_04.jpg', 'r'],\n ['M07_words08_10.jpg', 'r'],\n ['M01_words08_03.jpg', 'r'],\n ['F08_words08_05.jpg', 'r'],\n ['F07_words08_07.jpg', 'r'],\n ['F07_words08_06.jpg', 'r'],\n ['M01_words08_02.jpg', 'r'],\n ['F08_words08_04.jpg', 'r'],\n ['F08_words08_10.jpg', 'r'],\n ['M07_words08_05.jpg', 'r'],\n ['M08_words08_07.jpg', 'r'],\n ['F01_words08_01.jpg', 'r'],\n ['F01_words08_03.jpg', 'r'],\n ['M08_words08_05.jpg', 'r'],\n ['F09_words08_02.jpg', 'r'],\n ['M07_words08_07.jpg', 'r'],\n ['F08_words08_06.jpg', 'r'],\n ['F07_words08_10.jpg', 'r'],\n ['F07_words08_04.jpg', 'r'],\n ['F07_words08_05.jpg', 'r'],\n ['F08_words08_07.jpg', 'r'],\n ['M01_words08_01.jpg', 'r'],\n ['M07_words08_06.jpg', 'r'],\n ['M08_words08_10.jpg', 'r'],\n ['F09_words08_03.jpg', 'r'],\n ['F01_words08_02.jpg', 'r'],\n ['M08_words08_04.jpg', 'r'],\n ['F05_words08_04.jpg', 'r'],\n ['F10_words08_04.jpg', 'r'],\n ['F05_words08_10.jpg', 'r'],\n ['M04_words08_03.jpg', 'r'],\n ['F10_words08_10.jpg', 'r'],\n ['F02_words08_07.jpg', 'r'],\n ['M02_words08_04.jpg', 'r'],\n ['M02_words08_10.jpg', 'r'],\n ['M02_words08_05.jpg', 'r'],\n ['F11_words08_01.jpg', 'r'],\n ['F02_words08_06.jpg', 'r'],\n ['M04_words08_02.jpg', 'r'],\n ['F10_words08_05.jpg', 'r'],\n ['F05_words08_05.jpg', 'r'],\n ['F05_words08_07.jpg', 'r'],\n ['F10_words08_07.jpg', 'r'],\n ['F02_words08_10.jpg', 'r'],\n ['F02_words08_04.jpg', 'r'],\n ['F11_words08_03.jpg', 'r'],\n ['M02_words08_07.jpg', 'r'],\n ['M02_words08_06.jpg', 'r'],\n ['F11_words08_02.jpg', 'r'],\n ['F02_words08_05.jpg', 'r'],\n ['F10_words08_06.jpg', 'r'],\n ['F05_words08_06.jpg', 'r'],\n ['M04_words08_01.jpg', 'r'],\n ['M04_words08_05.jpg', 'r'],\n ['F10_words08_02.jpg', 'r'],\n ['F05_words08_02.jpg', 'r'],\n ['F02_words08_01.jpg', 'r'],\n ['F11_words08_06.jpg', 'r'],\n ['M02_words08_02.jpg', 'r'],\n ['M02_words08_03.jpg', 'r'],\n ['F11_words08_07.jpg', 'r'],\n ['F05_words08_03.jpg', 'r'],\n ['M04_words08_10.jpg', 'r'],\n ['F10_words08_03.jpg', 'r'],\n ['M04_words08_04.jpg', 'r'],\n ['F10_words08_01.jpg', 'r'],\n ['F05_words08_01.jpg', 'r'],\n ['M04_words08_06.jpg', 'r'],\n ['F02_words08_02.jpg', 'r'],\n ['F11_words08_05.jpg', 'r'],\n ['M02_words08_01.jpg', 'r'],\n ['F11_words08_04.jpg', 'r'],\n ['F11_words08_10.jpg', 'r'],\n ['F02_words08_03.jpg', 'r'],\n ['M04_words08_07.jpg', 'r'],\n ['F11_words08_09.jpg', 'r'],\n ['F11_words08_08.jpg', 'r'],\n ['M04_words08_09.jpg', 'r'],\n ['M04_words08_08.jpg', 'r'],\n ['F02_words08_08.jpg', 'r'],\n ['F02_words08_09.jpg', 'r'],\n ['F10_words08_08.jpg', 'r'],\n ['F05_words08_08.jpg', 'r'],\n ['M02_words08_08.jpg', 'r'],\n ['M02_words08_09.jpg', 'r'],\n ['F05_words08_09.jpg', 'r'],\n ['F10_words08_09.jpg', 'r'],\n ['M08_words08_09.jpg', 'r'],\n ['F07_words08_08.jpg', 'r'],\n ['F07_words08_09.jpg', 'r'],\n ['M08_words08_08.jpg', 'r'],\n ['M07_words08_08.jpg', 'r'],\n ['F08_words08_09.jpg', 'r'],\n ['F08_words08_08.jpg', 'r'],\n ['M07_words08_09.jpg', 'r'],\n ['F01_words08_09.jpg', 'r'],\n ['F09_words08_08.jpg', 'r'],\n ['F09_words08_09.jpg', 'r'],\n ['F01_words08_08.jpg', 'r'],\n ['M01_words08_09.jpg', 'r'],\n ['M01_words08_08.jpg', 'r'],\n ['F08_phrases09_03.jpg', 'i'],\n ['F07_phrases09_10.jpg', 'i'],\n ['F07_phrases09_04.jpg', 'i'],\n ['M02_phrases09_04.jpg', 'i'],\n ['M02_phrases09_05.jpg', 'i'],\n ['F07_phrases09_05.jpg', 'i'],\n ['F08_phrases09_02.jpg', 'i'],\n ['F07_phrases09_07.jpg', 'i'],\n ['M02_phrases09_06.jpg', 'i'],\n ['F07_phrases09_06.jpg', 'i'],\n ['F08_phrases09_01.jpg', 'i'],\n ['M01_phrases09_08.jpg', 'i'],\n ['F07_phrases09_02.jpg', 'i'],\n ['F08_phrases09_05.jpg', 'i'],\n ['F04_phrases09_08.jpg', 'i'],\n ['M02_phrases09_02.jpg', 'i'],\n ['M02_phrases09_03.jpg', 'i'],\n ['F04_phrases09_09.jpg', 'i'],\n ['F08_phrases09_04.jpg', 'i'],\n ['F08_phrases09_10.jpg', 'i'],\n ['F07_phrases09_03.jpg', 'i'],\n ['M01_phrases09_09.jpg', 'i'],\n ['F07_phrases09_01.jpg', 'i'],\n ['F08_phrases09_06.jpg', 'i'],\n ['F10_phrases09_09.jpg', 'i'],\n ['F10_phrases09_08.jpg', 'i'],\n ['F08_phrases09_07.jpg', 'i'],\n ['F09_phrases09_02.jpg', 'i'],\n ['F06_phrases09_05.jpg', 'i'],\n ['F02_phrases09_01.jpg', 'i'],\n ['M07_phrases09_01.jpg', 'i'],\n ['M08_phrases09_06.jpg', 'i'],\n ['M08_phrases09_07.jpg', 'i'],\n ['F06_phrases09_04.jpg', 'i'],\n ['F06_phrases09_10.jpg', 'i'],\n ['F09_phrases09_03.jpg', 'i'],\n ['F09_phrases09_01.jpg', 'i'],\n ['F06_phrases09_06.jpg', 'i'],\n ['F02_phrases09_02.jpg', 'i'],\n ['M04_phrases09_08.jpg', 'i'],\n ['M07_phrases09_02.jpg', 'i'],\n ['M08_phrases09_05.jpg', 'i'],\n ['F01_phrases09_08.jpg', 'i'],\n ['F01_phrases09_09.jpg', 'i'],\n ['M08_phrases09_04.jpg', 'i'],\n ['M07_phrases09_03.jpg', 'i'],\n ['M04_phrases09_09.jpg', 'i'],\n ['F02_phrases09_03.jpg', 'i'],\n ['F06_phrases09_07.jpg', 'i'],\n ['F06_phrases09_03.jpg', 'i'],\n ['F09_phrases09_10.jpg', 'i'],\n ['F09_phrases09_04.jpg', 'i'],\n ['F05_phrases09_09.jpg', 'i'],\n ['F02_phrases09_07.jpg', 'i'],\n ['M07_phrases09_07.jpg', 'i'],\n ['M07_phrases09_06.jpg', 'i'],\n ['M08_phrases09_01.jpg', 'i'],\n ['F02_phrases09_06.jpg', 'i'],\n ['F05_phrases09_08.jpg', 'i'],\n ['F09_phrases09_05.jpg', 'i'],\n ['F06_phrases09_02.jpg', 'i'],\n ['F09_phrases09_07.jpg', 'i'],\n ['F02_phrases09_04.jpg', 'i'],\n ['F02_phrases09_10.jpg', 'i'],\n ['M08_phrases09_03.jpg', 'i'],\n ['M07_phrases09_10.jpg', 'i'],\n ['M07_phrases09_04.jpg', 'i'],\n ['M07_phrases09_05.jpg', 'i'],\n ['M08_phrases09_02.jpg', 'i'],\n ['F02_phrases09_05.jpg', 'i'],\n ['F09_phrases09_06.jpg', 'i'],\n ['F06_phrases09_01.jpg', 'i'],\n ['F05_phrases09_06.jpg', 'i'],\n ['F02_phrases09_08.jpg', 'i'],\n ['M04_phrases09_02.jpg', 'i'],\n ['M07_phrases09_08.jpg', 'i'],\n ['F01_phrases09_02.jpg', 'i'],\n ['F01_phrases09_03.jpg', 'i'],\n ['M07_phrases09_09.jpg', 'i'],\n ['M04_phrases09_03.jpg', 'i'],\n ['F02_phrases09_09.jpg', 'i'],\n ['F05_phrases09_07.jpg', 'i'],\n ['F05_phrases09_05.jpg', 'i'],\n ['F01_phrases09_01.jpg', 'i'],\n ['F05_phrases09_10.jpg', 'i'],\n ['F05_phrases09_04.jpg', 'i'],\n ['F09_phrases09_09.jpg', 'i'],\n ['M04_phrases09_04.jpg', 'i'],\n ['M04_phrases09_10.jpg', 'i'],\n ['F01_phrases09_10.jpg', 'i'],\n ['F01_phrases09_04.jpg', 'i'],\n ['F01_phrases09_05.jpg', 'i'],\n ['M04_phrases09_05.jpg', 'i'],\n ['F05_phrases09_01.jpg', 'i'],\n ['F06_phrases09_09.jpg', 'i'],\n ['F05_phrases09_03.jpg', 'i'],\n ['M04_phrases09_07.jpg', 'i'],\n ['F01_phrases09_07.jpg', 'i'],\n ['F01_phrases09_06.jpg', 'i'],\n ['M04_phrases09_06.jpg', 'i'],\n ['F05_phrases09_02.jpg', 'i'],\n ['F06_phrases09_08.jpg', 'i'],\n ['M01_phrases09_07.jpg', 'i'],\n ['F04_phrases09_07.jpg', 'i'],\n ['F10_phrases09_05.jpg', 'i'],\n ['F10_phrases09_10.jpg', 'i'],\n ['F10_phrases09_04.jpg', 'i'],\n ['F04_phrases09_06.jpg', 'i'],\n ['M01_phrases09_06.jpg', 'i'],\n ['M01_phrases09_10.jpg', 'i'],\n ['M01_phrases09_04.jpg', 'i'],\n ['F08_phrases09_09.jpg', 'i'],\n ['F04_phrases09_04.jpg', 'i'],\n ['F04_phrases09_10.jpg', 'i'],\n ['F10_phrases09_06.jpg', 'i'],\n ['F10_phrases09_07.jpg', 'i'],\n ['F04_phrases09_05.jpg', 'i'],\n ['F08_phrases09_08.jpg', 'i'],\n ['M01_phrases09_05.jpg', 'i'],\n ['M01_phrases09_01.jpg', 'i'],\n ['F04_phrases09_01.jpg', 'i'],\n ['F10_phrases09_03.jpg', 'i'],\n ['F10_phrases09_02.jpg', 'i'],\n ['M01_phrases09_02.jpg', 'i'],\n ['F07_phrases09_08.jpg', 'i'],\n ['F04_phrases09_02.jpg', 'i'],\n ['F10_phrases09_01.jpg', 'i'],\n ['F04_phrases09_03.jpg', 'i'],\n ['F07_phrases09_09.jpg', 'i'],\n ['M01_phrases09_03.jpg', 'i'],\n ['F07_words04_01.jpg', 'n'],\n ['M01_words04_05.jpg', 'n'],\n ['F08_words04_03.jpg', 'n'],\n ['M07_words04_02.jpg', 'n'],\n ['F09_words04_07.jpg', 'n'],\n ['F01_words04_06.jpg', 'n'],\n ['M08_words04_01.jpg', 'n'],\n ['F01_words04_07.jpg', 'n'],\n ['F09_words04_06.jpg', 'n'],\n ['M07_words04_03.jpg', 'n'],\n ['M01_words04_04.jpg', 'n'],\n ['F08_words04_02.jpg', 'n'],\n ['M01_words04_10.jpg', 'n'],\n ['F07_words04_02.jpg', 'n'],\n ['M01_words04_06.jpg', 'n'],\n ['M07_words04_01.jpg', 'n'],\n ['F01_words04_05.jpg', 'n'],\n ['F09_words04_10.jpg', 'n'],\n ['M08_words04_03.jpg', 'n'],\n ['F09_words04_04.jpg', 'n'],\n ['F09_words04_05.jpg', 'n'],\n ['F01_words04_10.jpg', 'n'],\n ['F01_words04_04.jpg', 'n'],\n ['M08_words04_02.jpg', 'n'],\n ['F08_words04_01.jpg', 'n'],\n ['M01_words04_07.jpg', 'n'],\n ['F07_words04_03.jpg', 'n'],\n ['F07_words04_07.jpg', 'n'],\n ['M01_words04_03.jpg', 'n'],\n ['F08_words04_05.jpg', 'n'],\n ['M07_words04_10.jpg', 'n'],\n ['M07_words04_04.jpg', 'n'],\n ['M08_words04_06.jpg', 'n'],\n ['F09_words04_01.jpg', 'n'],\n ['M08_words04_07.jpg', 'n'],\n ['F01_words04_01.jpg', 'n'],\n ['M07_words04_05.jpg', 'n'],\n ['F08_words04_10.jpg', 'n'],\n ['M01_words04_02.jpg', 'n'],\n ['F08_words04_04.jpg', 'n'],\n ['F07_words04_06.jpg', 'n'],\n ['F07_words04_04.jpg', 'n'],\n ['F07_words04_10.jpg', 'n'],\n ['F08_words04_06.jpg', 'n'],\n ['M07_words04_07.jpg', 'n'],\n ['F09_words04_02.jpg', 'n'],\n ['F01_words04_03.jpg', 'n'],\n ['M08_words04_05.jpg', 'n'],\n ['F01_words04_02.jpg', 'n'],\n ['M08_words04_04.jpg', 'n'],\n ['F09_words04_03.jpg', 'n'],\n ['M08_words04_10.jpg', 'n'],\n ['M07_words04_06.jpg', 'n'],\n ['F08_words04_07.jpg', 'n'],\n ['M01_words04_01.jpg', 'n'],\n ['F07_words04_05.jpg', 'n'],\n ['M02_words04_10.jpg', 'n'],\n ['M02_words04_04.jpg', 'n'],\n ['F02_words04_07.jpg', 'n'],\n ['F10_words04_10.jpg', 'n'],\n ['M04_words04_03.jpg', 'n'],\n ['F05_words04_10.jpg', 'n'],\n ['F10_words04_04.jpg', 'n'],\n ['F05_words04_04.jpg', 'n'],\n ['F05_words04_05.jpg', 'n'],\n ['F10_words04_05.jpg', 'n'],\n ['M04_words04_02.jpg', 'n'],\n ['F02_words04_06.jpg', 'n'],\n ['F11_words04_01.jpg', 'n'],\n ['M02_words04_05.jpg', 'n'],\n ['M02_words04_07.jpg', 'n'],\n ['F11_words04_03.jpg', 'n'],\n ['F02_words04_04.jpg', 'n'],\n ['F02_words04_10.jpg', 'n'],\n ['F10_words04_07.jpg', 'n'],\n ['F05_words04_07.jpg', 'n'],\n ['M04_words04_01.jpg', 'n'],\n ['F05_words04_06.jpg', 'n'],\n ['F10_words04_06.jpg', 'n'],\n ['F02_words04_05.jpg', 'n'],\n ['F11_words04_02.jpg', 'n'],\n ['M02_words04_06.jpg', 'n'],\n ['M02_words04_02.jpg', 'n'],\n ['F11_words04_06.jpg', 'n'],\n ['F02_words04_01.jpg', 'n'],\n ['F05_words04_02.jpg', 'n'],\n ['F10_words04_02.jpg', 'n'],\n ['M04_words04_05.jpg', 'n'],\n ['M04_words04_04.jpg', 'n'],\n ['F10_words04_03.jpg', 'n'],\n ['M04_words04_10.jpg', 'n'],\n ['F05_words04_03.jpg', 'n'],\n ['F11_words04_07.jpg', 'n'],\n ['M02_words04_03.jpg', 'n'],\n ['M02_words04_01.jpg', 'n'],\n ['F11_words04_05.jpg', 'n'],\n ['F02_words04_02.jpg', 'n'],\n ['M04_words04_06.jpg', 'n'],\n ['F05_words04_01.jpg', 'n'],\n ['F10_words04_01.jpg', 'n'],\n ['M04_words04_07.jpg', 'n'],\n ['F02_words04_03.jpg', 'n'],\n ['F11_words04_10.jpg', 'n'],\n ['F11_words04_04.jpg', 'n'],\n ['F11_words04_09.jpg', 'n'],\n ['F11_words04_08.jpg', 'n'],\n ['M04_words04_09.jpg', 'n'],\n ['M04_words04_08.jpg', 'n'],\n ['F02_words04_08.jpg', 'n'],\n ['F02_words04_09.jpg', 'n'],\n ['M02_words04_08.jpg', 'n'],\n ['F05_words04_08.jpg', 'n'],\n ['F10_words04_08.jpg', 'n'],\n ['F10_words04_09.jpg', 'n'],\n ['F05_words04_09.jpg', 'n'],\n ['M02_words04_09.jpg', 'n'],\n ['F07_words04_08.jpg', 'n'],\n ['M08_words04_09.jpg', 'n'],\n ['M08_words04_08.jpg', 'n'],\n ['F07_words04_09.jpg', 'n'],\n ['F08_words04_09.jpg', 'n'],\n ['M07_words04_08.jpg', 'n'],\n ['M07_words04_09.jpg', 'n'],\n ['F08_words04_08.jpg', 'n'],\n ['F09_words04_08.jpg', 'n'],\n ['F01_words04_09.jpg', 'n'],\n ['F01_words04_08.jpg', 'n'],\n ['F09_words04_09.jpg', 'n'],\n ['M01_words04_09.jpg', 'n'],\n ['M01_words04_08.jpg', 'n'],\n ['F07_phrases07_01.jpg', 'g'],\n ['F08_phrases07_06.jpg', 'g'],\n ['M01_phrases07_08.jpg', 'g'],\n ['F07_phrases07_02.jpg', 'g'],\n ['F08_phrases07_05.jpg', 'g'],\n ['F04_phrases07_08.jpg', 'g'],\n ['F04_phrases07_09.jpg', 'g'],\n ['F08_phrases07_10.jpg', 'g'],\n ['F08_phrases07_04.jpg', 'g'],\n ['F07_phrases07_03.jpg', 'g'],\n ['M01_phrases07_09.jpg', 'g'],\n ['F07_phrases07_07.jpg', 'g'],\n ['F07_phrases07_06.jpg', 'g'],\n ['F08_phrases07_01.jpg', 'g'],\n ['F08_phrases07_03.jpg', 'g'],\n ['F07_phrases07_04.jpg', 'g'],\n ['F07_phrases07_10.jpg', 'g'],\n ['F07_phrases07_05.jpg', 'g'],\n ['F08_phrases07_02.jpg', 'g'],\n ['F09_phrases07_07.jpg', 'g'],\n ['F02_phrases07_10.jpg', 'g'],\n ['F02_phrases07_04.jpg', 'g'],\n ['M08_phrases07_03.jpg', 'g'],\n ['M07_phrases07_04.jpg', 'g'],\n ['M07_phrases07_10.jpg', 'g'],\n ['F11_phrases07_08.jpg', 'g'],\n ['F11_phrases07_09.jpg', 'g'],\n ['M07_phrases07_05.jpg', 'g'],\n ['M08_phrases07_02.jpg', 'g'],\n ['F02_phrases07_05.jpg', 'g'],\n ['F09_phrases07_06.jpg', 'g'],\n ['F06_phrases07_01.jpg', 'g'],\n ['F06_phrases07_03.jpg', 'g'],\n ['F09_phrases07_10.jpg', 'g'],\n ['F05_phrases07_09.jpg', 'g'],\n ['F02_phrases07_07.jpg', 'g'],\n ['M07_phrases07_07.jpg', 'g'],\n ['M07_phrases07_06.jpg', 'g'],\n ['M08_phrases07_01.jpg', 'g'],\n ['F02_phrases07_06.jpg', 'g'],\n ['F05_phrases07_08.jpg', 'g'],\n ['F09_phrases07_05.jpg', 'g'],\n ['F06_phrases07_02.jpg', 'g'],\n ['F09_phrases07_01.jpg', 'g'],\n ['F06_phrases07_06.jpg', 'g'],\n ['F02_phrases07_02.jpg', 'g'],\n ['M04_phrases07_08.jpg', 'g'],\n ['M07_phrases07_02.jpg', 'g'],\n ['M08_phrases07_05.jpg', 'g'],\n ['F01_phrases07_08.jpg', 'g'],\n ['F01_phrases07_09.jpg', 'g'],\n ['M08_phrases07_10.jpg', 'g'],\n ['M08_phrases07_04.jpg', 'g'],\n ['M07_phrases07_03.jpg', 'g'],\n ['M04_phrases07_09.jpg', 'g'],\n ['F02_phrases07_03.jpg', 'g'],\n ['F06_phrases07_07.jpg', 'g'],\n ['F09_phrases07_02.jpg', 'g'],\n ['F06_phrases07_05.jpg', 'g'],\n ['F02_phrases07_01.jpg', 'g'],\n ['M07_phrases07_01.jpg', 'g'],\n ['M08_phrases07_06.jpg', 'g'],\n ['M08_phrases07_07.jpg', 'g'],\n ['F06_phrases07_10.jpg', 'g'],\n ['F06_phrases07_04.jpg', 'g'],\n ['F09_phrases07_03.jpg', 'g'],\n ['F06_phrases07_09.jpg', 'g'],\n ['F05_phrases07_03.jpg', 'g'],\n ['M04_phrases07_07.jpg', 'g'],\n ['F11_phrases07_01.jpg', 'g'],\n ['F01_phrases07_07.jpg', 'g'],\n ['F01_phrases07_06.jpg', 'g'],\n ['M04_phrases07_06.jpg', 'g'],\n ['F05_phrases07_02.jpg', 'g'],\n ['F06_phrases07_08.jpg', 'g'],\n ['M04_phrases07_10.jpg', 'g'],\n ['M04_phrases07_04.jpg', 'g'],\n ['M08_phrases07_09.jpg', 'g'],\n ['F01_phrases07_04.jpg', 'g'],\n ['F01_phrases07_10.jpg', 'g'],\n ['F01_phrases07_05.jpg', 'g'],\n ['M08_phrases07_08.jpg', 'g'],\n ['M04_phrases07_05.jpg', 'g'],\n ['F05_phrases07_01.jpg', 'g'],\n ['F09_phrases07_08.jpg', 'g'],\n ['F05_phrases07_05.jpg', 'g'],\n ['M04_phrases07_01.jpg', 'g'],\n ['F11_phrases07_07.jpg', 'g'],\n ['F01_phrases07_01.jpg', 'g'],\n ['F11_phrases07_06.jpg', 'g'],\n ['F05_phrases07_04.jpg', 'g'],\n ['F05_phrases07_10.jpg', 'g'],\n ['F09_phrases07_09.jpg', 'g'],\n ['F05_phrases07_06.jpg', 'g'],\n ['F02_phrases07_08.jpg', 'g'],\n ['M04_phrases07_02.jpg', 'g'],\n ['M07_phrases07_08.jpg', 'g'],\n ['F11_phrases07_10.jpg', 'g'],\n ['F01_phrases07_02.jpg', 'g'],\n ['F11_phrases07_04.jpg', 'g'],\n ['F01_phrases07_03.jpg', 'g'],\n ['F11_phrases07_05.jpg', 'g'],\n ['M07_phrases07_09.jpg', 'g'],\n ['M04_phrases07_03.jpg', 'g'],\n ['F02_phrases07_09.jpg', 'g'],\n ['F05_phrases07_07.jpg', 'g'],\n ['M01_phrases07_02.jpg', 'g'],\n ['F07_phrases07_08.jpg', 'g'],\n ['F04_phrases07_02.jpg', 'g'],\n ['F10_phrases07_01.jpg', 'g'],\n ['F04_phrases07_03.jpg', 'g'],\n ['F07_phrases07_09.jpg', 'g'],\n ['M01_phrases07_03.jpg', 'g'],\n ['F04_phrases07_01.jpg', 'g'],\n ['F10_phrases07_03.jpg', 'g'],\n ['F10_phrases07_02.jpg', 'g'],\n ['M01_phrases07_04.jpg', 'g'],\n ['M01_phrases07_10.jpg', 'g'],\n ['F08_phrases07_09.jpg', 'g'],\n ['F04_phrases07_10.jpg', 'g'],\n ['F04_phrases07_04.jpg', 'g'],\n ['F10_phrases07_06.jpg', 'g'],\n ['F04_phrases07_05.jpg', 'g'],\n ['F08_phrases07_08.jpg', 'g'],\n ['M01_phrases07_05.jpg', 'g'],\n ['F04_phrases07_07.jpg', 'g'],\n ['F10_phrases07_05.jpg', 'g'],\n ['F10_phrases07_04.jpg', 'g'],\n ['F10_phrases07_10.jpg', 'g'],\n ['F04_phrases07_06.jpg', 'g'],\n ['F11_words10_02.jpg', 't'],\n ['F04_words10_02.jpg', 't'],\n ['F02_words10_05.jpg', 't'],\n ['F05_words10_06.jpg', 't'],\n ['F10_words10_06.jpg', 't'],\n ['F10_words10_07.jpg', 't'],\n ['F05_words10_07.jpg', 't'],\n ['F02_words10_10.jpg', 't'],\n ['F02_words10_04.jpg', 't'],\n ['F04_words10_03.jpg', 't'],\n ['F11_words10_03.jpg', 't'],\n ['F11_words10_01.jpg', 't'],\n ['F04_words10_01.jpg', 't'],\n ['F02_words10_06.jpg', 't'],\n ['F05_words10_05.jpg', 't'],\n ['F10_words10_05.jpg', 't'],\n ['F10_words10_04.jpg', 't'],\n ['F05_words10_04.jpg', 't'],\n ['F10_words10_10.jpg', 't'],\n ['F05_words10_10.jpg', 't'],\n ['F02_words10_07.jpg', 't'],\n ['F04_words10_04.jpg', 't'],\n ['F11_words10_04.jpg', 't'],\n ['F04_words10_10.jpg', 't'],\n ['F11_words10_10.jpg', 't'],\n ['F02_words10_03.jpg', 't'],\n ['F05_words10_01.jpg', 't'],\n ['F10_words10_01.jpg', 't'],\n ['F02_words10_02.jpg', 't'],\n ['F11_words10_05.jpg', 't'],\n ['F04_words10_05.jpg', 't'],\n ['M02_words10_01.jpg', 't'],\n ['F04_words10_07.jpg', 't'],\n ['F11_words10_07.jpg', 't'],\n ['F10_words10_03.jpg', 't'],\n ['F05_words10_03.jpg', 't'],\n ['F05_words10_02.jpg', 't'],\n ['F10_words10_02.jpg', 't'],\n ['F02_words10_01.jpg', 't'],\n ['F11_words10_06.jpg', 't'],\n ['F04_words10_06.jpg', 't'],\n ['M02_words10_02.jpg', 't'],\n ['F07_words10_03.jpg', 't'],\n ['M01_words10_07.jpg', 't'],\n ['F08_words10_01.jpg', 't'],\n ['F06_words10_07.jpg', 't'],\n ['M08_words10_02.jpg', 't'],\n ['F01_words10_04.jpg', 't'],\n ['F01_words10_10.jpg', 't'],\n ['F09_words10_05.jpg', 't'],\n ['F09_words10_04.jpg', 't'],\n ['M08_words10_03.jpg', 't'],\n ['F09_words10_10.jpg', 't'],\n ['F01_words10_05.jpg', 't'],\n ['F06_words10_06.jpg', 't'],\n ['M01_words10_06.jpg', 't'],\n ['F07_words10_02.jpg', 't'],\n ['M01_words10_10.jpg', 't'],\n ['F08_words10_02.jpg', 't'],\n ['M01_words10_04.jpg', 't'],\n ['F06_words10_10.jpg', 't'],\n ['M07_words10_03.jpg', 't'],\n ['F06_words10_04.jpg', 't'],\n ['F09_words10_06.jpg', 't'],\n ['F01_words10_07.jpg', 't'],\n ['M08_words10_01.jpg', 't'],\n ['F01_words10_06.jpg', 't'],\n ['F09_words10_07.jpg', 't'],\n ['F06_words10_05.jpg', 't'],\n ['F08_words10_03.jpg', 't'],\n ['M01_words10_05.jpg', 't'],\n ['F07_words10_01.jpg', 't'],\n ['F07_words10_05.jpg', 't'],\n ['M01_words10_01.jpg', 't'],\n ['F08_words10_07.jpg', 't'],\n ['M07_words10_06.jpg', 't'],\n ['F06_words10_01.jpg', 't'],\n ['M08_words10_10.jpg', 't'],\n ['F09_words10_03.jpg', 't'],\n ['M08_words10_04.jpg', 't'],\n ['F01_words10_02.jpg', 't'],\n ['M08_words10_05.jpg', 't'],\n ['F01_words10_03.jpg', 't'],\n ['F09_words10_02.jpg', 't'],\n ['M07_words10_07.jpg', 't'],\n ['F08_words10_06.jpg', 't'],\n ['F07_words10_10.jpg', 't'],\n ['F07_words10_04.jpg', 't'],\n ['F07_words10_06.jpg', 't'],\n ['F08_words10_04.jpg', 't'],\n ['M01_words10_02.jpg', 't'],\n ['F08_words10_10.jpg', 't'],\n ['F06_words10_02.jpg', 't'],\n ['M07_words10_05.jpg', 't'],\n ['F01_words10_01.jpg', 't'],\n ['M08_words10_07.jpg', 't'],\n ['F09_words10_01.jpg', 't'],\n ['M08_words10_06.jpg', 't'],\n ['M07_words10_04.jpg', 't'],\n ['F06_words10_03.jpg', 't'],\n ['M07_words10_10.jpg', 't'],\n ['F08_words10_05.jpg', 't'],\n ['M01_words10_03.jpg', 't'],\n ['F07_words10_07.jpg', 't'],\n ['F08_words10_08.jpg', 't'],\n ['M07_words10_09.jpg', 't'],\n ['M07_words10_08.jpg', 't'],\n ['F08_words10_09.jpg', 't'],\n ['F07_words10_09.jpg', 't'],\n ['M08_words10_08.jpg', 't'],\n ['M08_words10_09.jpg', 't'],\n ['F07_words10_08.jpg', 't'],\n ['M01_words10_08.jpg', 't'],\n ['F06_words10_08.jpg', 't'],\n ['F06_words10_09.jpg', 't'],\n ['M01_words10_09.jpg', 't'],\n ['F09_words10_09.jpg', 't'],\n ['F01_words10_08.jpg', 't'],\n ['F01_words10_09.jpg', 't'],\n ['F09_words10_08.jpg', 't'],\n ['F11_words10_08.jpg', 't'],\n ['F04_words10_08.jpg', 't'],\n ['F04_words10_09.jpg', 't'],\n ['F11_words10_09.jpg', 't'],\n ['F10_words10_09.jpg', 't'],\n ['F05_words10_09.jpg', 't'],\n ['F05_words10_08.jpg', 't'],\n ['F10_words10_08.jpg', 't'],\n ['F02_words10_09.jpg', 't'],\n ['F02_words10_08.jpg', 't'],\n ['M04_words09_08.jpg', 's'],\n ['M04_words09_09.jpg', 's'],\n ['F04_words09_08.jpg', 's'],\n ['F11_words09_08.jpg', 's'],\n ['F11_words09_09.jpg', 's'],\n ['F04_words09_09.jpg', 's'],\n ['F05_words09_09.jpg', 's'],\n ['F05_words09_08.jpg', 's'],\n ['F02_words09_09.jpg', 's'],\n ['F02_words09_08.jpg', 's'],\n ['F08_words09_08.jpg', 's'],\n ['M07_words09_09.jpg', 's'],\n ['M07_words09_08.jpg', 's'],\n ['F08_words09_09.jpg', 's'],\n ['F07_words09_09.jpg', 's'],\n ['M08_words09_08.jpg', 's'],\n ['M08_words09_09.jpg', 's'],\n ['F07_words09_08.jpg', 's'],\n ['M01_words09_08.jpg', 's'],\n ['F06_words09_08.jpg', 's'],\n ['F06_words09_09.jpg', 's'],\n ['M01_words09_09.jpg', 's'],\n ['F01_words09_08.jpg', 's'],\n ['F09_words09_09.jpg', 's'],\n ['F09_words09_08.jpg', 's'],\n ['F01_words09_09.jpg', 's'],\n ['F08_words09_01.jpg', 's'],\n ['M01_words09_07.jpg', 's'],\n ['F07_words09_03.jpg', 's'],\n ['F09_words09_05.jpg', 's'],\n ['F01_words09_10.jpg', 's'],\n ['F01_words09_04.jpg', 's'],\n ['M08_words09_02.jpg', 's'],\n ['F06_words09_07.jpg', 's'],\n ['F06_words09_06.jpg', 's'],\n ['M07_words09_01.jpg', 's'],\n ['F01_words09_05.jpg', 's'],\n ['F09_words09_10.jpg', 's'],\n ['M08_words09_03.jpg', 's'],\n ['F09_words09_04.jpg', 's'],\n ['F07_words09_02.jpg', 's'],\n ['M01_words09_06.jpg', 's'],\n ['M01_words09_04.jpg', 's'],\n ['F08_words09_02.jpg', 's'],\n ['M01_words09_10.jpg', 's'],\n ['M08_words09_01.jpg', 's'],\n ['F01_words09_07.jpg', 's'],\n ['F09_words09_06.jpg', 's'],\n ['F06_words09_04.jpg', 's'],\n ['M07_words09_03.jpg', 's'],\n ['F06_words09_10.jpg', 's'],\n ['M07_words09_02.jpg', 's'],\n ['F06_words09_05.jpg', 's'],\n ['F09_words09_07.jpg', 's'],\n ['F01_words09_06.jpg', 's'],\n ['F07_words09_01.jpg', 's'],\n ['M01_words09_05.jpg', 's'],\n ['F08_words09_03.jpg', 's'],\n ['F08_words09_07.jpg', 's'],\n ['M01_words09_01.jpg', 's'],\n ['F07_words09_05.jpg', 's'],\n ['F01_words09_02.jpg', 's'],\n ['M08_words09_04.jpg', 's'],\n ['F09_words09_03.jpg', 's'],\n ['M08_words09_10.jpg', 's'],\n ['F06_words09_01.jpg', 's'],\n ['M07_words09_06.jpg', 's'],\n ['M07_words09_07.jpg', 's'],\n ['F09_words09_02.jpg', 's'],\n ['F01_words09_03.jpg', 's'],\n ['M08_words09_05.jpg', 's'],\n ['F07_words09_04.jpg', 's'],\n ['F07_words09_10.jpg', 's'],\n ['F08_words09_06.jpg', 's'],\n ['F08_words09_10.jpg', 's'],\n ['M01_words09_02.jpg', 's'],\n ['F08_words09_04.jpg', 's'],\n ['F07_words09_06.jpg', 's'],\n ['M08_words09_07.jpg', 's'],\n ['F01_words09_01.jpg', 's'],\n ['M07_words09_05.jpg', 's'],\n ['F06_words09_02.jpg', 's'],\n ['M07_words09_10.jpg', 's'],\n ['F06_words09_03.jpg', 's'],\n ['M07_words09_04.jpg', 's'],\n ['M08_words09_06.jpg', 's'],\n ['F09_words09_01.jpg', 's'],\n ['F07_words09_07.jpg', 's'],\n ['M01_words09_03.jpg', 's'],\n ['F08_words09_05.jpg', 's'],\n ['F04_words09_02.jpg', 's'],\n ['F11_words09_02.jpg', 's'],\n ['M04_words09_01.jpg', 's'],\n ['F05_words09_06.jpg', 's'],\n ['F02_words09_05.jpg', 's'],\n ['F02_words09_04.jpg', 's'],\n ['F02_words09_10.jpg', 's'],\n ['F05_words09_07.jpg', 's'],\n ['F11_words09_03.jpg', 's'],\n ['F04_words09_03.jpg', 's'],\n ['F04_words09_01.jpg', 's'],\n ['F11_words09_01.jpg', 's'],\n ['F05_words09_05.jpg', 's'],\n ['M04_words09_02.jpg', 's'],\n ['F02_words09_06.jpg', 's'],\n ['F02_words09_07.jpg', 's'],\n ['M04_words09_03.jpg', 's'],\n ['F05_words09_10.jpg', 's'],\n ['F05_words09_04.jpg', 's'],\n ['F11_words09_10.jpg', 's'],\n ['F04_words09_10.jpg', 's'],\n ['F11_words09_04.jpg', 's'],\n ['F04_words09_04.jpg', 's'],\n ['M04_words09_07.jpg', 's'],\n ['F02_words09_03.jpg', 's'],\n ['F02_words09_02.jpg', 's'],\n ['M04_words09_06.jpg', 's'],\n ['F05_words09_01.jpg', 's'],\n ['F04_words09_05.jpg', 's'],\n ['F11_words09_05.jpg', 's'],\n ['F11_words09_07.jpg', 's'],\n ['F04_words09_07.jpg', 's'],\n ['M04_words09_04.jpg', 's'],\n ['M04_words09_10.jpg', 's'],\n ['F05_words09_03.jpg', 's'],\n ['F02_words09_01.jpg', 's'],\n ['F05_words09_02.jpg', 's'],\n ['M04_words09_05.jpg', 's'],\n ['F04_words09_06.jpg', 's'],\n ['F11_words09_06.jpg', 's'],\n ['M08_phrases01_01.jpg', 'a'],\n ['M07_phrases01_06.jpg', 'a'],\n ['F06_phrases01_02.jpg', 'a'],\n ['F09_phrases01_05.jpg', 'a'],\n ['F05_phrases01_08.jpg', 'a'],\n ['F05_phrases01_09.jpg', 'a'],\n ['F09_phrases01_04.jpg', 'a'],\n ['F09_phrases01_10.jpg', 'a'],\n ['F06_phrases01_03.jpg', 'a'],\n ['M07_phrases01_07.jpg', 'a'],\n ['M08_phrases01_02.jpg', 'a'],\n ['M07_phrases01_05.jpg', 'a'],\n ['F11_phrases01_09.jpg', 'a'],\n ['F06_phrases01_01.jpg', 'a'],\n ['F09_phrases01_06.jpg', 'a'],\n ['F11_phrases01_08.jpg', 'a'],\n ['M07_phrases01_04.jpg', 'a'],\n ['M07_phrases01_10.jpg', 'a'],\n ['M08_phrases01_03.jpg', 'a'],\n ['M08_phrases01_07.jpg', 'a'],\n ['F09_phrases01_03.jpg', 'a'],\n ['F06_phrases01_10.jpg', 'a'],\n ['F06_phrases01_04.jpg', 'a'],\n ['F06_phrases01_05.jpg', 'a'],\n ['F09_phrases01_02.jpg', 'a'],\n ['M08_phrases01_06.jpg', 'a'],\n ['M07_phrases01_01.jpg', 'a'],\n ['M04_phrases01_09.jpg', 'a'],\n ['M07_phrases01_03.jpg', 'a'],\n ['M08_phrases01_10.jpg', 'a'],\n ['M08_phrases01_04.jpg', 'a'],\n ['F06_phrases01_07.jpg', 'a'],\n ['F09_phrases01_01.jpg', 'a'],\n ['M08_phrases01_05.jpg', 'a'],\n ['M07_phrases01_02.jpg', 'a'],\n ['M04_phrases01_08.jpg', 'a'],\n ['M01_phrases01_09.jpg', 'a'],\n ['F07_phrases01_03.jpg', 'a'],\n ['F08_phrases01_10.jpg', 'a'],\n ['F08_phrases01_04.jpg', 'a'],\n ['M02_phrases01_03.jpg', 'a'],\n ['M02_phrases01_02.jpg', 'a'],\n ['F08_phrases01_05.jpg', 'a'],\n ['F07_phrases01_02.jpg', 'a'],\n ['M01_phrases01_08.jpg', 'a'],\n ['F10_phrases01_08.jpg', 'a'],\n ['F08_phrases01_07.jpg', 'a'],\n ['M02_phrases01_01.jpg', 'a'],\n ['F08_phrases01_06.jpg', 'a'],\n ['F07_phrases01_01.jpg', 'a'],\n ['F10_phrases01_09.jpg', 'a'],\n ['F07_phrases01_05.jpg', 'a'],\n ['M02_phrases01_05.jpg', 'a'],\n ['M02_phrases01_10.jpg', 'a'],\n ['M02_phrases01_04.jpg', 'a'],\n ['F07_phrases01_04.jpg', 'a'],\n ['M02_phrases01_06.jpg', 'a'],\n ['M02_phrases01_07.jpg', 'a'],\n ['F10_phrases01_02.jpg', 'a'],\n ['M01_phrases01_01.jpg', 'a'],\n ['F10_phrases01_03.jpg', 'a'],\n ['F10_phrases01_01.jpg', 'a'],\n ['M01_phrases01_03.jpg', 'a'],\n ['F04_phrases01_03.jpg', 'a'],\n ['M02_phrases01_09.jpg', 'a'],\n ['M02_phrases01_08.jpg', 'a'],\n ['F04_phrases01_02.jpg', 'a'],\n ['M01_phrases01_02.jpg', 'a'],\n ['F10_phrases01_04.jpg', 'a'],\n ['F10_phrases01_10.jpg', 'a'],\n ['M01_phrases01_06.jpg', 'a'],\n ['F04_phrases01_06.jpg', 'a'],\n ['F04_phrases01_07.jpg', 'a'],\n ['M01_phrases01_07.jpg', 'a'],\n ['F10_phrases01_05.jpg', 'a'],\n ['F10_phrases01_07.jpg', 'a'],\n ['M01_phrases01_05.jpg', 'a'],\n ['F08_phrases01_08.jpg', 'a'],\n ['F04_phrases01_05.jpg', 'a'],\n ['F04_phrases01_04.jpg', 'a'],\n ['F08_phrases01_09.jpg', 'a'],\n ['M01_phrases01_04.jpg', 'a'],\n ['M01_phrases01_10.jpg', 'a'],\n ['F10_phrases01_06.jpg', 'a'],\n ['M04_phrases01_05.jpg', 'a'],\n ['M08_phrases01_08.jpg', 'a'],\n ['F11_phrases01_03.jpg', 'a'],\n ['F05_phrases01_01.jpg', 'a'],\n ['F11_phrases01_02.jpg', 'a'],\n ['M08_phrases01_09.jpg', 'a'],\n ['M04_phrases01_10.jpg', 'a'],\n ['M04_phrases01_04.jpg', 'a'],\n ['M04_phrases01_06.jpg', 'a'],\n ['F06_phrases01_08.jpg', 'a'],\n ['F05_phrases01_02.jpg', 'a'],\n ['F05_phrases01_03.jpg', 'a'],\n ['F06_phrases01_09.jpg', 'a'],\n ['F11_phrases01_01.jpg', 'a'],\n ['M04_phrases01_07.jpg', 'a'],\n ['M04_phrases01_03.jpg', 'a'],\n ['M07_phrases01_09.jpg', 'a'],\n ['F11_phrases01_05.jpg', 'a'],\n ['F05_phrases01_07.jpg', 'a'],\n ['F05_phrases01_06.jpg', 'a'],\n ['F11_phrases01_10.jpg', 'a'],\n ['F11_phrases01_04.jpg', 'a'],\n ['M07_phrases01_08.jpg', 'a'],\n ['M04_phrases01_02.jpg', 'a'],\n ['F11_phrases01_06.jpg', 'a'],\n ['F09_phrases01_09.jpg', 'a'],\n ['F05_phrases01_04.jpg', 'a'],\n ['F05_phrases01_10.jpg', 'a'],\n ['F05_phrases01_05.jpg', 'a'],\n ['F11_phrases01_07.jpg', 'a'],\n ['M04_phrases01_01.jpg', 'a'],\n ['M04_phrases06_05.jpg', 'f'],\n ['M08_phrases06_08.jpg', 'f'],\n ['F11_phrases06_03.jpg', 'f'],\n ['F05_phrases06_01.jpg', 'f'],\n ['F11_phrases06_02.jpg', 'f'],\n ['M08_phrases06_09.jpg', 'f'],\n ['M04_phrases06_04.jpg', 'f'],\n ['M04_phrases06_10.jpg', 'f'],\n ['M04_phrases06_06.jpg', 'f'],\n ['F06_phrases06_08.jpg', 'f'],\n ['F05_phrases06_02.jpg', 'f'],\n ['F05_phrases06_03.jpg', 'f'],\n ['F06_phrases06_09.jpg', 'f'],\n ['F11_phrases06_01.jpg', 'f'],\n ['M04_phrases06_07.jpg', 'f'],\n ['F02_phrases06_09.jpg', 'f'],\n ['M04_phrases06_03.jpg', 'f'],\n ['M07_phrases06_09.jpg', 'f'],\n ['F11_phrases06_05.jpg', 'f'],\n ['F05_phrases06_07.jpg', 'f'],\n ['F05_phrases06_06.jpg', 'f'],\n ['F11_phrases06_04.jpg', 'f'],\n ['F11_phrases06_10.jpg', 'f'],\n ['M07_phrases06_08.jpg', 'f'],\n ['M04_phrases06_02.jpg', 'f'],\n ['F02_phrases06_08.jpg', 'f'],\n ['F11_phrases06_06.jpg', 'f'],\n ['F09_phrases06_09.jpg', 'f'],\n ['F05_phrases06_10.jpg', 'f'],\n ['F05_phrases06_04.jpg', 'f'],\n ['F05_phrases06_05.jpg', 'f'],\n ['F09_phrases06_08.jpg', 'f'],\n ['F11_phrases06_07.jpg', 'f'],\n ['M04_phrases06_01.jpg', 'f'],\n ['F10_phrases06_02.jpg', 'f'],\n ['F04_phrases06_01.jpg', 'f'],\n ['M01_phrases06_01.jpg', 'f'],\n ['F10_phrases06_03.jpg', 'f'],\n ['F10_phrases06_01.jpg', 'f'],\n ['M01_phrases06_03.jpg', 'f'],\n ['F07_phrases06_09.jpg', 'f'],\n ['F04_phrases06_03.jpg', 'f'],\n ['M02_phrases06_09.jpg', 'f'],\n ['M02_phrases06_08.jpg', 'f'],\n ['F04_phrases06_02.jpg', 'f'],\n ['F07_phrases06_08.jpg', 'f'],\n ['M01_phrases06_02.jpg', 'f'],\n ['F10_phrases06_10.jpg', 'f'],\n ['F10_phrases06_04.jpg', 'f'],\n ['M01_phrases06_06.jpg', 'f'],\n ['F04_phrases06_06.jpg', 'f'],\n ['M01_phrases06_07.jpg', 'f'],\n ['F10_phrases06_05.jpg', 'f'],\n ['F10_phrases06_07.jpg', 'f'],\n ['M01_phrases06_05.jpg', 'f'],\n ['F08_phrases06_08.jpg', 'f'],\n ['F04_phrases06_05.jpg', 'f'],\n ['F04_phrases06_04.jpg', 'f'],\n ['F08_phrases06_09.jpg', 'f'],\n ['M01_phrases06_10.jpg', 'f'],\n ['M01_phrases06_04.jpg', 'f'],\n ['F10_phrases06_06.jpg', 'f'],\n ['M01_phrases06_09.jpg', 'f'],\n ['F08_phrases06_04.jpg', 'f'],\n ['F08_phrases06_10.jpg', 'f'],\n ['F07_phrases06_03.jpg', 'f'],\n ['M02_phrases06_03.jpg', 'f'],\n ['M02_phrases06_02.jpg', 'f'],\n ['F07_phrases06_02.jpg', 'f'],\n ['F08_phrases06_05.jpg', 'f'],\n ['M01_phrases06_08.jpg', 'f'],\n ['F10_phrases06_08.jpg', 'f'],\n ['F08_phrases06_07.jpg', 'f'],\n ['M02_phrases06_01.jpg', 'f'],\n ['F07_phrases06_01.jpg', 'f'],\n ['F08_phrases06_06.jpg', 'f'],\n ['F10_phrases06_09.jpg', 'f'],\n ['F07_phrases06_05.jpg', 'f'],\n ['M02_phrases06_05.jpg', 'f'],\n ['M02_phrases06_04.jpg', 'f'],\n ['M02_phrases06_10.jpg', 'f'],\n ['F07_phrases06_10.jpg', 'f'],\n ['F07_phrases06_04.jpg', 'f'],\n ['F07_phrases06_06.jpg', 'f'],\n ['M02_phrases06_06.jpg', 'f'],\n ['M02_phrases06_07.jpg', 'f'],\n ['F07_phrases06_07.jpg', 'f'],\n ['F02_phrases06_06.jpg', 'f'],\n ['M07_phrases06_06.jpg', 'f'],\n ['M08_phrases06_01.jpg', 'f'],\n ['F09_phrases06_05.jpg', 'f'],\n ['F06_phrases06_02.jpg', 'f'],\n ['F05_phrases06_08.jpg', 'f'],\n ['F05_phrases06_09.jpg', 'f'],\n ['F06_phrases06_03.jpg', 'f'],\n ['F09_phrases06_10.jpg', 'f'],\n ['F09_phrases06_04.jpg', 'f'],\n ['M07_phrases06_07.jpg', 'f'],\n ['F02_phrases06_07.jpg', 'f'],\n ['F02_phrases06_05.jpg', 'f'],\n ['M07_phrases06_05.jpg', 'f'],\n ['M08_phrases06_02.jpg', 'f'],\n ['F11_phrases06_09.jpg', 'f'],\n ['F09_phrases06_06.jpg', 'f'],\n ['F06_phrases06_01.jpg', 'f'],\n ...]"
     },
     "execution_count": 4,
     "metadata": {},
     "output_type": "execute_result"
    }
   ],
   "source": [
    "data"
   ],
   "metadata": {
    "collapsed": false,
    "pycharm": {
     "name": "#%%\n"
    }
   }
  },
  {
   "cell_type": "code",
   "execution_count": 14,
   "outputs": [
    {
     "data": {
      "text/plain": "'/Users/benedettosimone/PycharmProjects/LipNetProve/codes'"
     },
     "execution_count": 14,
     "metadata": {},
     "output_type": "execute_result"
    }
   ],
   "source": [
    "os.getcwd()"
   ],
   "metadata": {
    "collapsed": false,
    "pycharm": {
     "name": "#%%\n"
    }
   }
  },
  {
   "cell_type": "code",
   "execution_count": 4,
   "outputs": [],
   "source": [],
   "metadata": {
    "collapsed": false,
    "pycharm": {
     "name": "#%%\n"
    }
   }
  },
  {
   "cell_type": "code",
   "execution_count": 6,
   "outputs": [],
   "source": [
    "import csv\n",
    "os.chdir('../../codes')\n",
    "header = ['filename', 'label']\n",
    "\n",
    "with open('training_labels.csv', 'w', encoding='UTF8', newline='') as f:\n",
    "    writer = csv.writer(f)\n",
    "\n",
    "    # write the header\n",
    "    writer.writerow(header)\n",
    "\n",
    "    # write multiple rows\n",
    "    writer.writerows(data)"
   ],
   "metadata": {
    "collapsed": false,
    "pycharm": {
     "name": "#%%\n"
    }
   }
  },
  {
   "cell_type": "code",
   "execution_count": 10,
   "outputs": [],
   "source": [
    "train_data = pd.read_csv('training_labels.csv')\n",
    "Y = train_data[['label']]\n",
    "\n",
    "kf = KFold(n_splits = 5)\n",
    "\n",
    "skf = StratifiedKFold(n_splits = 5, random_state = 7, shuffle = True)"
   ],
   "metadata": {
    "collapsed": false,
    "pycharm": {
     "name": "#%%\n"
    }
   }
  },
  {
   "cell_type": "code",
   "execution_count": 18,
   "outputs": [],
   "source": [
    "idg = ImageDataGenerator(rescale=1./255)"
   ],
   "metadata": {
    "collapsed": false,
    "pycharm": {
     "name": "#%%\n"
    }
   }
  },
  {
   "cell_type": "code",
   "execution_count": 12,
   "outputs": [],
   "source": [
    "def get_model_name(k):\n",
    "    return 'model_'+str(k)+'.h5'"
   ],
   "metadata": {
    "collapsed": false,
    "pycharm": {
     "name": "#%%\n"
    }
   }
  },
  {
   "cell_type": "code",
   "execution_count": 15,
   "outputs": [],
   "source": [
    "def create_new_model():\n",
    "    import os\n",
    "    import numpy as np\n",
    "    from keras.models import Sequential # To initialise the nn as a sequence of layers\n",
    "    from keras.layers import Convolution2D # To make the convolution layer for 2D images\n",
    "    from keras.layers import MaxPooling2D #\n",
    "    from keras.layers import Flatten\n",
    "    from keras.layers import Dense\n",
    "    from keras.layers import Dropout\n",
    "    from keras.callbacks import CSVLogger\n",
    "    from tensorflow.keras.optimizers import RMSprop\n",
    "    from keras.layers import BatchNormalization\n",
    "    from tensorflow.keras.optimizers import Adam\n",
    "    from keras.models import load_model\n",
    "    from keras.callbacks import ModelCheckpoint\n",
    "    from keras.layers import Activation\n",
    "    from keras.layers import GlobalAveragePooling2D\n",
    "\n",
    "    csv=CSVLogger(\"2_adam-Copy1.log\")\n",
    "    #filepath=\"weights-improvement-{epoch:02d}-{val_acc:.2f}.hdf5\"\n",
    "    #checkpoint = ModelCheckpoint(filepath, monitor='val_acc', verbose=1, save_best_only=True, mode='max')\n",
    "\n",
    "\n",
    "    # Initialising the CNN\n",
    "    classifier = Sequential()\n",
    "\n",
    "    # Step 1 - Convolution\n",
    "    classifier.add(Convolution2D(32,(3,3),input_shape = (224,224,1), activation = 'sigmoid',name='convo2'))\n",
    "    # Step 2 - Pooling\n",
    "    classifier.add(MaxPooling2D(pool_size = (2,2)))\n",
    "\n",
    "    # Step 1 - Convolution\n",
    "    classifier.add(Convolution2D(32,(3,3),activation = 'sigmoid',name='convo3'))\n",
    "    # Step 2 - Pooling\n",
    "    classifier.add(MaxPooling2D(pool_size = (2,2)))\n",
    "    # Step 3 - Flattening\n",
    "    classifier.add(Convolution2D(64,(3,3),activation = 'relu',name='convo4'))\n",
    "    # Step 2 - Pooling\n",
    "    classifier.add(MaxPooling2D(pool_size = (2,2)))\n",
    "    # Step 3 - Flatten\n",
    "    classifier.add(Flatten())\n",
    "\n",
    "    classifier.add(Dropout((0.6)))\n",
    "    classifier.add(Dense(1024))\n",
    "    classifier.add(BatchNormalization(scale = False))\n",
    "    classifier.add(Activation('relu'))\n",
    "    classifier.add(Dropout((0.4)))\n",
    "    classifier.add(Dense(20, activation = 'softmax'))"
   ],
   "metadata": {
    "collapsed": false,
    "pycharm": {
     "name": "#%%\n"
    }
   }
  },
  {
   "cell_type": "code",
   "execution_count": 19,
   "outputs": [
    {
     "name": "stderr",
     "output_type": "stream",
     "text": [
      "/Users/benedettosimone/PycharmProjects/LipNetProve/venv/lib/python3.9/site-packages/keras_preprocessing/image/dataframe_iterator.py:279: UserWarning: Found 2068 invalid image filename(s) in x_col=\"filename\". These filename(s) will be ignored.\n",
      "  warnings.warn(\n",
      "/Users/benedettosimone/PycharmProjects/LipNetProve/venv/lib/python3.9/site-packages/keras_preprocessing/image/dataframe_iterator.py:279: UserWarning: Found 517 invalid image filename(s) in x_col=\"filename\". These filename(s) will be ignored.\n",
      "  warnings.warn(\n",
      "2022-01-12 12:24:22.011052: I tensorflow/core/platform/cpu_feature_guard.cc:151] This TensorFlow binary is optimized with oneAPI Deep Neural Network Library (oneDNN) to use the following CPU instructions in performance-critical operations:  AVX2 FMA\n",
      "To enable them in other operations, rebuild TensorFlow with the appropriate compiler flags.\n"
     ]
    },
    {
     "name": "stdout",
     "output_type": "stream",
     "text": [
      "Found 0 validated image filenames belonging to 0 classes.\n",
      "Found 0 validated image filenames belonging to 0 classes.\n"
     ]
    },
    {
     "ename": "AttributeError",
     "evalue": "'NoneType' object has no attribute 'compile'",
     "output_type": "error",
     "traceback": [
      "\u001B[0;31m---------------------------------------------------------------------------\u001B[0m",
      "\u001B[0;31mAttributeError\u001B[0m                            Traceback (most recent call last)",
      "\u001B[0;32m/var/folders/tb/n9ftq3cd11s91p64q_k5lvy00000gn/T/ipykernel_14151/3728103441.py\u001B[0m in \u001B[0;36m<module>\u001B[0;34m\u001B[0m\n\u001B[1;32m     19\u001B[0m         \u001B[0mmodel\u001B[0m \u001B[0;34m=\u001B[0m \u001B[0mcreate_new_model\u001B[0m\u001B[0;34m(\u001B[0m\u001B[0;34m)\u001B[0m\u001B[0;34m\u001B[0m\u001B[0;34m\u001B[0m\u001B[0m\n\u001B[1;32m     20\u001B[0m         \u001B[0;31m# COMPILE NEW MODEL\u001B[0m\u001B[0;34m\u001B[0m\u001B[0;34m\u001B[0m\u001B[0;34m\u001B[0m\u001B[0m\n\u001B[0;32m---> 21\u001B[0;31m \tmodel.compile(loss='categorical_crossentropy',\n\u001B[0m\u001B[1;32m     22\u001B[0m                       \u001B[0moptimizer\u001B[0m\u001B[0;34m=\u001B[0m\u001B[0;34m\"Adam\"\u001B[0m\u001B[0;34m,\u001B[0m\u001B[0;34m\u001B[0m\u001B[0;34m\u001B[0m\u001B[0m\n\u001B[1;32m     23\u001B[0m \t\t      metrics=['accuracy'])\n",
      "\u001B[0;31mAttributeError\u001B[0m: 'NoneType' object has no attribute 'compile'"
     ]
    }
   ],
   "source": [
    "VALIDATION_ACCURACY = []\n",
    "VALIDATION_LOSS = []\n",
    "\n",
    "save_dir = '/saved_models/'\n",
    "fold_var = 1\n",
    "\n",
    "for train_index, val_index in kf.split(np.zeros(2585),Y):\n",
    "\ttraining_data = train_data.iloc[train_index]\n",
    "\tvalidation_data = train_data.iloc[val_index]\n",
    "\n",
    "\ttrain_data_generator = idg.flow_from_dataframe(training_data, directory = '../Dataset/Train',\n",
    "\t\t\t\t\t\t       x_col = \"filename\", y_col = \"label\",\n",
    "\t\t\t\t\t\t       class_mode = \"categorical\", shuffle = True)\n",
    "\tvalid_data_generator  = idg.flow_from_dataframe(validation_data, directory =  '../Dataset/Train',\n",
    "\t\t\t\t\t\t\tx_col = \"filename\", y_col = \"label\",\n",
    "\t\t\t\t\t\t\tclass_mode = \"categorical\", shuffle = True)\n",
    "\n",
    "\t# CREATE NEW MODEL\n",
    "\tmodel = create_new_model()\n",
    "\t# COMPILE NEW MODEL\n",
    "\tmodel.compile(loss='categorical_crossentropy',\n",
    "\t\t      optimizer=\"Adam\",\n",
    "\t\t      metrics=['accuracy'])\n",
    "\n",
    "\t# CREATE CALLBACKS\n",
    "\tcheckpoint = tf.keras.callbacks.ModelCheckpoint(save_dir+get_model_name(fold_var),\n",
    "\t\t\t\t\t\t\tmonitor='val_accuracy', verbose=1,\n",
    "\t\t\t\t\t\t\tsave_best_only=True, mode='max')\n",
    "\tcallbacks_list = [checkpoint]\n",
    "\t# There can be other callbacks, but just showing one because it involves the model name\n",
    "\t# This saves the best model\n",
    "\t# FIT THE MODEL\n",
    "\thistory = model.fit(train_data_generator,\n",
    "\t\t\t    epochs=10,\n",
    "\t\t\t    callbacks=callbacks_list,\n",
    "\t\t\t    validation_data=valid_data_generator)\n",
    "\t#PLOT HISTORY\n",
    "\t#\t\t:\n",
    "\t#\t\t:\n",
    "\n",
    "\t# LOAD BEST MODEL to evaluate the performance of the model\n",
    "\tmodel.load_weights(\"/saved_models/model_\"+str(fold_var)+\".h5\")\n",
    "\n",
    "\tresults = model.evaluate(valid_data_generator)\n",
    "\tresults = dict(zip(model.metrics_names,results))\n",
    "\n",
    "\tVALIDATION_ACCURACY.append(results['accuracy'])\n",
    "\tVALIDATION_LOSS.append(results['loss'])\n",
    "\n",
    "\ttf.keras.backend.clear_session()\n",
    "\n",
    "\tfold_var += 1"
   ],
   "metadata": {
    "collapsed": false,
    "pycharm": {
     "name": "#%%\n"
    }
   }
  },
  {
   "cell_type": "code",
   "execution_count": null,
   "outputs": [],
   "source": [],
   "metadata": {
    "collapsed": false,
    "pycharm": {
     "name": "#%%\n"
    }
   }
  }
 ],
 "metadata": {
  "kernelspec": {
   "display_name": "Python 3",
   "language": "python",
   "name": "python3"
  },
  "language_info": {
   "codemirror_mode": {
    "name": "ipython",
    "version": 2
   },
   "file_extension": ".py",
   "mimetype": "text/x-python",
   "name": "python",
   "nbconvert_exporter": "python",
   "pygments_lexer": "ipython2",
   "version": "2.7.6"
  }
 },
 "nbformat": 4,
 "nbformat_minor": 0
}