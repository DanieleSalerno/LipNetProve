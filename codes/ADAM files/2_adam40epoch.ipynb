{
 "cells": [
  {
   "cell_type": "code",
   "execution_count": 5,
   "metadata": {},
   "outputs": [],
   "source": [
    "import os\n",
    "import numpy as np\n",
    "import pandas as pd\n",
    "import tensorflow\n",
    "from keras.models import Sequential # To initialise the nn as a sequence of layers\n",
    "from keras.layers import Convolution2D # To make the convolution layer for 2D images\n",
    "from keras.layers import MaxPooling2D # \n",
    "from keras.layers import Flatten\n",
    "from keras.layers import Dense\n",
    "from keras.layers import Dropout\n",
    "from keras.callbacks import CSVLogger\n",
    "from tensorflow.keras.optimizers import RMSprop\n",
    "from keras.layers import BatchNormalization\n",
    "from tensorflow.keras.optimizers import Adam\n",
    "from tensorflow import data\n",
    "from keras.models import load_model\n",
    "from keras.callbacks import ModelCheckpoint\n",
    "from tensorflow import repeat as rp\n",
    "\n",
    "csv=CSVLogger(\"2_adam40.log\")\n",
    "#filepath=\"weights-improvement-{epoch:02d}-{val_acc:.2f}.hdf5\"\n",
    "#checkpoint = ModelCheckpoint(filepath, monitor='val_acc', verbose=1, save_best_only=True, mode='max')\n",
    "\n",
    "\n",
    "# Initialising the CNN\n",
    "classifier = Sequential()\n",
    "\n",
    "# Step 1 - Convolution\n",
    "classifier.add(Convolution2D(32,(2,2),input_shape = (224,224,1), activation = 'relu',strides=2,name='convo1'))\n",
    "classifier.add(Convolution2D(64,(3,3), activation = 'relu',name='convo2'))\n",
    "# Step 1 - Pooling\n",
    "classifier.add(MaxPooling2D(pool_size = (2,2)))\n",
    "\n",
    "# Step 2 - Convolution\n",
    "classifier.add(Convolution2D(64,(3,3),activation = 'relu',name='convo3'))\n",
    "# Step 2 - Pooling\n",
    "classifier.add(MaxPooling2D(pool_size = (2,2)))\n",
    "# Step 3 - Convolution\n",
    "classifier.add(Convolution2D(64,(3,3),activation = 'relu',name='convo4'))\n",
    "# Step 3 - Pooling\n",
    "classifier.add(MaxPooling2D(pool_size = (2,2)))\n",
    "#Step 4 - Flattening\n",
    "\n",
    "classifier.add(Flatten())\n",
    "\n",
    "classifier.add(BatchNormalization())\n",
    "classifier.add(Dropout((0.5)))\n",
    "classifier.add(Dense(1024, activation = 'relu'))\n",
    "\n",
    "'''classifier.add(BatchNormalization())\n",
    "classifier.add(Dropout((0.5)))\n",
    "classifier.add(Dense(512, activation = 'relu'))\n",
    "'''\n",
    "\n",
    "classifier.add(BatchNormalization())\n",
    "classifier.add(Dropout((0.4)))\n",
    "classifier.add(Dense(20, activation = 'softmax'))"
   ]
  },
  {
   "cell_type": "code",
   "execution_count": 6,
   "metadata": {},
   "outputs": [
    {
     "name": "stdout",
     "output_type": "stream",
     "text": [
      "Found 2585 images belonging to 20 classes.\n",
      "Found 200 images belonging to 20 classes.\n"
     ]
    },
    {
     "data": {
      "text/plain": "[]"
     },
     "execution_count": 6,
     "metadata": {},
     "output_type": "execute_result"
    }
   ],
   "source": [
    "import matplotlib.pyplot as plt\n",
    "adam = Adam(epsilon = 0.01)\n",
    "classifier.compile(optimizer = adam, loss = 'categorical_crossentropy', metrics = ['accuracy'])\n",
    "\n",
    "from keras.preprocessing.image import ImageDataGenerator\n",
    "\n",
    "train_datagen = ImageDataGenerator(rescale=1./255)\n",
    "\n",
    "test_datagen = ImageDataGenerator(rescale=1./255)\n",
    "\n",
    "curr_path = os.getcwd()\n",
    "basefolder = os.path.dirname(curr_path)\n",
    "train_folder = os.path.join(basefolder, \"..\\\\Dataset\\\\Train\")\n",
    "test_folder = os.path.join(basefolder, \"..\\\\Dataset\\\\dev\")\n",
    "train_set=tensorflow.data\n",
    "train_set = train_datagen.flow_from_directory(train_folder,target_size=(224, 224),batch_size=32,class_mode='categorical',color_mode='grayscale')\n",
    "\n",
    "\n",
    "test_set = test_datagen.flow_from_directory(test_folder,target_size=(224, 224),batch_size=32,class_mode='categorical',color_mode='grayscale')\n",
    "classifier.metrics_names\n",
    "\n",
    "\n"
   ]
  },
  {
   "cell_type": "code",
   "execution_count": 7,
   "outputs": [],
   "source": [
    "#nb_conda_kernels"
   ],
   "metadata": {
    "collapsed": false,
    "pycharm": {
     "name": "#%%\n"
    }
   }
  },
  {
   "cell_type": "code",
   "execution_count": 8,
   "metadata": {},
   "outputs": [
    {
     "name": "stdout",
     "output_type": "stream",
     "text": [
      "Epoch 1/40\n",
      "80/80 [==============================] - 44s 537ms/step - loss: 3.4772 - accuracy: 0.1350 - val_loss: 2.9795 - val_accuracy: 0.0650\n",
      "Epoch 2/40\n",
      "80/80 [==============================] - 40s 491ms/step - loss: 2.5192 - accuracy: 0.2867 - val_loss: 2.9666 - val_accuracy: 0.0900\n",
      "Epoch 3/40\n",
      "80/80 [==============================] - 91s 1s/step - loss: 1.9016 - accuracy: 0.4286 - val_loss: 2.9431 - val_accuracy: 0.0950\n",
      "Epoch 4/40\n",
      "80/80 [==============================] - 102s 1s/step - loss: 1.3745 - accuracy: 0.5675 - val_loss: 3.0329 - val_accuracy: 0.0600\n",
      "Epoch 5/40\n",
      "80/80 [==============================] - 104s 1s/step - loss: 1.0149 - accuracy: 0.6650 - val_loss: 2.7090 - val_accuracy: 0.1750\n",
      "Epoch 6/40\n",
      "80/80 [==============================] - 106s 1s/step - loss: 0.7411 - accuracy: 0.7567 - val_loss: 2.5266 - val_accuracy: 0.2000\n",
      "Epoch 7/40\n",
      "80/80 [==============================] - 104s 1s/step - loss: 0.6470 - accuracy: 0.7822 - val_loss: 2.9990 - val_accuracy: 0.2250\n",
      "Epoch 8/40\n",
      "80/80 [==============================] - 105s 1s/step - loss: 0.5091 - accuracy: 0.8294 - val_loss: 4.6353 - val_accuracy: 0.3000\n",
      "Epoch 9/40\n",
      "80/80 [==============================] - 104s 1s/step - loss: 0.4320 - accuracy: 0.8607 - val_loss: 5.2315 - val_accuracy: 0.2450\n",
      "Epoch 10/40\n",
      "80/80 [==============================] - 104s 1s/step - loss: 0.3577 - accuracy: 0.8809 - val_loss: 3.5570 - val_accuracy: 0.3300\n",
      "Epoch 11/40\n",
      "80/80 [==============================] - 104s 1s/step - loss: 0.3150 - accuracy: 0.8913 - val_loss: 3.0254 - val_accuracy: 0.2950\n",
      "Epoch 12/40\n",
      "80/80 [==============================] - 104s 1s/step - loss: 0.2475 - accuracy: 0.9250 - val_loss: 4.6675 - val_accuracy: 0.3300\n",
      "Epoch 13/40\n",
      "80/80 [==============================] - 81s 993ms/step - loss: 0.2058 - accuracy: 0.9408 - val_loss: 3.8994 - val_accuracy: 0.3200\n",
      "Epoch 14/40\n",
      "80/80 [==============================] - 69s 859ms/step - loss: 0.2011 - accuracy: 0.9323 - val_loss: 3.0484 - val_accuracy: 0.3650\n",
      "Epoch 15/40\n",
      "80/80 [==============================] - 69s 859ms/step - loss: 0.1863 - accuracy: 0.9424 - val_loss: 8.5711 - val_accuracy: 0.2250\n",
      "Epoch 16/40\n",
      "80/80 [==============================] - 70s 870ms/step - loss: 0.1450 - accuracy: 0.9571 - val_loss: 3.3579 - val_accuracy: 0.3550\n",
      "Epoch 17/40\n",
      "80/80 [==============================] - 69s 857ms/step - loss: 0.1465 - accuracy: 0.9544 - val_loss: 3.9484 - val_accuracy: 0.4050\n",
      "Epoch 18/40\n",
      "80/80 [==============================] - 70s 861ms/step - loss: 0.1171 - accuracy: 0.9663 - val_loss: 2.8976 - val_accuracy: 0.3850\n",
      "Epoch 19/40\n",
      "80/80 [==============================] - 70s 865ms/step - loss: 0.1111 - accuracy: 0.9679 - val_loss: 3.3219 - val_accuracy: 0.3950\n",
      "Epoch 20/40\n",
      "80/80 [==============================] - 70s 861ms/step - loss: 0.1154 - accuracy: 0.9636 - val_loss: 3.7104 - val_accuracy: 0.3950\n",
      "Epoch 21/40\n",
      "80/80 [==============================] - 69s 859ms/step - loss: 0.1051 - accuracy: 0.9694 - val_loss: 3.5460 - val_accuracy: 0.3800\n",
      "Epoch 22/40\n",
      "80/80 [==============================] - 70s 867ms/step - loss: 0.0981 - accuracy: 0.9733 - val_loss: 3.7669 - val_accuracy: 0.3550\n",
      "Epoch 23/40\n",
      "80/80 [==============================] - 70s 862ms/step - loss: 0.0919 - accuracy: 0.9725 - val_loss: 7.7977 - val_accuracy: 0.2650\n",
      "Epoch 24/40\n",
      "80/80 [==============================] - 70s 861ms/step - loss: 0.0872 - accuracy: 0.9772 - val_loss: 3.2766 - val_accuracy: 0.4200\n",
      "Epoch 25/40\n",
      "80/80 [==============================] - 70s 864ms/step - loss: 0.0854 - accuracy: 0.9768 - val_loss: 4.3797 - val_accuracy: 0.3300\n",
      "Epoch 26/40\n",
      "80/80 [==============================] - 70s 865ms/step - loss: 0.0707 - accuracy: 0.9822 - val_loss: 4.3466 - val_accuracy: 0.3400\n",
      "Epoch 27/40\n",
      "80/80 [==============================] - 70s 865ms/step - loss: 0.0656 - accuracy: 0.9841 - val_loss: 3.5243 - val_accuracy: 0.4100\n",
      "Epoch 28/40\n",
      "80/80 [==============================] - 70s 861ms/step - loss: 0.0688 - accuracy: 0.9810 - val_loss: 2.9238 - val_accuracy: 0.4000\n",
      "Epoch 29/40\n",
      "80/80 [==============================] - 70s 865ms/step - loss: 0.0525 - accuracy: 0.9857 - val_loss: 3.7194 - val_accuracy: 0.4150\n",
      "Epoch 30/40\n",
      "80/80 [==============================] - 70s 863ms/step - loss: 0.0935 - accuracy: 0.9683 - val_loss: 10.3525 - val_accuracy: 0.2050\n",
      "Epoch 31/40\n",
      "80/80 [==============================] - 70s 864ms/step - loss: 0.1044 - accuracy: 0.9648 - val_loss: 7.6157 - val_accuracy: 0.2500\n",
      "Epoch 32/40\n",
      "80/80 [==============================] - 70s 867ms/step - loss: 0.0939 - accuracy: 0.9683 - val_loss: 4.4816 - val_accuracy: 0.2750\n",
      "Epoch 33/40\n",
      "80/80 [==============================] - 69s 855ms/step - loss: 0.0809 - accuracy: 0.9733 - val_loss: 4.6812 - val_accuracy: 0.3450\n",
      "Epoch 34/40\n",
      "80/80 [==============================] - 62s 768ms/step - loss: 0.0893 - accuracy: 0.9718 - val_loss: 4.2594 - val_accuracy: 0.3500\n",
      "Epoch 35/40\n",
      "80/80 [==============================] - 67s 838ms/step - loss: 0.0597 - accuracy: 0.9853 - val_loss: 13.3428 - val_accuracy: 0.1750\n",
      "Epoch 36/40\n",
      "80/80 [==============================] - 70s 863ms/step - loss: 0.0563 - accuracy: 0.9818 - val_loss: 5.9640 - val_accuracy: 0.3400\n",
      "Epoch 37/40\n",
      "80/80 [==============================] - 70s 864ms/step - loss: 0.0564 - accuracy: 0.9799 - val_loss: 3.8185 - val_accuracy: 0.3650\n",
      "Epoch 38/40\n",
      "80/80 [==============================] - 70s 867ms/step - loss: 0.0665 - accuracy: 0.9791 - val_loss: 4.1397 - val_accuracy: 0.4300\n",
      "Epoch 39/40\n",
      "80/80 [==============================] - 70s 866ms/step - loss: 0.0558 - accuracy: 0.9822 - val_loss: 3.5958 - val_accuracy: 0.3950\n",
      "Epoch 40/40\n",
      "80/80 [==============================] - 70s 862ms/step - loss: 0.0410 - accuracy: 0.9861 - val_loss: 3.9967 - val_accuracy: 0.3800\n"
     ]
    }
   ],
   "source": [
    "history = classifier.fit(train_set,steps_per_epoch=train_set.n/32,epochs=40,validation_data=test_set,validation_steps=test_set.n/32,callbacks=[csv],verbose=1)"
   ]
  },
  {
   "cell_type": "code",
   "execution_count": 9,
   "outputs": [],
   "source": [
    "classifier.save('2_adam_40ep.h5')"
   ],
   "metadata": {
    "collapsed": false,
    "pycharm": {
     "name": "#%%\n"
    }
   }
  },
  {
   "cell_type": "code",
   "execution_count": 10,
   "outputs": [
    {
     "data": {
      "text/plain": "<Figure size 432x288 with 1 Axes>",
      "image/png": "[encoded data removed]"
     },
     "metadata": {
      "needs_background": "light"
     },
     "output_type": "display_data"
    }
   ],
   "source": [
    "import matplotlib.pyplot as plt\n",
    "plt.plot(history.history['accuracy']) #validation\n",
    "plt.plot(history.history['val_accuracy']) #train\n",
    "plt.title('model accuracy')\n",
    "plt.ylabel('accuracy')\n",
    "plt.xlabel('epoch')\n",
    "plt.legend(['train', 'validation'], loc='upper left')\n",
    "plt.show()"
   ],
   "metadata": {
    "collapsed": false,
    "pycharm": {
     "name": "#%%\n"
    }
   }
  },
  {
   "cell_type": "code",
   "execution_count": 10,
   "outputs": [],
   "source": [],
   "metadata": {
    "collapsed": false,
    "pycharm": {
     "name": "#%%\n"
    }
   }
  }
 ],
 "metadata": {
  "kernelspec": {
   "name": "python3",
   "language": "python",
   "display_name": "Python 3 (ipykernel)"
  },
  "language_info": {
   "codemirror_mode": {
    "name": "ipython",
    "version": 3
   },
   "file_extension": ".py",
   "mimetype": "text/x-python",
   "name": "python",
   "nbconvert_exporter": "python",
   "pygments_lexer": "ipython3",
   "version": "3.6.4"
  }
 },
 "nbformat": 4,
 "nbformat_minor": 2
}