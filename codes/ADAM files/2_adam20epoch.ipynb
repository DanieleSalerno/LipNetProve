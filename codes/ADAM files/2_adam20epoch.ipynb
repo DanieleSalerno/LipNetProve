{
 "cells": [
  {
   "cell_type": "code",
   "execution_count": 1,
   "metadata": {},
   "outputs": [],
   "source": [
    "import os\n",
    "import numpy as np\n",
    "import pandas as pd\n",
    "import tensorflow\n",
    "from keras.models import Sequential # To initialise the nn as a sequence of layers\n",
    "from keras.layers import Convolution2D # To make the convolution layer for 2D images\n",
    "from keras.layers import MaxPooling2D # \n",
    "from keras.layers import Flatten\n",
    "from keras.layers import Dense\n",
    "from keras.layers import Dropout\n",
    "from keras.callbacks import CSVLogger\n",
    "from tensorflow.keras.optimizers import RMSprop\n",
    "from keras.layers import BatchNormalization\n",
    "from tensorflow.keras.optimizers import Adam\n",
    "from tensorflow import data\n",
    "from keras.models import load_model\n",
    "from keras.callbacks import ModelCheckpoint\n",
    "from tensorflow import repeat as rp\n",
    "\n",
    "csv=CSVLogger(\"2_adam_20EPOCH.log\")\n",
    "#filepath=\"weights-improvement-{epoch:02d}-{val_acc:.2f}.hdf5\"\n",
    "#checkpoint = ModelCheckpoint(filepath, monitor='val_acc', verbose=1, save_best_only=True, mode='max')\n",
    "\n",
    "\n",
    "# Initialising the CNN\n",
    "classifier = Sequential()\n",
    "\n",
    "# Step 1 - Convolution\n",
    "classifier.add(Convolution2D(32,(2,2),input_shape = (224,224,1), activation = 'relu',strides=2,name='convo1'))\n",
    "classifier.add(Convolution2D(64,(3,3), activation = 'relu',name='convo2'))\n",
    "# Step 1 - Pooling\n",
    "classifier.add(MaxPooling2D(pool_size = (2,2)))\n",
    "\n",
    "# Step 2 - Convolution\n",
    "classifier.add(Convolution2D(64,(3,3),activation = 'relu',name='convo3'))\n",
    "# Step 2 - Pooling\n",
    "classifier.add(MaxPooling2D(pool_size = (2,2)))\n",
    "# Step 3 - Convolution\n",
    "classifier.add(Convolution2D(64,(3,3),activation = 'relu',name='convo4'))\n",
    "# Step 3 - Pooling\n",
    "classifier.add(MaxPooling2D(pool_size = (2,2)))\n",
    "#Step 4 - Flattening\n",
    "\n",
    "classifier.add(Flatten())\n",
    "\n",
    "classifier.add(BatchNormalization())\n",
    "classifier.add(Dropout((0.5)))\n",
    "classifier.add(Dense(1024, activation = 'relu'))\n",
    "\n",
    "'''classifier.add(BatchNormalization())\n",
    "classifier.add(Dropout((0.5)))\n",
    "classifier.add(Dense(512, activation = 'relu'))\n",
    "'''\n",
    "\n",
    "classifier.add(BatchNormalization())\n",
    "classifier.add(Dropout((0.4)))\n",
    "classifier.add(Dense(20, activation = 'softmax'))"
   ]
  },
  {
   "cell_type": "code",
   "execution_count": 2,
   "metadata": {},
   "outputs": [
    {
     "name": "stdout",
     "output_type": "stream",
     "text": [
      "Found 2585 images belonging to 20 classes.\n",
      "Found 200 images belonging to 20 classes.\n"
     ]
    },
    {
     "data": {
      "text/plain": "[]"
     },
     "execution_count": 2,
     "metadata": {},
     "output_type": "execute_result"
    }
   ],
   "source": [
    "import matplotlib.pyplot as plt\n",
    "adam = Adam(epsilon = 0.01)\n",
    "classifier.compile(optimizer = adam, loss = 'categorical_crossentropy', metrics = ['accuracy'])\n",
    "\n",
    "from keras.preprocessing.image import ImageDataGenerator\n",
    "\n",
    "train_datagen = ImageDataGenerator(rescale=1./255)\n",
    "\n",
    "test_datagen = ImageDataGenerator(rescale=1./255)\n",
    "\n",
    "curr_path = os.getcwd()\n",
    "basefolder = os.path.dirname(curr_path)\n",
    "train_folder = os.path.join(basefolder, \"..\\\\Dataset\\\\Train\")\n",
    "test_folder = os.path.join(basefolder, \"..\\\\Dataset\\\\dev\")\n",
    "train_set=tensorflow.data\n",
    "train_set = train_datagen.flow_from_directory(train_folder,target_size=(224, 224),batch_size=32,class_mode='categorical',color_mode='grayscale')\n",
    "\n",
    "\n",
    "test_set = test_datagen.flow_from_directory(test_folder,target_size=(224, 224),batch_size=32,class_mode='categorical',color_mode='grayscale')\n",
    "classifier.metrics_names\n",
    "\n",
    "\n"
   ]
  },
  {
   "cell_type": "code",
   "execution_count": 3,
   "outputs": [],
   "source": [
    "#nb_conda_kernels"
   ],
   "metadata": {
    "collapsed": false,
    "pycharm": {
     "name": "#%%\n"
    }
   }
  },
  {
   "cell_type": "code",
   "execution_count": 4,
   "metadata": {},
   "outputs": [
    {
     "name": "stdout",
     "output_type": "stream",
     "text": [
      "Epoch 1/20\n",
      "80/80 [==============================] - 41s 495ms/step - loss: 3.5970 - accuracy: 0.1122 - val_loss: 2.9876 - val_accuracy: 0.0500\n",
      "Epoch 2/20\n",
      "80/80 [==============================] - 40s 495ms/step - loss: 2.4768 - accuracy: 0.3064 - val_loss: 2.9613 - val_accuracy: 0.0650\n",
      "Epoch 3/20\n",
      "80/80 [==============================] - 40s 495ms/step - loss: 1.7571 - accuracy: 0.4665 - val_loss: 2.9258 - val_accuracy: 0.1400\n",
      "Epoch 4/20\n",
      "80/80 [==============================] - 40s 492ms/step - loss: 1.3064 - accuracy: 0.5810 - val_loss: 2.8023 - val_accuracy: 0.1250\n",
      "Epoch 5/20\n",
      "80/80 [==============================] - 40s 497ms/step - loss: 0.9436 - accuracy: 0.6936 - val_loss: 2.6405 - val_accuracy: 0.1300\n",
      "Epoch 6/20\n",
      "80/80 [==============================] - 40s 495ms/step - loss: 0.7171 - accuracy: 0.7582 - val_loss: 2.9332 - val_accuracy: 0.1250\n",
      "Epoch 7/20\n",
      "80/80 [==============================] - 39s 489ms/step - loss: 0.5708 - accuracy: 0.8112 - val_loss: 2.2285 - val_accuracy: 0.3300\n",
      "Epoch 8/20\n",
      "80/80 [==============================] - 40s 496ms/step - loss: 0.4505 - accuracy: 0.8476 - val_loss: 2.5047 - val_accuracy: 0.3200\n",
      "Epoch 9/20\n",
      "80/80 [==============================] - 40s 498ms/step - loss: 0.3846 - accuracy: 0.8801 - val_loss: 3.2093 - val_accuracy: 0.2350\n",
      "Epoch 10/20\n",
      "80/80 [==============================] - 40s 492ms/step - loss: 0.3106 - accuracy: 0.8979 - val_loss: 2.6570 - val_accuracy: 0.3350\n",
      "Epoch 11/20\n",
      "80/80 [==============================] - 41s 503ms/step - loss: 0.2788 - accuracy: 0.9087 - val_loss: 6.1120 - val_accuracy: 0.2100\n",
      "Epoch 12/20\n",
      "80/80 [==============================] - 40s 491ms/step - loss: 0.2516 - accuracy: 0.9145 - val_loss: 3.7519 - val_accuracy: 0.2800\n",
      "Epoch 13/20\n",
      "80/80 [==============================] - 39s 486ms/step - loss: 0.2045 - accuracy: 0.9366 - val_loss: 3.3979 - val_accuracy: 0.3650\n",
      "Epoch 14/20\n",
      "80/80 [==============================] - 39s 485ms/step - loss: 0.1819 - accuracy: 0.9412 - val_loss: 3.4088 - val_accuracy: 0.3800\n",
      "Epoch 15/20\n",
      "80/80 [==============================] - 39s 483ms/step - loss: 0.1700 - accuracy: 0.9455 - val_loss: 4.0258 - val_accuracy: 0.3900\n",
      "Epoch 16/20\n",
      "80/80 [==============================] - 39s 485ms/step - loss: 0.1395 - accuracy: 0.9555 - val_loss: 3.5108 - val_accuracy: 0.3800\n",
      "Epoch 17/20\n",
      "80/80 [==============================] - 43s 535ms/step - loss: 0.1271 - accuracy: 0.9544 - val_loss: 3.2433 - val_accuracy: 0.4400\n",
      "Epoch 18/20\n",
      "80/80 [==============================] - 46s 568ms/step - loss: 0.1228 - accuracy: 0.9632 - val_loss: 3.9813 - val_accuracy: 0.3800\n",
      "Epoch 19/20\n",
      "80/80 [==============================] - 42s 520ms/step - loss: 0.1122 - accuracy: 0.9636 - val_loss: 3.1256 - val_accuracy: 0.3750\n",
      "Epoch 20/20\n",
      "80/80 [==============================] - 40s 491ms/step - loss: 0.0882 - accuracy: 0.9718 - val_loss: 4.0468 - val_accuracy: 0.3500\n"
     ]
    }
   ],
   "source": [
    "history = classifier.fit(train_set,steps_per_epoch=train_set.n/32,epochs=20,validation_data=test_set,validation_steps=test_set.n/32,callbacks=[csv],verbose=1)"
   ]
  },
  {
   "cell_type": "code",
   "execution_count": 5,
   "outputs": [],
   "source": [
    "classifier.save('2_adam_20ep.h5')"
   ],
   "metadata": {
    "collapsed": false,
    "pycharm": {
     "name": "#%%\n"
    }
   }
  },
  {
   "cell_type": "code",
   "execution_count": 6,
   "outputs": [
    {
     "data": {
      "text/plain": "<Figure size 432x288 with 1 Axes>",
      "image/png": "[encoded data removed]"
     },
     "metadata": {
      "needs_background": "light"
     },
     "output_type": "display_data"
    }
   ],
   "source": [
    "import matplotlib.pyplot as plt\n",
    "plt.plot(history.history['accuracy']) #validation\n",
    "plt.plot(history.history['val_accuracy']) #train\n",
    "plt.title('model accuracy')\n",
    "plt.ylabel('accuracy')\n",
    "plt.xlabel('epoch')\n",
    "plt.legend(['train', 'validation'], loc='upper left')\n",
    "plt.show()"
   ],
   "metadata": {
    "collapsed": false,
    "pycharm": {
     "name": "#%%\n"
    }
   }
  },
  {
   "cell_type": "code",
   "execution_count": 6,
   "outputs": [],
   "source": [],
   "metadata": {
    "collapsed": false,
    "pycharm": {
     "name": "#%%\n"
    }
   }
  }
 ],
 "metadata": {
  "kernelspec": {
   "name": "python3",
   "language": "python",
   "display_name": "Python 3 (ipykernel)"
  },
  "language_info": {
   "codemirror_mode": {
    "name": "ipython",
    "version": 3
   },
   "file_extension": ".py",
   "mimetype": "text/x-python",
   "name": "python",
   "nbconvert_exporter": "python",
   "pygments_lexer": "ipython3",
   "version": "3.6.4"
  }
 },
 "nbformat": 4,
 "nbformat_minor": 2
}