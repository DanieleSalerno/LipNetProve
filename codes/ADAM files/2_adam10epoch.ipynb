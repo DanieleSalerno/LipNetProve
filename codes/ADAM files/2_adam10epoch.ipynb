{
 "cells": [
  {
   "cell_type": "code",
   "execution_count": 9,
   "metadata": {},
   "outputs": [],
   "source": [
    "import os\n",
    "import numpy as np\n",
    "import pandas as pd\n",
    "import tensorflow\n",
    "from keras.models import Sequential # To initialise the nn as a sequence of layers\n",
    "from keras.layers import Convolution2D # To make the convolution layer for 2D images\n",
    "from keras.layers import MaxPooling2D # \n",
    "from keras.layers import Flatten\n",
    "from keras.layers import Dense\n",
    "from keras.layers import Dropout\n",
    "from keras.callbacks import CSVLogger\n",
    "from tensorflow.keras.optimizers import RMSprop\n",
    "from keras.layers import BatchNormalization\n",
    "from tensorflow.keras.optimizers import Adam\n",
    "from tensorflow import data\n",
    "from keras.models import load_model\n",
    "from keras.callbacks import ModelCheckpoint\n",
    "from tensorflow import repeat as rp\n",
    "\n",
    "csv=CSVLogger(\"2_adam10.log\")\n",
    "#filepath=\"weights-improvement-{epoch:02d}-{val_acc:.2f}.hdf5\"\n",
    "#checkpoint = ModelCheckpoint(filepath, monitor='val_acc', verbose=1, save_best_only=True, mode='max')\n",
    "\n",
    "\n",
    "# Initialising the CNN\n",
    "classifier = Sequential()\n",
    "\n",
    "# Step 1 - Convolution\n",
    "classifier.add(Convolution2D(32,(2,2),input_shape = (224,224,1), activation = 'relu',strides=2,name='convo1'))\n",
    "classifier.add(Convolution2D(64,(3,3), activation = 'relu',name='convo2'))\n",
    "# Step 1 - Pooling\n",
    "classifier.add(MaxPooling2D(pool_size = (2,2)))\n",
    "\n",
    "# Step 2 - Convolution\n",
    "classifier.add(Convolution2D(64,(3,3),activation = 'relu',name='convo3'))\n",
    "# Step 2 - Pooling\n",
    "classifier.add(MaxPooling2D(pool_size = (2,2)))\n",
    "# Step 3 - Convolution\n",
    "classifier.add(Convolution2D(64,(3,3),activation = 'relu',name='convo4'))\n",
    "# Step 3 - Pooling\n",
    "classifier.add(MaxPooling2D(pool_size = (2,2)))\n",
    "#Step 4 - Flattening\n",
    "\n",
    "classifier.add(Flatten())\n",
    "\n",
    "classifier.add(BatchNormalization())\n",
    "classifier.add(Dropout((0.5)))\n",
    "classifier.add(Dense(1024, activation = 'relu'))\n",
    "\n",
    "'''classifier.add(BatchNormalization())\n",
    "classifier.add(Dropout((0.5)))\n",
    "classifier.add(Dense(512, activation = 'relu'))\n",
    "'''\n",
    "\n",
    "classifier.add(BatchNormalization())\n",
    "classifier.add(Dropout((0.4)))\n",
    "classifier.add(Dense(20, activation = 'softmax'))"
   ]
  },
  {
   "cell_type": "code",
   "execution_count": 10,
   "metadata": {},
   "outputs": [
    {
     "name": "stdout",
     "output_type": "stream",
     "text": [
      "Found 2585 images belonging to 20 classes.\n",
      "Found 200 images belonging to 20 classes.\n"
     ]
    },
    {
     "data": {
      "text/plain": "[]"
     },
     "execution_count": 10,
     "metadata": {},
     "output_type": "execute_result"
    }
   ],
   "source": [
    "import matplotlib.pyplot as plt\n",
    "adam = Adam(epsilon = 0.01)\n",
    "classifier.compile(optimizer = adam, loss = 'categorical_crossentropy', metrics = ['accuracy'])\n",
    "\n",
    "from keras.preprocessing.image import ImageDataGenerator\n",
    "\n",
    "train_datagen = ImageDataGenerator(rescale=1./255)\n",
    "\n",
    "test_datagen = ImageDataGenerator(rescale=1./255)\n",
    "\n",
    "curr_path = os.getcwd()\n",
    "basefolder = os.path.dirname(curr_path)\n",
    "train_folder = os.path.join(basefolder, \"..\\\\Dataset\\\\Train\")\n",
    "test_folder = os.path.join(basefolder, \"..\\\\Dataset\\\\dev\")\n",
    "train_set=tensorflow.data\n",
    "train_set = train_datagen.flow_from_directory(train_folder,target_size=(224, 224),batch_size=32,class_mode='categorical',color_mode='grayscale')\n",
    "\n",
    "\n",
    "test_set = test_datagen.flow_from_directory(test_folder,target_size=(224, 224),batch_size=32,class_mode='categorical',color_mode='grayscale')\n",
    "classifier.metrics_names\n",
    "\n",
    "\n"
   ]
  },
  {
   "cell_type": "code",
   "execution_count": 11,
   "outputs": [],
   "source": [
    "#nb_conda_kernels"
   ],
   "metadata": {
    "collapsed": false,
    "pycharm": {
     "name": "#%%\n"
    }
   }
  },
  {
   "cell_type": "code",
   "execution_count": 12,
   "metadata": {},
   "outputs": [
    {
     "name": "stdout",
     "output_type": "stream",
     "text": [
      "Epoch 1/10\n",
      "80/80 [==============================] - 115s 1s/step - loss: 3.5101 - accuracy: 0.1234 - val_loss: 3.0113 - val_accuracy: 0.0500\n",
      "Epoch 2/10\n",
      "80/80 [==============================] - 104s 1s/step - loss: 2.6363 - accuracy: 0.2646 - val_loss: 2.9660 - val_accuracy: 0.0750\n",
      "Epoch 3/10\n",
      "80/80 [==============================] - 103s 1s/step - loss: 1.9808 - accuracy: 0.4147 - val_loss: 2.9350 - val_accuracy: 0.0800\n",
      "Epoch 4/10\n",
      "80/80 [==============================] - 104s 1s/step - loss: 1.4357 - accuracy: 0.5505 - val_loss: 2.8176 - val_accuracy: 0.1200\n",
      "Epoch 5/10\n",
      "80/80 [==============================] - 105s 1s/step - loss: 1.0916 - accuracy: 0.6518 - val_loss: 2.5882 - val_accuracy: 0.2200\n",
      "Epoch 6/10\n",
      "80/80 [==============================] - 105s 1s/step - loss: 0.7796 - accuracy: 0.7547 - val_loss: 2.6851 - val_accuracy: 0.2500\n",
      "Epoch 7/10\n",
      "80/80 [==============================] - 104s 1s/step - loss: 0.5700 - accuracy: 0.8112 - val_loss: 2.5783 - val_accuracy: 0.2900\n",
      "Epoch 8/10\n",
      "80/80 [==============================] - 104s 1s/step - loss: 0.4671 - accuracy: 0.8522 - val_loss: 3.2694 - val_accuracy: 0.3350\n",
      "Epoch 9/10\n",
      "80/80 [==============================] - 103s 1s/step - loss: 0.4017 - accuracy: 0.8712 - val_loss: 3.2203 - val_accuracy: 0.3000\n",
      "Epoch 10/10\n",
      "80/80 [==============================] - 104s 1s/step - loss: 0.2993 - accuracy: 0.9010 - val_loss: 3.1072 - val_accuracy: 0.3150\n"
     ]
    }
   ],
   "source": [
    "history = classifier.fit(train_set,steps_per_epoch=train_set.n/32,epochs=10,validation_data=test_set,validation_steps=test_set.n/32,callbacks=[csv],verbose=1)"
   ]
  },
  {
   "cell_type": "code",
   "execution_count": 13,
   "outputs": [],
   "source": [
    "classifier.save('2_adam_10ep.h5')"
   ],
   "metadata": {
    "collapsed": false,
    "pycharm": {
     "name": "#%%\n"
    }
   }
  },
  {
   "cell_type": "code",
   "execution_count": 14,
   "outputs": [
    {
     "data": {
      "text/plain": "<Figure size 432x288 with 1 Axes>",
      "image/png": "[encoded data removed]"
     },
     "metadata": {
      "needs_background": "light"
     },
     "output_type": "display_data"
    }
   ],
   "source": [
    "import matplotlib.pyplot as plt\n",
    "plt.plot(history.history['accuracy']) #validation\n",
    "plt.plot(history.history['val_accuracy']) #train\n",
    "plt.title('model accuracy')\n",
    "plt.ylabel('accuracy')\n",
    "plt.xlabel('epoch')\n",
    "plt.legend(['train', 'validation'], loc='upper left')\n",
    "plt.show()"
   ],
   "metadata": {
    "collapsed": false,
    "pycharm": {
     "name": "#%%\n"
    }
   }
  },
  {
   "cell_type": "code",
   "execution_count": 14,
   "outputs": [],
   "source": [],
   "metadata": {
    "collapsed": false,
    "pycharm": {
     "name": "#%%\n"
    }
   }
  }
 ],
 "metadata": {
  "kernelspec": {
   "name": "python3",
   "language": "python",
   "display_name": "Python 3 (ipykernel)"
  },
  "language_info": {
   "codemirror_mode": {
    "name": "ipython",
    "version": 3
   },
   "file_extension": ".py",
   "mimetype": "text/x-python",
   "name": "python",
   "nbconvert_exporter": "python",
   "pygments_lexer": "ipython3",
   "version": "3.6.4"
  }
 },
 "nbformat": 4,
 "nbformat_minor": 2
}