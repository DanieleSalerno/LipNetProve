{
 "cells": [
  {
   "cell_type": "code",
   "execution_count": 1,
   "metadata": {
    "collapsed": true
   },
   "outputs": [],
   "source": [
    "from keras.models import load_model\n",
    "model = load_model('saved_models_40epochs\\\\model_1.h5', compile = False)\n",
    "model.compile(optimizer = 'adam', loss = 'categorical_crossentropy', metrics = ['accuracy'])"
   ]
  },
  {
   "cell_type": "code",
   "source": [
    "from keras.preprocessing.image import ImageDataGenerator\n",
    "import os\n",
    "import pandas as pd\n",
    "import numpy as np\n",
    "\n",
    "\n",
    "\n",
    "dev_datagen = ImageDataGenerator(rescale = 1./255)\n",
    "\n",
    "\n",
    "\n",
    "print(os.getcwd())\n",
    "os.chdir('..')\n",
    "print(os.getcwd())\n",
    "\n",
    "\n",
    "\n",
    "dev_set = dev_datagen.flow_from_directory('Dataset/dev',\n",
    "target_size = (224, 224), # the size of the images expected in my cnn model\n",
    "batch_size = 32,\n",
    "class_mode = 'binary')\n"
   ],
   "metadata": {
    "collapsed": false,
    "pycharm": {
     "name": "#%%\n"
    }
   },
   "execution_count": 2,
   "outputs": [
    {
     "name": "stdout",
     "output_type": "stream",
     "text": [
      "C:\\Users\\Daniele\\PycharmProjects\\LipNetProve\\codes\n",
      "C:\\Users\\Daniele\\PycharmProjects\\LipNetProve\n",
      "Found 200 images belonging to 20 classes.\n"
     ]
    }
   ]
  },
  {
   "cell_type": "code",
   "execution_count": 3,
   "outputs": [],
   "source": [
    "from keras.preprocessing.image import load_img\n",
    "from keras.preprocessing.image import img_to_array\n",
    "from tensorflow.keras.preprocessing import image\n",
    "import os\n",
    "directory_array=[]\n",
    "\n",
    "prediction_array = []\n",
    "true_label = []\n",
    "os.chdir('Dataset/dev')\n",
    "for f in os.listdir():\n",
    "    os.chdir(f)\n",
    "    for l in os.listdir():\n",
    "        img = load_img(l, color_mode=\"grayscale\", target_size=(224, 224), interpolation=\"nearest\")\n",
    "        img_array = image.img_to_array(img)\n",
    "        img_array = img_array / 255.0\n",
    "        img_batch = np.expand_dims(img_array, axis=0)\n",
    "\n",
    "        prediction = model.predict(img_batch)\n",
    "        prediction_class = np.argmax(prediction, axis=1)\n",
    "        #print(l)\n",
    "        true_label.append(f)\n",
    "        prediction_array.append(prediction_class[0])\n",
    "        class_names = [\"Stop navigation\", \"Excuse me\", \"I am sorry\", \"Thank you\", \"Good bye\", \"I love this grace\",\n",
    "                       \"Nice to meet you\", \"You are welcome\", \"How are you\", \"Have a good time\", \"Begin\", \"Choose\",\n",
    "                       \"Connection\", \"Navigation\", \"Next\", \"Previous\", \"Start\", \"Stop\", \"Hello\", \"Web\"]\n",
    "        #print(class_names[prediction_class[0]])\n",
    "        #print(prediction_class[0])\n",
    "        directory_array.append([f,l,prediction_class[0]])\n",
    "\n",
    "\n",
    "\n",
    "    os.chdir('..')"
   ],
   "metadata": {
    "collapsed": false,
    "pycharm": {
     "name": "#%%\n"
    }
   }
  },
  {
   "cell_type": "code",
   "execution_count": 4,
   "outputs": [
    {
     "name": "stdout",
     "output_type": "stream",
     "text": [
      "['a', 'F01_phrases01_08.jpg', 11]\n",
      "['a', 'F01_phrases01_09.jpg', 11]\n",
      "['a', 'F01_phrases01_10.jpg', 11]\n",
      "['a', 'F02_phrases01_01.jpg', 0]\n",
      "['a', 'F02_phrases01_02.jpg', 15]\n",
      "['a', 'F02_phrases01_03.jpg', 17]\n",
      "['a', 'F04_phrases01_08.jpg', 0]\n",
      "['a', 'F04_phrases01_09.jpg', 0]\n",
      "['a', 'F04_phrases01_10.jpg', 0]\n",
      "['a', 'F06_phrases01_06.jpg', 0]\n",
      "['b', 'F04_phrases02_07.jpg', 15]\n",
      "['b', 'F04_phrases02_08.jpg', 14]\n",
      "['b', 'F05_phrases02_03.jpg', 1]\n",
      "['b', 'F05_phrases02_04.jpg', 1]\n",
      "['b', 'F05_phrases02_05.jpg', 13]\n",
      "['b', 'F05_phrases02_09.jpg', 17]\n",
      "['b', 'F05_phrases02_10.jpg', 12]\n",
      "['b', 'F06_phrases02_01.jpg', 5]\n",
      "['b', 'F06_phrases02_07.jpg', 5]\n",
      "['b', 'F06_phrases02_08.jpg', 1]\n",
      "['c', 'M02_phrases03_08.jpg', 6]\n",
      "['c', 'M02_phrases03_09.jpg', 1]\n",
      "['c', 'M02_phrases03_10.jpg', 3]\n",
      "['c', 'M07_phrases03_09.jpg', 14]\n",
      "['c', 'M07_phrases03_10.jpg', 2]\n",
      "['c', 'M08_phrases03_01.jpg', 17]\n",
      "['c', 'M08_phrases03_02.jpg', 2]\n",
      "['c', 'M08_phrases03_03.jpg', 2]\n",
      "['c', 'M08_phrases03_04.jpg', 5]\n",
      "['c', 'M08_phrases03_05.jpg', 2]\n",
      "['d', 'M04_phrases04_07.jpg', 3]\n",
      "['d', 'M04_phrases04_08.jpg', 3]\n",
      "['d', 'M04_phrases04_09.jpg', 3]\n",
      "['d', 'M04_phrases04_10.jpg', 3]\n",
      "['d', 'M07_phrases04_01.jpg', 18]\n",
      "['d', 'M07_phrases04_02.jpg', 18]\n",
      "['d', 'M08_phrases04_03.jpg', 15]\n",
      "['d', 'M08_phrases04_04.jpg', 15]\n",
      "['d', 'M08_phrases04_05.jpg', 15]\n",
      "['d', 'M08_phrases04_06.jpg', 17]\n",
      "['e', 'F04_phrases05_07.jpg', 4]\n",
      "['e', 'F04_phrases05_08.jpg', 7]\n",
      "['e', 'F04_phrases05_09.jpg', 4]\n",
      "['e', 'F05_phrases05_09.jpg', 4]\n",
      "['e', 'F05_phrases05_10.jpg', 4]\n",
      "['e', 'F06_phrases05_01.jpg', 4]\n",
      "['e', 'F06_phrases05_02.jpg', 4]\n",
      "['e', 'F06_phrases05_03.jpg', 4]\n",
      "['e', 'F06_phrases05_04.jpg', 4]\n",
      "['e', 'F06_phrases05_05.jpg', 4]\n",
      "['f', 'F04_phrases06_07.jpg', 5]\n",
      "['f', 'F04_phrases06_08.jpg', 5]\n",
      "['f', 'F04_phrases06_09.jpg', 5]\n",
      "['f', 'F04_phrases06_10.jpg', 16]\n",
      "['f', 'F06_phrases06_04.jpg', 5]\n",
      "['f', 'F06_phrases06_05.jpg', 5]\n",
      "['f', 'F06_phrases06_06.jpg', 5]\n",
      "['f', 'F08_phrases06_01.jpg', 5]\n",
      "['f', 'F08_phrases06_02.jpg', 5]\n",
      "['f', 'F08_phrases06_03.jpg', 5]\n",
      "['g', 'F08_phrases07_07.jpg', 6]\n",
      "['g', 'F09_phrases07_04.jpg', 6]\n",
      "['g', 'F10_phrases07_07.jpg', 6]\n",
      "['g', 'F10_phrases07_08.jpg', 6]\n",
      "['g', 'F10_phrases07_09.jpg', 6]\n",
      "['g', 'F11_phrases07_02.jpg', 6]\n",
      "['g', 'F11_phrases07_03.jpg', 6]\n",
      "['g', 'M01_phrases07_01.jpg', 3]\n",
      "['g', 'M01_phrases07_06.jpg', 6]\n",
      "['g', 'M01_phrases07_07.jpg', 6]\n",
      "['h', 'F01_phrases08_10.jpg', 3]\n",
      "['h', 'F02_phrases08_01.jpg', 17]\n",
      "['h', 'F06_phrases08_03.jpg', 7]\n",
      "['h', 'F06_phrases08_04.jpg', 7]\n",
      "['h', 'F06_phrases08_05.jpg', 7]\n",
      "['h', 'F07_phrases08_06.jpg', 7]\n",
      "['h', 'F07_phrases08_07.jpg', 7]\n",
      "['h', 'F07_phrases08_08.jpg', 7]\n",
      "['h', 'F07_phrases08_09.jpg', 7]\n",
      "['h', 'F07_phrases08_10.jpg', 7]\n",
      "['i', 'F09_phrases09_08.jpg', 8]\n",
      "['i', 'M02_phrases09_01.jpg', 8]\n",
      "['i', 'M02_phrases09_07.jpg', 8]\n",
      "['i', 'M02_phrases09_08.jpg', 8]\n",
      "['i', 'M02_phrases09_09.jpg', 8]\n",
      "['i', 'M02_phrases09_10.jpg', 8]\n",
      "['i', 'M04_phrases09_01.jpg', 8]\n",
      "['i', 'M08_phrases09_08.jpg', 8]\n",
      "['i', 'M08_phrases09_09.jpg', 8]\n",
      "['i', 'M08_phrases09_10.jpg', 8]\n",
      "['j', 'F10_phrases10_01.jpg', 13]\n",
      "['j', 'F10_phrases10_02.jpg', 5]\n",
      "['j', 'F10_phrases10_03.jpg', 13]\n",
      "['j', 'F10_phrases10_04.jpg', 13]\n",
      "['j', 'F10_phrases10_05.jpg', 5]\n",
      "['j', 'F10_phrases10_06.jpg', 5]\n",
      "['j', 'F10_phrases10_07.jpg', 5]\n",
      "['j', 'F10_phrases10_08.jpg', 13]\n",
      "['j', 'F10_phrases10_09.jpg', 13]\n",
      "['j', 'F10_phrases10_10.jpg', 13]\n",
      "['k', 'F06_words01_01.jpg', 14]\n",
      "['k', 'F06_words01_02.jpg', 10]\n",
      "['k', 'F06_words01_03.jpg', 14]\n",
      "['k', 'F06_words01_04.jpg', 14]\n",
      "['k', 'F06_words01_05.jpg', 15]\n",
      "['k', 'F06_words01_06.jpg', 14]\n",
      "['k', 'F06_words01_07.jpg', 14]\n",
      "['k', 'F06_words01_08.jpg', 10]\n",
      "['k', 'F06_words01_09.jpg', 14]\n",
      "['k', 'F06_words01_10.jpg', 14]\n",
      "['l', 'F06_words02_01.jpg', 11]\n",
      "['l', 'F06_words02_02.jpg', 11]\n",
      "['l', 'F06_words02_03.jpg', 11]\n",
      "['l', 'F06_words02_04.jpg', 11]\n",
      "['l', 'F06_words02_05.jpg', 12]\n",
      "['l', 'F06_words02_06.jpg', 11]\n",
      "['l', 'F06_words02_07.jpg', 11]\n",
      "['l', 'F06_words02_08.jpg', 11]\n",
      "['l', 'F06_words02_09.jpg', 11]\n",
      "['l', 'F06_words02_10.jpg', 11]\n",
      "['m', 'F10_words03_01.jpg', 0]\n",
      "['m', 'F10_words03_02.jpg', 0]\n",
      "['m', 'F10_words03_03.jpg', 0]\n",
      "['m', 'F10_words03_04.jpg', 0]\n",
      "['m', 'F10_words03_05.jpg', 0]\n",
      "['m', 'F10_words03_06.jpg', 0]\n",
      "['m', 'F10_words03_07.jpg', 0]\n",
      "['m', 'F10_words03_08.jpg', 0]\n",
      "['m', 'F10_words03_09.jpg', 0]\n",
      "['m', 'F10_words03_10.jpg', 0]\n",
      "['n', 'F06_words04_01.jpg', 13]\n",
      "['n', 'F06_words04_02.jpg', 13]\n",
      "['n', 'F06_words04_03.jpg', 13]\n",
      "['n', 'F06_words04_04.jpg', 0]\n",
      "['n', 'F06_words04_05.jpg', 0]\n",
      "['n', 'F06_words04_06.jpg', 13]\n",
      "['n', 'F06_words04_07.jpg', 0]\n",
      "['n', 'F06_words04_08.jpg', 0]\n",
      "['n', 'F06_words04_09.jpg', 0]\n",
      "['n', 'F06_words04_10.jpg', 6]\n",
      "['o', 'F10_words05_01.jpg', 10]\n",
      "['o', 'F10_words05_02.jpg', 10]\n",
      "['o', 'F10_words05_03.jpg', 10]\n",
      "['o', 'F10_words05_04.jpg', 10]\n",
      "['o', 'F10_words05_05.jpg', 10]\n",
      "['o', 'F10_words05_06.jpg', 10]\n",
      "['o', 'F10_words05_07.jpg', 10]\n",
      "['o', 'F10_words05_08.jpg', 10]\n",
      "['o', 'F10_words05_09.jpg', 10]\n",
      "['o', 'F10_words05_10.jpg', 10]\n",
      "['p', 'F05_words06_01.jpg', 5]\n",
      "['p', 'F05_words06_02.jpg', 15]\n",
      "['p', 'F05_words06_03.jpg', 15]\n",
      "['p', 'F05_words06_04.jpg', 16]\n",
      "['p', 'F05_words06_05.jpg', 18]\n",
      "['p', 'F05_words06_06.jpg', 10]\n",
      "['p', 'F05_words06_07.jpg', 18]\n",
      "['p', 'F05_words06_08.jpg', 17]\n",
      "['p', 'F05_words06_09.jpg', 3]\n",
      "['p', 'F05_words06_10.jpg', 15]\n",
      "['q', 'F06_words07_01.jpg', 3]\n",
      "['q', 'F06_words07_02.jpg', 13]\n",
      "['q', 'F06_words07_03.jpg', 3]\n",
      "['q', 'F06_words07_04.jpg', 3]\n",
      "['q', 'F06_words07_05.jpg', 13]\n",
      "['q', 'F06_words07_06.jpg', 3]\n",
      "['q', 'F06_words07_07.jpg', 13]\n",
      "['q', 'F06_words07_08.jpg', 13]\n",
      "['q', 'F06_words07_09.jpg', 13]\n",
      "['q', 'F06_words07_10.jpg', 15]\n",
      "['r', 'F06_words08_01.jpg', 11]\n",
      "['r', 'F06_words08_02.jpg', 11]\n",
      "['r', 'F06_words08_03.jpg', 11]\n",
      "['r', 'F06_words08_04.jpg', 11]\n",
      "['r', 'F06_words08_05.jpg', 11]\n",
      "['r', 'F06_words08_06.jpg', 11]\n",
      "['r', 'F06_words08_07.jpg', 11]\n",
      "['r', 'F06_words08_08.jpg', 11]\n",
      "['r', 'F06_words08_09.jpg', 11]\n",
      "['r', 'F06_words08_10.jpg', 5]\n",
      "['s', 'M02_words09_01.jpg', 8]\n",
      "['s', 'M02_words09_02.jpg', 18]\n",
      "['s', 'M02_words09_03.jpg', 6]\n",
      "['s', 'M02_words09_04.jpg', 18]\n",
      "['s', 'M02_words09_05.jpg', 3]\n",
      "['s', 'M02_words09_06.jpg', 3]\n",
      "['s', 'M02_words09_07.jpg', 3]\n",
      "['s', 'M02_words09_08.jpg', 6]\n",
      "['s', 'M02_words09_09.jpg', 3]\n",
      "['s', 'M02_words09_10.jpg', 3]\n",
      "['t', 'M02_words10_03.jpg', 4]\n",
      "['t', 'M02_words10_04.jpg', 17]\n",
      "['t', 'M02_words10_05.jpg', 19]\n",
      "['t', 'M02_words10_06.jpg', 4]\n",
      "['t', 'M02_words10_07.jpg', 17]\n",
      "['t', 'M02_words10_08.jpg', 9]\n",
      "['t', 'M02_words10_09.jpg', 17]\n",
      "['t', 'M04_words10_10.jpg', 11]\n",
      "['t', 'M07_words10_01.jpg', 17]\n",
      "['t', 'M07_words10_02.jpg', 17]\n"
     ]
    }
   ],
   "source": [
    "for item in directory_array:\n",
    "    print(item)"
   ],
   "metadata": {
    "collapsed": false,
    "pycharm": {
     "name": "#%%\n"
    }
   }
  },
  {
   "cell_type": "code",
   "execution_count": 5,
   "outputs": [
    {
     "name": "stdout",
     "output_type": "stream",
     "text": [
      "[11, 11, 11, 0, 15, 17, 0, 0, 0, 0, 15, 14, 1, 1, 13, 17, 12, 5, 5, 1, 6, 1, 3, 14, 2, 17, 2, 2, 5, 2, 3, 3, 3, 3, 18, 18, 15, 15, 15, 17, 4, 7, 4, 4, 4, 4, 4, 4, 4, 4, 5, 5, 5, 16, 5, 5, 5, 5, 5, 5, 6, 6, 6, 6, 6, 6, 6, 3, 6, 6, 3, 17, 7, 7, 7, 7, 7, 7, 7, 7, 8, 8, 8, 8, 8, 8, 8, 8, 8, 8, 13, 5, 13, 13, 5, 5, 5, 13, 13, 13, 14, 10, 14, 14, 15, 14, 14, 10, 14, 14, 11, 11, 11, 11, 12, 11, 11, 11, 11, 11, 0, 0, 0, 0, 0, 0, 0, 0, 0, 0, 13, 13, 13, 0, 0, 13, 0, 0, 0, 6, 10, 10, 10, 10, 10, 10, 10, 10, 10, 10, 5, 15, 15, 16, 18, 10, 18, 17, 3, 15, 3, 13, 3, 3, 13, 3, 13, 13, 13, 15, 11, 11, 11, 11, 11, 11, 11, 11, 11, 5, 8, 18, 6, 18, 3, 3, 3, 6, 3, 3, 4, 17, 19, 4, 17, 9, 17, 11, 17, 17]\n"
     ]
    }
   ],
   "source": [
    "print(prediction_array)"
   ],
   "metadata": {
    "collapsed": false,
    "pycharm": {
     "name": "#%%\n"
    }
   }
  },
  {
   "cell_type": "code",
   "execution_count": 6,
   "outputs": [
    {
     "name": "stdout",
     "output_type": "stream",
     "text": [
      "['a', 'a', 'a', 'a', 'a', 'a', 'a', 'a', 'a', 'a', 'b', 'b', 'b', 'b', 'b', 'b', 'b', 'b', 'b', 'b', 'c', 'c', 'c', 'c', 'c', 'c', 'c', 'c', 'c', 'c', 'd', 'd', 'd', 'd', 'd', 'd', 'd', 'd', 'd', 'd', 'e', 'e', 'e', 'e', 'e', 'e', 'e', 'e', 'e', 'e', 'f', 'f', 'f', 'f', 'f', 'f', 'f', 'f', 'f', 'f', 'g', 'g', 'g', 'g', 'g', 'g', 'g', 'g', 'g', 'g', 'h', 'h', 'h', 'h', 'h', 'h', 'h', 'h', 'h', 'h', 'i', 'i', 'i', 'i', 'i', 'i', 'i', 'i', 'i', 'i', 'j', 'j', 'j', 'j', 'j', 'j', 'j', 'j', 'j', 'j', 'k', 'k', 'k', 'k', 'k', 'k', 'k', 'k', 'k', 'k', 'l', 'l', 'l', 'l', 'l', 'l', 'l', 'l', 'l', 'l', 'm', 'm', 'm', 'm', 'm', 'm', 'm', 'm', 'm', 'm', 'n', 'n', 'n', 'n', 'n', 'n', 'n', 'n', 'n', 'n', 'o', 'o', 'o', 'o', 'o', 'o', 'o', 'o', 'o', 'o', 'p', 'p', 'p', 'p', 'p', 'p', 'p', 'p', 'p', 'p', 'q', 'q', 'q', 'q', 'q', 'q', 'q', 'q', 'q', 'q', 'r', 'r', 'r', 'r', 'r', 'r', 'r', 'r', 'r', 'r', 's', 's', 's', 's', 's', 's', 's', 's', 's', 's', 't', 't', 't', 't', 't', 't', 't', 't', 't', 't']\n"
     ]
    }
   ],
   "source": [
    "label_array=[]\n",
    "for item in directory_array:\n",
    "    label_array.append(item[0])\n",
    "print(label_array)"
   ],
   "metadata": {
    "collapsed": false,
    "pycharm": {
     "name": "#%%\n"
    }
   }
  },
  {
   "cell_type": "code",
   "execution_count": 7,
   "outputs": [
    {
     "name": "stdout",
     "output_type": "stream",
     "text": [
      "[0, 0, 0, 0, 0, 0, 0, 0, 0, 0, 1, 1, 1, 1, 1, 1, 1, 1, 1, 1, 2, 2, 2, 2, 2, 2, 2, 2, 2, 2, 3, 3, 3, 3, 3, 3, 3, 3, 3, 3, 4, 4, 4, 4, 4, 4, 4, 4, 4, 4, 5, 5, 5, 5, 5, 5, 5, 5, 5, 5, 6, 6, 6, 6, 6, 6, 6, 6, 6, 6, 7, 7, 7, 7, 7, 7, 7, 7, 7, 7, 8, 8, 8, 8, 8, 8, 8, 8, 8, 8, 9, 9, 9, 9, 9, 9, 9, 9, 9, 9, 10, 10, 10, 10, 10, 10, 10, 10, 10, 10, 11, 11, 11, 11, 11, 11, 11, 11, 11, 11, 12, 12, 12, 12, 12, 12, 12, 12, 12, 12, 13, 13, 13, 13, 13, 13, 13, 13, 13, 13, 14, 14, 14, 14, 14, 14, 14, 14, 14, 14, 15, 15, 15, 15, 15, 15, 15, 15, 15, 15, 16, 16, 16, 16, 16, 16, 16, 16, 16, 16, 17, 17, 17, 17, 17, 17, 17, 17, 17, 17, 18, 18, 18, 18, 18, 18, 18, 18, 18, 18, 19, 19, 19, 19, 19, 19, 19, 19, 19, 19]\n"
     ]
    }
   ],
   "source": [
    "converted_label=[]\n",
    "for letter in label_array:\n",
    "  number = ord(letter) - 96 - 1\n",
    "  converted_label.append(number)\n",
    "print(converted_label)"
   ],
   "metadata": {
    "collapsed": false,
    "pycharm": {
     "name": "#%%\n"
    }
   }
  },
  {
   "cell_type": "code",
   "execution_count": 8,
   "outputs": [
    {
     "data": {
      "text/plain": "0.41"
     },
     "execution_count": 8,
     "metadata": {},
     "output_type": "execute_result"
    }
   ],
   "source": [
    "\n",
    "from sklearn.metrics import accuracy_score\n",
    "accuracy_score(converted_label, prediction_array)"
   ],
   "metadata": {
    "collapsed": false,
    "pycharm": {
     "name": "#%%\n"
    }
   }
  },
  {
   "cell_type": "code",
   "execution_count": 8,
   "outputs": [],
   "source": [],
   "metadata": {
    "collapsed": false,
    "pycharm": {
     "name": "#%%\n"
    }
   }
  }
 ],
 "metadata": {
  "kernelspec": {
   "display_name": "Python 3",
   "language": "python",
   "name": "python3"
  },
  "language_info": {
   "codemirror_mode": {
    "name": "ipython",
    "version": 2
   },
   "file_extension": ".py",
   "mimetype": "text/x-python",
   "name": "python",
   "nbconvert_exporter": "python",
   "pygments_lexer": "ipython2",
   "version": "2.7.6"
  }
 },
 "nbformat": 4,
 "nbformat_minor": 0
}