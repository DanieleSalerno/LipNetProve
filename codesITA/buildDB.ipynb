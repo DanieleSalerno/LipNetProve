{
 "cells": [
  {
   "cell_type": "code",
   "execution_count": 3,
   "outputs": [
    {
     "data": {
      "text/plain": "'C:\\\\Users\\\\Daniele\\\\PycharmProjects\\\\LipNetProve\\\\DatasetITA-RATIO-BS\\\\Test_Prediction'"
     },
     "execution_count": 3,
     "metadata": {},
     "output_type": "execute_result"
    }
   ],
   "source": [
    "import os\n",
    "os.getcwd()\n"
   ],
   "metadata": {
    "collapsed": false,
    "pycharm": {
     "name": "#%%\n"
    }
   }
  },
  {
   "cell_type": "code",
   "execution_count": 1,
   "metadata": {
    "collapsed": true
   },
   "outputs": [
    {
     "data": {
      "text/plain": "'C:\\\\Users\\\\Daniele\\\\PycharmProjects\\\\LipNetProve\\\\DatasetITA-Ratio-BS\\\\Test_Prediction'"
     },
     "execution_count": 1,
     "metadata": {},
     "output_type": "execute_result"
    }
   ],
   "source": [
    "import os\n",
    "from PIL import ImageEnhance\n",
    "from PIL import Image\n",
    "from matplotlib import pyplot as plt\n",
    "os.chdir('..\\DatasetITA-Ratio-BS\\Test_Prediction')\n",
    "os.getcwd()"
   ]
  },
  {
   "cell_type": "markdown",
   "source": [
    "# Add brightness to image"
   ],
   "metadata": {
    "collapsed": false
   }
  },
  {
   "cell_type": "code",
   "execution_count": 2,
   "outputs": [
    {
     "name": "stdout",
     "output_type": "stream",
     "text": [
      "C:\\Users\\Daniele\\PycharmProjects\\LipNetProve\\DatasetITA-Ratio-BS\\Test_Prediction\\a\n",
      "C:\\Users\\Daniele\\PycharmProjects\\LipNetProve\\DatasetITA-Ratio-BS\\Test_Prediction\\b\n",
      "C:\\Users\\Daniele\\PycharmProjects\\LipNetProve\\DatasetITA-Ratio-BS\\Test_Prediction\\c\n",
      "C:\\Users\\Daniele\\PycharmProjects\\LipNetProve\\DatasetITA-Ratio-BS\\Test_Prediction\\d\n",
      "C:\\Users\\Daniele\\PycharmProjects\\LipNetProve\\DatasetITA-Ratio-BS\\Test_Prediction\\e\n",
      "C:\\Users\\Daniele\\PycharmProjects\\LipNetProve\\DatasetITA-Ratio-BS\\Test_Prediction\\f\n",
      "C:\\Users\\Daniele\\PycharmProjects\\LipNetProve\\DatasetITA-Ratio-BS\\Test_Prediction\\g\n",
      "C:\\Users\\Daniele\\PycharmProjects\\LipNetProve\\DatasetITA-Ratio-BS\\Test_Prediction\\h\n",
      "C:\\Users\\Daniele\\PycharmProjects\\LipNetProve\\DatasetITA-Ratio-BS\\Test_Prediction\\i\n",
      "C:\\Users\\Daniele\\PycharmProjects\\LipNetProve\\DatasetITA-Ratio-BS\\Test_Prediction\\j\n"
     ]
    }
   ],
   "source": [
    "import shutil\n",
    "for i in os.listdir():\n",
    "    if '.DS_Store' not in i:\n",
    "        os.chdir(i)\n",
    "        print(os.getcwd())\n",
    "        for k in os.listdir():\n",
    "            if '.DS_Store' not in k:\n",
    "                if '.DS_S_01.png' not in k:\n",
    "                    if '.ipynb_checkpoints' not in k:\n",
    "                        x=k[:-4]\n",
    "                        shutil.copyfile(k, x+'_01.png')\n",
    "        os.chdir('..')"
   ],
   "metadata": {
    "collapsed": false,
    "pycharm": {
     "name": "#%%\n"
    }
   }
  },
  {
   "cell_type": "code",
   "execution_count": 3,
   "outputs": [],
   "source": [
    "for i in os.listdir():\n",
    "    if '.DS_Store' not in i:\n",
    "        os.chdir(i)\n",
    "        #print(os.getcwd())\n",
    "        for k in os.listdir():\n",
    "            if '.DS_Store' not in k:\n",
    "                if '.DS_S_01.png' not in k:\n",
    "                    if '.ipynb_checkpoints' not in k:\n",
    "                        #if path BC_Phrases_i_01_01.png\n",
    "                        #so if number of digit is 4\n",
    "                        numbers = sum(c.isdigit() for c in k)\n",
    "                        if numbers == 4:\n",
    "                            im = Image.open(k)\n",
    "                            im_out = ImageEnhance.Brightness(im).enhance(1.5)\n",
    "                            im_out.save(k)\n",
    "        os.chdir('..')"
   ],
   "metadata": {
    "collapsed": false,
    "pycharm": {
     "name": "#%%\n"
    }
   }
  },
  {
   "cell_type": "markdown",
   "source": [
    "# remove brightness to images"
   ],
   "metadata": {
    "collapsed": false
   }
  },
  {
   "cell_type": "code",
   "execution_count": 4,
   "outputs": [
    {
     "name": "stdout",
     "output_type": "stream",
     "text": [
      "C:\\Users\\Daniele\\PycharmProjects\\LipNetProve\\DatasetITA-Ratio-BS\\Test_Prediction\\a\n",
      "C:\\Users\\Daniele\\PycharmProjects\\LipNetProve\\DatasetITA-Ratio-BS\\Test_Prediction\\b\n",
      "C:\\Users\\Daniele\\PycharmProjects\\LipNetProve\\DatasetITA-Ratio-BS\\Test_Prediction\\c\n",
      "C:\\Users\\Daniele\\PycharmProjects\\LipNetProve\\DatasetITA-Ratio-BS\\Test_Prediction\\d\n",
      "C:\\Users\\Daniele\\PycharmProjects\\LipNetProve\\DatasetITA-Ratio-BS\\Test_Prediction\\e\n",
      "C:\\Users\\Daniele\\PycharmProjects\\LipNetProve\\DatasetITA-Ratio-BS\\Test_Prediction\\f\n",
      "C:\\Users\\Daniele\\PycharmProjects\\LipNetProve\\DatasetITA-Ratio-BS\\Test_Prediction\\g\n",
      "C:\\Users\\Daniele\\PycharmProjects\\LipNetProve\\DatasetITA-Ratio-BS\\Test_Prediction\\h\n",
      "C:\\Users\\Daniele\\PycharmProjects\\LipNetProve\\DatasetITA-Ratio-BS\\Test_Prediction\\i\n",
      "C:\\Users\\Daniele\\PycharmProjects\\LipNetProve\\DatasetITA-Ratio-BS\\Test_Prediction\\j\n"
     ]
    }
   ],
   "source": [
    "import shutil\n",
    "for i in os.listdir():\n",
    "    if '.DS_Store' not in i:\n",
    "        os.chdir(i)\n",
    "        print(os.getcwd())\n",
    "        for k in os.listdir():\n",
    "            if '.DS_Store' not in k:\n",
    "                if '.DS_S_01.png' not in k:\n",
    "                    if '.ipynb_checkpoints' not in k:\n",
    "                        numbers = sum(c.isdigit() for c in k)\n",
    "                        if numbers == 2:\n",
    "                            x=k[:-4]\n",
    "                            shutil.copyfile(k, x+'_02.png')\n",
    "\n",
    "\n",
    "        os.chdir('..')"
   ],
   "metadata": {
    "collapsed": false,
    "pycharm": {
     "name": "#%%\n"
    }
   }
  },
  {
   "cell_type": "code",
   "execution_count": 5,
   "outputs": [
    {
     "data": {
      "text/plain": "'C:\\\\Users\\\\Daniele\\\\PycharmProjects\\\\LipNetProve\\\\DatasetITA-Ratio-BS\\\\Test_Prediction'"
     },
     "execution_count": 5,
     "metadata": {},
     "output_type": "execute_result"
    }
   ],
   "source": [
    "os.getcwd()"
   ],
   "metadata": {
    "collapsed": false,
    "pycharm": {
     "name": "#%%\n"
    }
   }
  },
  {
   "cell_type": "code",
   "execution_count": 6,
   "outputs": [
    {
     "name": "stdout",
     "output_type": "stream",
     "text": [
      "2\n",
      "2\n",
      "2\n",
      "2\n",
      "2\n",
      "2\n",
      "2\n",
      "2\n",
      "2\n",
      "2\n"
     ]
    }
   ],
   "source": [
    "for i in os.listdir():\n",
    "    if '.DS_Store' not in i:\n",
    "        os.chdir(i)\n",
    "        #print(os.getcwd())\n",
    "        for k in os.listdir():\n",
    "            if '.DS_Store' not in k:\n",
    "                if '.DS_S_01.png' not in k:\n",
    "                    if '.ipynb_checkpoints' not in k:\n",
    "                        #if path BC_Phrases_i_01_01.png\n",
    "                        letters = sum(c.isdigit() for c in k)\n",
    "                        if letters == 4:\n",
    "                            x=k[-5:-4]\n",
    "                            print(x)\n",
    "                            if x == '2':\n",
    "                                im = Image.open(k)\n",
    "                                im_out = ImageEnhance.Brightness(im).enhance(0.4)\n",
    "                                im_out.save(k)\n",
    "\n",
    "        os.chdir('..')"
   ],
   "metadata": {
    "collapsed": false,
    "pycharm": {
     "name": "#%%\n"
    }
   }
  },
  {
   "cell_type": "markdown",
   "source": [
    "# plus contrast"
   ],
   "metadata": {
    "collapsed": false
   }
  },
  {
   "cell_type": "code",
   "execution_count": 7,
   "outputs": [
    {
     "name": "stdout",
     "output_type": "stream",
     "text": [
      "C:\\Users\\Daniele\\PycharmProjects\\LipNetProve\\DatasetITA-Ratio-BS\\Test_Prediction\\a\n",
      "C:\\Users\\Daniele\\PycharmProjects\\LipNetProve\\DatasetITA-Ratio-BS\\Test_Prediction\\b\n",
      "C:\\Users\\Daniele\\PycharmProjects\\LipNetProve\\DatasetITA-Ratio-BS\\Test_Prediction\\c\n",
      "C:\\Users\\Daniele\\PycharmProjects\\LipNetProve\\DatasetITA-Ratio-BS\\Test_Prediction\\d\n",
      "C:\\Users\\Daniele\\PycharmProjects\\LipNetProve\\DatasetITA-Ratio-BS\\Test_Prediction\\e\n",
      "C:\\Users\\Daniele\\PycharmProjects\\LipNetProve\\DatasetITA-Ratio-BS\\Test_Prediction\\f\n",
      "C:\\Users\\Daniele\\PycharmProjects\\LipNetProve\\DatasetITA-Ratio-BS\\Test_Prediction\\g\n",
      "C:\\Users\\Daniele\\PycharmProjects\\LipNetProve\\DatasetITA-Ratio-BS\\Test_Prediction\\h\n",
      "C:\\Users\\Daniele\\PycharmProjects\\LipNetProve\\DatasetITA-Ratio-BS\\Test_Prediction\\i\n",
      "C:\\Users\\Daniele\\PycharmProjects\\LipNetProve\\DatasetITA-Ratio-BS\\Test_Prediction\\j\n"
     ]
    }
   ],
   "source": [
    "import shutil\n",
    "for i in os.listdir():\n",
    "    if '.DS_Store' not in i:\n",
    "        os.chdir(i)\n",
    "        print(os.getcwd())\n",
    "        for k in os.listdir():\n",
    "            if '.DS_Store' not in k:\n",
    "                if '.DS_S_01.png' not in k:\n",
    "                    if '.ipynb_checkpoints' not in k:\n",
    "                        numbers = sum(c.isdigit() for c in k)\n",
    "                        if numbers == 2:\n",
    "                            x=k[:-4]\n",
    "                            shutil.copyfile(k, x+'_03.png')\n",
    "\n",
    "\n",
    "        os.chdir('..')"
   ],
   "metadata": {
    "collapsed": false,
    "pycharm": {
     "name": "#%%\n"
    }
   }
  },
  {
   "cell_type": "code",
   "execution_count": 8,
   "outputs": [
    {
     "name": "stdout",
     "output_type": "stream",
     "text": [
      "2\n",
      "3\n",
      "2\n",
      "3\n",
      "2\n",
      "3\n",
      "2\n",
      "3\n",
      "2\n",
      "3\n",
      "2\n",
      "3\n",
      "2\n",
      "3\n",
      "2\n",
      "3\n",
      "2\n",
      "3\n",
      "2\n",
      "3\n"
     ]
    }
   ],
   "source": [
    "for i in os.listdir():\n",
    "    if '.DS_Store' not in i:\n",
    "        os.chdir(i)\n",
    "        #print(os.getcwd())\n",
    "        for k in os.listdir():\n",
    "            if '.DS_Store' not in k:\n",
    "                if '.DS_S_01.png' not in k:\n",
    "                    if '.ipynb_checkpoints' not in k:\n",
    "                        #if path BC_Phrases_i_01_01.png\n",
    "                        letters = sum(c.isdigit() for c in k)\n",
    "                        if letters == 4:\n",
    "                            x=k[-5:-4]\n",
    "                            print(x)\n",
    "                            if x == '3':\n",
    "                                im = Image.open(k)\n",
    "                                im_out = ImageEnhance.Contrast(im).enhance(1.5)\n",
    "                                im_out.save(k)\n",
    "\n",
    "        os.chdir('..')"
   ],
   "metadata": {
    "collapsed": false,
    "pycharm": {
     "name": "#%%\n"
    }
   }
  },
  {
   "cell_type": "code",
   "execution_count": null,
   "outputs": [],
   "source": [],
   "metadata": {
    "collapsed": false,
    "pycharm": {
     "name": "#%%\n"
    }
   }
  }
 ],
 "metadata": {
  "kernelspec": {
   "display_name": "Python 3",
   "language": "python",
   "name": "python3"
  },
  "language_info": {
   "codemirror_mode": {
    "name": "ipython",
    "version": 2
   },
   "file_extension": ".py",
   "mimetype": "text/x-python",
   "name": "python",
   "nbconvert_exporter": "python",
   "pygments_lexer": "ipython2",
   "version": "2.7.6"
  }
 },
 "nbformat": 4,
 "nbformat_minor": 0
}