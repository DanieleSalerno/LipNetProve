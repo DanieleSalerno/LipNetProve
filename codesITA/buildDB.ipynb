{
 "cells": [
  {
   "cell_type": "code",
   "execution_count": null,
   "metadata": {
    "collapsed": true
   },
   "outputs": [],
   "source": [
    "import os\n",
    "from PIL import ImageEnhance\n",
    "from PIL import Image\n",
    "from matplotlib import pyplot as plt\n",
    "os.chdir('DatasetITA')"
   ]
  },
  {
   "cell_type": "code",
   "execution_count": null,
   "outputs": [],
   "source": [
    "import shutil\n",
    "for i in os.listdir():\n",
    "    if '.DS_Store' not in i:\n",
    "        os.chdir(i)\n",
    "        print(os.getcwd())\n",
    "        for k in os.listdir():\n",
    "            if '.DS_Store' not in k:\n",
    "                if '.DS_S_01.png' not in k:\n",
    "                    if '.ipynb_checkpoints' not in k:\n",
    "                        x=k[:-4]\n",
    "                        shutil.copyfile(k, x+'_01.png')\n",
    "        os.chdir('..')"
   ],
   "metadata": {
    "collapsed": false,
    "pycharm": {
     "name": "#%%\n"
    }
   }
  },
  {
   "cell_type": "code",
   "execution_count": null,
   "outputs": [],
   "source": [
    "for i in os.listdir():\n",
    "    if '.DS_Store' not in i:\n",
    "        os.chdir(i)\n",
    "        #print(os.getcwd())\n",
    "        for k in os.listdir():\n",
    "            if '.DS_Store' not in k:\n",
    "                if '.DS_S_01.png' not in k:\n",
    "                    if '.ipynb_checkpoints' not in k:\n",
    "                        #if path BC_Phrases_i_01_01.png\n",
    "                        letters = sum(c.isdigit() for c in k)\n",
    "                        if letters == 4:\n",
    "                            im = Image.open(k)\n",
    "                            im_out = ImageEnhance.Brightness(im).enhance(1.2)\n",
    "                            im_out.save(k)\n",
    "        os.chdir('..')"
   ],
   "metadata": {
    "collapsed": false,
    "pycharm": {
     "name": "#%%\n"
    }
   }
  },
  {
   "cell_type": "code",
   "execution_count": null,
   "outputs": [],
   "source": [
    "import shutil\n",
    "for i in os.listdir():\n",
    "    if '.DS_Store' not in i:\n",
    "        os.chdir(i)\n",
    "        print(os.getcwd())\n",
    "        for k in os.listdir():\n",
    "            if '.DS_Store' not in k:\n",
    "                if '.DS_S_01.png' not in k:\n",
    "                    if '.ipynb_checkpoints' not in k:\n",
    "                        x=k[:-4]\n",
    "                        shutil.copyfile(k, x+'_02.png')\n",
    "        os.chdir('..')"
   ],
   "metadata": {
    "collapsed": false,
    "pycharm": {
     "name": "#%%\n"
    }
   }
  },
  {
   "cell_type": "code",
   "execution_count": null,
   "outputs": [],
   "source": [
    "for i in os.listdir():\n",
    "    if '.DS_Store' not in i:\n",
    "        os.chdir(i)\n",
    "        #print(os.getcwd())\n",
    "        for k in os.listdir():\n",
    "            if '.DS_Store' not in k:\n",
    "                if '.DS_S_01.png' not in k:\n",
    "                    if '.ipynb_checkpoints' not in k:\n",
    "                        #if path BC_Phrases_i_01_01.png\n",
    "                        letters = sum(c.isdigit() for c in k)\n",
    "                        if letters == 4:\n",
    "                            x=k[-5:-4]\n",
    "                            print(x)\n",
    "                            if x == '2':\n",
    "                                im = Image.open(k)\n",
    "                                im_out = ImageEnhance.Brightness(im).enhance(1.2)\n",
    "                                im_out.save(k)\n",
    "\n",
    "        os.chdir('..')"
   ],
   "metadata": {
    "collapsed": false,
    "pycharm": {
     "name": "#%%\n"
    }
   }
  }
 ],
 "metadata": {
  "kernelspec": {
   "display_name": "Python 3",
   "language": "python",
   "name": "python3"
  },
  "language_info": {
   "codemirror_mode": {
    "name": "ipython",
    "version": 2
   },
   "file_extension": ".py",
   "mimetype": "text/x-python",
   "name": "python",
   "nbconvert_exporter": "python",
   "pygments_lexer": "ipython2",
   "version": "2.7.6"
  }
 },
 "nbformat": 4,
 "nbformat_minor": 0
}