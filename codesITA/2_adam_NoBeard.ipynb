{
 "cells": [
  {
   "cell_type": "code",
   "execution_count": 1,
   "metadata": {},
   "outputs": [],
   "source": [
    "import os\n",
    "import numpy as np\n",
    "import pandas as pd\n",
    "import tensorflow\n",
    "from keras.models import Sequential # To initialise the nn as a sequence of layers\n",
    "from keras.layers import Convolution2D # To make the convolution layer for 2D images\n",
    "from keras.layers import MaxPooling2D # \n",
    "from keras.layers import Flatten\n",
    "from keras.layers import Dense\n",
    "from keras.layers import Dropout\n",
    "from keras.callbacks import CSVLogger\n",
    "from tensorflow.keras.optimizers import RMSprop\n",
    "from keras.layers import BatchNormalization\n",
    "from tensorflow.keras.optimizers import Adam\n",
    "from tensorflow import data\n",
    "from keras.models import load_model\n",
    "from keras.callbacks import ModelCheckpoint\n",
    "from tensorflow import repeat as rp\n",
    "\n",
    "csv=CSVLogger(\"2_adam_NoBeard.log\")\n",
    "#filepath=\"weights-improvement-{epoch:02d}-{val_acc:.2f}.hdf5\"\n",
    "#checkpoint = ModelCheckpoint(filepath, monitor='val_acc', verbose=1, save_best_only=True, mode='max')\n",
    "\n",
    "\n",
    "# Initialising the CNN\n",
    "classifier = Sequential()\n",
    "\n",
    "# Step 1 - Convolution\n",
    "classifier.add(Convolution2D(32,(2,2),input_shape = (224,224,1), activation = 'relu',strides=2,name='convo1'))\n",
    "classifier.add(Convolution2D(64,(3,3), activation = 'relu',name='convo2'))\n",
    "# Step 1 - Pooling\n",
    "classifier.add(MaxPooling2D(pool_size = (2,2)))\n",
    "\n",
    "# Step 2 - Convolution\n",
    "classifier.add(Convolution2D(64,(3,3),activation = 'relu',name='convo3'))\n",
    "# Step 2 - Pooling\n",
    "classifier.add(MaxPooling2D(pool_size = (2,2)))\n",
    "# Step 3 - Convolution\n",
    "#classifier.add(Convolution2D(64,(3,3),activation = 'relu',name='convo4'))\n",
    "# Step 3 - Pooling\n",
    "#classifier.add(MaxPooling2D(pool_size = (2,2)))\n",
    "#Step 4 - Flattening\n",
    "\n",
    "classifier.add(Flatten())\n",
    "\n",
    "classifier.add(BatchNormalization())\n",
    "classifier.add(Dropout((0.5)))\n",
    "classifier.add(Dense(1024, activation = 'relu'))\n",
    "\n",
    "'''classifier.add(BatchNormalization())\n",
    "classifier.add(Dropout((0.5)))\n",
    "classifier.add(Dense(512, activation = 'relu'))\n",
    "'''\n",
    "\n",
    "classifier.add(BatchNormalization())\n",
    "classifier.add(Dropout((0.4)))\n",
    "classifier.add(Dense(10, activation = 'softmax'))"
   ]
  },
  {
   "cell_type": "code",
   "execution_count": 2,
   "metadata": {},
   "outputs": [
    {
     "name": "stdout",
     "output_type": "stream",
     "text": [
      "Found 260 images belonging to 10 classes.\n",
      "Found 35 images belonging to 10 classes.\n"
     ]
    },
    {
     "data": {
      "text/plain": "[]"
     },
     "execution_count": 2,
     "metadata": {},
     "output_type": "execute_result"
    }
   ],
   "source": [
    "import matplotlib.pyplot as plt\n",
    "adam = Adam(epsilon = 0.01)\n",
    "classifier.compile(optimizer = adam, loss = 'categorical_crossentropy', metrics = ['accuracy'])\n",
    "\n",
    "from keras.preprocessing.image import ImageDataGenerator\n",
    "\n",
    "train_datagen = ImageDataGenerator(rescale=1./255)\n",
    "\n",
    "test_datagen = ImageDataGenerator(rescale=1./255)\n",
    "\n",
    "curr_path = os.getcwd()\n",
    "basefolder = os.path.dirname(curr_path)\n",
    "train_folder = os.path.join(basefolder, \"DatasetITANoBeard/Train\")\n",
    "test_folder = os.path.join(basefolder, \"DatasetITANoBeard/Test\")\n",
    "train_set=tensorflow.data\n",
    "train_set = train_datagen.flow_from_directory(train_folder,target_size=(224, 224),batch_size=32,class_mode='categorical',color_mode='grayscale')\n",
    "\n",
    "\n",
    "test_set = test_datagen.flow_from_directory(test_folder,target_size=(224, 224),batch_size=32,class_mode='categorical',color_mode='grayscale')\n",
    "classifier.metrics_names\n",
    "\n",
    "\n"
   ]
  },
  {
   "cell_type": "code",
   "execution_count": 3,
   "outputs": [],
   "source": [
    "#nb_conda_kernels"
   ],
   "metadata": {
    "collapsed": false,
    "pycharm": {
     "name": "#%%\n"
    }
   }
  },
  {
   "cell_type": "code",
   "execution_count": 4,
   "metadata": {},
   "outputs": [
    {
     "name": "stdout",
     "output_type": "stream",
     "text": [
      "Epoch 1/50\n",
      "8/8 [==============================] - 7s 837ms/step - loss: 3.6487 - accuracy: 0.1000 - val_loss: 2.3130 - val_accuracy: 0.1143\n",
      "Epoch 2/50\n",
      "8/8 [==============================] - 6s 781ms/step - loss: 2.9078 - accuracy: 0.1769 - val_loss: 2.3640 - val_accuracy: 0.0571\n",
      "Epoch 3/50\n",
      "8/8 [==============================] - 6s 745ms/step - loss: 2.3866 - accuracy: 0.2462 - val_loss: 2.2672 - val_accuracy: 0.2000\n",
      "Epoch 4/50\n",
      "8/8 [==============================] - 6s 744ms/step - loss: 2.2574 - accuracy: 0.3077 - val_loss: 2.2799 - val_accuracy: 0.1429\n",
      "Epoch 5/50\n",
      "8/8 [==============================] - 6s 686ms/step - loss: 1.9804 - accuracy: 0.3808 - val_loss: 2.2569 - val_accuracy: 0.1714\n",
      "Epoch 6/50\n",
      "8/8 [==============================] - 5s 668ms/step - loss: 1.7979 - accuracy: 0.4269 - val_loss: 2.2164 - val_accuracy: 0.2286\n",
      "Epoch 7/50\n",
      "8/8 [==============================] - 6s 683ms/step - loss: 1.6183 - accuracy: 0.4885 - val_loss: 2.2468 - val_accuracy: 0.3143\n",
      "Epoch 8/50\n",
      "8/8 [==============================] - 5s 730ms/step - loss: 1.3976 - accuracy: 0.5923 - val_loss: 2.2502 - val_accuracy: 0.1143\n",
      "Epoch 9/50\n",
      "8/8 [==============================] - 6s 682ms/step - loss: 0.8849 - accuracy: 0.7231 - val_loss: 2.2577 - val_accuracy: 0.0571\n",
      "Epoch 10/50\n",
      "8/8 [==============================] - 6s 671ms/step - loss: 0.8737 - accuracy: 0.7385 - val_loss: 2.2421 - val_accuracy: 0.1429\n",
      "Epoch 11/50\n",
      "8/8 [==============================] - 5s 734ms/step - loss: 0.7197 - accuracy: 0.7654 - val_loss: 2.2371 - val_accuracy: 0.0857\n",
      "Epoch 12/50\n",
      "8/8 [==============================] - 5s 732ms/step - loss: 0.4356 - accuracy: 0.8615 - val_loss: 2.2254 - val_accuracy: 0.2286\n",
      "Epoch 13/50\n",
      "8/8 [==============================] - 5s 723ms/step - loss: 0.4508 - accuracy: 0.8808 - val_loss: 2.2469 - val_accuracy: 0.0571\n",
      "Epoch 14/50\n",
      "8/8 [==============================] - 6s 702ms/step - loss: 0.3218 - accuracy: 0.9115 - val_loss: 2.2224 - val_accuracy: 0.0857\n",
      "Epoch 15/50\n",
      "8/8 [==============================] - 6s 746ms/step - loss: 0.4062 - accuracy: 0.8692 - val_loss: 2.2243 - val_accuracy: 0.2000\n",
      "Epoch 16/50\n",
      "8/8 [==============================] - 6s 719ms/step - loss: 0.1769 - accuracy: 0.9692 - val_loss: 2.2102 - val_accuracy: 0.1143\n",
      "Epoch 17/50\n",
      "8/8 [==============================] - 6s 696ms/step - loss: 0.1896 - accuracy: 0.9462 - val_loss: 2.2059 - val_accuracy: 0.2000\n",
      "Epoch 18/50\n",
      "8/8 [==============================] - 6s 685ms/step - loss: 0.1970 - accuracy: 0.9346 - val_loss: 2.1841 - val_accuracy: 0.1429\n",
      "Epoch 19/50\n",
      "8/8 [==============================] - 6s 678ms/step - loss: 0.1679 - accuracy: 0.9462 - val_loss: 2.1623 - val_accuracy: 0.2000\n",
      "Epoch 20/50\n",
      "8/8 [==============================] - 6s 686ms/step - loss: 0.1014 - accuracy: 0.9846 - val_loss: 2.1801 - val_accuracy: 0.1714\n",
      "Epoch 21/50\n",
      "8/8 [==============================] - 6s 699ms/step - loss: 0.1132 - accuracy: 0.9692 - val_loss: 2.1675 - val_accuracy: 0.2571\n",
      "Epoch 22/50\n",
      "8/8 [==============================] - 6s 706ms/step - loss: 0.2202 - accuracy: 0.9192 - val_loss: 2.1953 - val_accuracy: 0.2000\n",
      "Epoch 23/50\n",
      "8/8 [==============================] - 6s 684ms/step - loss: 0.1683 - accuracy: 0.9500 - val_loss: 2.2155 - val_accuracy: 0.2000\n",
      "Epoch 24/50\n",
      "8/8 [==============================] - 6s 676ms/step - loss: 0.1129 - accuracy: 0.9692 - val_loss: 2.1770 - val_accuracy: 0.2000\n",
      "Epoch 25/50\n",
      "8/8 [==============================] - 6s 714ms/step - loss: 0.1215 - accuracy: 0.9577 - val_loss: 2.1260 - val_accuracy: 0.2571\n",
      "Epoch 26/50\n",
      "8/8 [==============================] - 6s 717ms/step - loss: 0.1172 - accuracy: 0.9654 - val_loss: 1.9901 - val_accuracy: 0.5429\n",
      "Epoch 27/50\n",
      "8/8 [==============================] - 6s 713ms/step - loss: 0.4032 - accuracy: 0.8654 - val_loss: 2.0554 - val_accuracy: 0.2286\n",
      "Epoch 28/50\n",
      "8/8 [==============================] - 6s 691ms/step - loss: 0.2587 - accuracy: 0.9192 - val_loss: 2.1320 - val_accuracy: 0.3429\n",
      "Epoch 29/50\n",
      "8/8 [==============================] - 6s 681ms/step - loss: 0.1385 - accuracy: 0.9577 - val_loss: 2.1178 - val_accuracy: 0.3429\n",
      "Epoch 30/50\n",
      "8/8 [==============================] - 5s 668ms/step - loss: 0.0725 - accuracy: 0.9923 - val_loss: 2.0299 - val_accuracy: 0.3143\n",
      "Epoch 31/50\n",
      "8/8 [==============================] - 6s 690ms/step - loss: 0.1827 - accuracy: 0.9500 - val_loss: 1.9831 - val_accuracy: 0.3429\n",
      "Epoch 32/50\n",
      "8/8 [==============================] - 6s 754ms/step - loss: 0.1658 - accuracy: 0.9577 - val_loss: 1.9389 - val_accuracy: 0.3143\n",
      "Epoch 33/50\n",
      "8/8 [==============================] - 6s 753ms/step - loss: 0.3225 - accuracy: 0.9115 - val_loss: 2.0483 - val_accuracy: 0.2857\n",
      "Epoch 34/50\n",
      "8/8 [==============================] - 6s 709ms/step - loss: 0.3754 - accuracy: 0.9038 - val_loss: 1.7731 - val_accuracy: 0.3714\n",
      "Epoch 35/50\n",
      "8/8 [==============================] - 6s 695ms/step - loss: 0.2314 - accuracy: 0.9308 - val_loss: 1.8454 - val_accuracy: 0.2571\n",
      "Epoch 36/50\n",
      "8/8 [==============================] - 6s 754ms/step - loss: 0.1561 - accuracy: 0.9654 - val_loss: 1.6307 - val_accuracy: 0.5143\n",
      "Epoch 37/50\n",
      "8/8 [==============================] - 6s 696ms/step - loss: 0.1168 - accuracy: 0.9692 - val_loss: 1.5917 - val_accuracy: 0.6000\n",
      "Epoch 38/50\n",
      "8/8 [==============================] - 6s 710ms/step - loss: 0.1335 - accuracy: 0.9577 - val_loss: 1.6061 - val_accuracy: 0.4857\n",
      "Epoch 39/50\n",
      "8/8 [==============================] - 5s 730ms/step - loss: 0.0693 - accuracy: 0.9923 - val_loss: 1.6884 - val_accuracy: 0.4286\n",
      "Epoch 40/50\n",
      "8/8 [==============================] - 6s 701ms/step - loss: 0.0676 - accuracy: 0.9846 - val_loss: 1.7684 - val_accuracy: 0.3714\n",
      "Epoch 41/50\n",
      "8/8 [==============================] - 6s 704ms/step - loss: 0.0878 - accuracy: 0.9692 - val_loss: 1.8353 - val_accuracy: 0.4571\n",
      "Epoch 42/50\n",
      "8/8 [==============================] - 6s 683ms/step - loss: 0.0914 - accuracy: 0.9731 - val_loss: 1.6598 - val_accuracy: 0.4857\n",
      "Epoch 43/50\n",
      "8/8 [==============================] - 6s 708ms/step - loss: 0.0811 - accuracy: 0.9731 - val_loss: 1.6019 - val_accuracy: 0.5714\n",
      "Epoch 44/50\n",
      "8/8 [==============================] - 6s 707ms/step - loss: 0.0494 - accuracy: 0.9885 - val_loss: 1.6601 - val_accuracy: 0.5714\n",
      "Epoch 45/50\n",
      "8/8 [==============================] - 6s 777ms/step - loss: 0.0610 - accuracy: 0.9846 - val_loss: 1.6910 - val_accuracy: 0.6000\n",
      "Epoch 46/50\n",
      "8/8 [==============================] - 6s 770ms/step - loss: 0.0763 - accuracy: 0.9846 - val_loss: 1.6584 - val_accuracy: 0.5429\n",
      "Epoch 47/50\n",
      "8/8 [==============================] - 6s 702ms/step - loss: 0.0582 - accuracy: 0.9808 - val_loss: 1.6550 - val_accuracy: 0.5714\n",
      "Epoch 48/50\n",
      "8/8 [==============================] - 6s 738ms/step - loss: 0.0625 - accuracy: 0.9846 - val_loss: 1.6327 - val_accuracy: 0.4857\n",
      "Epoch 49/50\n",
      "8/8 [==============================] - 6s 681ms/step - loss: 0.0475 - accuracy: 0.9885 - val_loss: 1.7025 - val_accuracy: 0.5429\n",
      "Epoch 50/50\n",
      "8/8 [==============================] - 6s 748ms/step - loss: 0.0923 - accuracy: 0.9769 - val_loss: 1.7684 - val_accuracy: 0.5143\n"
     ]
    }
   ],
   "source": [
    "history = classifier.fit(train_set,steps_per_epoch=train_set.n/32,epochs=50,validation_data=test_set,validation_steps=test_set.n/32,callbacks=[csv],verbose=1)"
   ]
  },
  {
   "cell_type": "code",
   "execution_count": 5,
   "outputs": [],
   "source": [
    "classifier.save('2_adam_NoBeard.h5')\n"
   ],
   "metadata": {
    "collapsed": false,
    "pycharm": {
     "name": "#%%\n"
    }
   }
  },
  {
   "cell_type": "code",
   "execution_count": 6,
   "outputs": [
    {
     "data": {
      "text/plain": "<Figure size 432x288 with 1 Axes>",
      "image/png": "[encoded data removed]"
     },
     "metadata": {
      "needs_background": "light"
     },
     "output_type": "display_data"
    }
   ],
   "source": [
    "import matplotlib.pyplot as plt\n",
    "plt.plot(history.history['accuracy']) #validation\n",
    "plt.plot(history.history['val_accuracy']) #train\n",
    "plt.title('model accuracy')\n",
    "plt.ylabel('accuracy')\n",
    "plt.xlabel('epoch')\n",
    "plt.legend(['train', 'validation'], loc='upper left')\n",
    "plt.show()"
   ],
   "metadata": {
    "collapsed": false,
    "pycharm": {
     "name": "#%%\n"
    }
   }
  },
  {
   "cell_type": "code",
   "execution_count": 6,
   "outputs": [],
   "source": [],
   "metadata": {
    "collapsed": false,
    "pycharm": {
     "name": "#%%\n"
    }
   }
  }
 ],
 "metadata": {
  "kernelspec": {
   "name": "python3",
   "language": "python",
   "display_name": "Python 3 (ipykernel)"
  },
  "language_info": {
   "codemirror_mode": {
    "name": "ipython",
    "version": 3
   },
   "file_extension": ".py",
   "mimetype": "text/x-python",
   "name": "python",
   "nbconvert_exporter": "python",
   "pygments_lexer": "ipython3",
   "version": "3.6.4"
  }
 },
 "nbformat": 4,
 "nbformat_minor": 2
}