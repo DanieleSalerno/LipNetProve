{
 "cells": [
  {
   "cell_type": "code",
   "execution_count": 1,
   "metadata": {},
   "outputs": [
    {
     "name": "stderr",
     "output_type": "stream",
     "text": [
      "2022-01-26 16:57:15.991506: I tensorflow/core/platform/cpu_feature_guard.cc:151] This TensorFlow binary is optimized with oneAPI Deep Neural Network Library (oneDNN) to use the following CPU instructions in performance-critical operations:  AVX2 FMA\n",
      "To enable them in other operations, rebuild TensorFlow with the appropriate compiler flags.\n"
     ]
    }
   ],
   "source": [
    "import os\n",
    "import numpy as np\n",
    "import pandas as pd\n",
    "import tensorflow\n",
    "from keras.models import Sequential # To initialise the nn as a sequence of layers\n",
    "from keras.layers import Convolution2D # To make the convolution layer for 2D images\n",
    "from keras.layers import MaxPooling2D # \n",
    "from keras.layers import Flatten\n",
    "from keras.layers import Dense\n",
    "from keras.layers import Dropout\n",
    "from keras.callbacks import CSVLogger\n",
    "from tensorflow.keras.optimizers import RMSprop\n",
    "from keras.layers import BatchNormalization\n",
    "from tensorflow.keras.optimizers import Adam\n",
    "from tensorflow import data\n",
    "from keras.models import load_model\n",
    "from keras.callbacks import ModelCheckpoint\n",
    "from tensorflow import repeat as rp\n",
    "\n",
    "csv=CSVLogger(\"2_adamR30-Q.log\")\n",
    "#filepath=\"weights-improvement-{epoch:02d}-{val_acc:.2f}.hdf5\"\n",
    "#checkpoint = ModelCheckpoint(filepath, monitor='val_acc', verbose=1, save_best_only=True, mode='max')\n",
    "\n",
    "\n",
    "# Initialising the CNN\n",
    "classifier = Sequential()\n",
    "\n",
    "# Step 1 - Convolution\n",
    "classifier.add(Convolution2D(32,(2,2),input_shape = (100,100,1), activation = 'relu',strides=2,name='convo1'))\n",
    "classifier.add(Convolution2D(64,(3,3), activation = 'relu',name='convo2'))\n",
    "# Step 1 - Pooling\n",
    "classifier.add(MaxPooling2D(pool_size = (2,2)))\n",
    "\n",
    "# Step 2 - Convolution\n",
    "classifier.add(Convolution2D(64,(3,3),activation = 'relu',name='convo3'))\n",
    "# Step 2 - Pooling\n",
    "classifier.add(MaxPooling2D(pool_size = (2,2)))\n",
    "# Step 3 - Convolution\n",
    "#classifier.add(Convolution2D(64,(3,3),activation = 'relu',name='convo4'))\n",
    "# Step 3 - Pooling\n",
    "#classifier.add(MaxPooling2D(pool_size = (2,2)))\n",
    "#Step 4 - Flattening\n",
    "\n",
    "classifier.add(Flatten())\n",
    "\n",
    "classifier.add(BatchNormalization())\n",
    "classifier.add(Dropout((0.5)))\n",
    "classifier.add(Dense(1024, activation = 'relu'))\n",
    "\n",
    "'''classifier.add(BatchNormalization())\n",
    "classifier.add(Dropout((0.5)))\n",
    "classifier.add(Dense(512, activation = 'relu'))\n",
    "'''\n",
    "\n",
    "classifier.add(BatchNormalization())\n",
    "classifier.add(Dropout((0.4)))\n",
    "classifier.add(Dense(10, activation = 'softmax'))"
   ]
  },
  {
   "cell_type": "code",
   "execution_count": 2,
   "metadata": {},
   "outputs": [
    {
     "name": "stdout",
     "output_type": "stream",
     "text": [
      "Found 594 images belonging to 10 classes.\n",
      "Found 113 images belonging to 10 classes.\n"
     ]
    },
    {
     "data": {
      "text/plain": "[]"
     },
     "execution_count": 2,
     "metadata": {},
     "output_type": "execute_result"
    }
   ],
   "source": [
    "import matplotlib.pyplot as plt\n",
    "adam = Adam(epsilon = 0.01)\n",
    "classifier.compile(optimizer = adam, loss = 'categorical_crossentropy', metrics = ['accuracy'])\n",
    "\n",
    "from keras.preprocessing.image import ImageDataGenerator\n",
    "\n",
    "train_datagen = ImageDataGenerator(rescale=1./255)\n",
    "\n",
    "test_datagen = ImageDataGenerator(rescale=1./255)\n",
    "\n",
    "curr_path = os.getcwd()\n",
    "basefolder = os.path.dirname(curr_path)\n",
    "train_folder = os.path.join(basefolder, \"../DatasetITA-Ratio-Q1/Train\")\n",
    "test_folder = os.path.join(basefolder, \"../DatasetITA-Ratio-Q1/Test\")\n",
    "train_set=tensorflow.data\n",
    "train_set = train_datagen.flow_from_directory(train_folder,target_size=(100, 100),batch_size=32,class_mode='categorical',color_mode='grayscale')\n",
    "\n",
    "\n",
    "test_set = test_datagen.flow_from_directory(test_folder,target_size=(100, 100),batch_size=32,class_mode='categorical',color_mode='grayscale')\n",
    "classifier.metrics_names\n",
    "\n",
    "\n"
   ]
  },
  {
   "cell_type": "code",
   "execution_count": 3,
   "outputs": [],
   "source": [
    "#nb_conda_kernels"
   ],
   "metadata": {
    "collapsed": false,
    "pycharm": {
     "name": "#%%\n"
    }
   }
  },
  {
   "cell_type": "code",
   "execution_count": 4,
   "metadata": {},
   "outputs": [
    {
     "name": "stdout",
     "output_type": "stream",
     "text": [
      "Epoch 1/30\n",
      "18/18 [==============================] - 4s 190ms/step - loss: 3.3565 - accuracy: 0.1044 - val_loss: 2.3086 - val_accuracy: 0.0531\n",
      "Epoch 2/30\n",
      "18/18 [==============================] - 3s 175ms/step - loss: 3.0140 - accuracy: 0.1246 - val_loss: 2.3130 - val_accuracy: 0.0708\n",
      "Epoch 3/30\n",
      "18/18 [==============================] - 3s 175ms/step - loss: 2.7999 - accuracy: 0.1785 - val_loss: 2.3069 - val_accuracy: 0.0708\n",
      "Epoch 4/30\n",
      "18/18 [==============================] - 3s 182ms/step - loss: 2.6111 - accuracy: 0.1970 - val_loss: 2.3073 - val_accuracy: 0.1327\n",
      "Epoch 5/30\n",
      "18/18 [==============================] - 3s 182ms/step - loss: 2.3757 - accuracy: 0.2694 - val_loss: 2.3115 - val_accuracy: 0.0796\n",
      "Epoch 6/30\n",
      "18/18 [==============================] - 3s 184ms/step - loss: 1.9768 - accuracy: 0.3822 - val_loss: 2.3044 - val_accuracy: 0.1416\n",
      "Epoch 7/30\n",
      "18/18 [==============================] - 4s 196ms/step - loss: 1.8100 - accuracy: 0.4293 - val_loss: 2.3090 - val_accuracy: 0.0973\n",
      "Epoch 8/30\n",
      "18/18 [==============================] - 4s 191ms/step - loss: 1.5431 - accuracy: 0.5051 - val_loss: 2.3049 - val_accuracy: 0.0796\n",
      "Epoch 9/30\n",
      "18/18 [==============================] - 4s 191ms/step - loss: 1.0857 - accuracy: 0.6549 - val_loss: 2.2900 - val_accuracy: 0.1416\n",
      "Epoch 10/30\n",
      "18/18 [==============================] - 4s 196ms/step - loss: 0.7419 - accuracy: 0.7576 - val_loss: 2.2788 - val_accuracy: 0.1681\n",
      "Epoch 11/30\n",
      "18/18 [==============================] - 4s 192ms/step - loss: 0.4992 - accuracy: 0.8367 - val_loss: 2.2739 - val_accuracy: 0.1150\n",
      "Epoch 12/30\n",
      "18/18 [==============================] - 4s 191ms/step - loss: 0.4281 - accuracy: 0.8603 - val_loss: 2.2566 - val_accuracy: 0.1416\n",
      "Epoch 13/30\n",
      "18/18 [==============================] - 4s 191ms/step - loss: 0.3401 - accuracy: 0.8889 - val_loss: 2.2538 - val_accuracy: 0.1681\n",
      "Epoch 14/30\n",
      "18/18 [==============================] - 4s 190ms/step - loss: 0.2728 - accuracy: 0.9192 - val_loss: 2.2442 - val_accuracy: 0.2478\n",
      "Epoch 15/30\n",
      "18/18 [==============================] - 3s 188ms/step - loss: 0.2303 - accuracy: 0.9276 - val_loss: 2.2406 - val_accuracy: 0.2478\n",
      "Epoch 16/30\n",
      "18/18 [==============================] - 4s 190ms/step - loss: 0.2034 - accuracy: 0.9360 - val_loss: 2.2233 - val_accuracy: 0.1504\n",
      "Epoch 17/30\n",
      "18/18 [==============================] - 3s 188ms/step - loss: 0.1845 - accuracy: 0.9461 - val_loss: 2.1975 - val_accuracy: 0.2124\n",
      "Epoch 18/30\n",
      "18/18 [==============================] - 4s 190ms/step - loss: 0.1784 - accuracy: 0.9545 - val_loss: 2.1865 - val_accuracy: 0.3009\n",
      "Epoch 19/30\n",
      "18/18 [==============================] - 4s 189ms/step - loss: 0.1465 - accuracy: 0.9596 - val_loss: 2.1133 - val_accuracy: 0.3540\n",
      "Epoch 20/30\n",
      "18/18 [==============================] - 3s 186ms/step - loss: 0.1057 - accuracy: 0.9781 - val_loss: 2.1329 - val_accuracy: 0.2920\n",
      "Epoch 21/30\n",
      "18/18 [==============================] - 3s 185ms/step - loss: 0.0876 - accuracy: 0.9832 - val_loss: 2.0969 - val_accuracy: 0.3805\n",
      "Epoch 22/30\n",
      "18/18 [==============================] - 3s 183ms/step - loss: 0.0720 - accuracy: 0.9832 - val_loss: 2.0832 - val_accuracy: 0.3451\n",
      "Epoch 23/30\n",
      "18/18 [==============================] - 3s 183ms/step - loss: 0.0800 - accuracy: 0.9747 - val_loss: 2.0708 - val_accuracy: 0.2832\n",
      "Epoch 24/30\n",
      "18/18 [==============================] - 3s 185ms/step - loss: 0.0534 - accuracy: 0.9899 - val_loss: 2.0354 - val_accuracy: 0.3363\n",
      "Epoch 25/30\n",
      "18/18 [==============================] - 3s 187ms/step - loss: 0.0794 - accuracy: 0.9815 - val_loss: 1.9826 - val_accuracy: 0.3274\n",
      "Epoch 26/30\n",
      "18/18 [==============================] - 3s 185ms/step - loss: 0.0690 - accuracy: 0.9798 - val_loss: 2.1425 - val_accuracy: 0.2920\n",
      "Epoch 27/30\n",
      "18/18 [==============================] - 3s 182ms/step - loss: 0.0917 - accuracy: 0.9764 - val_loss: 2.1009 - val_accuracy: 0.2655\n",
      "Epoch 28/30\n",
      "18/18 [==============================] - 3s 185ms/step - loss: 0.0562 - accuracy: 0.9832 - val_loss: 2.0314 - val_accuracy: 0.3717\n",
      "Epoch 29/30\n",
      "18/18 [==============================] - 3s 183ms/step - loss: 0.0442 - accuracy: 0.9949 - val_loss: 2.0946 - val_accuracy: 0.3540\n",
      "Epoch 30/30\n",
      "18/18 [==============================] - 3s 180ms/step - loss: 0.0503 - accuracy: 0.9933 - val_loss: 2.1228 - val_accuracy: 0.3982\n"
     ]
    }
   ],
   "source": [
    "history = classifier.fit(train_set,steps_per_epoch=train_set.n/32,epochs=30,validation_data=test_set,validation_steps=test_set.n/32,callbacks=[csv],verbose=1)"
   ]
  },
  {
   "cell_type": "code",
   "execution_count": 5,
   "outputs": [],
   "source": [
    "classifier.save('2_adam_30epR-Q.h5')\n"
   ],
   "metadata": {
    "collapsed": false,
    "pycharm": {
     "name": "#%%\n"
    }
   }
  },
  {
   "cell_type": "code",
   "execution_count": 6,
   "outputs": [
    {
     "data": {
      "text/plain": "<Figure size 432x288 with 1 Axes>",
      "image/png": "[encoded data removed]"
     },
     "metadata": {
      "needs_background": "light"
     },
     "output_type": "display_data"
    }
   ],
   "source": [
    "import matplotlib.pyplot as plt\n",
    "plt.plot(history.history['accuracy']) #validation\n",
    "plt.plot(history.history['val_accuracy']) #train\n",
    "plt.title('model accuracy')\n",
    "plt.ylabel('accuracy')\n",
    "plt.xlabel('epoch')\n",
    "plt.legend(['train', 'validation'], loc='upper left')\n",
    "plt.show()"
   ],
   "metadata": {
    "collapsed": false,
    "pycharm": {
     "name": "#%%\n"
    }
   }
  },
  {
   "cell_type": "code",
   "execution_count": 6,
   "outputs": [],
   "source": [],
   "metadata": {
    "collapsed": false,
    "pycharm": {
     "name": "#%%\n"
    }
   }
  }
 ],
 "metadata": {
  "kernelspec": {
   "name": "python3",
   "language": "python",
   "display_name": "Python 3 (ipykernel)"
  },
  "language_info": {
   "codemirror_mode": {
    "name": "ipython",
    "version": 3
   },
   "file_extension": ".py",
   "mimetype": "text/x-python",
   "name": "python",
   "nbconvert_exporter": "python",
   "pygments_lexer": "ipython3",
   "version": "3.6.4"
  }
 },
 "nbformat": 4,
 "nbformat_minor": 2
}