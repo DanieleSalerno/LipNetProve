{
 "cells": [
  {
   "cell_type": "code",
   "execution_count": 1,
   "metadata": {},
   "outputs": [
    {
     "name": "stderr",
     "output_type": "stream",
     "text": [
      "2022-01-26 18:50:10.327088: I tensorflow/core/platform/cpu_feature_guard.cc:151] This TensorFlow binary is optimized with oneAPI Deep Neural Network Library (oneDNN) to use the following CPU instructions in performance-critical operations:  AVX2 FMA\n",
      "To enable them in other operations, rebuild TensorFlow with the appropriate compiler flags.\n"
     ]
    }
   ],
   "source": [
    "import os\n",
    "import numpy as np\n",
    "import pandas as pd\n",
    "import tensorflow\n",
    "from keras.models import Sequential # To initialise the nn as a sequence of layers\n",
    "from keras.layers import Convolution2D # To make the convolution layer for 2D images\n",
    "from keras.layers import MaxPooling2D # \n",
    "from keras.layers import Flatten\n",
    "from keras.layers import Dense\n",
    "from keras.layers import Dropout\n",
    "from keras.callbacks import CSVLogger\n",
    "from tensorflow.keras.optimizers import RMSprop\n",
    "from keras.layers import BatchNormalization\n",
    "from tensorflow.keras.optimizers import Adam\n",
    "from tensorflow import data\n",
    "from keras.models import load_model\n",
    "from keras.callbacks import ModelCheckpoint\n",
    "from tensorflow import repeat as rp\n",
    "\n",
    "csv=CSVLogger(\"2_adamR30-B.log\")\n",
    "#filepath=\"weights-improvement-{epoch:02d}-{val_acc:.2f}.hdf5\"\n",
    "#checkpoint = ModelCheckpoint(filepath, monitor='val_acc', verbose=1, save_best_only=True, mode='max')\n",
    "\n",
    "\n",
    "# Initialising the CNN\n",
    "classifier = Sequential()\n",
    "\n",
    "# Step 1 - Convolution\n",
    "classifier.add(Convolution2D(32,(2,2),input_shape = (224,224,1), activation = 'relu',strides=2,name='convo1'))\n",
    "classifier.add(Convolution2D(64,(3,3), activation = 'relu',name='convo2'))\n",
    "# Step 1 - Pooling\n",
    "classifier.add(MaxPooling2D(pool_size = (2,2)))\n",
    "\n",
    "# Step 2 - Convolution\n",
    "classifier.add(Convolution2D(64,(3,3),activation = 'relu',name='convo3'))\n",
    "# Step 2 - Pooling\n",
    "classifier.add(MaxPooling2D(pool_size = (2,2)))\n",
    "# Step 3 - Convolution\n",
    "#classifier.add(Convolution2D(64,(3,3),activation = 'relu',name='convo4'))\n",
    "# Step 3 - Pooling\n",
    "#classifier.add(MaxPooling2D(pool_size = (2,2)))\n",
    "#Step 4 - Flattening\n",
    "\n",
    "classifier.add(Flatten())\n",
    "\n",
    "classifier.add(BatchNormalization())\n",
    "classifier.add(Dropout((0.5)))\n",
    "classifier.add(Dense(1024, activation = 'relu'))\n",
    "\n",
    "'''classifier.add(BatchNormalization())\n",
    "classifier.add(Dropout((0.5)))\n",
    "classifier.add(Dense(512, activation = 'relu'))\n",
    "'''\n",
    "\n",
    "classifier.add(BatchNormalization())\n",
    "classifier.add(Dropout((0.4)))\n",
    "classifier.add(Dense(10, activation = 'softmax'))"
   ]
  },
  {
   "cell_type": "code",
   "execution_count": 2,
   "metadata": {},
   "outputs": [
    {
     "name": "stdout",
     "output_type": "stream",
     "text": [
      "Found 594 images belonging to 10 classes.\n",
      "Found 113 images belonging to 10 classes.\n"
     ]
    },
    {
     "data": {
      "text/plain": "[]"
     },
     "execution_count": 2,
     "metadata": {},
     "output_type": "execute_result"
    }
   ],
   "source": [
    "import matplotlib.pyplot as plt\n",
    "adam = Adam(epsilon = 0.01)\n",
    "classifier.compile(optimizer = adam, loss = 'categorical_crossentropy', metrics = ['accuracy'])\n",
    "\n",
    "from keras.preprocessing.image import ImageDataGenerator\n",
    "\n",
    "train_datagen = ImageDataGenerator(rescale=1./255)\n",
    "\n",
    "test_datagen = ImageDataGenerator(rescale=1./255)\n",
    "\n",
    "curr_path = os.getcwd()\n",
    "basefolder = os.path.dirname(curr_path)\n",
    "train_folder = os.path.join(basefolder, \"../DatasetITA-Ratio-B/Train\")\n",
    "test_folder = os.path.join(basefolder, \"../DatasetITA-Ratio-B/Test\")\n",
    "train_set=tensorflow.data\n",
    "train_set = train_datagen.flow_from_directory(train_folder,target_size=(224, 224),batch_size=32,class_mode='categorical',color_mode='grayscale')\n",
    "\n",
    "\n",
    "test_set = test_datagen.flow_from_directory(test_folder,target_size=(224, 224),batch_size=32,class_mode='categorical',color_mode='grayscale')\n",
    "classifier.metrics_names\n",
    "\n",
    "\n"
   ]
  },
  {
   "cell_type": "code",
   "execution_count": 3,
   "outputs": [],
   "source": [
    "#nb_conda_kernels"
   ],
   "metadata": {
    "collapsed": false,
    "pycharm": {
     "name": "#%%\n"
    }
   }
  },
  {
   "cell_type": "code",
   "execution_count": 4,
   "metadata": {},
   "outputs": [
    {
     "name": "stdout",
     "output_type": "stream",
     "text": [
      "Epoch 1/30\n",
      "18/18 [==============================] - 24s 1s/step - loss: 3.2828 - accuracy: 0.1246 - val_loss: 2.3274 - val_accuracy: 0.1062\n",
      "Epoch 2/30\n",
      "18/18 [==============================] - 24s 1s/step - loss: 2.7951 - accuracy: 0.1633 - val_loss: 2.3128 - val_accuracy: 0.0885\n",
      "Epoch 3/30\n",
      "18/18 [==============================] - 23s 1s/step - loss: 2.5993 - accuracy: 0.1852 - val_loss: 2.3059 - val_accuracy: 0.0885\n",
      "Epoch 4/30\n",
      "18/18 [==============================] - 22s 1s/step - loss: 2.4266 - accuracy: 0.2256 - val_loss: 2.3162 - val_accuracy: 0.0885\n",
      "Epoch 5/30\n",
      "18/18 [==============================] - 23s 1s/step - loss: 2.1655 - accuracy: 0.2997 - val_loss: 2.3089 - val_accuracy: 0.0973\n",
      "Epoch 6/30\n",
      "18/18 [==============================] - 23s 1s/step - loss: 1.9408 - accuracy: 0.3990 - val_loss: 2.3039 - val_accuracy: 0.0973\n",
      "Epoch 7/30\n",
      "18/18 [==============================] - 23s 1s/step - loss: 1.5266 - accuracy: 0.5168 - val_loss: 2.3195 - val_accuracy: 0.1062\n",
      "Epoch 8/30\n",
      "18/18 [==============================] - 19s 1s/step - loss: 1.4562 - accuracy: 0.5556 - val_loss: 2.3044 - val_accuracy: 0.0885\n",
      "Epoch 9/30\n",
      "18/18 [==============================] - 20s 1s/step - loss: 1.0694 - accuracy: 0.6532 - val_loss: 2.3139 - val_accuracy: 0.1062\n",
      "Epoch 10/30\n",
      "18/18 [==============================] - 24s 1s/step - loss: 0.8008 - accuracy: 0.7475 - val_loss: 2.2701 - val_accuracy: 0.1593\n",
      "Epoch 11/30\n",
      "18/18 [==============================] - 24s 1s/step - loss: 0.6359 - accuracy: 0.7862 - val_loss: 2.2877 - val_accuracy: 0.1327\n",
      "Epoch 12/30\n",
      "18/18 [==============================] - 22s 1s/step - loss: 0.4436 - accuracy: 0.8569 - val_loss: 2.2815 - val_accuracy: 0.1504\n",
      "Epoch 13/30\n",
      "18/18 [==============================] - 21s 1s/step - loss: 0.3293 - accuracy: 0.9108 - val_loss: 2.2466 - val_accuracy: 0.1770\n",
      "Epoch 14/30\n",
      "18/18 [==============================] - 21s 1s/step - loss: 0.2959 - accuracy: 0.9074 - val_loss: 2.1949 - val_accuracy: 0.2389\n",
      "Epoch 15/30\n",
      "18/18 [==============================] - 22s 1s/step - loss: 0.2360 - accuracy: 0.9226 - val_loss: 2.1969 - val_accuracy: 0.1947\n",
      "Epoch 16/30\n",
      "18/18 [==============================] - 26s 1s/step - loss: 0.2328 - accuracy: 0.9310 - val_loss: 2.1893 - val_accuracy: 0.2035\n",
      "Epoch 17/30\n",
      "18/18 [==============================] - 21s 1s/step - loss: 0.2051 - accuracy: 0.9293 - val_loss: 2.1539 - val_accuracy: 0.2035\n",
      "Epoch 18/30\n",
      "18/18 [==============================] - 26s 1s/step - loss: 0.1185 - accuracy: 0.9747 - val_loss: 2.0996 - val_accuracy: 0.2920\n",
      "Epoch 19/30\n",
      "18/18 [==============================] - 24s 1s/step - loss: 0.1424 - accuracy: 0.9613 - val_loss: 2.0795 - val_accuracy: 0.2301\n",
      "Epoch 20/30\n",
      "18/18 [==============================] - 20s 1s/step - loss: 0.1085 - accuracy: 0.9798 - val_loss: 1.9714 - val_accuracy: 0.3717\n",
      "Epoch 21/30\n",
      "18/18 [==============================] - 21s 1s/step - loss: 0.1073 - accuracy: 0.9764 - val_loss: 2.0564 - val_accuracy: 0.2655\n",
      "Epoch 22/30\n",
      "18/18 [==============================] - 22s 1s/step - loss: 0.0837 - accuracy: 0.9798 - val_loss: 2.1709 - val_accuracy: 0.1504\n",
      "Epoch 23/30\n",
      "18/18 [==============================] - 24s 1s/step - loss: 0.0747 - accuracy: 0.9764 - val_loss: 2.0402 - val_accuracy: 0.3009\n",
      "Epoch 24/30\n",
      "18/18 [==============================] - 22s 1s/step - loss: 0.0589 - accuracy: 0.9832 - val_loss: 2.1428 - val_accuracy: 0.2655\n",
      "Epoch 25/30\n",
      "18/18 [==============================] - 22s 1s/step - loss: 0.0519 - accuracy: 0.9899 - val_loss: 2.0933 - val_accuracy: 0.3451\n",
      "Epoch 26/30\n",
      "18/18 [==============================] - 22s 1s/step - loss: 0.0371 - accuracy: 0.9899 - val_loss: 2.0442 - val_accuracy: 0.3805\n",
      "Epoch 27/30\n",
      "18/18 [==============================] - 22s 1s/step - loss: 0.0400 - accuracy: 0.9916 - val_loss: 2.3203 - val_accuracy: 0.3717\n",
      "Epoch 28/30\n",
      "18/18 [==============================] - 23s 1s/step - loss: 0.0357 - accuracy: 0.9916 - val_loss: 2.3785 - val_accuracy: 0.3363\n",
      "Epoch 29/30\n",
      "18/18 [==============================] - 22s 1s/step - loss: 0.0217 - accuracy: 0.9966 - val_loss: 2.3035 - val_accuracy: 0.3540\n",
      "Epoch 30/30\n",
      "18/18 [==============================] - 22s 1s/step - loss: 0.0488 - accuracy: 0.9865 - val_loss: 2.3756 - val_accuracy: 0.3982\n"
     ]
    }
   ],
   "source": [
    "history = classifier.fit(train_set,steps_per_epoch=train_set.n/32,epochs=30,validation_data=test_set,validation_steps=test_set.n/32,callbacks=[csv],verbose=1)"
   ]
  },
  {
   "cell_type": "code",
   "execution_count": 5,
   "outputs": [],
   "source": [
    "classifier.save('2_adam_30epR-B.h5')\n"
   ],
   "metadata": {
    "collapsed": false,
    "pycharm": {
     "name": "#%%\n"
    }
   }
  },
  {
   "cell_type": "code",
   "execution_count": 6,
   "outputs": [
    {
     "data": {
      "text/plain": "<Figure size 432x288 with 1 Axes>",
      "image/png": "[encoded data removed]"
     },
     "metadata": {
      "needs_background": "light"
     },
     "output_type": "display_data"
    }
   ],
   "source": [
    "import matplotlib.pyplot as plt\n",
    "plt.plot(history.history['accuracy']) #validation\n",
    "plt.plot(history.history['val_accuracy']) #train\n",
    "plt.title('model accuracy')\n",
    "plt.ylabel('accuracy')\n",
    "plt.xlabel('epoch')\n",
    "plt.legend(['train', 'validation'], loc='upper left')\n",
    "plt.show()"
   ],
   "metadata": {
    "collapsed": false,
    "pycharm": {
     "name": "#%%\n"
    }
   }
  },
  {
   "cell_type": "code",
   "execution_count": 6,
   "outputs": [],
   "source": [],
   "metadata": {
    "collapsed": false,
    "pycharm": {
     "name": "#%%\n"
    }
   }
  }
 ],
 "metadata": {
  "kernelspec": {
   "name": "python3",
   "language": "python",
   "display_name": "Python 3 (ipykernel)"
  },
  "language_info": {
   "codemirror_mode": {
    "name": "ipython",
    "version": 3
   },
   "file_extension": ".py",
   "mimetype": "text/x-python",
   "name": "python",
   "nbconvert_exporter": "python",
   "pygments_lexer": "ipython3",
   "version": "3.6.4"
  }
 },
 "nbformat": 4,
 "nbformat_minor": 2
}