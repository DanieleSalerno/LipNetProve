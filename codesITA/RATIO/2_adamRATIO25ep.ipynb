{
 "cells": [
  {
   "cell_type": "code",
   "execution_count": 2,
   "metadata": {},
   "outputs": [
    {
     "name": "stderr",
     "output_type": "stream",
     "text": [
      "2022-01-22 19:08:13.999926: I tensorflow/core/platform/cpu_feature_guard.cc:151] This TensorFlow binary is optimized with oneAPI Deep Neural Network Library (oneDNN) to use the following CPU instructions in performance-critical operations:  AVX2 FMA\n",
      "To enable them in other operations, rebuild TensorFlow with the appropriate compiler flags.\n"
     ]
    }
   ],
   "source": [
    "import os\n",
    "import numpy as np\n",
    "import pandas as pd\n",
    "import tensorflow\n",
    "from keras.models import Sequential # To initialise the nn as a sequence of layers\n",
    "from keras.layers import Convolution2D # To make the convolution layer for 2D images\n",
    "from keras.layers import MaxPooling2D # \n",
    "from keras.layers import Flatten\n",
    "from keras.layers import Dense\n",
    "from keras.layers import Dropout\n",
    "from keras.callbacks import CSVLogger\n",
    "from tensorflow.keras.optimizers import RMSprop\n",
    "from keras.layers import BatchNormalization\n",
    "from tensorflow.keras.optimizers import Adam\n",
    "from tensorflow import data\n",
    "from keras.models import load_model\n",
    "from keras.callbacks import ModelCheckpoint\n",
    "from tensorflow import repeat as rp\n",
    "\n",
    "csv=CSVLogger(\"2_adamR25.log\")\n",
    "#filepath=\"weights-improvement-{epoch:02d}-{val_acc:.2f}.hdf5\"\n",
    "#checkpoint = ModelCheckpoint(filepath, monitor='val_acc', verbose=1, save_best_only=True, mode='max')\n",
    "\n",
    "\n",
    "# Initialising the CNN\n",
    "classifier = Sequential()\n",
    "\n",
    "# Step 1 - Convolution\n",
    "classifier.add(Convolution2D(32,(2,2),input_shape = (224,224,1), activation = 'relu',strides=2,name='convo1'))\n",
    "classifier.add(Convolution2D(64,(3,3), activation = 'relu',name='convo2'))\n",
    "# Step 1 - Pooling\n",
    "classifier.add(MaxPooling2D(pool_size = (2,2)))\n",
    "\n",
    "# Step 2 - Convolution\n",
    "classifier.add(Convolution2D(64,(3,3),activation = 'relu',name='convo3'))\n",
    "# Step 2 - Pooling\n",
    "classifier.add(MaxPooling2D(pool_size = (2,2)))\n",
    "# Step 3 - Convolution\n",
    "#classifier.add(Convolution2D(64,(3,3),activation = 'relu',name='convo4'))\n",
    "# Step 3 - Pooling\n",
    "#classifier.add(MaxPooling2D(pool_size = (2,2)))\n",
    "#Step 4 - Flattening\n",
    "\n",
    "classifier.add(Flatten())\n",
    "\n",
    "classifier.add(BatchNormalization())\n",
    "classifier.add(Dropout((0.5)))\n",
    "classifier.add(Dense(1024, activation = 'relu'))\n",
    "\n",
    "'''classifier.add(BatchNormalization())\n",
    "classifier.add(Dropout((0.5)))\n",
    "classifier.add(Dense(512, activation = 'relu'))\n",
    "'''\n",
    "\n",
    "classifier.add(BatchNormalization())\n",
    "classifier.add(Dropout((0.4)))\n",
    "classifier.add(Dense(10, activation = 'softmax'))"
   ]
  },
  {
   "cell_type": "code",
   "execution_count": 3,
   "metadata": {},
   "outputs": [
    {
     "name": "stdout",
     "output_type": "stream",
     "text": [
      "Found 594 images belonging to 10 classes.\n",
      "Found 113 images belonging to 10 classes.\n"
     ]
    },
    {
     "data": {
      "text/plain": "[]"
     },
     "execution_count": 3,
     "metadata": {},
     "output_type": "execute_result"
    }
   ],
   "source": [
    "import matplotlib.pyplot as plt\n",
    "adam = Adam(epsilon = 0.01)\n",
    "classifier.compile(optimizer = adam, loss = 'categorical_crossentropy', metrics = ['accuracy'])\n",
    "\n",
    "from keras.preprocessing.image import ImageDataGenerator\n",
    "\n",
    "train_datagen = ImageDataGenerator(rescale=1./255)\n",
    "\n",
    "test_datagen = ImageDataGenerator(rescale=1./255)\n",
    "\n",
    "curr_path = os.getcwd()\n",
    "basefolder = os.path.dirname(curr_path)\n",
    "train_folder = os.path.join(basefolder, \"../DatasetITA-Ratio/Train\")\n",
    "test_folder = os.path.join(basefolder, \"../DatasetITA-Ratio/Test\")\n",
    "train_set=tensorflow.data\n",
    "train_set = train_datagen.flow_from_directory(train_folder,target_size=(224, 224),batch_size=32,class_mode='categorical',color_mode='grayscale')\n",
    "\n",
    "\n",
    "test_set = test_datagen.flow_from_directory(test_folder,target_size=(224, 224),batch_size=32,class_mode='categorical',color_mode='grayscale')\n",
    "classifier.metrics_names\n",
    "\n",
    "\n"
   ]
  },
  {
   "cell_type": "code",
   "execution_count": 4,
   "outputs": [],
   "source": [
    "#nb_conda_kernels"
   ],
   "metadata": {
    "collapsed": false,
    "pycharm": {
     "name": "#%%\n"
    }
   }
  },
  {
   "cell_type": "code",
   "execution_count": 5,
   "metadata": {},
   "outputs": [
    {
     "name": "stdout",
     "output_type": "stream",
     "text": [
      "Epoch 1/25\n",
      "18/18 [==============================] - 32s 2s/step - loss: 3.4498 - accuracy: 0.1027 - val_loss: 2.3024 - val_accuracy: 0.1062\n",
      "Epoch 2/25\n",
      "18/18 [==============================] - 26s 1s/step - loss: 2.6514 - accuracy: 0.2003 - val_loss: 2.2998 - val_accuracy: 0.0973\n",
      "Epoch 3/25\n",
      "18/18 [==============================] - 24s 1s/step - loss: 2.2851 - accuracy: 0.2896 - val_loss: 2.3056 - val_accuracy: 0.0619\n",
      "Epoch 4/25\n",
      "18/18 [==============================] - 25s 1s/step - loss: 1.7245 - accuracy: 0.4394 - val_loss: 2.3007 - val_accuracy: 0.1327\n",
      "Epoch 5/25\n",
      "18/18 [==============================] - 26s 1s/step - loss: 1.1929 - accuracy: 0.6229 - val_loss: 2.2927 - val_accuracy: 0.1239\n",
      "Epoch 6/25\n",
      "18/18 [==============================] - 28s 1s/step - loss: 0.8128 - accuracy: 0.7104 - val_loss: 2.2878 - val_accuracy: 0.1681\n",
      "Epoch 7/25\n",
      "18/18 [==============================] - 23s 1s/step - loss: 0.5887 - accuracy: 0.8131 - val_loss: 2.2607 - val_accuracy: 0.1681\n",
      "Epoch 8/25\n",
      "18/18 [==============================] - 23s 1s/step - loss: 0.4127 - accuracy: 0.8636 - val_loss: 2.2511 - val_accuracy: 0.1681\n",
      "Epoch 9/25\n",
      "18/18 [==============================] - 23s 1s/step - loss: 0.2785 - accuracy: 0.9209 - val_loss: 2.2459 - val_accuracy: 0.1239\n",
      "Epoch 10/25\n",
      "18/18 [==============================] - 23s 1s/step - loss: 0.2228 - accuracy: 0.9394 - val_loss: 2.2344 - val_accuracy: 0.1327\n",
      "Epoch 11/25\n",
      "18/18 [==============================] - 23s 1s/step - loss: 0.2025 - accuracy: 0.9428 - val_loss: 2.2111 - val_accuracy: 0.1858\n",
      "Epoch 12/25\n",
      "18/18 [==============================] - 23s 1s/step - loss: 0.1109 - accuracy: 0.9714 - val_loss: 2.2004 - val_accuracy: 0.2212\n",
      "Epoch 13/25\n",
      "18/18 [==============================] - 23s 1s/step - loss: 0.1126 - accuracy: 0.9697 - val_loss: 2.1664 - val_accuracy: 0.2301\n",
      "Epoch 14/25\n",
      "18/18 [==============================] - 23s 1s/step - loss: 0.0770 - accuracy: 0.9798 - val_loss: 2.1840 - val_accuracy: 0.1681\n",
      "Epoch 15/25\n",
      "18/18 [==============================] - 24s 1s/step - loss: 0.0685 - accuracy: 0.9731 - val_loss: 2.1181 - val_accuracy: 0.3009\n",
      "Epoch 16/25\n",
      "18/18 [==============================] - 23s 1s/step - loss: 0.0634 - accuracy: 0.9848 - val_loss: 2.1055 - val_accuracy: 0.3363\n",
      "Epoch 17/25\n",
      "18/18 [==============================] - 23s 1s/step - loss: 0.0493 - accuracy: 0.9848 - val_loss: 2.1083 - val_accuracy: 0.2655\n",
      "Epoch 18/25\n",
      "18/18 [==============================] - 24s 1s/step - loss: 0.0263 - accuracy: 0.9966 - val_loss: 2.0614 - val_accuracy: 0.3274\n",
      "Epoch 19/25\n",
      "18/18 [==============================] - 23s 1s/step - loss: 0.0162 - accuracy: 1.0000 - val_loss: 2.0151 - val_accuracy: 0.3451\n",
      "Epoch 20/25\n",
      "18/18 [==============================] - 24s 1s/step - loss: 0.0210 - accuracy: 0.9966 - val_loss: 2.0284 - val_accuracy: 0.3540\n",
      "Epoch 21/25\n",
      "18/18 [==============================] - 23s 1s/step - loss: 0.0179 - accuracy: 0.9966 - val_loss: 1.9653 - val_accuracy: 0.3805\n",
      "Epoch 22/25\n",
      "18/18 [==============================] - 23s 1s/step - loss: 0.0094 - accuracy: 0.9983 - val_loss: 1.9939 - val_accuracy: 0.3982\n",
      "Epoch 23/25\n",
      "18/18 [==============================] - 23s 1s/step - loss: 0.0104 - accuracy: 1.0000 - val_loss: 1.9530 - val_accuracy: 0.4159\n",
      "Epoch 24/25\n",
      "18/18 [==============================] - 24s 1s/step - loss: 0.0207 - accuracy: 0.9949 - val_loss: 1.9344 - val_accuracy: 0.3982\n",
      "Epoch 25/25\n",
      "18/18 [==============================] - 24s 1s/step - loss: 0.0085 - accuracy: 1.0000 - val_loss: 2.0215 - val_accuracy: 0.3717\n"
     ]
    }
   ],
   "source": [
    "history = classifier.fit(train_set,steps_per_epoch=train_set.n/32,epochs=25,validation_data=test_set,validation_steps=test_set.n/32,callbacks=[csv],verbose=1)"
   ]
  },
  {
   "cell_type": "code",
   "execution_count": 6,
   "outputs": [],
   "source": [
    "classifier.save('2_adam_25epR.h5')\n"
   ],
   "metadata": {
    "collapsed": false,
    "pycharm": {
     "name": "#%%\n"
    }
   }
  },
  {
   "cell_type": "code",
   "execution_count": 7,
   "outputs": [
    {
     "data": {
      "text/plain": "<Figure size 432x288 with 1 Axes>",
      "image/png": "[encoded data removed]"
     },
     "metadata": {
      "needs_background": "light"
     },
     "output_type": "display_data"
    }
   ],
   "source": [
    "import matplotlib.pyplot as plt\n",
    "plt.plot(history.history['accuracy']) #validation\n",
    "plt.plot(history.history['val_accuracy']) #train\n",
    "plt.title('model accuracy')\n",
    "plt.ylabel('accuracy')\n",
    "plt.xlabel('epoch')\n",
    "plt.legend(['train', 'validation'], loc='upper left')\n",
    "plt.show()#%%\n",
    "history = classifier.fit(train_set,steps_per_epoch=train_set.n/32,epochs=30,validation_data=test_set,validation_steps=test_set.n/32,callbacks=[csv],verbose=1)"
   ],
   "metadata": {
    "collapsed": false,
    "pycharm": {
     "name": "#%%\n"
    }
   }
  },
  {
   "cell_type": "code",
   "execution_count": 7,
   "outputs": [],
   "source": [],
   "metadata": {
    "collapsed": false,
    "pycharm": {
     "name": "#%%\n"
    }
   }
  }
 ],
 "metadata": {
  "kernelspec": {
   "name": "python3",
   "language": "python",
   "display_name": "Python 3 (ipykernel)"
  },
  "language_info": {
   "codemirror_mode": {
    "name": "ipython",
    "version": 3
   },
   "file_extension": ".py",
   "mimetype": "text/x-python",
   "name": "python",
   "nbconvert_exporter": "python",
   "pygments_lexer": "ipython3",
   "version": "3.6.4"
  }
 },
 "nbformat": 4,
 "nbformat_minor": 2
}