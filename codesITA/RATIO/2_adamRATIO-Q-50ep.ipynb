{
 "cells": [
  {
   "cell_type": "code",
   "execution_count": 1,
   "metadata": {},
   "outputs": [
    {
     "name": "stderr",
     "output_type": "stream",
     "text": [
      "2022-01-26 17:01:40.310700: I tensorflow/core/platform/cpu_feature_guard.cc:151] This TensorFlow binary is optimized with oneAPI Deep Neural Network Library (oneDNN) to use the following CPU instructions in performance-critical operations:  AVX2 FMA\n",
      "To enable them in other operations, rebuild TensorFlow with the appropriate compiler flags.\n"
     ]
    }
   ],
   "source": [
    "import os\n",
    "import numpy as np\n",
    "import pandas as pd\n",
    "import tensorflow\n",
    "from keras.models import Sequential # To initialise the nn as a sequence of layers\n",
    "from keras.layers import Convolution2D # To make the convolution layer for 2D images\n",
    "from keras.layers import MaxPooling2D # \n",
    "from keras.layers import Flatten\n",
    "from keras.layers import Dense\n",
    "from keras.layers import Dropout\n",
    "from keras.callbacks import CSVLogger\n",
    "from tensorflow.keras.optimizers import RMSprop\n",
    "from keras.layers import BatchNormalization\n",
    "from tensorflow.keras.optimizers import Adam\n",
    "from tensorflow import data\n",
    "from keras.models import load_model\n",
    "from keras.callbacks import ModelCheckpoint\n",
    "from tensorflow import repeat as rp\n",
    "\n",
    "csv=CSVLogger(\"2_adamR50-Q.log\")\n",
    "#filepath=\"weights-improvement-{epoch:02d}-{val_acc:.2f}.hdf5\"\n",
    "#checkpoint = ModelCheckpoint(filepath, monitor='val_acc', verbose=1, save_best_only=True, mode='max')\n",
    "\n",
    "\n",
    "# Initialising the CNN\n",
    "classifier = Sequential()\n",
    "\n",
    "# Step 1 - Convolution\n",
    "classifier.add(Convolution2D(32,(2,2),input_shape = (100,100,1), activation = 'relu',strides=2,name='convo1'))\n",
    "classifier.add(Convolution2D(64,(3,3), activation = 'relu',name='convo2'))\n",
    "# Step 1 - Pooling\n",
    "classifier.add(MaxPooling2D(pool_size = (2,2)))\n",
    "\n",
    "# Step 2 - Convolution\n",
    "classifier.add(Convolution2D(64,(3,3),activation = 'relu',name='convo3'))\n",
    "# Step 2 - Pooling\n",
    "classifier.add(MaxPooling2D(pool_size = (2,2)))\n",
    "# Step 3 - Convolution\n",
    "#classifier.add(Convolution2D(64,(3,3),activation = 'relu',name='convo4'))\n",
    "# Step 3 - Pooling\n",
    "#classifier.add(MaxPooling2D(pool_size = (2,2)))\n",
    "#Step 4 - Flattening\n",
    "\n",
    "classifier.add(Flatten())\n",
    "\n",
    "classifier.add(BatchNormalization())\n",
    "classifier.add(Dropout((0.5)))\n",
    "classifier.add(Dense(1024, activation = 'relu'))\n",
    "\n",
    "'''classifier.add(BatchNormalization())\n",
    "classifier.add(Dropout((0.5)))\n",
    "classifier.add(Dense(512, activation = 'relu'))\n",
    "'''\n",
    "\n",
    "classifier.add(BatchNormalization())\n",
    "classifier.add(Dropout((0.4)))\n",
    "classifier.add(Dense(10, activation = 'softmax'))"
   ]
  },
  {
   "cell_type": "code",
   "execution_count": 2,
   "metadata": {},
   "outputs": [
    {
     "name": "stdout",
     "output_type": "stream",
     "text": [
      "Found 594 images belonging to 10 classes.\n",
      "Found 113 images belonging to 10 classes.\n"
     ]
    },
    {
     "data": {
      "text/plain": "[]"
     },
     "execution_count": 2,
     "metadata": {},
     "output_type": "execute_result"
    }
   ],
   "source": [
    "import matplotlib.pyplot as plt\n",
    "adam = Adam(epsilon = 0.01)\n",
    "classifier.compile(optimizer = adam, loss = 'categorical_crossentropy', metrics = ['accuracy'])\n",
    "\n",
    "from keras.preprocessing.image import ImageDataGenerator\n",
    "\n",
    "train_datagen = ImageDataGenerator(rescale=1./255)\n",
    "\n",
    "test_datagen = ImageDataGenerator(rescale=1./255)\n",
    "\n",
    "curr_path = os.getcwd()\n",
    "basefolder = os.path.dirname(curr_path)\n",
    "train_folder = os.path.join(basefolder, \"../DatasetITA-Ratio-Q1/Train\")\n",
    "test_folder = os.path.join(basefolder, \"../DatasetITA-Ratio-Q1/Test\")\n",
    "train_set=tensorflow.data\n",
    "train_set = train_datagen.flow_from_directory(train_folder,target_size=(100, 100),batch_size=32,class_mode='categorical',color_mode='grayscale')\n",
    "\n",
    "\n",
    "test_set = test_datagen.flow_from_directory(test_folder,target_size=(100, 100),batch_size=32,class_mode='categorical',color_mode='grayscale')\n",
    "classifier.metrics_names\n",
    "\n",
    "\n"
   ]
  },
  {
   "cell_type": "code",
   "execution_count": 3,
   "outputs": [],
   "source": [
    "#nb_conda_kernels"
   ],
   "metadata": {
    "collapsed": false,
    "pycharm": {
     "name": "#%%\n"
    }
   }
  },
  {
   "cell_type": "code",
   "execution_count": 4,
   "metadata": {},
   "outputs": [
    {
     "name": "stdout",
     "output_type": "stream",
     "text": [
      "Epoch 1/50\n",
      "18/18 [==============================] - 4s 191ms/step - loss: 3.3104 - accuracy: 0.1044 - val_loss: 2.3077 - val_accuracy: 0.0973\n",
      "Epoch 2/50\n",
      "18/18 [==============================] - 3s 185ms/step - loss: 3.0639 - accuracy: 0.1313 - val_loss: 2.3090 - val_accuracy: 0.1062\n",
      "Epoch 3/50\n",
      "18/18 [==============================] - 3s 174ms/step - loss: 2.9404 - accuracy: 0.1313 - val_loss: 2.3069 - val_accuracy: 0.1062\n",
      "Epoch 4/50\n",
      "18/18 [==============================] - 3s 177ms/step - loss: 2.6957 - accuracy: 0.1785 - val_loss: 2.3048 - val_accuracy: 0.0973\n",
      "Epoch 5/50\n",
      "18/18 [==============================] - 3s 182ms/step - loss: 2.4767 - accuracy: 0.2020 - val_loss: 2.3069 - val_accuracy: 0.1150\n",
      "Epoch 6/50\n",
      "18/18 [==============================] - 4s 194ms/step - loss: 2.4276 - accuracy: 0.2727 - val_loss: 2.3162 - val_accuracy: 0.0973\n",
      "Epoch 7/50\n",
      "18/18 [==============================] - 4s 196ms/step - loss: 2.1500 - accuracy: 0.3199 - val_loss: 2.3117 - val_accuracy: 0.0708\n",
      "Epoch 8/50\n",
      "18/18 [==============================] - 4s 191ms/step - loss: 1.9048 - accuracy: 0.4108 - val_loss: 2.3055 - val_accuracy: 0.1062\n",
      "Epoch 9/50\n",
      "18/18 [==============================] - 4s 196ms/step - loss: 1.6429 - accuracy: 0.4798 - val_loss: 2.2990 - val_accuracy: 0.1416\n",
      "Epoch 10/50\n",
      "18/18 [==============================] - 4s 200ms/step - loss: 1.3241 - accuracy: 0.5657 - val_loss: 2.3200 - val_accuracy: 0.1593\n",
      "Epoch 11/50\n",
      "18/18 [==============================] - 4s 200ms/step - loss: 1.0315 - accuracy: 0.6700 - val_loss: 2.2892 - val_accuracy: 0.1770\n",
      "Epoch 12/50\n",
      "18/18 [==============================] - 4s 194ms/step - loss: 0.7800 - accuracy: 0.7492 - val_loss: 2.2924 - val_accuracy: 0.1681\n",
      "Epoch 13/50\n",
      "18/18 [==============================] - 4s 207ms/step - loss: 0.5839 - accuracy: 0.8283 - val_loss: 2.2696 - val_accuracy: 0.1504\n",
      "Epoch 14/50\n",
      "18/18 [==============================] - 4s 192ms/step - loss: 0.4877 - accuracy: 0.8418 - val_loss: 2.2454 - val_accuracy: 0.1593\n",
      "Epoch 15/50\n",
      "18/18 [==============================] - 4s 195ms/step - loss: 0.3291 - accuracy: 0.8872 - val_loss: 2.2806 - val_accuracy: 0.1681\n",
      "Epoch 16/50\n",
      "18/18 [==============================] - 4s 192ms/step - loss: 0.3448 - accuracy: 0.9024 - val_loss: 2.2970 - val_accuracy: 0.1239\n",
      "Epoch 17/50\n",
      "18/18 [==============================] - 4s 190ms/step - loss: 0.2282 - accuracy: 0.9411 - val_loss: 2.2675 - val_accuracy: 0.1416\n",
      "Epoch 18/50\n",
      "18/18 [==============================] - 4s 199ms/step - loss: 0.1913 - accuracy: 0.9411 - val_loss: 2.2350 - val_accuracy: 0.1681\n",
      "Epoch 19/50\n",
      "18/18 [==============================] - 3s 186ms/step - loss: 0.1365 - accuracy: 0.9630 - val_loss: 2.2170 - val_accuracy: 0.2212\n",
      "Epoch 20/50\n",
      "18/18 [==============================] - 3s 187ms/step - loss: 0.1428 - accuracy: 0.9663 - val_loss: 2.1575 - val_accuracy: 0.2655\n",
      "Epoch 21/50\n",
      "18/18 [==============================] - 3s 186ms/step - loss: 0.1170 - accuracy: 0.9680 - val_loss: 2.1626 - val_accuracy: 0.1858\n",
      "Epoch 22/50\n",
      "18/18 [==============================] - 3s 185ms/step - loss: 0.1145 - accuracy: 0.9663 - val_loss: 2.1174 - val_accuracy: 0.2920\n",
      "Epoch 23/50\n",
      "18/18 [==============================] - 4s 189ms/step - loss: 0.0905 - accuracy: 0.9781 - val_loss: 2.1469 - val_accuracy: 0.3451\n",
      "Epoch 24/50\n",
      "18/18 [==============================] - 3s 189ms/step - loss: 0.0665 - accuracy: 0.9832 - val_loss: 2.0871 - val_accuracy: 0.3451\n",
      "Epoch 25/50\n",
      "18/18 [==============================] - 3s 186ms/step - loss: 0.0649 - accuracy: 0.9815 - val_loss: 2.1046 - val_accuracy: 0.3363\n",
      "Epoch 26/50\n",
      "18/18 [==============================] - 3s 184ms/step - loss: 0.0520 - accuracy: 0.9899 - val_loss: 2.1028 - val_accuracy: 0.3274\n",
      "Epoch 27/50\n",
      "18/18 [==============================] - 3s 184ms/step - loss: 0.0455 - accuracy: 0.9899 - val_loss: 2.0634 - val_accuracy: 0.3363\n",
      "Epoch 28/50\n",
      "18/18 [==============================] - 4s 191ms/step - loss: 0.0487 - accuracy: 0.9899 - val_loss: 2.0923 - val_accuracy: 0.3363\n",
      "Epoch 29/50\n",
      "18/18 [==============================] - 3s 182ms/step - loss: 0.0426 - accuracy: 0.9848 - val_loss: 2.0672 - val_accuracy: 0.3717\n",
      "Epoch 30/50\n",
      "18/18 [==============================] - 3s 181ms/step - loss: 0.0376 - accuracy: 0.9933 - val_loss: 2.2114 - val_accuracy: 0.3628\n",
      "Epoch 31/50\n",
      "18/18 [==============================] - 3s 184ms/step - loss: 0.0427 - accuracy: 0.9916 - val_loss: 2.2736 - val_accuracy: 0.3540\n",
      "Epoch 32/50\n",
      "18/18 [==============================] - 3s 181ms/step - loss: 0.0451 - accuracy: 0.9899 - val_loss: 2.3277 - val_accuracy: 0.3274\n",
      "Epoch 33/50\n",
      "18/18 [==============================] - 3s 181ms/step - loss: 0.0465 - accuracy: 0.9848 - val_loss: 2.3372 - val_accuracy: 0.3894\n",
      "Epoch 34/50\n",
      "18/18 [==============================] - 3s 180ms/step - loss: 0.0284 - accuracy: 0.9966 - val_loss: 2.8369 - val_accuracy: 0.3540\n",
      "Epoch 35/50\n",
      "18/18 [==============================] - 3s 179ms/step - loss: 0.0372 - accuracy: 0.9933 - val_loss: 2.6122 - val_accuracy: 0.3805\n",
      "Epoch 36/50\n",
      "18/18 [==============================] - 3s 180ms/step - loss: 0.0269 - accuracy: 0.9966 - val_loss: 2.9064 - val_accuracy: 0.3628\n",
      "Epoch 37/50\n",
      "18/18 [==============================] - 3s 179ms/step - loss: 0.0183 - accuracy: 0.9966 - val_loss: 2.8059 - val_accuracy: 0.3540\n",
      "Epoch 38/50\n",
      "18/18 [==============================] - 3s 182ms/step - loss: 0.0179 - accuracy: 0.9966 - val_loss: 2.9045 - val_accuracy: 0.3717\n",
      "Epoch 39/50\n",
      "18/18 [==============================] - 3s 180ms/step - loss: 0.0193 - accuracy: 0.9983 - val_loss: 2.9650 - val_accuracy: 0.3717\n",
      "Epoch 40/50\n",
      "18/18 [==============================] - 3s 181ms/step - loss: 0.0205 - accuracy: 0.9983 - val_loss: 2.9938 - val_accuracy: 0.3451\n",
      "Epoch 41/50\n",
      "18/18 [==============================] - 3s 180ms/step - loss: 0.0163 - accuracy: 0.9983 - val_loss: 3.2998 - val_accuracy: 0.3717\n",
      "Epoch 42/50\n",
      "18/18 [==============================] - 3s 180ms/step - loss: 0.0250 - accuracy: 0.9949 - val_loss: 3.2585 - val_accuracy: 0.3805\n",
      "Epoch 43/50\n",
      "18/18 [==============================] - 3s 183ms/step - loss: 0.0265 - accuracy: 0.9966 - val_loss: 3.0480 - val_accuracy: 0.3717\n",
      "Epoch 44/50\n",
      "18/18 [==============================] - 4s 192ms/step - loss: 0.0252 - accuracy: 0.9933 - val_loss: 3.2699 - val_accuracy: 0.3451\n",
      "Epoch 45/50\n",
      "18/18 [==============================] - 3s 181ms/step - loss: 0.0255 - accuracy: 0.9983 - val_loss: 3.6770 - val_accuracy: 0.3805\n",
      "Epoch 46/50\n",
      "18/18 [==============================] - 3s 179ms/step - loss: 0.0340 - accuracy: 0.9916 - val_loss: 3.7855 - val_accuracy: 0.3540\n",
      "Epoch 47/50\n",
      "18/18 [==============================] - 3s 179ms/step - loss: 0.0187 - accuracy: 0.9966 - val_loss: 4.5909 - val_accuracy: 0.3186\n",
      "Epoch 48/50\n",
      "18/18 [==============================] - 3s 181ms/step - loss: 0.0167 - accuracy: 0.9983 - val_loss: 4.1135 - val_accuracy: 0.3451\n",
      "Epoch 49/50\n",
      "18/18 [==============================] - 3s 187ms/step - loss: 0.0167 - accuracy: 0.9966 - val_loss: 3.3872 - val_accuracy: 0.3805\n",
      "Epoch 50/50\n",
      "18/18 [==============================] - 3s 181ms/step - loss: 0.0113 - accuracy: 0.9983 - val_loss: 3.5903 - val_accuracy: 0.3628\n"
     ]
    }
   ],
   "source": [
    "history = classifier.fit(train_set,steps_per_epoch=train_set.n/32,epochs=50,validation_data=test_set,validation_steps=test_set.n/32,callbacks=[csv],verbose=1)"
   ]
  },
  {
   "cell_type": "code",
   "execution_count": 5,
   "outputs": [],
   "source": [
    "classifier.save('2_adam_50epR-Q.h5')\n"
   ],
   "metadata": {
    "collapsed": false,
    "pycharm": {
     "name": "#%%\n"
    }
   }
  },
  {
   "cell_type": "code",
   "execution_count": 6,
   "outputs": [
    {
     "data": {
      "text/plain": "<Figure size 432x288 with 1 Axes>",
      "image/png": "[encoded data removed]"
     },
     "metadata": {
      "needs_background": "light"
     },
     "output_type": "display_data"
    }
   ],
   "source": [
    "import matplotlib.pyplot as plt\n",
    "plt.plot(history.history['accuracy']) #validation\n",
    "plt.plot(history.history['val_accuracy']) #train\n",
    "plt.title('model accuracy')\n",
    "plt.ylabel('accuracy')\n",
    "plt.xlabel('epoch')\n",
    "plt.legend(['train', 'validation'], loc='upper left')\n",
    "plt.show()"
   ],
   "metadata": {
    "collapsed": false,
    "pycharm": {
     "name": "#%%\n"
    }
   }
  },
  {
   "cell_type": "code",
   "execution_count": 6,
   "outputs": [],
   "source": [],
   "metadata": {
    "collapsed": false,
    "pycharm": {
     "name": "#%%\n"
    }
   }
  }
 ],
 "metadata": {
  "kernelspec": {
   "name": "python3",
   "language": "python",
   "display_name": "Python 3 (ipykernel)"
  },
  "language_info": {
   "codemirror_mode": {
    "name": "ipython",
    "version": 3
   },
   "file_extension": ".py",
   "mimetype": "text/x-python",
   "name": "python",
   "nbconvert_exporter": "python",
   "pygments_lexer": "ipython3",
   "version": "3.6.4"
  }
 },
 "nbformat": 4,
 "nbformat_minor": 2
}