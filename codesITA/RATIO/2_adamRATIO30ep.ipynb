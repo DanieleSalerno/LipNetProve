{
 "cells": [
  {
   "cell_type": "code",
   "execution_count": 2,
   "metadata": {},
   "outputs": [],
   "source": [
    "import os\n",
    "import numpy as np\n",
    "import pandas as pd\n",
    "import tensorflow\n",
    "from keras.models import Sequential # To initialise the nn as a sequence of layers\n",
    "from keras.layers import Convolution2D # To make the convolution layer for 2D images\n",
    "from keras.layers import MaxPooling2D # \n",
    "from keras.layers import Flatten\n",
    "from keras.layers import Dense\n",
    "from keras.layers import Dropout\n",
    "from keras.callbacks import CSVLogger\n",
    "from tensorflow.keras.optimizers import RMSprop\n",
    "from keras.layers import BatchNormalization\n",
    "from tensorflow.keras.optimizers import Adam\n",
    "from tensorflow import data\n",
    "from keras.models import load_model\n",
    "from keras.callbacks import ModelCheckpoint\n",
    "from tensorflow import repeat as rp\n",
    "\n",
    "csv=CSVLogger(\"2_adamR30.log\")\n",
    "#filepath=\"weights-improvement-{epoch:02d}-{val_acc:.2f}.hdf5\"\n",
    "#checkpoint = ModelCheckpoint(filepath, monitor='val_acc', verbose=1, save_best_only=True, mode='max')\n",
    "\n",
    "\n",
    "# Initialising the CNN\n",
    "classifier = Sequential()\n",
    "\n",
    "# Step 1 - Convolution\n",
    "classifier.add(Convolution2D(32,(2,2),input_shape = (224,224,1), activation = 'relu',strides=2,name='convo1'))\n",
    "classifier.add(Convolution2D(64,(3,3), activation = 'relu',name='convo2'))\n",
    "# Step 1 - Pooling\n",
    "classifier.add(MaxPooling2D(pool_size = (2,2)))\n",
    "\n",
    "# Step 2 - Convolution\n",
    "classifier.add(Convolution2D(64,(3,3),activation = 'relu',name='convo3'))\n",
    "# Step 2 - Pooling\n",
    "classifier.add(MaxPooling2D(pool_size = (2,2)))\n",
    "# Step 3 - Convolution\n",
    "#classifier.add(Convolution2D(64,(3,3),activation = 'relu',name='convo4'))\n",
    "# Step 3 - Pooling\n",
    "#classifier.add(MaxPooling2D(pool_size = (2,2)))\n",
    "#Step 4 - Flattening\n",
    "\n",
    "classifier.add(Flatten())\n",
    "\n",
    "classifier.add(BatchNormalization())\n",
    "classifier.add(Dropout((0.5)))\n",
    "classifier.add(Dense(1024, activation = 'relu'))\n",
    "\n",
    "'''classifier.add(BatchNormalization())\n",
    "classifier.add(Dropout((0.5)))\n",
    "classifier.add(Dense(512, activation = 'relu'))\n",
    "'''\n",
    "\n",
    "classifier.add(BatchNormalization())\n",
    "classifier.add(Dropout((0.4)))\n",
    "classifier.add(Dense(10, activation = 'softmax'))"
   ]
  },
  {
   "cell_type": "code",
   "execution_count": 3,
   "metadata": {},
   "outputs": [
    {
     "name": "stdout",
     "output_type": "stream",
     "text": [
      "Found 594 images belonging to 10 classes.\n",
      "Found 113 images belonging to 10 classes.\n"
     ]
    },
    {
     "data": {
      "text/plain": "[]"
     },
     "execution_count": 3,
     "metadata": {},
     "output_type": "execute_result"
    }
   ],
   "source": [
    "import matplotlib.pyplot as plt\n",
    "adam = Adam(epsilon = 0.01)\n",
    "classifier.compile(optimizer = adam, loss = 'categorical_crossentropy', metrics = ['accuracy'])\n",
    "\n",
    "from keras.preprocessing.image import ImageDataGenerator\n",
    "\n",
    "train_datagen = ImageDataGenerator(rescale=1./255)\n",
    "\n",
    "test_datagen = ImageDataGenerator(rescale=1./255)\n",
    "\n",
    "curr_path = os.getcwd()\n",
    "basefolder = os.path.dirname(curr_path)\n",
    "train_folder = os.path.join(basefolder, \"../DatasetITA-Ratio/Train\")\n",
    "test_folder = os.path.join(basefolder, \"../DatasetITA-Ratio/Test\")\n",
    "train_set=tensorflow.data\n",
    "train_set = train_datagen.flow_from_directory(train_folder,target_size=(224, 224),batch_size=32,class_mode='categorical',color_mode='grayscale')\n",
    "\n",
    "\n",
    "test_set = test_datagen.flow_from_directory(test_folder,target_size=(224, 224),batch_size=32,class_mode='categorical',color_mode='grayscale')\n",
    "classifier.metrics_names\n",
    "\n",
    "\n"
   ]
  },
  {
   "cell_type": "code",
   "execution_count": 4,
   "outputs": [],
   "source": [
    "#nb_conda_kernels"
   ],
   "metadata": {
    "collapsed": false,
    "pycharm": {
     "name": "#%%\n"
    }
   }
  },
  {
   "cell_type": "code",
   "execution_count": 5,
   "metadata": {},
   "outputs": [
    {
     "name": "stdout",
     "output_type": "stream",
     "text": [
      "Epoch 1/30\n",
      "18/18 [==============================] - 31s 1s/step - loss: 3.3267 - accuracy: 0.1111 - val_loss: 2.3126 - val_accuracy: 0.0885\n",
      "Epoch 2/30\n",
      "18/18 [==============================] - 25s 1s/step - loss: 2.7431 - accuracy: 0.1633 - val_loss: 2.3084 - val_accuracy: 0.1062\n",
      "Epoch 3/30\n",
      "18/18 [==============================] - 23s 1s/step - loss: 2.4538 - accuracy: 0.2189 - val_loss: 2.3064 - val_accuracy: 0.1062\n",
      "Epoch 4/30\n",
      "18/18 [==============================] - 25s 1s/step - loss: 1.9460 - accuracy: 0.4091 - val_loss: 2.3005 - val_accuracy: 0.1150\n",
      "Epoch 5/30\n",
      "18/18 [==============================] - 25s 1s/step - loss: 1.4264 - accuracy: 0.5690 - val_loss: 2.3018 - val_accuracy: 0.1504\n",
      "Epoch 6/30\n",
      "18/18 [==============================] - 30s 2s/step - loss: 0.8594 - accuracy: 0.7222 - val_loss: 2.3052 - val_accuracy: 0.1062\n",
      "Epoch 7/30\n",
      "18/18 [==============================] - 29s 2s/step - loss: 0.5534 - accuracy: 0.8215 - val_loss: 2.3299 - val_accuracy: 0.1062\n",
      "Epoch 8/30\n",
      "18/18 [==============================] - 24s 1s/step - loss: 0.4013 - accuracy: 0.8737 - val_loss: 2.3059 - val_accuracy: 0.1150\n",
      "Epoch 9/30\n",
      "18/18 [==============================] - 25s 1s/step - loss: 0.2610 - accuracy: 0.9192 - val_loss: 2.2950 - val_accuracy: 0.1416\n",
      "Epoch 10/30\n",
      "18/18 [==============================] - 28s 1s/step - loss: 0.1881 - accuracy: 0.9478 - val_loss: 2.2763 - val_accuracy: 0.1150\n",
      "Epoch 11/30\n",
      "18/18 [==============================] - 26s 1s/step - loss: 0.1596 - accuracy: 0.9461 - val_loss: 2.2517 - val_accuracy: 0.1593\n",
      "Epoch 12/30\n",
      "18/18 [==============================] - 24s 1s/step - loss: 0.1026 - accuracy: 0.9731 - val_loss: 2.2201 - val_accuracy: 0.2301\n",
      "Epoch 13/30\n",
      "18/18 [==============================] - 24s 1s/step - loss: 0.0596 - accuracy: 0.9882 - val_loss: 2.2147 - val_accuracy: 0.1593\n",
      "Epoch 14/30\n",
      "18/18 [==============================] - 23s 1s/step - loss: 0.0578 - accuracy: 0.9815 - val_loss: 2.1901 - val_accuracy: 0.3009\n",
      "Epoch 15/30\n",
      "18/18 [==============================] - 25s 1s/step - loss: 0.0594 - accuracy: 0.9865 - val_loss: 2.1839 - val_accuracy: 0.3274\n",
      "Epoch 16/30\n",
      "18/18 [==============================] - 24s 1s/step - loss: 0.0413 - accuracy: 0.9933 - val_loss: 2.1464 - val_accuracy: 0.3097\n",
      "Epoch 17/30\n",
      "18/18 [==============================] - 24s 1s/step - loss: 0.0637 - accuracy: 0.9781 - val_loss: 2.1742 - val_accuracy: 0.2124\n",
      "Epoch 18/30\n",
      "18/18 [==============================] - 24s 1s/step - loss: 0.0560 - accuracy: 0.9882 - val_loss: 2.1800 - val_accuracy: 0.2655\n",
      "Epoch 19/30\n",
      "18/18 [==============================] - 24s 1s/step - loss: 0.0304 - accuracy: 0.9949 - val_loss: 2.0804 - val_accuracy: 0.3628\n",
      "Epoch 20/30\n",
      "18/18 [==============================] - 24s 1s/step - loss: 0.0131 - accuracy: 0.9983 - val_loss: 2.0317 - val_accuracy: 0.3805\n",
      "Epoch 21/30\n",
      "18/18 [==============================] - 24s 1s/step - loss: 0.0121 - accuracy: 1.0000 - val_loss: 1.9755 - val_accuracy: 0.3982\n",
      "Epoch 22/30\n",
      "18/18 [==============================] - 25s 1s/step - loss: 0.0079 - accuracy: 1.0000 - val_loss: 1.9638 - val_accuracy: 0.3805\n",
      "Epoch 23/30\n",
      "18/18 [==============================] - 24s 1s/step - loss: 0.0076 - accuracy: 0.9983 - val_loss: 1.9286 - val_accuracy: 0.4248\n",
      "Epoch 24/30\n",
      "18/18 [==============================] - 24s 1s/step - loss: 0.0099 - accuracy: 0.9949 - val_loss: 1.9590 - val_accuracy: 0.3982\n",
      "Epoch 25/30\n",
      "18/18 [==============================] - 23s 1s/step - loss: 0.0074 - accuracy: 1.0000 - val_loss: 1.9401 - val_accuracy: 0.4248\n",
      "Epoch 26/30\n",
      "18/18 [==============================] - 24s 1s/step - loss: 0.0048 - accuracy: 1.0000 - val_loss: 1.9285 - val_accuracy: 0.4159\n",
      "Epoch 27/30\n",
      "18/18 [==============================] - 28s 2s/step - loss: 0.0062 - accuracy: 0.9983 - val_loss: 2.0230 - val_accuracy: 0.3628\n",
      "Epoch 28/30\n",
      "18/18 [==============================] - 24s 1s/step - loss: 0.0061 - accuracy: 1.0000 - val_loss: 2.1556 - val_accuracy: 0.3628\n",
      "Epoch 29/30\n",
      "18/18 [==============================] - 26s 1s/step - loss: 0.0054 - accuracy: 1.0000 - val_loss: 2.1398 - val_accuracy: 0.3894\n",
      "Epoch 30/30\n",
      "18/18 [==============================] - 26s 1s/step - loss: 0.0050 - accuracy: 1.0000 - val_loss: 2.0806 - val_accuracy: 0.3894\n"
     ]
    }
   ],
   "source": [
    "history = classifier.fit(train_set,steps_per_epoch=train_set.n/32,epochs=30,validation_data=test_set,validation_steps=test_set.n/32,callbacks=[csv],verbose=1)"
   ]
  },
  {
   "cell_type": "code",
   "execution_count": 6,
   "outputs": [],
   "source": [
    "classifier.save('2_adam_30epR.h5')\n"
   ],
   "metadata": {
    "collapsed": false,
    "pycharm": {
     "name": "#%%\n"
    }
   }
  },
  {
   "cell_type": "code",
   "execution_count": 7,
   "outputs": [
    {
     "data": {
      "text/plain": "<Figure size 432x288 with 1 Axes>",
      "image/png": "[encoded data removed]"
     },
     "metadata": {
      "needs_background": "light"
     },
     "output_type": "display_data"
    }
   ],
   "source": [
    "import matplotlib.pyplot as plt\n",
    "plt.plot(history.history['accuracy']) #validation\n",
    "plt.plot(history.history['val_accuracy']) #train\n",
    "plt.title('model accuracy')\n",
    "plt.ylabel('accuracy')\n",
    "plt.xlabel('epoch')\n",
    "plt.legend(['train', 'validation'], loc='upper left')\n",
    "plt.show()"
   ],
   "metadata": {
    "collapsed": false,
    "pycharm": {
     "name": "#%%\n"
    }
   }
  },
  {
   "cell_type": "code",
   "execution_count": 7,
   "outputs": [],
   "source": [],
   "metadata": {
    "collapsed": false,
    "pycharm": {
     "name": "#%%\n"
    }
   }
  }
 ],
 "metadata": {
  "kernelspec": {
   "name": "python3",
   "language": "python",
   "display_name": "Python 3 (ipykernel)"
  },
  "language_info": {
   "codemirror_mode": {
    "name": "ipython",
    "version": 3
   },
   "file_extension": ".py",
   "mimetype": "text/x-python",
   "name": "python",
   "nbconvert_exporter": "python",
   "pygments_lexer": "ipython3",
   "version": "3.6.4"
  }
 },
 "nbformat": 4,
 "nbformat_minor": 2
}