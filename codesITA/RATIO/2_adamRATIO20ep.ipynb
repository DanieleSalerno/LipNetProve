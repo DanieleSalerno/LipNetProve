{
 "cells": [
  {
   "cell_type": "code",
   "execution_count": 7,
   "metadata": {},
   "outputs": [],
   "source": [
    "import os\n",
    "import numpy as np\n",
    "import pandas as pd\n",
    "import tensorflow\n",
    "from keras.models import Sequential # To initialise the nn as a sequence of layers\n",
    "from keras.layers import Convolution2D # To make the convolution layer for 2D images\n",
    "from keras.layers import MaxPooling2D # \n",
    "from keras.layers import Flatten\n",
    "from keras.layers import Dense\n",
    "from keras.layers import Dropout\n",
    "from keras.callbacks import CSVLogger\n",
    "from tensorflow.keras.optimizers import RMSprop\n",
    "from keras.layers import BatchNormalization\n",
    "from tensorflow.keras.optimizers import Adam\n",
    "from tensorflow import data\n",
    "from keras.models import load_model\n",
    "from keras.callbacks import ModelCheckpoint\n",
    "from tensorflow import repeat as rp\n",
    "\n",
    "csv=CSVLogger(\"2_adamR20.log\")\n",
    "#filepath=\"weights-improvement-{epoch:02d}-{val_acc:.2f}.hdf5\"\n",
    "#checkpoint = ModelCheckpoint(filepath, monitor='val_acc', verbose=1, save_best_only=True, mode='max')\n",
    "\n",
    "\n",
    "# Initialising the CNN\n",
    "classifier = Sequential()\n",
    "\n",
    "# Step 1 - Convolution\n",
    "classifier.add(Convolution2D(32,(2,2),input_shape = (224,224,1), activation = 'relu',strides=2,name='convo1'))\n",
    "classifier.add(Convolution2D(64,(3,3), activation = 'relu',name='convo2'))\n",
    "# Step 1 - Pooling\n",
    "classifier.add(MaxPooling2D(pool_size = (2,2)))\n",
    "\n",
    "# Step 2 - Convolution\n",
    "classifier.add(Convolution2D(64,(3,3),activation = 'relu',name='convo3'))\n",
    "# Step 2 - Pooling\n",
    "classifier.add(MaxPooling2D(pool_size = (2,2)))\n",
    "# Step 3 - Convolution\n",
    "#classifier.add(Convolution2D(64,(3,3),activation = 'relu',name='convo4'))\n",
    "# Step 3 - Pooling\n",
    "#classifier.add(MaxPooling2D(pool_size = (2,2)))\n",
    "#Step 4 - Flattening\n",
    "\n",
    "classifier.add(Flatten())\n",
    "\n",
    "classifier.add(BatchNormalization())\n",
    "classifier.add(Dropout((0.5)))\n",
    "classifier.add(Dense(1024, activation = 'relu'))\n",
    "\n",
    "'''classifier.add(BatchNormalization())\n",
    "classifier.add(Dropout((0.5)))\n",
    "classifier.add(Dense(512, activation = 'relu'))\n",
    "'''\n",
    "\n",
    "classifier.add(BatchNormalization())\n",
    "classifier.add(Dropout((0.4)))\n",
    "classifier.add(Dense(10, activation = 'softmax'))"
   ]
  },
  {
   "cell_type": "code",
   "execution_count": 8,
   "metadata": {},
   "outputs": [
    {
     "name": "stdout",
     "output_type": "stream",
     "text": [
      "Found 594 images belonging to 10 classes.\n",
      "Found 112 images belonging to 10 classes.\n"
     ]
    },
    {
     "data": {
      "text/plain": "[]"
     },
     "execution_count": 8,
     "metadata": {},
     "output_type": "execute_result"
    }
   ],
   "source": [
    "import matplotlib.pyplot as plt\n",
    "adam = Adam(epsilon = 0.01)\n",
    "classifier.compile(optimizer = adam, loss = 'categorical_crossentropy', metrics = ['accuracy'])\n",
    "\n",
    "from keras.preprocessing.image import ImageDataGenerator\n",
    "\n",
    "train_datagen = ImageDataGenerator(rescale=1./255)\n",
    "\n",
    "test_datagen = ImageDataGenerator(rescale=1./255)\n",
    "\n",
    "curr_path = os.getcwd()\n",
    "basefolder = os.path.dirname(curr_path)\n",
    "train_folder = os.path.join(basefolder, \"../DatasetITA-Ratio/Train\")\n",
    "test_folder = os.path.join(basefolder, \"../DatasetITA-Ratio/Test\")\n",
    "train_set=tensorflow.data\n",
    "train_set = train_datagen.flow_from_directory(train_folder,target_size=(224, 224),batch_size=32,class_mode='categorical',color_mode='grayscale')\n",
    "\n",
    "\n",
    "test_set = test_datagen.flow_from_directory(test_folder,target_size=(224, 224),batch_size=32,class_mode='categorical',color_mode='grayscale')\n",
    "classifier.metrics_names\n",
    "\n",
    "\n"
   ]
  },
  {
   "cell_type": "code",
   "execution_count": 9,
   "outputs": [],
   "source": [
    "#nb_conda_kernels"
   ],
   "metadata": {
    "collapsed": false,
    "pycharm": {
     "name": "#%%\n"
    }
   }
  },
  {
   "cell_type": "code",
   "execution_count": 10,
   "metadata": {},
   "outputs": [
    {
     "name": "stdout",
     "output_type": "stream",
     "text": [
      "Epoch 1/20\n",
      "18/18 [==============================] - 13s 667ms/step - loss: 3.3697 - accuracy: 0.0943 - val_loss: 2.3175 - val_accuracy: 0.0804\n",
      "Epoch 2/20\n",
      "18/18 [==============================] - 12s 641ms/step - loss: 2.6202 - accuracy: 0.1717 - val_loss: 2.3096 - val_accuracy: 0.1071\n",
      "Epoch 3/20\n",
      "18/18 [==============================] - 12s 643ms/step - loss: 2.3020 - accuracy: 0.2643 - val_loss: 2.3171 - val_accuracy: 0.0714\n",
      "Epoch 4/20\n",
      "18/18 [==============================] - 12s 642ms/step - loss: 1.7735 - accuracy: 0.4343 - val_loss: 2.3178 - val_accuracy: 0.0714\n",
      "Epoch 5/20\n",
      "18/18 [==============================] - 12s 650ms/step - loss: 1.3229 - accuracy: 0.5859 - val_loss: 2.3183 - val_accuracy: 0.0714\n",
      "Epoch 6/20\n",
      "18/18 [==============================] - 12s 642ms/step - loss: 0.8878 - accuracy: 0.7037 - val_loss: 2.2932 - val_accuracy: 0.0893\n",
      "Epoch 7/20\n",
      "18/18 [==============================] - 12s 644ms/step - loss: 0.5491 - accuracy: 0.8300 - val_loss: 2.2957 - val_accuracy: 0.0982\n",
      "Epoch 8/20\n",
      "18/18 [==============================] - 12s 647ms/step - loss: 0.3408 - accuracy: 0.8990 - val_loss: 2.2989 - val_accuracy: 0.0982\n",
      "Epoch 9/20\n",
      "18/18 [==============================] - 12s 663ms/step - loss: 0.2151 - accuracy: 0.9310 - val_loss: 2.2774 - val_accuracy: 0.0982\n",
      "Epoch 10/20\n",
      "18/18 [==============================] - 12s 650ms/step - loss: 0.1536 - accuracy: 0.9663 - val_loss: 2.2821 - val_accuracy: 0.0804\n",
      "Epoch 11/20\n",
      "18/18 [==============================] - 12s 642ms/step - loss: 0.1055 - accuracy: 0.9646 - val_loss: 2.2683 - val_accuracy: 0.1339\n",
      "Epoch 12/20\n",
      "18/18 [==============================] - 12s 653ms/step - loss: 0.1353 - accuracy: 0.9529 - val_loss: 2.2791 - val_accuracy: 0.1429\n",
      "Epoch 13/20\n",
      "18/18 [==============================] - 12s 649ms/step - loss: 0.0913 - accuracy: 0.9697 - val_loss: 2.2553 - val_accuracy: 0.1696\n",
      "Epoch 14/20\n",
      "18/18 [==============================] - 12s 644ms/step - loss: 0.0610 - accuracy: 0.9815 - val_loss: 2.2536 - val_accuracy: 0.1250\n",
      "Epoch 15/20\n",
      "18/18 [==============================] - 12s 648ms/step - loss: 0.0281 - accuracy: 0.9983 - val_loss: 2.2587 - val_accuracy: 0.1696\n",
      "Epoch 16/20\n",
      "18/18 [==============================] - 12s 654ms/step - loss: 0.0255 - accuracy: 0.9949 - val_loss: 2.1724 - val_accuracy: 0.1964\n",
      "Epoch 17/20\n",
      "18/18 [==============================] - 12s 649ms/step - loss: 0.0222 - accuracy: 0.9949 - val_loss: 2.1446 - val_accuracy: 0.2411\n",
      "Epoch 18/20\n",
      "18/18 [==============================] - 12s 656ms/step - loss: 0.0168 - accuracy: 0.9966 - val_loss: 2.1081 - val_accuracy: 0.2946\n",
      "Epoch 19/20\n",
      "18/18 [==============================] - 12s 651ms/step - loss: 0.0225 - accuracy: 0.9949 - val_loss: 2.1361 - val_accuracy: 0.2232\n",
      "Epoch 20/20\n",
      "18/18 [==============================] - 12s 650ms/step - loss: 0.0139 - accuracy: 0.9983 - val_loss: 2.0750 - val_accuracy: 0.2857\n"
     ]
    }
   ],
   "source": [
    "history = classifier.fit(train_set,steps_per_epoch=train_set.n/32,epochs=20,validation_data=test_set,validation_steps=test_set.n/32,callbacks=[csv],verbose=1)"
   ]
  },
  {
   "cell_type": "code",
   "execution_count": 13,
   "outputs": [],
   "source": [
    "classifier.save('2_adam_20epR.h5')\n"
   ],
   "metadata": {
    "collapsed": false,
    "pycharm": {
     "name": "#%%\n"
    }
   }
  },
  {
   "cell_type": "code",
   "execution_count": 14,
   "outputs": [
    {
     "data": {
      "text/plain": "<Figure size 432x288 with 1 Axes>",
      "image/png": "[encoded data removed]"
     },
     "metadata": {
      "needs_background": "light"
     },
     "output_type": "display_data"
    }
   ],
   "source": [
    "import matplotlib.pyplot as plt\n",
    "plt.plot(history.history['accuracy']) #validation\n",
    "plt.plot(history.history['val_accuracy']) #train\n",
    "plt.title('model accuracy')\n",
    "plt.ylabel('accuracy')\n",
    "plt.xlabel('epoch')\n",
    "plt.legend(['train', 'validation'], loc='upper left')\n",
    "plt.show()"
   ],
   "metadata": {
    "collapsed": false,
    "pycharm": {
     "name": "#%%\n"
    }
   }
  },
  {
   "cell_type": "code",
   "execution_count": 12,
   "outputs": [],
   "source": [],
   "metadata": {
    "collapsed": false,
    "pycharm": {
     "name": "#%%\n"
    }
   }
  }
 ],
 "metadata": {
  "kernelspec": {
   "name": "python3",
   "language": "python",
   "display_name": "Python 3 (ipykernel)"
  },
  "language_info": {
   "codemirror_mode": {
    "name": "ipython",
    "version": 3
   },
   "file_extension": ".py",
   "mimetype": "text/x-python",
   "name": "python",
   "nbconvert_exporter": "python",
   "pygments_lexer": "ipython3",
   "version": "3.6.4"
  }
 },
 "nbformat": 4,
 "nbformat_minor": 2
}