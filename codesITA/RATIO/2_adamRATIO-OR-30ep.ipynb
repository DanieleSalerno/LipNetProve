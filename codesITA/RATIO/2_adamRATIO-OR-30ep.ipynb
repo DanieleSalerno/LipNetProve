{
 "cells": [
  {
   "cell_type": "code",
   "execution_count": 3,
   "metadata": {},
   "outputs": [],
   "source": [
    "import os\n",
    "import numpy as np\n",
    "import pandas as pd\n",
    "import tensorflow\n",
    "from keras.models import Sequential # To initialise the nn as a sequence of layers\n",
    "from keras.layers import Convolution2D # To make the convolution layer for 2D images\n",
    "from keras.layers import MaxPooling2D # \n",
    "from keras.layers import Flatten\n",
    "from keras.layers import Dense\n",
    "from keras.layers import Dropout\n",
    "from keras.callbacks import CSVLogger\n",
    "from tensorflow.keras.optimizers import RMSprop\n",
    "from keras.layers import BatchNormalization\n",
    "from tensorflow.keras.optimizers import Adam\n",
    "from tensorflow import data\n",
    "from keras.models import load_model\n",
    "from keras.callbacks import ModelCheckpoint\n",
    "from tensorflow import repeat as rp\n",
    "\n",
    "csv=CSVLogger(\"2_adamR30-OR.log\")\n",
    "#filepath=\"weights-improvement-{epoch:02d}-{val_acc:.2f}.hdf5\"\n",
    "#checkpoint = ModelCheckpoint(filepath, monitor='val_acc', verbose=1, save_best_only=True, mode='max')\n",
    "\n",
    "\n",
    "# Initialising the CNN\n",
    "classifier = Sequential()\n",
    "\n",
    "# Step 1 - Convolution\n",
    "classifier.add(Convolution2D(32,(2,2),input_shape = (224,224,1), activation = 'relu',strides=2,name='convo1'))\n",
    "classifier.add(Convolution2D(64,(3,3), activation = 'relu',name='convo2'))\n",
    "# Step 1 - Pooling\n",
    "classifier.add(MaxPooling2D(pool_size = (2,2)))\n",
    "\n",
    "# Step 2 - Convolution\n",
    "classifier.add(Convolution2D(64,(3,3),activation = 'relu',name='convo3'))\n",
    "# Step 2 - Pooling\n",
    "classifier.add(MaxPooling2D(pool_size = (2,2)))\n",
    "# Step 3 - Convolution\n",
    "classifier.add(Convolution2D(64,(3,3),activation = 'relu',name='convo4'))\n",
    "# Step 3 - Pooling\n",
    "classifier.add(MaxPooling2D(pool_size = (2,2)))\n",
    "#Step 4 - Flattening\n",
    "\n",
    "classifier.add(Flatten())\n",
    "\n",
    "classifier.add(BatchNormalization())\n",
    "classifier.add(Dropout((0.5)))\n",
    "classifier.add(Dense(1024, activation = 'relu'))\n",
    "\n",
    "'''classifier.add(BatchNormalization())\n",
    "classifier.add(Dropout((0.5)))\n",
    "classifier.add(Dense(512, activation = 'relu'))\n",
    "'''\n",
    "\n",
    "classifier.add(BatchNormalization())\n",
    "classifier.add(Dropout((0.4)))\n",
    "classifier.add(Dense(10, activation = 'softmax'))"
   ]
  },
  {
   "cell_type": "code",
   "execution_count": 4,
   "metadata": {},
   "outputs": [
    {
     "name": "stdout",
     "output_type": "stream",
     "text": [
      "Found 1202 images belonging to 10 classes.\n",
      "Found 182 images belonging to 10 classes.\n"
     ]
    },
    {
     "data": {
      "text/plain": "[]"
     },
     "execution_count": 4,
     "metadata": {},
     "output_type": "execute_result"
    }
   ],
   "source": [
    "import matplotlib.pyplot as plt\n",
    "adam = Adam(epsilon = 0.01)\n",
    "classifier.compile(optimizer = adam, loss = 'categorical_crossentropy', metrics = ['accuracy'])\n",
    "\n",
    "from keras.preprocessing.image import ImageDataGenerator\n",
    "\n",
    "train_datagen = ImageDataGenerator(rescale=1./255)\n",
    "\n",
    "test_datagen = ImageDataGenerator(rescale=1./255)\n",
    "\n",
    "curr_path = os.getcwd()\n",
    "basefolder = os.path.dirname(curr_path)\n",
    "train_folder = os.path.join(basefolder, \"../DatasetITA-OR/Train\")\n",
    "test_folder = os.path.join(basefolder, \"../DatasetITA-OR/Test\")\n",
    "train_set=tensorflow.data\n",
    "train_set = train_datagen.flow_from_directory(train_folder,target_size=(224, 224),batch_size=32,class_mode='categorical',color_mode='grayscale')\n",
    "\n",
    "\n",
    "test_set = test_datagen.flow_from_directory(test_folder,target_size=(224, 224),batch_size=32,class_mode='categorical',color_mode='grayscale')\n",
    "classifier.metrics_names\n",
    "\n",
    "\n"
   ]
  },
  {
   "cell_type": "code",
   "execution_count": 5,
   "outputs": [],
   "source": [
    "#nb_conda_kernels"
   ],
   "metadata": {
    "collapsed": false,
    "pycharm": {
     "name": "#%%\n"
    }
   }
  },
  {
   "cell_type": "code",
   "execution_count": 6,
   "metadata": {},
   "outputs": [
    {
     "name": "stdout",
     "output_type": "stream",
     "text": [
      "Epoch 1/30\n",
      "37/37 [==============================] - 27s 684ms/step - loss: 3.3194 - accuracy: 0.1106 - val_loss: 2.3133 - val_accuracy: 0.0934\n",
      "Epoch 2/30\n",
      "37/37 [==============================] - 20s 538ms/step - loss: 2.8799 - accuracy: 0.1215 - val_loss: 2.3046 - val_accuracy: 0.1099\n",
      "Epoch 3/30\n",
      "37/37 [==============================] - 20s 530ms/step - loss: 2.7857 - accuracy: 0.1331 - val_loss: 2.3086 - val_accuracy: 0.1209\n",
      "Epoch 4/30\n",
      "37/37 [==============================] - 20s 529ms/step - loss: 2.6176 - accuracy: 0.1797 - val_loss: 2.3054 - val_accuracy: 0.1319\n",
      "Epoch 5/30\n",
      "37/37 [==============================] - 20s 533ms/step - loss: 2.2270 - accuracy: 0.2920 - val_loss: 2.2801 - val_accuracy: 0.1374\n",
      "Epoch 6/30\n",
      "37/37 [==============================] - 20s 527ms/step - loss: 1.9035 - accuracy: 0.4027 - val_loss: 2.2518 - val_accuracy: 0.1593\n",
      "Epoch 7/30\n",
      "37/37 [==============================] - 20s 524ms/step - loss: 1.3487 - accuracy: 0.5707 - val_loss: 2.2439 - val_accuracy: 0.1978\n",
      "Epoch 8/30\n",
      "37/37 [==============================] - 20s 522ms/step - loss: 0.7810 - accuracy: 0.7421 - val_loss: 2.1332 - val_accuracy: 0.2747\n",
      "Epoch 9/30\n",
      "37/37 [==============================] - 20s 522ms/step - loss: 0.4583 - accuracy: 0.8428 - val_loss: 2.0184 - val_accuracy: 0.3187\n",
      "Epoch 10/30\n",
      "37/37 [==============================] - 20s 525ms/step - loss: 0.2972 - accuracy: 0.9110 - val_loss: 1.9376 - val_accuracy: 0.4011\n",
      "Epoch 11/30\n",
      "37/37 [==============================] - 20s 525ms/step - loss: 0.2053 - accuracy: 0.9376 - val_loss: 1.7779 - val_accuracy: 0.4615\n",
      "Epoch 12/30\n",
      "37/37 [==============================] - 20s 522ms/step - loss: 0.1510 - accuracy: 0.9576 - val_loss: 1.6813 - val_accuracy: 0.4231\n",
      "Epoch 13/30\n",
      "37/37 [==============================] - 20s 525ms/step - loss: 0.1132 - accuracy: 0.9700 - val_loss: 1.5461 - val_accuracy: 0.5275\n",
      "Epoch 14/30\n",
      "37/37 [==============================] - 20s 524ms/step - loss: 0.0825 - accuracy: 0.9809 - val_loss: 1.5509 - val_accuracy: 0.5110\n",
      "Epoch 15/30\n",
      "37/37 [==============================] - 21s 546ms/step - loss: 0.0585 - accuracy: 0.9884 - val_loss: 1.5847 - val_accuracy: 0.5385\n",
      "Epoch 16/30\n",
      "37/37 [==============================] - 20s 526ms/step - loss: 0.0598 - accuracy: 0.9875 - val_loss: 1.8824 - val_accuracy: 0.4890\n",
      "Epoch 17/30\n",
      "37/37 [==============================] - 20s 521ms/step - loss: 0.0489 - accuracy: 0.9900 - val_loss: 1.7910 - val_accuracy: 0.5220\n",
      "Epoch 18/30\n",
      "37/37 [==============================] - 20s 525ms/step - loss: 0.0382 - accuracy: 0.9950 - val_loss: 2.0719 - val_accuracy: 0.5055\n",
      "Epoch 19/30\n",
      "37/37 [==============================] - 20s 534ms/step - loss: 0.0359 - accuracy: 0.9958 - val_loss: 2.0297 - val_accuracy: 0.4890\n",
      "Epoch 20/30\n",
      "37/37 [==============================] - 20s 532ms/step - loss: 0.0369 - accuracy: 0.9925 - val_loss: 1.9553 - val_accuracy: 0.5495\n",
      "Epoch 21/30\n",
      "37/37 [==============================] - 21s 548ms/step - loss: 0.0247 - accuracy: 0.9942 - val_loss: 2.4407 - val_accuracy: 0.4780\n",
      "Epoch 22/30\n",
      "37/37 [==============================] - 20s 526ms/step - loss: 0.0295 - accuracy: 0.9950 - val_loss: 2.6297 - val_accuracy: 0.5275\n",
      "Epoch 23/30\n",
      "37/37 [==============================] - 20s 529ms/step - loss: 0.0208 - accuracy: 0.9975 - val_loss: 2.5119 - val_accuracy: 0.5440\n",
      "Epoch 24/30\n",
      "37/37 [==============================] - 20s 532ms/step - loss: 0.0231 - accuracy: 0.9958 - val_loss: 2.6363 - val_accuracy: 0.4945\n",
      "Epoch 25/30\n",
      "37/37 [==============================] - 20s 525ms/step - loss: 0.0200 - accuracy: 0.9958 - val_loss: 2.5948 - val_accuracy: 0.5110\n",
      "Epoch 26/30\n",
      "37/37 [==============================] - 20s 538ms/step - loss: 0.0229 - accuracy: 0.9975 - val_loss: 2.9758 - val_accuracy: 0.4725\n",
      "Epoch 27/30\n",
      "37/37 [==============================] - 20s 534ms/step - loss: 0.0229 - accuracy: 0.9942 - val_loss: 2.8425 - val_accuracy: 0.4835\n",
      "Epoch 28/30\n",
      "37/37 [==============================] - 20s 536ms/step - loss: 0.0213 - accuracy: 0.9950 - val_loss: 2.4166 - val_accuracy: 0.4890\n",
      "Epoch 29/30\n",
      "37/37 [==============================] - 21s 546ms/step - loss: 0.0304 - accuracy: 0.9925 - val_loss: 3.0910 - val_accuracy: 0.4780\n",
      "Epoch 30/30\n",
      "37/37 [==============================] - 20s 531ms/step - loss: 0.0161 - accuracy: 0.9983 - val_loss: 2.7828 - val_accuracy: 0.4725\n"
     ]
    }
   ],
   "source": [
    "history = classifier.fit(train_set,steps_per_epoch=train_set.n/32,epochs=30,validation_data=test_set,validation_steps=test_set.n/32,callbacks=[csv],verbose=1)"
   ]
  },
  {
   "cell_type": "code",
   "execution_count": 7,
   "outputs": [],
   "source": [
    "classifier.save('2_adam_30epR-OR.h5')\n"
   ],
   "metadata": {
    "collapsed": false,
    "pycharm": {
     "name": "#%%\n"
    }
   }
  },
  {
   "cell_type": "code",
   "execution_count": 8,
   "outputs": [
    {
     "data": {
      "text/plain": "<Figure size 432x288 with 1 Axes>",
      "image/png": "[encoded data removed]"
     },
     "metadata": {
      "needs_background": "light"
     },
     "output_type": "display_data"
    }
   ],
   "source": [
    "import matplotlib.pyplot as plt\n",
    "plt.plot(history.history['accuracy']) #validation\n",
    "plt.plot(history.history['val_accuracy']) #train\n",
    "plt.title('model accuracy')\n",
    "plt.ylabel('accuracy')\n",
    "plt.xlabel('epoch')\n",
    "plt.legend(['train', 'validation'], loc='upper left')\n",
    "plt.show()"
   ],
   "metadata": {
    "collapsed": false,
    "pycharm": {
     "name": "#%%\n"
    }
   }
  },
  {
   "cell_type": "code",
   "execution_count": 8,
   "outputs": [],
   "source": [],
   "metadata": {
    "collapsed": false,
    "pycharm": {
     "name": "#%%\n"
    }
   }
  }
 ],
 "metadata": {
  "kernelspec": {
   "name": "python3",
   "language": "python",
   "display_name": "Python 3 (ipykernel)"
  },
  "language_info": {
   "codemirror_mode": {
    "name": "ipython",
    "version": 3
   },
   "file_extension": ".py",
   "mimetype": "text/x-python",
   "name": "python",
   "nbconvert_exporter": "python",
   "pygments_lexer": "ipython3",
   "version": "3.6.4"
  }
 },
 "nbformat": 4,
 "nbformat_minor": 2
}