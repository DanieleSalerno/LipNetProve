{
 "cells": [
  {
   "cell_type": "code",
   "execution_count": 15,
   "metadata": {},
   "outputs": [],
   "source": [
    "import os\n",
    "import numpy as np\n",
    "import pandas as pd\n",
    "import tensorflow\n",
    "from keras.models import Sequential # To initialise the nn as a sequence of layers\n",
    "from keras.layers import Convolution2D, AveragePooling2D  # To make the convolution layer for 2D images\n",
    "from keras.layers import MaxPooling2D # \n",
    "from keras.layers import Flatten\n",
    "from keras.layers import Dense\n",
    "from keras.layers import Dropout\n",
    "from keras.callbacks import CSVLogger\n",
    "from tensorflow.keras.optimizers import RMSprop\n",
    "from keras.layers import BatchNormalization\n",
    "from tensorflow.keras.optimizers import Adam\n",
    "from tensorflow import data\n",
    "from keras.models import load_model\n",
    "from keras.callbacks import ModelCheckpoint\n",
    "from tensorflow import repeat as rp\n",
    "\n",
    "csv=CSVLogger(\"2_adamR50-BS.log\")\n",
    "#filepath=\"weights-improvement-{epoch:02d}-{val_acc:.2f}.hdf5\"\n",
    "#checkpoint = ModelCheckpoint(filepath, monitor='val_acc', verbose=1, save_best_only=True, mode='max')\n",
    "\n",
    "\n",
    "# Initialising the CNN\n",
    "classifier = Sequential()\n",
    "\n",
    "# Step 1 - Convolution\n",
    "classifier.add(Convolution2D(64,(3,3), activation = 'relu',name='convo2'))\n",
    "# Step 1 - Pooling\n",
    "classifier.add(AveragePooling2D(pool_size = (2,2)))\n",
    "\n",
    "# Step 2 - Convolution\n",
    "classifier.add(Convolution2D(64,(3,3),activation = 'relu',name='convo3'))\n",
    "# Step 2 - Pooling\n",
    "classifier.add(AveragePooling2D(pool_size = (2,2)))\n",
    "# Step 3 - Convolution\n",
    "#classifier.add(Convolution2D(64,(3,3),activation = 'relu',name='convo4'))\n",
    "# Step 3 - Pooling\n",
    "#classifier.add(MaxPooling2D(pool_size = (2,2)))\n",
    "#Step 4 - Flattening\n",
    "\n",
    "classifier.add(Flatten())\n",
    "\n",
    "classifier.add(BatchNormalization())\n",
    "classifier.add(Dropout((0.5)))\n",
    "classifier.add(Dense(1024, activation = 'relu'))\n",
    "\n",
    "'''classifier.add(BatchNormalization())\n",
    "classifier.add(Dropout((0.5)))\n",
    "classifier.add(Dense(512, activation = 'relu'))\n",
    "'''\n",
    "\n",
    "classifier.add(BatchNormalization())\n",
    "classifier.add(Dropout((0.4)))\n",
    "classifier.add(Dense(10, activation = 'softmax'))"
   ]
  },
  {
   "cell_type": "code",
   "execution_count": 16,
   "metadata": {},
   "outputs": [
    {
     "name": "stdout",
     "output_type": "stream",
     "text": [
      "Found 80 images belonging to 10 classes.\n",
      "Found 40 images belonging to 10 classes.\n"
     ]
    },
    {
     "data": {
      "text/plain": "[]"
     },
     "execution_count": 16,
     "metadata": {},
     "output_type": "execute_result"
    }
   ],
   "source": [
    "import matplotlib.pyplot as plt\n",
    "adam = Adam(epsilon = 0.01)\n",
    "classifier.compile(optimizer = adam, loss = 'categorical_crossentropy', metrics = ['accuracy'])\n",
    "\n",
    "from keras.preprocessing.image import ImageDataGenerator\n",
    "\n",
    "train_datagen = ImageDataGenerator(rescale=1./255)\n",
    "\n",
    "test_datagen = ImageDataGenerator(rescale=1./255)\n",
    "\n",
    "curr_path = os.getcwd()\n",
    "basefolder = os.path.dirname(curr_path)\n",
    "train_folder = os.path.join(basefolder, \"../DatasetITA-Ratio-BS/Train\")\n",
    "test_folder = os.path.join(basefolder, \"../DatasetITA-Ratio-BS/Test_Prediction\")\n",
    "train_set=tensorflow.data\n",
    "train_set = train_datagen.flow_from_directory(train_folder,target_size=(224, 224),batch_size=8,class_mode='categorical',color_mode='grayscale')\n",
    "\n",
    "\n",
    "test_set = test_datagen.flow_from_directory(test_folder,target_size=(224, 224),batch_size=8,class_mode='categorical',color_mode='grayscale')\n",
    "classifier.metrics_names\n",
    "\n",
    "\n"
   ]
  },
  {
   "cell_type": "code",
   "execution_count": 17,
   "outputs": [],
   "source": [
    "#nb_conda_kernels"
   ],
   "metadata": {
    "collapsed": false,
    "pycharm": {
     "name": "#%%\n"
    }
   }
  },
  {
   "cell_type": "code",
   "execution_count": 18,
   "metadata": {},
   "outputs": [
    {
     "name": "stdout",
     "output_type": "stream",
     "text": [
      "2/2 [==============================] - 6s 3s/step - loss: 0.0143 - accuracy: 1.0000 - val_loss: 2.3268 - val_accuracy: 0.1000\n",
      "Epoch 33/50\n",
      "2/2 [==============================] - 5s 2s/step - loss: 0.0036 - accuracy: 1.0000 - val_loss: 2.3211 - val_accuracy: 0.1000\n",
      "Epoch 34/50\n",
      "2/2 [==============================] - 5s 2s/step - loss: 0.0083 - accuracy: 1.0000 - val_loss: 2.3173 - val_accuracy: 0.1000\n",
      "Epoch 35/50\n",
      "2/2 [==============================] - 5s 2s/step - loss: 0.0024 - accuracy: 1.0000 - val_loss: 2.3138 - val_accuracy: 0.1000\n",
      "Epoch 36/50\n",
      "2/2 [==============================] - 5s 3s/step - loss: 0.0080 - accuracy: 1.0000 - val_loss: 2.3103 - val_accuracy: 0.1000\n",
      "Epoch 37/50\n",
      "2/2 [==============================] - 5s 2s/step - loss: 0.0053 - accuracy: 1.0000 - val_loss: 2.3071 - val_accuracy: 0.1000\n",
      "Epoch 38/50\n",
      "2/2 [==============================] - 5s 2s/step - loss: 0.0036 - accuracy: 1.0000 - val_loss: 2.3049 - val_accuracy: 0.1000\n",
      "Epoch 39/50\n",
      "2/2 [==============================] - 5s 3s/step - loss: 0.0045 - accuracy: 1.0000 - val_loss: 2.3034 - val_accuracy: 0.1000\n",
      "Epoch 40/50\n",
      "2/2 [==============================] - 5s 2s/step - loss: 0.0209 - accuracy: 0.9875 - val_loss: 2.3054 - val_accuracy: 0.1000\n",
      "Epoch 41/50\n",
      "2/2 [==============================] - 5s 3s/step - loss: 0.0157 - accuracy: 0.9875 - val_loss: 2.3036 - val_accuracy: 0.1000\n",
      "Epoch 42/50\n",
      "2/2 [==============================] - 5s 2s/step - loss: 8.5797e-04 - accuracy: 1.0000 - val_loss: 2.3017 - val_accuracy: 0.1000\n",
      "Epoch 43/50\n",
      "2/2 [==============================] - 5s 2s/step - loss: 0.0102 - accuracy: 1.0000 - val_loss: 2.2970 - val_accuracy: 0.1000\n",
      "Epoch 44/50\n",
      "2/2 [==============================] - 5s 3s/step - loss: 0.0013 - accuracy: 1.0000 - val_loss: 2.2967 - val_accuracy: 0.1000\n",
      "Epoch 45/50\n",
      "2/2 [==============================] - 5s 2s/step - loss: 0.0085 - accuracy: 1.0000 - val_loss: 2.2976 - val_accuracy: 0.1000\n",
      "Epoch 46/50\n",
      "2/2 [==============================] - 5s 2s/step - loss: 0.0051 - accuracy: 1.0000 - val_loss: 2.2986 - val_accuracy: 0.1000\n",
      "Epoch 47/50\n",
      "2/2 [==============================] - 5s 3s/step - loss: 0.0015 - accuracy: 1.0000 - val_loss: 2.3005 - val_accuracy: 0.1000\n",
      "Epoch 48/50\n",
      "2/2 [==============================] - 5s 3s/step - loss: 5.8095e-04 - accuracy: 1.0000 - val_loss: 2.3030 - val_accuracy: 0.1000\n",
      "Epoch 49/50\n",
      "2/2 [==============================] - 5s 2s/step - loss: 5.0635e-04 - accuracy: 1.0000 - val_loss: 2.3062 - val_accuracy: 0.1000\n",
      "Epoch 50/50\n",
      "2/2 [==============================] - 5s 2s/step - loss: 5.6394e-04 - accuracy: 1.0000 - val_loss: 2.3086 - val_accuracy: 0.1000\n",
      "Epoch 1/50\n",
      "10/10 [==============================] - 12s 1s/step - loss: 3.4583 - accuracy: 0.2875 - val_loss: 2.4406 - val_accuracy: 0.1000\n",
      "Epoch 2/50\n",
      "10/10 [==============================] - 10s 963ms/step - loss: 1.6211 - accuracy: 0.5875 - val_loss: 2.3147 - val_accuracy: 0.1000\n",
      "Epoch 3/50\n",
      "10/10 [==============================] - 9s 944ms/step - loss: 1.3897 - accuracy: 0.6875 - val_loss: 2.2871 - val_accuracy: 0.1000\n",
      "Epoch 4/50\n",
      "10/10 [==============================] - 9s 905ms/step - loss: 0.6399 - accuracy: 0.8375 - val_loss: 2.2876 - val_accuracy: 0.1500\n",
      "Epoch 5/50\n",
      "10/10 [==============================] - 9s 915ms/step - loss: 0.3242 - accuracy: 0.9000 - val_loss: 2.2959 - val_accuracy: 0.1750\n",
      "Epoch 6/50\n",
      "10/10 [==============================] - 9s 921ms/step - loss: 0.2869 - accuracy: 0.9250 - val_loss: 2.2861 - val_accuracy: 0.1000\n",
      "Epoch 7/50\n",
      "10/10 [==============================] - 10s 977ms/step - loss: 0.4303 - accuracy: 0.8500 - val_loss: 2.2929 - val_accuracy: 0.0750\n",
      "Epoch 8/50\n",
      "10/10 [==============================] - 9s 955ms/step - loss: 0.3810 - accuracy: 0.9250 - val_loss: 2.3013 - val_accuracy: 0.1000\n",
      "Epoch 9/50\n",
      "10/10 [==============================] - 9s 924ms/step - loss: 0.4347 - accuracy: 0.8875 - val_loss: 2.2774 - val_accuracy: 0.1000\n",
      "Epoch 10/50\n",
      "10/10 [==============================] - 9s 945ms/step - loss: 0.2245 - accuracy: 0.9375 - val_loss: 2.3875 - val_accuracy: 0.1000\n",
      "Epoch 11/50\n",
      "10/10 [==============================] - 9s 952ms/step - loss: 0.3485 - accuracy: 0.8875 - val_loss: 2.2987 - val_accuracy: 0.1250\n",
      "Epoch 12/50\n",
      "10/10 [==============================] - 9s 906ms/step - loss: 0.1340 - accuracy: 0.9500 - val_loss: 2.2836 - val_accuracy: 0.1000\n",
      "Epoch 13/50\n",
      "10/10 [==============================] - 9s 923ms/step - loss: 0.0107 - accuracy: 1.0000 - val_loss: 2.3269 - val_accuracy: 0.1000\n",
      "Epoch 14/50\n",
      "10/10 [==============================] - 9s 940ms/step - loss: 0.0089 - accuracy: 1.0000 - val_loss: 2.3315 - val_accuracy: 0.1250\n",
      "Epoch 15/50\n",
      "10/10 [==============================] - 10s 996ms/step - loss: 0.0787 - accuracy: 0.9750 - val_loss: 2.3077 - val_accuracy: 0.1000\n",
      "Epoch 16/50\n",
      "10/10 [==============================] - 9s 956ms/step - loss: 0.1477 - accuracy: 0.9625 - val_loss: 2.2796 - val_accuracy: 0.1250\n",
      "Epoch 17/50\n",
      "10/10 [==============================] - 9s 947ms/step - loss: 0.0376 - accuracy: 0.9875 - val_loss: 2.2613 - val_accuracy: 0.1000\n",
      "Epoch 18/50\n",
      "10/10 [==============================] - 10s 990ms/step - loss: 0.0618 - accuracy: 0.9750 - val_loss: 2.3104 - val_accuracy: 0.1000\n",
      "Epoch 19/50\n",
      "10/10 [==============================] - 10s 957ms/step - loss: 0.0509 - accuracy: 0.9750 - val_loss: 2.3142 - val_accuracy: 0.1000\n",
      "Epoch 20/50\n",
      "10/10 [==============================] - 10s 992ms/step - loss: 0.0165 - accuracy: 0.9875 - val_loss: 2.2874 - val_accuracy: 0.0750\n",
      "Epoch 21/50\n",
      "10/10 [==============================] - 10s 1s/step - loss: 0.0071 - accuracy: 1.0000 - val_loss: 2.2799 - val_accuracy: 0.2000\n",
      "Epoch 22/50\n",
      "10/10 [==============================] - 10s 1s/step - loss: 0.0079 - accuracy: 1.0000 - val_loss: 2.2770 - val_accuracy: 0.1750\n",
      "Epoch 23/50\n",
      "10/10 [==============================] - 10s 1000ms/step - loss: 0.0191 - accuracy: 1.0000 - val_loss: 2.2703 - val_accuracy: 0.1750\n",
      "Epoch 24/50\n",
      "10/10 [==============================] - 10s 990ms/step - loss: 0.0172 - accuracy: 1.0000 - val_loss: 2.2719 - val_accuracy: 0.0250\n",
      "Epoch 25/50\n",
      "10/10 [==============================] - 10s 1s/step - loss: 0.0043 - accuracy: 1.0000 - val_loss: 2.2748 - val_accuracy: 0.0250\n",
      "Epoch 26/50\n",
      "10/10 [==============================] - 10s 983ms/step - loss: 0.0182 - accuracy: 0.9875 - val_loss: 2.3304 - val_accuracy: 0.1000\n",
      "Epoch 27/50\n",
      "10/10 [==============================] - 10s 991ms/step - loss: 0.0039 - accuracy: 1.0000 - val_loss: 2.3328 - val_accuracy: 0.1000\n",
      "Epoch 28/50\n",
      "10/10 [==============================] - 10s 1s/step - loss: 0.0065 - accuracy: 1.0000 - val_loss: 2.3108 - val_accuracy: 0.1000\n",
      "Epoch 29/50\n",
      "10/10 [==============================] - 10s 1s/step - loss: 0.0206 - accuracy: 0.9875 - val_loss: 2.3684 - val_accuracy: 0.1250\n",
      "Epoch 30/50\n",
      "10/10 [==============================] - 9s 947ms/step - loss: 0.0027 - accuracy: 1.0000 - val_loss: 2.4247 - val_accuracy: 0.1000\n",
      "Epoch 31/50\n",
      "10/10 [==============================] - 9s 949ms/step - loss: 0.0031 - accuracy: 1.0000 - val_loss: 2.4331 - val_accuracy: 0.1000\n",
      "Epoch 32/50\n",
      "10/10 [==============================] - 9s 931ms/step - loss: 0.0074 - accuracy: 1.0000 - val_loss: 2.4072 - val_accuracy: 0.1250\n",
      "Epoch 33/50\n",
      "10/10 [==============================] - 9s 908ms/step - loss: 5.4537e-04 - accuracy: 1.0000 - val_loss: 2.3527 - val_accuracy: 0.1000\n",
      "Epoch 34/50\n",
      "10/10 [==============================] - 9s 906ms/step - loss: 1.5306e-04 - accuracy: 1.0000 - val_loss: 2.3332 - val_accuracy: 0.1000\n",
      "Epoch 35/50\n",
      "10/10 [==============================] - 9s 909ms/step - loss: 5.8142e-04 - accuracy: 1.0000 - val_loss: 2.3256 - val_accuracy: 0.1000\n",
      "Epoch 36/50\n",
      "10/10 [==============================] - 9s 913ms/step - loss: 0.0117 - accuracy: 0.9875 - val_loss: 2.3007 - val_accuracy: 0.1250\n",
      "Epoch 37/50\n",
      "10/10 [==============================] - 9s 907ms/step - loss: 0.0150 - accuracy: 1.0000 - val_loss: 2.3335 - val_accuracy: 0.1500\n",
      "Epoch 38/50\n",
      "10/10 [==============================] - 9s 908ms/step - loss: 0.0039 - accuracy: 1.0000 - val_loss: 2.3937 - val_accuracy: 0.1500\n",
      "Epoch 39/50\n",
      "10/10 [==============================] - 9s 913ms/step - loss: 0.0017 - accuracy: 1.0000 - val_loss: 2.4042 - val_accuracy: 0.1250\n",
      "Epoch 40/50\n",
      "10/10 [==============================] - 9s 915ms/step - loss: 3.5286e-04 - accuracy: 1.0000 - val_loss: 2.3955 - val_accuracy: 0.1250\n",
      "Epoch 41/50\n",
      "10/10 [==============================] - 9s 910ms/step - loss: 3.6489e-04 - accuracy: 1.0000 - val_loss: 2.4030 - val_accuracy: 0.1250\n",
      "Epoch 42/50\n",
      "10/10 [==============================] - 9s 924ms/step - loss: 5.9685e-04 - accuracy: 1.0000 - val_loss: 2.4175 - val_accuracy: 0.1250\n",
      "Epoch 43/50\n",
      "10/10 [==============================] - 9s 909ms/step - loss: 7.7596e-04 - accuracy: 1.0000 - val_loss: 2.4358 - val_accuracy: 0.1250\n",
      "Epoch 44/50\n",
      "10/10 [==============================] - 9s 903ms/step - loss: 9.5518e-04 - accuracy: 1.0000 - val_loss: 2.4741 - val_accuracy: 0.1500\n",
      "Epoch 45/50\n",
      "10/10 [==============================] - 9s 948ms/step - loss: 0.0016 - accuracy: 1.0000 - val_loss: 2.5087 - val_accuracy: 0.1500\n",
      "Epoch 46/50\n",
      "10/10 [==============================] - 10s 1s/step - loss: 6.3288e-04 - accuracy: 1.0000 - val_loss: 2.5343 - val_accuracy: 0.1500\n",
      "Epoch 47/50\n",
      "10/10 [==============================] - 10s 996ms/step - loss: 8.4505e-04 - accuracy: 1.0000 - val_loss: 2.5721 - val_accuracy: 0.1500\n",
      "Epoch 48/50\n",
      "10/10 [==============================] - 10s 956ms/step - loss: 5.8495e-04 - accuracy: 1.0000 - val_loss: 2.6159 - val_accuracy: 0.1500\n",
      "Epoch 49/50\n",
      "10/10 [==============================] - 9s 920ms/step - loss: 0.0060 - accuracy: 1.0000 - val_loss: 2.6969 - val_accuracy: 0.1500\n",
      "Epoch 50/50\n",
      "10/10 [==============================] - 9s 917ms/step - loss: 3.4272e-04 - accuracy: 1.0000 - val_loss: 2.7694 - val_accuracy: 0.1500\n"
     ]
    }
   ],
   "source": [
    "history = classifier.fit(train_set,steps_per_epoch=train_set.n/8,epochs=50,validation_data=test_set,validation_steps=test_set.n/8,callbacks=[csv],verbose=1)"
   ]
  },
  {
   "cell_type": "code",
   "execution_count": 19,
   "outputs": [],
   "source": [
    "classifier.save('2_adam_50epR-BS.h5')\n"
   ],
   "metadata": {
    "collapsed": false,
    "pycharm": {
     "name": "#%%\n"
    }
   }
  },
  {
   "cell_type": "code",
   "execution_count": 20,
   "outputs": [
    {
     "data": {
      "text/plain": "<Figure size 432x288 with 1 Axes>",
      "image/png": "[encoded data removed]"
     },
     "metadata": {
      "needs_background": "light"
     },
     "output_type": "display_data"
    },
    {
     "data": {
      "text/plain": "<Figure size 432x288 with 1 Axes>",
      "image/png": "[encoded data removed]"
     },
     "metadata": {
      "needs_background": "light"
     },
     "output_type": "display_data"
    }
   ],
   "source": [
    "import matplotlib.pyplot as plt\n",
    "plt.plot(history.history['accuracy']) #validation\n",
    "plt.plot(history.history['val_accuracy']) #train\n",
    "plt.title('model accuracy')\n",
    "plt.ylabel('accuracy')\n",
    "plt.xlabel('epoch')\n",
    "plt.legend(['train', 'validation'], loc='upper left')\n",
    "plt.show()"
   ],
   "metadata": {
    "collapsed": false,
    "pycharm": {
     "name": "#%%\n"
    }
   }
  },
  {
   "cell_type": "code",
   "execution_count": 20,
   "outputs": [],
   "source": [],
   "metadata": {
    "collapsed": false,
    "pycharm": {
     "name": "#%%\n"
    }
   }
  }
 ],
 "metadata": {
  "kernelspec": {
   "name": "python3",
   "language": "python",
   "display_name": "Python 3 (ipykernel)"
  },
  "language_info": {
   "codemirror_mode": {
    "name": "ipython",
    "version": 3
   },
   "file_extension": ".py",
   "mimetype": "text/x-python",
   "name": "python",
   "nbconvert_exporter": "python",
   "pygments_lexer": "ipython3",
   "version": "3.6.4"
  }
 },
 "nbformat": 4,
 "nbformat_minor": 2
}