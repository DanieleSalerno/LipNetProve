{
 "cells": [
  {
   "cell_type": "code",
   "execution_count": 3,
   "metadata": {},
   "outputs": [],
   "source": [
    "import os\n",
    "import numpy as np\n",
    "import pandas as pd\n",
    "import tensorflow\n",
    "from keras.models import Sequential # To initialise the nn as a sequence of layers\n",
    "from keras.layers import Convolution2D # To make the convolution layer for 2D images\n",
    "from keras.layers import MaxPooling2D # \n",
    "from keras.layers import Flatten\n",
    "from keras.layers import Dense\n",
    "from keras.layers import Dropout\n",
    "from keras.callbacks import CSVLogger\n",
    "from tensorflow.keras.optimizers import RMSprop\n",
    "from keras.layers import BatchNormalization\n",
    "from tensorflow.keras.optimizers import Adam\n",
    "from tensorflow import data\n",
    "from keras.models import load_model\n",
    "from keras.callbacks import ModelCheckpoint\n",
    "from tensorflow import repeat as rp\n",
    "\n",
    "csv=CSVLogger(\"2_adamR40.log\")\n",
    "#filepath=\"weights-improvement-{epoch:02d}-{val_acc:.2f}.hdf5\"\n",
    "#checkpoint = ModelCheckpoint(filepath, monitor='val_acc', verbose=1, save_best_only=True, mode='max')\n",
    "\n",
    "\n",
    "# Initialising the CNN\n",
    "classifier = Sequential()\n",
    "\n",
    "# Step 1 - Convolution\n",
    "classifier.add(Convolution2D(32,(2,2),input_shape = (224,224,1), activation = 'relu',strides=2,name='convo1'))\n",
    "classifier.add(Convolution2D(64,(3,3), activation = 'relu',name='convo2'))\n",
    "# Step 1 - Pooling\n",
    "classifier.add(MaxPooling2D(pool_size = (2,2)))\n",
    "\n",
    "# Step 2 - Convolution\n",
    "classifier.add(Convolution2D(64,(3,3),activation = 'relu',name='convo3'))\n",
    "# Step 2 - Pooling\n",
    "classifier.add(MaxPooling2D(pool_size = (2,2)))\n",
    "# Step 3 - Convolution\n",
    "#classifier.add(Convolution2D(64,(3,3),activation = 'relu',name='convo4'))\n",
    "# Step 3 - Pooling\n",
    "#classifier.add(MaxPooling2D(pool_size = (2,2)))\n",
    "#Step 4 - Flattening\n",
    "\n",
    "classifier.add(Flatten())\n",
    "\n",
    "classifier.add(BatchNormalization())\n",
    "classifier.add(Dropout((0.5)))\n",
    "classifier.add(Dense(1024, activation = 'relu'))\n",
    "\n",
    "'''classifier.add(BatchNormalization())\n",
    "classifier.add(Dropout((0.5)))\n",
    "classifier.add(Dense(512, activation = 'relu'))\n",
    "'''\n",
    "\n",
    "classifier.add(BatchNormalization())\n",
    "classifier.add(Dropout((0.4)))\n",
    "classifier.add(Dense(10, activation = 'softmax'))"
   ]
  },
  {
   "cell_type": "code",
   "execution_count": 4,
   "metadata": {},
   "outputs": [
    {
     "name": "stdout",
     "output_type": "stream",
     "text": [
      "Found 594 images belonging to 10 classes.\n",
      "Found 113 images belonging to 10 classes.\n"
     ]
    },
    {
     "data": {
      "text/plain": "[]"
     },
     "execution_count": 4,
     "metadata": {},
     "output_type": "execute_result"
    }
   ],
   "source": [
    "import matplotlib.pyplot as plt\n",
    "adam = Adam(epsilon = 0.01)\n",
    "classifier.compile(optimizer = adam, loss = 'categorical_crossentropy', metrics = ['accuracy'])\n",
    "\n",
    "from keras.preprocessing.image import ImageDataGenerator\n",
    "\n",
    "train_datagen = ImageDataGenerator(rescale=1./255)\n",
    "\n",
    "test_datagen = ImageDataGenerator(rescale=1./255)\n",
    "\n",
    "curr_path = os.getcwd()\n",
    "basefolder = os.path.dirname(curr_path)\n",
    "train_folder = os.path.join(basefolder, \"../DatasetITA-Ratio/Train\")\n",
    "test_folder = os.path.join(basefolder, \"../DatasetITA-Ratio/Test\")\n",
    "train_set=tensorflow.data\n",
    "train_set = train_datagen.flow_from_directory(train_folder,target_size=(224, 224),batch_size=32,class_mode='categorical',color_mode='grayscale')\n",
    "\n",
    "\n",
    "test_set = test_datagen.flow_from_directory(test_folder,target_size=(224, 224),batch_size=32,class_mode='categorical',color_mode='grayscale')\n",
    "classifier.metrics_names\n",
    "\n",
    "\n"
   ]
  },
  {
   "cell_type": "code",
   "execution_count": 5,
   "outputs": [],
   "source": [
    "#nb_conda_kernels"
   ],
   "metadata": {
    "collapsed": false,
    "pycharm": {
     "name": "#%%\n"
    }
   }
  },
  {
   "cell_type": "code",
   "execution_count": 6,
   "metadata": {},
   "outputs": [
    {
     "name": "stdout",
     "output_type": "stream",
     "text": [
      "Epoch 1/40\n",
      "18/18 [==============================] - 24s 1s/step - loss: 3.2924 - accuracy: 0.1263 - val_loss: 2.3044 - val_accuracy: 0.1239\n",
      "Epoch 2/40\n",
      "18/18 [==============================] - 22s 1s/step - loss: 2.6907 - accuracy: 0.1633 - val_loss: 2.3025 - val_accuracy: 0.0973\n",
      "Epoch 3/40\n",
      "18/18 [==============================] - 22s 1s/step - loss: 2.4621 - accuracy: 0.2357 - val_loss: 2.3115 - val_accuracy: 0.0973\n",
      "Epoch 4/40\n",
      "18/18 [==============================] - 22s 1s/step - loss: 1.8770 - accuracy: 0.3822 - val_loss: 2.3009 - val_accuracy: 0.1062\n",
      "Epoch 5/40\n",
      "18/18 [==============================] - 22s 1s/step - loss: 1.3132 - accuracy: 0.5943 - val_loss: 2.3039 - val_accuracy: 0.1150\n",
      "Epoch 6/40\n",
      "18/18 [==============================] - 21s 1s/step - loss: 0.9875 - accuracy: 0.6919 - val_loss: 2.2885 - val_accuracy: 0.1062\n",
      "Epoch 7/40\n",
      "18/18 [==============================] - 22s 1s/step - loss: 0.6726 - accuracy: 0.7879 - val_loss: 2.2769 - val_accuracy: 0.1062\n",
      "Epoch 8/40\n",
      "18/18 [==============================] - 23s 1s/step - loss: 0.5021 - accuracy: 0.8300 - val_loss: 2.2709 - val_accuracy: 0.1062\n",
      "Epoch 9/40\n",
      "18/18 [==============================] - 22s 1s/step - loss: 0.3091 - accuracy: 0.9074 - val_loss: 2.3095 - val_accuracy: 0.1062\n",
      "Epoch 10/40\n",
      "18/18 [==============================] - 23s 1s/step - loss: 0.2465 - accuracy: 0.9310 - val_loss: 2.2607 - val_accuracy: 0.2301\n",
      "Epoch 11/40\n",
      "18/18 [==============================] - 24s 1s/step - loss: 0.1683 - accuracy: 0.9495 - val_loss: 2.2563 - val_accuracy: 0.1947\n",
      "Epoch 12/40\n",
      "18/18 [==============================] - 23s 1s/step - loss: 0.1442 - accuracy: 0.9562 - val_loss: 2.2525 - val_accuracy: 0.1681\n",
      "Epoch 13/40\n",
      "18/18 [==============================] - 23s 1s/step - loss: 0.1393 - accuracy: 0.9562 - val_loss: 2.2076 - val_accuracy: 0.2832\n",
      "Epoch 14/40\n",
      "18/18 [==============================] - 22s 1s/step - loss: 0.0617 - accuracy: 0.9899 - val_loss: 2.1928 - val_accuracy: 0.2566\n",
      "Epoch 15/40\n",
      "18/18 [==============================] - 22s 1s/step - loss: 0.0522 - accuracy: 0.9832 - val_loss: 2.1574 - val_accuracy: 0.2832\n",
      "Epoch 16/40\n",
      "18/18 [==============================] - 21s 1s/step - loss: 0.0528 - accuracy: 0.9832 - val_loss: 2.1234 - val_accuracy: 0.3274\n",
      "Epoch 17/40\n",
      "18/18 [==============================] - 22s 1s/step - loss: 0.0481 - accuracy: 0.9882 - val_loss: 2.0970 - val_accuracy: 0.3628\n",
      "Epoch 18/40\n",
      "18/18 [==============================] - 22s 1s/step - loss: 0.0363 - accuracy: 0.9933 - val_loss: 2.0761 - val_accuracy: 0.3540\n",
      "Epoch 19/40\n",
      "18/18 [==============================] - 21s 1s/step - loss: 0.0420 - accuracy: 0.9899 - val_loss: 2.0750 - val_accuracy: 0.4336\n",
      "Epoch 20/40\n",
      "18/18 [==============================] - 22s 1s/step - loss: 0.0280 - accuracy: 0.9949 - val_loss: 1.9886 - val_accuracy: 0.3982\n",
      "Epoch 21/40\n",
      "18/18 [==============================] - 26s 1s/step - loss: 0.0241 - accuracy: 0.9966 - val_loss: 1.9251 - val_accuracy: 0.4159\n",
      "Epoch 22/40\n",
      "18/18 [==============================] - 31s 2s/step - loss: 0.0162 - accuracy: 0.9966 - val_loss: 1.9017 - val_accuracy: 0.3894\n",
      "Epoch 23/40\n",
      "18/18 [==============================] - 32s 2s/step - loss: 0.0103 - accuracy: 1.0000 - val_loss: 1.9174 - val_accuracy: 0.3982\n",
      "Epoch 24/40\n",
      "18/18 [==============================] - 27s 1s/step - loss: 0.0131 - accuracy: 0.9966 - val_loss: 1.8696 - val_accuracy: 0.4071\n",
      "Epoch 25/40\n",
      "18/18 [==============================] - 27s 1s/step - loss: 0.0153 - accuracy: 0.9949 - val_loss: 1.9062 - val_accuracy: 0.3982\n",
      "Epoch 26/40\n",
      "18/18 [==============================] - 27s 1s/step - loss: 0.0123 - accuracy: 0.9983 - val_loss: 2.0107 - val_accuracy: 0.4425\n",
      "Epoch 27/40\n",
      "18/18 [==============================] - 29s 2s/step - loss: 0.0222 - accuracy: 0.9933 - val_loss: 2.0712 - val_accuracy: 0.3805\n",
      "Epoch 28/40\n",
      "18/18 [==============================] - 29s 2s/step - loss: 0.0141 - accuracy: 0.9949 - val_loss: 2.4043 - val_accuracy: 0.3363\n",
      "Epoch 29/40\n",
      "18/18 [==============================] - 25s 1s/step - loss: 0.0088 - accuracy: 0.9983 - val_loss: 2.3364 - val_accuracy: 0.3894\n",
      "Epoch 30/40\n",
      "18/18 [==============================] - 26s 1s/step - loss: 0.0056 - accuracy: 1.0000 - val_loss: 2.2223 - val_accuracy: 0.3717\n",
      "Epoch 31/40\n",
      "18/18 [==============================] - 26s 1s/step - loss: 0.0067 - accuracy: 1.0000 - val_loss: 2.3196 - val_accuracy: 0.3628\n",
      "Epoch 32/40\n",
      "18/18 [==============================] - 31s 2s/step - loss: 0.0071 - accuracy: 0.9983 - val_loss: 2.3864 - val_accuracy: 0.3540\n",
      "Epoch 33/40\n",
      "18/18 [==============================] - 25s 1s/step - loss: 0.0133 - accuracy: 0.9966 - val_loss: 2.2846 - val_accuracy: 0.3805\n",
      "Epoch 34/40\n",
      "18/18 [==============================] - 25s 1s/step - loss: 0.0101 - accuracy: 1.0000 - val_loss: 2.5062 - val_accuracy: 0.3363\n",
      "Epoch 35/40\n",
      "18/18 [==============================] - 26s 1s/step - loss: 0.0104 - accuracy: 0.9983 - val_loss: 2.6763 - val_accuracy: 0.4159\n",
      "Epoch 36/40\n",
      "18/18 [==============================] - 26s 1s/step - loss: 0.0079 - accuracy: 1.0000 - val_loss: 3.1031 - val_accuracy: 0.3805\n",
      "Epoch 37/40\n",
      "18/18 [==============================] - 27s 1s/step - loss: 0.0038 - accuracy: 1.0000 - val_loss: 3.2484 - val_accuracy: 0.3451\n",
      "Epoch 38/40\n",
      "18/18 [==============================] - 26s 1s/step - loss: 0.0023 - accuracy: 1.0000 - val_loss: 3.5900 - val_accuracy: 0.3363\n",
      "Epoch 39/40\n",
      "18/18 [==============================] - 25s 1s/step - loss: 0.0017 - accuracy: 1.0000 - val_loss: 3.5606 - val_accuracy: 0.3363\n",
      "Epoch 40/40\n",
      "18/18 [==============================] - 26s 1s/step - loss: 0.0026 - accuracy: 1.0000 - val_loss: 3.3720 - val_accuracy: 0.3628\n"
     ]
    }
   ],
   "source": [
    "history = classifier.fit(train_set,steps_per_epoch=train_set.n/32,epochs=40,validation_data=test_set,validation_steps=test_set.n/32,callbacks=[csv],verbose=1)"
   ]
  },
  {
   "cell_type": "code",
   "execution_count": 7,
   "outputs": [],
   "source": [
    "classifier.save('2_adam_40epR.h5')\n"
   ],
   "metadata": {
    "collapsed": false,
    "pycharm": {
     "name": "#%%\n"
    }
   }
  },
  {
   "cell_type": "code",
   "execution_count": 8,
   "outputs": [
    {
     "data": {
      "text/plain": "<Figure size 432x288 with 1 Axes>",
      "image/png": "[encoded data removed]"
     },
     "metadata": {
      "needs_background": "light"
     },
     "output_type": "display_data"
    }
   ],
   "source": [
    "import matplotlib.pyplot as plt\n",
    "plt.plot(history.history['accuracy']) #validation\n",
    "plt.plot(history.history['val_accuracy']) #train\n",
    "plt.title('model accuracy')\n",
    "plt.ylabel('accuracy')\n",
    "plt.xlabel('epoch')\n",
    "plt.legend(['train', 'validation'], loc='upper left')\n",
    "plt.show()"
   ],
   "metadata": {
    "collapsed": false,
    "pycharm": {
     "name": "#%%\n"
    }
   }
  },
  {
   "cell_type": "code",
   "execution_count": 8,
   "outputs": [],
   "source": [],
   "metadata": {
    "collapsed": false,
    "pycharm": {
     "name": "#%%\n"
    }
   }
  }
 ],
 "metadata": {
  "kernelspec": {
   "name": "python3",
   "language": "python",
   "display_name": "Python 3 (ipykernel)"
  },
  "language_info": {
   "codemirror_mode": {
    "name": "ipython",
    "version": 3
   },
   "file_extension": ".py",
   "mimetype": "text/x-python",
   "name": "python",
   "nbconvert_exporter": "python",
   "pygments_lexer": "ipython3",
   "version": "3.6.4"
  }
 },
 "nbformat": 4,
 "nbformat_minor": 2
}