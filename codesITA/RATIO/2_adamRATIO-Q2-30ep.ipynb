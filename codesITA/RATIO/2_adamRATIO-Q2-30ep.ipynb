{
 "cells": [
  {
   "cell_type": "code",
   "execution_count": 1,
   "metadata": {},
   "outputs": [
    {
     "name": "stderr",
     "output_type": "stream",
     "text": [
      "2022-01-26 18:31:02.025211: I tensorflow/core/platform/cpu_feature_guard.cc:151] This TensorFlow binary is optimized with oneAPI Deep Neural Network Library (oneDNN) to use the following CPU instructions in performance-critical operations:  AVX2 FMA\n",
      "To enable them in other operations, rebuild TensorFlow with the appropriate compiler flags.\n"
     ]
    }
   ],
   "source": [
    "import os\n",
    "import numpy as np\n",
    "import pandas as pd\n",
    "import tensorflow\n",
    "from keras.models import Sequential # To initialise the nn as a sequence of layers\n",
    "from keras.layers import Convolution2D # To make the convolution layer for 2D images\n",
    "from keras.layers import MaxPooling2D # \n",
    "from keras.layers import Flatten\n",
    "from keras.layers import Dense\n",
    "from keras.layers import Dropout\n",
    "from keras.callbacks import CSVLogger\n",
    "from tensorflow.keras.optimizers import RMSprop\n",
    "from keras.layers import BatchNormalization\n",
    "from tensorflow.keras.optimizers import Adam\n",
    "from tensorflow import data\n",
    "from keras.models import load_model\n",
    "from keras.callbacks import ModelCheckpoint\n",
    "from tensorflow import repeat as rp\n",
    "\n",
    "csv=CSVLogger(\"2_adamR30-Q2.log\")\n",
    "#filepath=\"weights-improvement-{epoch:02d}-{val_acc:.2f}.hdf5\"\n",
    "#checkpoint = ModelCheckpoint(filepath, monitor='val_acc', verbose=1, save_best_only=True, mode='max')\n",
    "\n",
    "\n",
    "# Initialising the CNN\n",
    "classifier = Sequential()\n",
    "\n",
    "# Step 1 - Convolution\n",
    "classifier.add(Convolution2D(32,(2,2),input_shape = (50,50,1), activation = 'relu',strides=2,name='convo1'))\n",
    "classifier.add(Convolution2D(64,(3,3), activation = 'relu',name='convo2'))\n",
    "# Step 1 - Pooling\n",
    "classifier.add(MaxPooling2D(pool_size = (2,2)))\n",
    "\n",
    "# Step 2 - Convolution\n",
    "classifier.add(Convolution2D(64,(3,3),activation = 'relu',name='convo3'))\n",
    "# Step 2 - Pooling\n",
    "classifier.add(MaxPooling2D(pool_size = (2,2)))\n",
    "# Step 3 - Convolution\n",
    "#classifier.add(Convolution2D(64,(3,3),activation = 'relu',name='convo4'))\n",
    "# Step 3 - Pooling\n",
    "#classifier.add(MaxPooling2D(pool_size = (2,2)))\n",
    "#Step 4 - Flattening\n",
    "\n",
    "classifier.add(Flatten())\n",
    "\n",
    "classifier.add(BatchNormalization())\n",
    "classifier.add(Dropout((0.5)))\n",
    "classifier.add(Dense(1024, activation = 'relu'))\n",
    "\n",
    "'''classifier.add(BatchNormalization())\n",
    "classifier.add(Dropout((0.5)))\n",
    "classifier.add(Dense(512, activation = 'relu'))\n",
    "'''\n",
    "\n",
    "classifier.add(BatchNormalization())\n",
    "classifier.add(Dropout((0.4)))\n",
    "classifier.add(Dense(10, activation = 'softmax'))"
   ]
  },
  {
   "cell_type": "code",
   "execution_count": 2,
   "metadata": {},
   "outputs": [
    {
     "name": "stdout",
     "output_type": "stream",
     "text": [
      "Found 594 images belonging to 10 classes.\n",
      "Found 113 images belonging to 10 classes.\n"
     ]
    },
    {
     "data": {
      "text/plain": "[]"
     },
     "execution_count": 2,
     "metadata": {},
     "output_type": "execute_result"
    }
   ],
   "source": [
    "import matplotlib.pyplot as plt\n",
    "adam = Adam(epsilon = 0.01)\n",
    "classifier.compile(optimizer = adam, loss = 'categorical_crossentropy', metrics = ['accuracy'])\n",
    "\n",
    "from keras.preprocessing.image import ImageDataGenerator\n",
    "\n",
    "train_datagen = ImageDataGenerator(rescale=1./255)\n",
    "\n",
    "test_datagen = ImageDataGenerator(rescale=1./255)\n",
    "\n",
    "curr_path = os.getcwd()\n",
    "basefolder = os.path.dirname(curr_path)\n",
    "train_folder = os.path.join(basefolder, \"../DatasetITA-Ratio-Q2/Train\")\n",
    "test_folder = os.path.join(basefolder, \"../DatasetITA-Ratio-Q2/Test\")\n",
    "train_set=tensorflow.data\n",
    "train_set = train_datagen.flow_from_directory(train_folder,target_size=(50, 50),batch_size=32,class_mode='categorical',color_mode='grayscale')\n",
    "\n",
    "\n",
    "test_set = test_datagen.flow_from_directory(test_folder,target_size=(50, 50),batch_size=32,class_mode='categorical',color_mode='grayscale')\n",
    "classifier.metrics_names\n",
    "\n",
    "\n"
   ]
  },
  {
   "cell_type": "code",
   "execution_count": 3,
   "outputs": [],
   "source": [
    "#nb_conda_kernels"
   ],
   "metadata": {
    "collapsed": false,
    "pycharm": {
     "name": "#%%\n"
    }
   }
  },
  {
   "cell_type": "code",
   "execution_count": 4,
   "metadata": {},
   "outputs": [
    {
     "name": "stdout",
     "output_type": "stream",
     "text": [
      "Epoch 1/30\n",
      "18/18 [==============================] - 2s 71ms/step - loss: 3.3846 - accuracy: 0.1044 - val_loss: 2.3010 - val_accuracy: 0.1062\n",
      "Epoch 2/30\n",
      "18/18 [==============================] - 1s 56ms/step - loss: 3.2629 - accuracy: 0.1061 - val_loss: 2.3046 - val_accuracy: 0.1327\n",
      "Epoch 3/30\n",
      "18/18 [==============================] - 1s 57ms/step - loss: 3.1376 - accuracy: 0.1263 - val_loss: 2.3036 - val_accuracy: 0.1062\n",
      "Epoch 4/30\n",
      "18/18 [==============================] - 1s 54ms/step - loss: 3.1428 - accuracy: 0.1246 - val_loss: 2.3071 - val_accuracy: 0.0796\n",
      "Epoch 5/30\n",
      "18/18 [==============================] - 1s 65ms/step - loss: 2.8813 - accuracy: 0.1380 - val_loss: 2.3018 - val_accuracy: 0.1239\n",
      "Epoch 6/30\n",
      "18/18 [==============================] - 1s 58ms/step - loss: 2.9958 - accuracy: 0.1364 - val_loss: 2.3018 - val_accuracy: 0.1062\n",
      "Epoch 7/30\n",
      "18/18 [==============================] - 1s 59ms/step - loss: 2.7929 - accuracy: 0.1599 - val_loss: 2.3045 - val_accuracy: 0.0885\n",
      "Epoch 8/30\n",
      "18/18 [==============================] - 1s 62ms/step - loss: 2.8759 - accuracy: 0.1481 - val_loss: 2.3080 - val_accuracy: 0.1416\n",
      "Epoch 9/30\n",
      "18/18 [==============================] - 1s 64ms/step - loss: 2.8726 - accuracy: 0.1549 - val_loss: 2.3046 - val_accuracy: 0.1062\n",
      "Epoch 10/30\n",
      "18/18 [==============================] - 1s 64ms/step - loss: 2.6728 - accuracy: 0.1768 - val_loss: 2.2915 - val_accuracy: 0.0973\n",
      "Epoch 11/30\n",
      "18/18 [==============================] - 1s 66ms/step - loss: 2.5491 - accuracy: 0.2138 - val_loss: 2.3211 - val_accuracy: 0.1062\n",
      "Epoch 12/30\n",
      "18/18 [==============================] - 1s 64ms/step - loss: 2.4555 - accuracy: 0.2256 - val_loss: 2.3046 - val_accuracy: 0.0885\n",
      "Epoch 13/30\n",
      "18/18 [==============================] - 1s 62ms/step - loss: 2.4350 - accuracy: 0.2441 - val_loss: 2.3049 - val_accuracy: 0.0885\n",
      "Epoch 14/30\n",
      "18/18 [==============================] - 1s 65ms/step - loss: 2.3150 - accuracy: 0.2929 - val_loss: 2.3286 - val_accuracy: 0.1062\n",
      "Epoch 15/30\n",
      "18/18 [==============================] - 1s 63ms/step - loss: 2.3278 - accuracy: 0.2896 - val_loss: 2.3259 - val_accuracy: 0.0973\n",
      "Epoch 16/30\n",
      "18/18 [==============================] - 1s 63ms/step - loss: 2.3333 - accuracy: 0.2828 - val_loss: 2.3145 - val_accuracy: 0.0796\n",
      "Epoch 17/30\n",
      "18/18 [==============================] - 1s 63ms/step - loss: 2.1193 - accuracy: 0.3215 - val_loss: 2.3265 - val_accuracy: 0.1239\n",
      "Epoch 18/30\n",
      "18/18 [==============================] - 1s 63ms/step - loss: 2.0097 - accuracy: 0.3737 - val_loss: 2.2804 - val_accuracy: 0.0973\n",
      "Epoch 19/30\n",
      "18/18 [==============================] - 1s 63ms/step - loss: 1.6985 - accuracy: 0.4343 - val_loss: 2.3604 - val_accuracy: 0.0796\n",
      "Epoch 20/30\n",
      "18/18 [==============================] - 1s 66ms/step - loss: 1.8275 - accuracy: 0.3990 - val_loss: 2.3151 - val_accuracy: 0.1150\n",
      "Epoch 21/30\n",
      "18/18 [==============================] - 1s 65ms/step - loss: 1.7295 - accuracy: 0.4343 - val_loss: 2.3783 - val_accuracy: 0.0796\n",
      "Epoch 22/30\n",
      "18/18 [==============================] - 1s 64ms/step - loss: 1.6083 - accuracy: 0.4377 - val_loss: 2.4336 - val_accuracy: 0.0973\n",
      "Epoch 23/30\n",
      "18/18 [==============================] - 1s 63ms/step - loss: 1.4267 - accuracy: 0.5152 - val_loss: 2.5715 - val_accuracy: 0.1504\n",
      "Epoch 24/30\n",
      "18/18 [==============================] - 1s 69ms/step - loss: 1.2974 - accuracy: 0.5505 - val_loss: 2.4076 - val_accuracy: 0.1504\n",
      "Epoch 25/30\n",
      "18/18 [==============================] - 1s 78ms/step - loss: 1.1654 - accuracy: 0.5842 - val_loss: 2.2954 - val_accuracy: 0.1150\n",
      "Epoch 26/30\n",
      "18/18 [==============================] - 1s 69ms/step - loss: 1.0440 - accuracy: 0.6397 - val_loss: 2.3605 - val_accuracy: 0.1239\n",
      "Epoch 27/30\n",
      "18/18 [==============================] - 1s 67ms/step - loss: 0.9570 - accuracy: 0.6801 - val_loss: 2.4316 - val_accuracy: 0.1150\n",
      "Epoch 28/30\n",
      "18/18 [==============================] - 1s 66ms/step - loss: 0.9104 - accuracy: 0.6936 - val_loss: 2.5271 - val_accuracy: 0.1504\n",
      "Epoch 29/30\n",
      "18/18 [==============================] - 1s 69ms/step - loss: 0.8885 - accuracy: 0.7003 - val_loss: 2.5985 - val_accuracy: 0.1327\n",
      "Epoch 30/30\n",
      "18/18 [==============================] - 1s 70ms/step - loss: 0.7163 - accuracy: 0.7475 - val_loss: 2.5422 - val_accuracy: 0.1593\n"
     ]
    }
   ],
   "source": [
    "history = classifier.fit(train_set,steps_per_epoch=train_set.n/32,epochs=30,validation_data=test_set,validation_steps=test_set.n/32,callbacks=[csv],verbose=1)"
   ]
  },
  {
   "cell_type": "code",
   "execution_count": 5,
   "outputs": [],
   "source": [
    "classifier.save('2_adam_30epR-Q2.h5')\n"
   ],
   "metadata": {
    "collapsed": false,
    "pycharm": {
     "name": "#%%\n"
    }
   }
  },
  {
   "cell_type": "code",
   "execution_count": 6,
   "outputs": [
    {
     "data": {
      "text/plain": "<Figure size 432x288 with 1 Axes>",
      "image/png": "[encoded data removed]"
     },
     "metadata": {
      "needs_background": "light"
     },
     "output_type": "display_data"
    }
   ],
   "source": [
    "import matplotlib.pyplot as plt\n",
    "plt.plot(history.history['accuracy']) #validation\n",
    "plt.plot(history.history['val_accuracy']) #train\n",
    "plt.title('model accuracy')\n",
    "plt.ylabel('accuracy')\n",
    "plt.xlabel('epoch')\n",
    "plt.legend(['train', 'validation'], loc='upper left')\n",
    "plt.show()"
   ],
   "metadata": {
    "collapsed": false,
    "pycharm": {
     "name": "#%%\n"
    }
   }
  },
  {
   "cell_type": "code",
   "execution_count": 6,
   "outputs": [],
   "source": [],
   "metadata": {
    "collapsed": false,
    "pycharm": {
     "name": "#%%\n"
    }
   }
  }
 ],
 "metadata": {
  "kernelspec": {
   "name": "python3",
   "language": "python",
   "display_name": "Python 3 (ipykernel)"
  },
  "language_info": {
   "codemirror_mode": {
    "name": "ipython",
    "version": 3
   },
   "file_extension": ".py",
   "mimetype": "text/x-python",
   "name": "python",
   "nbconvert_exporter": "python",
   "pygments_lexer": "ipython3",
   "version": "3.6.4"
  }
 },
 "nbformat": 4,
 "nbformat_minor": 2
}