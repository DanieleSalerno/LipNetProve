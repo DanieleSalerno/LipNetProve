{
 "cells": [
  {
   "cell_type": "code",
   "execution_count": 6,
   "metadata": {},
   "outputs": [],
   "source": [
    "import os\n",
    "import numpy as np\n",
    "from keras.models import Sequential # To initialise the nn as a sequence of layers\n",
    "from keras.layers import Convolution2D # To make the convolution layer for 2D images\n",
    "from keras.layers import MaxPooling2D # \n",
    "from keras.layers import Flatten\n",
    "from keras.layers import Dense\n",
    "from keras.layers import Dropout\n",
    "from keras.callbacks import CSVLogger\n",
    "from tensorflow.keras.optimizers import RMSprop\n",
    "from keras.layers import BatchNormalization\n",
    "from tensorflow.keras.optimizers import Adam\n",
    "from keras.models import load_model\n",
    "from keras.callbacks import ModelCheckpoint\n",
    "\n",
    "csv=CSVLogger(\"1_rmsprop20ep.log\")\n",
    "filepath=\"weights-improvement-{epoch:02d}-{val_acc:.2f}.hdf5\"\n",
    "checkpoint = ModelCheckpoint(filepath, monitor='val_acc', verbose=1, save_best_only=True, mode='max')\n",
    "\n",
    "\n",
    "# Initialising the CNN\n",
    "classifier = Sequential()\n",
    "\n",
    "# Step 1 - Convolution\n",
    "classifier.add(Convolution2D(32,(2,2),input_shape = (224,224,1), activation = 'relu',strides=2,name='convo1'))\n",
    "classifier.add(Convolution2D(64,(3,3), activation = 'relu',name='convo2'))\n",
    "# Step 2 - Pooling\n",
    "classifier.add(MaxPooling2D(pool_size = (2,2)))\n",
    "\n",
    "# Step 1 - Convolution\n",
    "classifier.add(Convolution2D(64,(3,3),activation = 'relu',name='convo3'))\n",
    "# Step 2 - Pooling\n",
    "classifier.add(MaxPooling2D(pool_size = (2,2)))\n",
    "# Step 3 - Flattening\n",
    "classifier.add(Convolution2D(64,(3,3),activation = 'relu',name='convo4'))\n",
    "# Step 2 - Pooling\n",
    "classifier.add(MaxPooling2D(pool_size = (2,2)))\n",
    "\n",
    "classifier.add(Flatten())\n",
    "classifier.add(BatchNormalization(scale = False))\n",
    "classifier.add(Dropout((0.5)))\n",
    "classifier.add(Dense(1024, activation = 'relu'))\n",
    "classifier.add(BatchNormalization(scale = False))\n",
    "classifier.add(Dropout((0.4)))\n",
    "classifier.add(Dense(10, activation = 'softmax'))\n"
   ]
  },
  {
   "cell_type": "code",
   "execution_count": 7,
   "metadata": {},
   "outputs": [
    {
     "name": "stdout",
     "output_type": "stream",
     "text": [
      "Found 594 images belonging to 10 classes.\n",
      "Found 113 images belonging to 10 classes.\n"
     ]
    }
   ],
   "source": [
    "classifier.compile(optimizer = 'rmsprop', loss = 'categorical_crossentropy', metrics = ['accuracy'])\n",
    "\n",
    "from keras.preprocessing.image import ImageDataGenerator\n",
    "\n",
    "train_datagen = ImageDataGenerator(rescale=1./255)\n",
    "\n",
    "test_datagen = ImageDataGenerator(rescale=1./255)\n",
    "\n",
    "curr_path = os.getcwd()\n",
    "basefolder = os.path.dirname(curr_path)\n",
    "train_folder = os.path.join(basefolder, \"..\\DatasetITA-Ratio\\Train\")\n",
    "test_folder = os.path.join(basefolder, \"..\\DatasetITA-Ratio\\Test\")\n",
    "\n",
    "train_set = train_datagen.flow_from_directory(train_folder,target_size=(224, 224),batch_size=32,class_mode='categorical',color_mode='grayscale')\n",
    "\n",
    "test_set = test_datagen.flow_from_directory(test_folder,target_size=(224, 224),batch_size=32,class_mode='categorical',color_mode='grayscale')"
   ]
  },
  {
   "cell_type": "code",
   "execution_count": 8,
   "metadata": {},
   "outputs": [
    {
     "name": "stdout",
     "output_type": "stream",
     "text": [
      "Epoch 1/20\n",
      "18/18 [==============================] - 12s 600ms/step - loss: 3.5137 - accuracy: 0.1027 - val_loss: 2.3581 - val_accuracy: 0.0796\n",
      "Epoch 2/20\n",
      "18/18 [==============================] - 11s 565ms/step - loss: 2.9248 - accuracy: 0.1246 - val_loss: 2.3331 - val_accuracy: 0.0885\n",
      "Epoch 3/20\n",
      "18/18 [==============================] - 11s 588ms/step - loss: 2.8303 - accuracy: 0.1515 - val_loss: 2.3394 - val_accuracy: 0.1062\n",
      "Epoch 4/20\n",
      "18/18 [==============================] - 11s 570ms/step - loss: 2.7518 - accuracy: 0.1936 - val_loss: 2.3412 - val_accuracy: 0.1062\n",
      "Epoch 5/20\n",
      "18/18 [==============================] - 11s 566ms/step - loss: 2.6022 - accuracy: 0.2593 - val_loss: 2.3204 - val_accuracy: 0.1150\n",
      "Epoch 6/20\n",
      "18/18 [==============================] - 10s 557ms/step - loss: 2.2918 - accuracy: 0.3300 - val_loss: 2.3290 - val_accuracy: 0.0708\n",
      "Epoch 7/20\n",
      "18/18 [==============================] - 11s 580ms/step - loss: 2.0299 - accuracy: 0.4377 - val_loss: 2.2860 - val_accuracy: 0.1327\n",
      "Epoch 8/20\n",
      "18/18 [==============================] - 11s 579ms/step - loss: 1.3134 - accuracy: 0.6077 - val_loss: 2.2946 - val_accuracy: 0.1062\n",
      "Epoch 9/20\n",
      "18/18 [==============================] - 10s 544ms/step - loss: 1.0167 - accuracy: 0.7172 - val_loss: 2.2756 - val_accuracy: 0.1150\n",
      "Epoch 10/20\n",
      "18/18 [==============================] - 10s 546ms/step - loss: 0.5880 - accuracy: 0.8114 - val_loss: 2.2942 - val_accuracy: 0.1150\n",
      "Epoch 11/20\n",
      "18/18 [==============================] - 10s 545ms/step - loss: 0.3485 - accuracy: 0.8990 - val_loss: 2.2731 - val_accuracy: 0.1504\n",
      "Epoch 12/20\n",
      "18/18 [==============================] - 10s 553ms/step - loss: 0.2816 - accuracy: 0.8973 - val_loss: 2.2228 - val_accuracy: 0.1327\n",
      "Epoch 13/20\n",
      "18/18 [==============================] - 10s 548ms/step - loss: 0.1890 - accuracy: 0.9428 - val_loss: 2.2988 - val_accuracy: 0.1239\n",
      "Epoch 14/20\n",
      "18/18 [==============================] - 10s 551ms/step - loss: 0.1364 - accuracy: 0.9495 - val_loss: 2.1079 - val_accuracy: 0.2566\n",
      "Epoch 15/20\n",
      "18/18 [==============================] - 10s 563ms/step - loss: 0.1591 - accuracy: 0.9562 - val_loss: 2.0971 - val_accuracy: 0.2478\n",
      "Epoch 16/20\n",
      "18/18 [==============================] - 10s 551ms/step - loss: 0.1226 - accuracy: 0.9512 - val_loss: 2.1644 - val_accuracy: 0.1947\n",
      "Epoch 17/20\n",
      "18/18 [==============================] - 10s 552ms/step - loss: 0.0464 - accuracy: 0.9899 - val_loss: 2.0906 - val_accuracy: 0.2832\n",
      "Epoch 18/20\n",
      "18/18 [==============================] - 10s 554ms/step - loss: 0.0634 - accuracy: 0.9832 - val_loss: 1.9961 - val_accuracy: 0.3363\n",
      "Epoch 19/20\n",
      "18/18 [==============================] - 10s 550ms/step - loss: 0.0440 - accuracy: 0.9798 - val_loss: 2.1278 - val_accuracy: 0.2566\n",
      "Epoch 20/20\n",
      "18/18 [==============================] - 10s 551ms/step - loss: 0.0506 - accuracy: 0.9865 - val_loss: 2.1742 - val_accuracy: 0.2920\n"
     ]
    }
   ],
   "source": [
    "history = classifier.fit(train_set,steps_per_epoch=train_set.n/32,epochs=20,validation_data=test_set,validation_steps=test_set.n/32,callbacks=[csv],verbose=1)"
   ]
  },
  {
   "cell_type": "code",
   "execution_count": 9,
   "metadata": {},
   "outputs": [],
   "source": [
    "classifier.save('1_rmsprop_20ep.h5')"
   ]
  },
  {
   "cell_type": "code",
   "execution_count": 9,
   "outputs": [],
   "source": [],
   "metadata": {
    "collapsed": false,
    "pycharm": {
     "name": "#%%\n"
    }
   }
  }
 ],
 "metadata": {
  "kernelspec": {
   "name": "python3",
   "language": "python",
   "display_name": "Python 3 (ipykernel)"
  },
  "language_info": {
   "codemirror_mode": {
    "name": "ipython",
    "version": 3
   },
   "file_extension": ".py",
   "mimetype": "text/x-python",
   "name": "python",
   "nbconvert_exporter": "python",
   "pygments_lexer": "ipython3",
   "version": "3.6.4"
  }
 },
 "nbformat": 4,
 "nbformat_minor": 2
}