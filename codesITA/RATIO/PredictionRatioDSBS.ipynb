{
 "cells": [
  {
   "cell_type": "code",
   "execution_count": 1,
   "metadata": {
    "collapsed": true
   },
   "outputs": [],
   "source": [
    "from keras.models import load_model\n",
    "model = load_model('2_adam_100epR.h5', compile = False)\n",
    "model.compile(optimizer = 'adam', loss = 'categorical_crossentropy', metrics = ['accuracy'])"
   ]
  },
  {
   "cell_type": "code",
   "source": [
    "from keras.preprocessing.image import ImageDataGenerator\n",
    "import os\n",
    "import pandas as pd\n",
    "import numpy as np\n",
    "\n",
    "\n",
    "\n",
    "dev_datagen = ImageDataGenerator(rescale = 1./255)\n",
    "\n",
    "\n",
    "\n",
    "print(os.getcwd())\n",
    "os.chdir('..')\n",
    "print(os.getcwd())\n",
    "\n",
    "\n",
    "\n",
    "dev_set = dev_datagen.flow_from_directory('../DatasetITA-Ratio/Test_Prediction',\n",
    "target_size = (224, 224), # the size of the images expected in my cnn model\n",
    "batch_size = 32,\n",
    "class_mode = 'binary')\n"
   ],
   "metadata": {
    "collapsed": false,
    "pycharm": {
     "name": "#%%\n"
    }
   },
   "execution_count": 2,
   "outputs": [
    {
     "name": "stdout",
     "output_type": "stream",
     "text": [
      "C:\\Users\\Daniele\\PycharmProjects\\LipNetProve\\codesITA\\RATIO\n",
      "C:\\Users\\Daniele\\PycharmProjects\\LipNetProve\\codesITA\n",
      "Found 20 images belonging to 10 classes.\n"
     ]
    }
   ]
  },
  {
   "cell_type": "code",
   "execution_count": 3,
   "outputs": [
    {
     "name": "stdout",
     "output_type": "stream",
     "text": [
      "[[4.6103005e-03 9.2972489e-04 7.2702947e-05 9.7485718e-06 7.5727987e-01\n",
      "  1.4258330e-02 2.1519789e-01 6.6618193e-03 2.9141895e-06 9.7675936e-04]]\n",
      "[[3.7911275e-01 2.0830192e-04 3.7854968e-03 2.5244089e-02 8.4602414e-04\n",
      "  4.8521520e-03 5.4087615e-01 4.4858791e-02 8.2137958e-05 1.3427061e-04]]\n",
      "[[1.9782819e-01 2.0328704e-03 5.3570599e-08 1.8194264e-04 7.9044837e-01\n",
      "  9.0226755e-03 4.1260725e-04 1.0774266e-06 5.2413274e-05 1.9818752e-05]]\n",
      "[[4.0337589e-05 2.5102890e-01 2.0907226e-03 1.8653904e-04 3.1203531e-02\n",
      "  3.0198970e-04 3.9969364e-01 1.7226294e-04 4.1783458e-04 3.1486422e-01]]\n",
      "[[7.8736732e-05 6.9633910e-07 1.0722270e-05 9.9968541e-01 1.9259003e-04\n",
      "  6.1853734e-06 2.0946169e-07 3.7261309e-06 2.1084919e-05 5.6126913e-07]]\n",
      "[[4.5653680e-05 5.9289122e-03 3.4453042e-03 2.3347121e-02 2.5135708e-01\n",
      "  6.0835105e-01 2.8285757e-03 5.9417268e-04 5.4735066e-03 9.8628670e-02]]\n",
      "[[5.3420943e-01 9.5859432e-04 1.5442899e-03 4.0670541e-01 2.3331417e-02\n",
      "  6.1600581e-03 4.9552595e-04 7.2636991e-03 1.6186441e-03 1.7713035e-02]]\n",
      "[[8.5004431e-04 7.8405812e-02 1.0185726e-04 6.8392768e-03 4.4658867e-01\n",
      "  2.8810553e-05 5.6928914e-04 2.3714695e-04 6.0419920e-06 4.6637303e-01]]\n",
      "[[1.0162364e-05 1.1744123e-05 4.6120849e-07 2.5034795e-04 9.9965763e-01\n",
      "  6.6108812e-05 2.4580012e-07 1.2934549e-07 2.8911099e-06 3.7040701e-07]]\n",
      "[[4.6628342e-05 5.9843726e-02 1.9855000e-02 4.2724148e-03 1.3638553e-01\n",
      "  2.6131636e-03 2.1707809e-01 1.3598071e-03 6.9485570e-05 5.5847609e-01]]\n",
      "[[4.21231758e-04 1.02613285e-05 3.36161210e-09 2.02896263e-05\n",
      "  9.98163044e-01 1.36240537e-03 1.18594544e-05 9.97581901e-06\n",
      "  4.30921034e-07 5.27087025e-07]]\n",
      "[[0.00425527 0.02350584 0.00441337 0.00050435 0.00080866 0.11203933\n",
      "  0.4057454  0.00189073 0.0031327  0.4437043 ]]\n",
      "[[3.0323732e-05 6.7500334e-04 2.3445518e-06 9.1026304e-06 9.8291641e-01\n",
      "  7.0859288e-04 1.5646812e-02 2.2069621e-06 8.7637291e-06 3.3451545e-07]]\n",
      "[[1.1623407e-03 1.3011878e-03 2.0758051e-02 3.3379984e-03 8.0072321e-03\n",
      "  3.1731811e-03 9.5130050e-01 2.1780666e-03 9.0332163e-05 8.6911172e-03]]\n",
      "[[5.2328962e-01 3.7798676e-01 1.5908820e-06 8.0103891e-05 9.5549561e-02\n",
      "  9.8902604e-04 1.6489475e-04 1.9164197e-03 2.0837502e-05 1.1365163e-06]]\n",
      "[[1.5790471e-04 4.6380909e-04 8.1370836e-03 3.5011377e-02 8.1117597e-04\n",
      "  2.4192207e-03 9.5201814e-01 6.4877211e-04 1.1734991e-05 3.2083332e-04]]\n",
      "[[1.7925981e-01 1.3371293e-01 3.5430113e-04 3.8542589e-07 4.4357174e-04\n",
      "  2.4154325e-04 8.7214226e-05 1.6485815e-03 6.8424630e-01 5.3539438e-06]]\n",
      "[[2.9078042e-04 3.7923255e-03 7.4139894e-03 4.0402100e-03 1.6079569e-02\n",
      "  7.5998594e-04 2.8503580e-02 5.9470301e-04 2.7641506e-04 9.3824852e-01]]\n",
      "[[2.1489637e-02 6.4345715e-03 6.0624182e-01 2.9067235e-04 9.0971433e-02\n",
      "  1.4178965e-03 5.0178200e-02 1.0145613e-03 2.2146650e-01 4.9470126e-04]]\n",
      "[[3.7754814e-03 2.2923124e-03 5.2427515e-02 3.6335399e-03 8.7479085e-01\n",
      "  1.6216082e-02 1.5513626e-02 5.8089001e-03 9.7442407e-06 2.5532003e-02]]\n"
     ]
    }
   ],
   "source": [
    "from keras.preprocessing.image import load_img\n",
    "from keras.preprocessing.image import img_to_array\n",
    "from tensorflow.keras.preprocessing import image\n",
    "import os\n",
    "directory_array=[]\n",
    "\n",
    "prediction_array = []\n",
    "true_label = []\n",
    "os.chdir('../DatasetITA-Ratio/Test_Prediction')\n",
    "for f in os.listdir():\n",
    "    os.chdir(f)\n",
    "    for l in os.listdir():\n",
    "        img = load_img(l, color_mode=\"grayscale\", target_size=(224, 224), interpolation=\"nearest\")\n",
    "        img_array = image.img_to_array(img)\n",
    "        img_array = img_array / 255.0\n",
    "        img_batch = np.expand_dims(img_array, axis=0)\n",
    "\n",
    "\n",
    "        prediction = model.predict(img_batch)\n",
    "        print(prediction)\n",
    "        prediction_class = np.argmax(prediction, axis=1)\n",
    "        #print(l)\n",
    "        true_label.append(f)\n",
    "        prediction_array.append(prediction_class[0])\n",
    "        class_names = [\"Buongiorno\", \"Automobili\", \"Regali\", \"Telefono\", \"Università\", \"Come stai\",\n",
    "                       \"Tutto bene\", \"Dobbiamo studiare\", \"Andiamo a casa\", \"Prendiamo un caffè\"]\n",
    "        #print(class_names[prediction_class[0]])\n",
    "        #print(prediction_class[0])\n",
    "        directory_array.append([f,l,prediction_class[0]])\n",
    "\n",
    "\n",
    "\n",
    "    os.chdir('..')"
   ],
   "metadata": {
    "collapsed": false,
    "pycharm": {
     "name": "#%%\n"
    }
   }
  },
  {
   "cell_type": "code",
   "execution_count": 4,
   "outputs": [
    {
     "name": "stdout",
     "output_type": "stream",
     "text": [
      "['a', 'BS_test_a.png', 4]\n",
      "['a', 'DS_Word_Testa_30.png', 6]\n",
      "['b', 'BS_test_b.png', 4]\n",
      "['b', 'DS_Word_Testb_30.png', 6]\n",
      "['c', 'BS_test_c.png', 3]\n",
      "['c', 'DS_Word_Testc_30.png', 5]\n",
      "['d', 'BS_test_d.png', 0]\n",
      "['d', 'DS_Word_Testd_30.png', 9]\n",
      "['e', 'BS_test_e.png', 4]\n",
      "['e', 'DS_Word_Teste_30.png', 9]\n",
      "['f', 'BS_test_f.png', 4]\n",
      "['f', 'DS_Phrases_Testf_30.png', 9]\n",
      "['g', 'BS_test_g.png', 4]\n",
      "['g', 'DS_Phrases_Testg_30.png', 6]\n",
      "['h', 'BS_test_h.png', 0]\n",
      "['h', 'DS_Phrases_Testh_30.png', 6]\n",
      "['i', 'BS_test_i.png', 8]\n",
      "['i', 'DS_Phrases_Testi_30.png', 9]\n",
      "['j', 'BS_test_j.png', 2]\n",
      "['j', 'DS_Phrases_Testj_30.png', 4]\n"
     ]
    }
   ],
   "source": [
    "for item in directory_array:\n",
    "    print(item)"
   ],
   "metadata": {
    "collapsed": false,
    "pycharm": {
     "name": "#%%\n"
    }
   }
  },
  {
   "cell_type": "code",
   "execution_count": 5,
   "outputs": [
    {
     "name": "stdout",
     "output_type": "stream",
     "text": [
      "[4, 6, 4, 6, 3, 5, 0, 9, 4, 9, 4, 9, 4, 6, 0, 6, 8, 9, 2, 4]\n"
     ]
    }
   ],
   "source": [
    "print(prediction_array)"
   ],
   "metadata": {
    "collapsed": false,
    "pycharm": {
     "name": "#%%\n"
    }
   }
  },
  {
   "cell_type": "code",
   "execution_count": 6,
   "outputs": [],
   "source": [
    "for item in directory_array:\n",
    "    if item[1].startswith('AP') or item[1].startswith('RC') or item[1].startswith('AF'):\n",
    "        print(item)"
   ],
   "metadata": {
    "collapsed": false,
    "pycharm": {
     "name": "#%%\n"
    }
   }
  },
  {
   "cell_type": "code",
   "execution_count": 7,
   "outputs": [
    {
     "name": "stdout",
     "output_type": "stream",
     "text": [
      "['a', 'a', 'b', 'b', 'c', 'c', 'd', 'd', 'e', 'e', 'f', 'f', 'g', 'g', 'h', 'h', 'i', 'i', 'j', 'j']\n"
     ]
    }
   ],
   "source": [
    "label_array=[]\n",
    "for item in directory_array:\n",
    "    label_array.append(item[0])\n",
    "print(label_array)"
   ],
   "metadata": {
    "collapsed": false,
    "pycharm": {
     "name": "#%%\n"
    }
   }
  },
  {
   "cell_type": "code",
   "execution_count": 8,
   "outputs": [
    {
     "name": "stdout",
     "output_type": "stream",
     "text": [
      "[0, 0, 1, 1, 2, 2, 3, 3, 4, 4, 5, 5, 6, 6, 7, 7, 8, 8, 9, 9]\n"
     ]
    }
   ],
   "source": [
    "converted_label=[]\n",
    "for letter in label_array:\n",
    "  number = ord(letter) - 96 - 1\n",
    "  converted_label.append(number)\n",
    "print(converted_label)"
   ],
   "metadata": {
    "collapsed": false,
    "pycharm": {
     "name": "#%%\n"
    }
   }
  },
  {
   "cell_type": "code",
   "execution_count": 9,
   "outputs": [
    {
     "data": {
      "text/plain": "0.15"
     },
     "execution_count": 9,
     "metadata": {},
     "output_type": "execute_result"
    }
   ],
   "source": [
    "\n",
    "from sklearn.metrics import accuracy_score\n",
    "accuracy_score(converted_label, prediction_array)"
   ],
   "metadata": {
    "collapsed": false,
    "pycharm": {
     "name": "#%%\n"
    }
   }
  },
  {
   "cell_type": "code",
   "execution_count": 9,
   "outputs": [],
   "source": [],
   "metadata": {
    "collapsed": false,
    "pycharm": {
     "name": "#%%\n"
    }
   }
  }
 ],
 "metadata": {
  "kernelspec": {
   "display_name": "Python 3",
   "language": "python",
   "name": "python3"
  },
  "language_info": {
   "codemirror_mode": {
    "name": "ipython",
    "version": 2
   },
   "file_extension": ".py",
   "mimetype": "text/x-python",
   "name": "python",
   "nbconvert_exporter": "python",
   "pygments_lexer": "ipython2",
   "version": "2.7.6"
  }
 },
 "nbformat": 4,
 "nbformat_minor": 0
}