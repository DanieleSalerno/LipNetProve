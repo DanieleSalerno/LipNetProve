{
 "cells": [
  {
   "cell_type": "code",
   "execution_count": 1,
   "metadata": {},
   "outputs": [],
   "source": [
    "import os\n",
    "import numpy as np\n",
    "import pandas as pd\n",
    "import tensorflow\n",
    "from keras.models import Sequential # To initialise the nn as a sequence of layers\n",
    "from keras.layers import Convolution2D # To make the convolution layer for 2D images\n",
    "from keras.layers import MaxPooling2D # \n",
    "from keras.layers import Flatten\n",
    "from keras.layers import Dense\n",
    "from keras.layers import Dropout\n",
    "from keras.callbacks import CSVLogger\n",
    "from tensorflow.keras.optimizers import RMSprop\n",
    "from keras.layers import BatchNormalization\n",
    "from tensorflow.keras.optimizers import Adam\n",
    "from tensorflow import data\n",
    "from keras.models import load_model\n",
    "from keras.callbacks import ModelCheckpoint\n",
    "from tensorflow import repeat as rp\n",
    "\n",
    "csv=CSVLogger(\"2_adam.log\")\n",
    "#filepath=\"weights-improvement-{epoch:02d}-{val_acc:.2f}.hdf5\"\n",
    "#checkpoint = ModelCheckpoint(filepath, monitor='val_acc', verbose=1, save_best_only=True, mode='max')\n",
    "\n",
    "\n",
    "# Initialising the CNN\n",
    "classifier = Sequential()\n",
    "\n",
    "# Step 1 - Convolution\n",
    "classifier.add(Convolution2D(32,(2,2),input_shape = (224,224,1), activation = 'relu',strides=2,name='convo1'))\n",
    "classifier.add(Convolution2D(64,(3,3), activation = 'relu',name='convo2'))\n",
    "# Step 1 - Pooling\n",
    "classifier.add(MaxPooling2D(pool_size = (2,2)))\n",
    "\n",
    "# Step 2 - Convolution\n",
    "classifier.add(Convolution2D(64,(3,3),activation = 'relu',name='convo3'))\n",
    "# Step 2 - Pooling\n",
    "classifier.add(MaxPooling2D(pool_size = (2,2)))\n",
    "# Step 3 - Convolution\n",
    "classifier.add(Convolution2D(64,(3,3),activation = 'relu',name='convo4'))\n",
    "# Step 3 - Pooling\n",
    "classifier.add(MaxPooling2D(pool_size = (2,2)))\n",
    "#Step 4 - Flattening\n",
    "\n",
    "classifier.add(Flatten())\n",
    "\n",
    "classifier.add(BatchNormalization())\n",
    "classifier.add(Dropout((0.5)))\n",
    "classifier.add(Dense(1024, activation = 'relu'))\n",
    "\n",
    "'''classifier.add(BatchNormalization())\n",
    "classifier.add(Dropout((0.5)))\n",
    "classifier.add(Dense(512, activation = 'relu'))\n",
    "'''\n",
    "\n",
    "classifier.add(BatchNormalization())\n",
    "classifier.add(Dropout((0.4)))\n",
    "classifier.add(Dense(10, activation = 'softmax'))"
   ]
  },
  {
   "cell_type": "code",
   "execution_count": 2,
   "metadata": {},
   "outputs": [
    {
     "name": "stdout",
     "output_type": "stream",
     "text": [
      "Found 50 images belonging to 10 classes.\n",
      "Found 50 images belonging to 10 classes.\n"
     ]
    },
    {
     "data": {
      "text/plain": "[]"
     },
     "execution_count": 2,
     "metadata": {},
     "output_type": "execute_result"
    }
   ],
   "source": [
    "import matplotlib.pyplot as plt\n",
    "adam = Adam(epsilon = 0.01)\n",
    "classifier.compile(optimizer = adam, loss = 'categorical_crossentropy', metrics = ['accuracy'])\n",
    "\n",
    "from keras.preprocessing.image import ImageDataGenerator\n",
    "\n",
    "train_datagen = ImageDataGenerator(rescale=1./255)\n",
    "\n",
    "test_datagen = ImageDataGenerator(rescale=1./255)\n",
    "\n",
    "curr_path = os.getcwd()\n",
    "basefolder = os.path.dirname(curr_path)\n",
    "train_folder = os.path.join(basefolder, \"DatasetITA\\\\Train\")\n",
    "test_folder = os.path.join(basefolder, \"DatasetITA\\\\Train\")\n",
    "train_set=tensorflow.data\n",
    "train_set = train_datagen.flow_from_directory(train_folder,target_size=(224, 224),batch_size=32,class_mode='categorical',color_mode='grayscale')\n",
    "\n",
    "\n",
    "test_set = test_datagen.flow_from_directory(test_folder,target_size=(224, 224),batch_size=32,class_mode='categorical',color_mode='grayscale')\n",
    "classifier.metrics_names\n",
    "\n",
    "\n"
   ]
  },
  {
   "cell_type": "code",
   "execution_count": 3,
   "outputs": [],
   "source": [
    "#nb_conda_kernels"
   ],
   "metadata": {
    "collapsed": false,
    "pycharm": {
     "name": "#%%\n"
    }
   }
  },
  {
   "cell_type": "code",
   "execution_count": 4,
   "metadata": {},
   "outputs": [
    {
     "name": "stdout",
     "output_type": "stream",
     "text": [
      "Epoch 1/40\n",
      "1/1 [==============================] - 2s 1s/step - loss: 3.2678 - accuracy: 0.1000 - val_loss: 2.3023 - val_accuracy: 0.1400\n",
      "Epoch 2/40\n",
      "1/1 [==============================] - 1s 998ms/step - loss: 3.0682 - accuracy: 0.1000 - val_loss: 2.3011 - val_accuracy: 0.1200\n",
      "Epoch 3/40\n",
      "1/1 [==============================] - 1s 1s/step - loss: 3.1082 - accuracy: 0.1800 - val_loss: 2.3004 - val_accuracy: 0.1000\n",
      "Epoch 4/40\n",
      "1/1 [==============================] - 1s 1s/step - loss: 3.2712 - accuracy: 0.1600 - val_loss: 2.2992 - val_accuracy: 0.1400\n",
      "Epoch 5/40\n",
      "1/1 [==============================] - 1s 1s/step - loss: 3.0782 - accuracy: 0.1600 - val_loss: 2.2981 - val_accuracy: 0.1400\n",
      "Epoch 6/40\n",
      "1/1 [==============================] - 1s 1s/step - loss: 2.6370 - accuracy: 0.2400 - val_loss: 2.2974 - val_accuracy: 0.1400\n",
      "Epoch 7/40\n",
      "1/1 [==============================] - 1s 1s/step - loss: 3.0003 - accuracy: 0.1800 - val_loss: 2.2963 - val_accuracy: 0.1200\n",
      "Epoch 8/40\n",
      "1/1 [==============================] - 1s 1s/step - loss: 2.7610 - accuracy: 0.1800 - val_loss: 2.2944 - val_accuracy: 0.1000\n",
      "Epoch 9/40\n",
      "1/1 [==============================] - 1s 1s/step - loss: 3.1797 - accuracy: 0.1400 - val_loss: 2.2934 - val_accuracy: 0.1000\n",
      "Epoch 10/40\n",
      "1/1 [==============================] - 1s 994ms/step - loss: 2.6934 - accuracy: 0.2800 - val_loss: 2.2918 - val_accuracy: 0.1000\n",
      "Epoch 11/40\n",
      "1/1 [==============================] - 1s 1s/step - loss: 2.4453 - accuracy: 0.2400 - val_loss: 2.2886 - val_accuracy: 0.1000\n",
      "Epoch 12/40\n",
      "1/1 [==============================] - 1s 1s/step - loss: 2.4538 - accuracy: 0.2000 - val_loss: 2.2857 - val_accuracy: 0.1000\n",
      "Epoch 13/40\n",
      "1/1 [==============================] - 1s 1s/step - loss: 2.5059 - accuracy: 0.2800 - val_loss: 2.2843 - val_accuracy: 0.1000\n",
      "Epoch 14/40\n",
      "1/1 [==============================] - 1s 1s/step - loss: 2.2774 - accuracy: 0.3400 - val_loss: 2.2840 - val_accuracy: 0.1000\n",
      "Epoch 15/40\n",
      "1/1 [==============================] - 1s 1s/step - loss: 2.7818 - accuracy: 0.2400 - val_loss: 2.2806 - val_accuracy: 0.1000\n",
      "Epoch 16/40\n",
      "1/1 [==============================] - 1s 1s/step - loss: 2.3997 - accuracy: 0.3200 - val_loss: 2.2772 - val_accuracy: 0.1400\n",
      "Epoch 17/40\n",
      "1/1 [==============================] - 1s 1s/step - loss: 2.2379 - accuracy: 0.3400 - val_loss: 2.2745 - val_accuracy: 0.2000\n",
      "Epoch 18/40\n",
      "1/1 [==============================] - 1s 1s/step - loss: 1.9332 - accuracy: 0.3200 - val_loss: 2.2709 - val_accuracy: 0.2400\n",
      "Epoch 19/40\n",
      "1/1 [==============================] - 1s 1s/step - loss: 2.2549 - accuracy: 0.3600 - val_loss: 2.2678 - val_accuracy: 0.2000\n",
      "Epoch 20/40\n",
      "1/1 [==============================] - 1s 1s/step - loss: 1.8595 - accuracy: 0.3200 - val_loss: 2.2645 - val_accuracy: 0.2200\n",
      "Epoch 21/40\n",
      "1/1 [==============================] - 1s 1s/step - loss: 1.9813 - accuracy: 0.4200 - val_loss: 2.2607 - val_accuracy: 0.2000\n",
      "Epoch 22/40\n",
      "1/1 [==============================] - 1s 1s/step - loss: 1.9914 - accuracy: 0.4000 - val_loss: 2.2569 - val_accuracy: 0.2800\n",
      "Epoch 23/40\n",
      "1/1 [==============================] - 1s 1s/step - loss: 1.8294 - accuracy: 0.4200 - val_loss: 2.2546 - val_accuracy: 0.2400\n",
      "Epoch 24/40\n",
      "1/1 [==============================] - 1s 1s/step - loss: 1.7494 - accuracy: 0.4800 - val_loss: 2.2521 - val_accuracy: 0.2000\n",
      "Epoch 25/40\n",
      "1/1 [==============================] - 1s 1s/step - loss: 1.5276 - accuracy: 0.5800 - val_loss: 2.2507 - val_accuracy: 0.1600\n",
      "Epoch 26/40\n",
      "1/1 [==============================] - 1s 1s/step - loss: 1.6769 - accuracy: 0.4600 - val_loss: 2.2501 - val_accuracy: 0.2000\n",
      "Epoch 27/40\n",
      "1/1 [==============================] - 1s 1s/step - loss: 1.5329 - accuracy: 0.5400 - val_loss: 2.2489 - val_accuracy: 0.2400\n",
      "Epoch 28/40\n",
      "1/1 [==============================] - 1s 1s/step - loss: 1.3509 - accuracy: 0.6000 - val_loss: 2.2473 - val_accuracy: 0.2600\n",
      "Epoch 29/40\n",
      "1/1 [==============================] - 1s 1s/step - loss: 1.4600 - accuracy: 0.5800 - val_loss: 2.2439 - val_accuracy: 0.2800\n",
      "Epoch 30/40\n",
      "1/1 [==============================] - 1s 1s/step - loss: 1.1900 - accuracy: 0.6400 - val_loss: 2.2396 - val_accuracy: 0.3200\n",
      "Epoch 31/40\n",
      "1/1 [==============================] - 1s 1s/step - loss: 1.4826 - accuracy: 0.6200 - val_loss: 2.2390 - val_accuracy: 0.2800\n",
      "Epoch 32/40\n",
      "1/1 [==============================] - 1s 1s/step - loss: 1.1416 - accuracy: 0.6400 - val_loss: 2.2428 - val_accuracy: 0.2600\n",
      "Epoch 33/40\n",
      "1/1 [==============================] - 1s 1s/step - loss: 1.2817 - accuracy: 0.6200 - val_loss: 2.2476 - val_accuracy: 0.2200\n",
      "Epoch 34/40\n",
      "1/1 [==============================] - 1s 1s/step - loss: 1.1686 - accuracy: 0.6800 - val_loss: 2.2507 - val_accuracy: 0.2200\n",
      "Epoch 35/40\n",
      "1/1 [==============================] - 1s 1s/step - loss: 1.0838 - accuracy: 0.6600 - val_loss: 2.2587 - val_accuracy: 0.2400\n",
      "Epoch 36/40\n",
      "1/1 [==============================] - 1s 1s/step - loss: 1.0932 - accuracy: 0.6600 - val_loss: 2.2645 - val_accuracy: 0.1800\n",
      "Epoch 37/40\n",
      "1/1 [==============================] - 1s 1s/step - loss: 1.0976 - accuracy: 0.7000 - val_loss: 2.2633 - val_accuracy: 0.1800\n",
      "Epoch 38/40\n",
      "1/1 [==============================] - 1s 1s/step - loss: 0.8762 - accuracy: 0.6800 - val_loss: 2.2578 - val_accuracy: 0.1800\n",
      "Epoch 39/40\n",
      "1/1 [==============================] - 1s 1s/step - loss: 0.8659 - accuracy: 0.7000 - val_loss: 2.2531 - val_accuracy: 0.1800\n",
      "Epoch 40/40\n",
      "1/1 [==============================] - 1s 999ms/step - loss: 0.8227 - accuracy: 0.7600 - val_loss: 2.2560 - val_accuracy: 0.1400\n"
     ]
    }
   ],
   "source": [
    "history = classifier.fit(train_set,steps_per_epoch=train_set.n/32,epochs=40,validation_data=test_set,validation_steps=test_set.n/32,callbacks=[csv],verbose=1)"
   ]
  },
  {
   "cell_type": "code",
   "execution_count": 7,
   "outputs": [],
   "source": [
    "classifier.save('2_adam_prova.h5')"
   ],
   "metadata": {
    "collapsed": false,
    "pycharm": {
     "name": "#%%\n"
    }
   }
  },
  {
   "cell_type": "code",
   "execution_count": 8,
   "outputs": [
    {
     "data": {
      "text/plain": "<Figure size 432x288 with 1 Axes>",
      "image/png": "[encoded data removed]"
     },
     "metadata": {
      "needs_background": "light"
     },
     "output_type": "display_data"
    }
   ],
   "source": [
    "import matplotlib.pyplot as plt\n",
    "plt.plot(history.history['accuracy']) #validation\n",
    "plt.plot(history.history['val_accuracy']) #train\n",
    "plt.title('model accuracy')\n",
    "plt.ylabel('accuracy')\n",
    "plt.xlabel('epoch')\n",
    "plt.legend(['train', 'validation'], loc='upper left')\n",
    "plt.show()"
   ],
   "metadata": {
    "collapsed": false,
    "pycharm": {
     "name": "#%%\n"
    }
   }
  },
  {
   "cell_type": "code",
   "execution_count": 6,
   "outputs": [],
   "source": [],
   "metadata": {
    "collapsed": false,
    "pycharm": {
     "name": "#%%\n"
    }
   }
  }
 ],
 "metadata": {
  "kernelspec": {
   "name": "python3",
   "language": "python",
   "display_name": "Python 3 (ipykernel)"
  },
  "language_info": {
   "codemirror_mode": {
    "name": "ipython",
    "version": 3
   },
   "file_extension": ".py",
   "mimetype": "text/x-python",
   "name": "python",
   "nbconvert_exporter": "python",
   "pygments_lexer": "ipython3",
   "version": "3.6.4"
  }
 },
 "nbformat": 4,
 "nbformat_minor": 2
}