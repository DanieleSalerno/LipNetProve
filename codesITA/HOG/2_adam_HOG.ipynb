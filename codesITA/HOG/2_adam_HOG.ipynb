{
 "cells": [
  {
   "cell_type": "code",
   "execution_count": 29,
   "metadata": {},
   "outputs": [
    {
     "name": "stdout",
     "output_type": "stream",
     "text": [
      "Model: \"sequential_10\"\n",
      "_________________________________________________________________\n",
      " Layer (type)                Output Shape              Param #   \n",
      "=================================================================\n",
      " convo1 (Conv2D)             (None, 97, 97, 32)        32800     \n",
      "                                                                 \n",
      "=================================================================\n",
      "Total params: 32,800\n",
      "Trainable params: 32,800\n",
      "Non-trainable params: 0\n",
      "_________________________________________________________________\n"
     ]
    }
   ],
   "source": [
    "import os\n",
    "import numpy as np\n",
    "import pandas as pd\n",
    "import tensorflow\n",
    "from keras.models import Sequential # To initialise the nn as a sequence of layers\n",
    "from keras.layers import Convolution2D # To make the convolution layer for 2D images\n",
    "from keras.layers import MaxPooling2D # \n",
    "from keras.layers import Flatten\n",
    "from keras.layers import Dense\n",
    "from keras.layers import Dropout\n",
    "from keras.callbacks import CSVLogger\n",
    "from tensorflow.keras.optimizers import RMSprop\n",
    "from keras.layers import BatchNormalization\n",
    "from tensorflow.keras.optimizers import Adam\n",
    "from tensorflow import data\n",
    "from keras.models import load_model\n",
    "from keras.callbacks import ModelCheckpoint\n",
    "from tensorflow import repeat as rp\n",
    "\n",
    "csv=CSVLogger(\"2_adam_HOG.log\")\n",
    "#filepath=\"weights-improvement-{epoch:02d}-{val_acc:.2f}.hdf5\"\n",
    "#checkpoint = ModelCheckpoint(filepath, monitor='val_acc', verbose=1, save_best_only=True, mode='max')\n",
    "\n",
    "\n",
    "# Initialising the CNN\n",
    "classifier = Sequential()\n",
    "\n",
    "# Step 1 - Convolution\n",
    "classifier.add(Convolution2D(32,(32,32),input_shape = (224,224,1), activation = 'relu',strides=2,name='convo1'))\n",
    "classifier.summary()\n",
    "#classifier.add(Convolution2D(64,(3,3), activation = 'relu',name='convo2'))\n",
    "# Step 1 - Pooling\n",
    "classifier.add(MaxPooling2D(pool_size = (3,3)))\n",
    "\n",
    "# Step 2 - Convolution\n",
    "#classifier.add(Convolution2D(64,(3,3),activation = 'relu',name='convo3'))\n",
    "# Step 2 - Pooling\n",
    "#classifier.add(MaxPooling2D(pool_size = (2,2)))\n",
    "# Step 3 - Convolution\n",
    "#classifier.add(Convolution2D(64,(3,3),activation = 'relu',name='convo4'))\n",
    "# Step 3 - Pooling\n",
    "#classifier.add(MaxPooling2D(pool_size = (2,2)))\n",
    "#Step 4 - Flattening\n",
    "\n",
    "classifier.add(Flatten())\n",
    "\n",
    "classifier.add(BatchNormalization())\n",
    "classifier.add(Dropout((0.5)))\n",
    "classifier.add(Dense(512, activation = 'relu'))\n",
    "\n",
    "'''classifier.add(BatchNormalization())\n",
    "classifier.add(Dropout((0.5)))\n",
    "classifier.add(Dense(512, activation = 'relu'))\n",
    "'''\n",
    "\n",
    "classifier.add(BatchNormalization())\n",
    "classifier.add(Dropout((0.4)))\n",
    "classifier.add(Dense(10, activation = 'softmax'))"
   ]
  },
  {
   "cell_type": "code",
   "execution_count": 30,
   "outputs": [
    {
     "data": {
      "text/plain": "'C:\\\\Users\\\\Daniele\\\\PycharmProjects\\\\LipNetProve\\\\codesITA'"
     },
     "execution_count": 30,
     "metadata": {},
     "output_type": "execute_result"
    }
   ],
   "source": [
    "os.getcwd()"
   ],
   "metadata": {
    "collapsed": false,
    "pycharm": {
     "name": "#%%\n"
    }
   }
  },
  {
   "cell_type": "code",
   "execution_count": 31,
   "metadata": {},
   "outputs": [
    {
     "name": "stdout",
     "output_type": "stream",
     "text": [
      "Found 608 images belonging to 10 classes.\n",
      "Found 69 images belonging to 10 classes.\n"
     ]
    },
    {
     "data": {
      "text/plain": "[]"
     },
     "execution_count": 31,
     "metadata": {},
     "output_type": "execute_result"
    }
   ],
   "source": [
    "import matplotlib.pyplot as plt\n",
    "adam = Adam(epsilon = 0.01)\n",
    "classifier.compile(optimizer = adam, loss = 'categorical_crossentropy', metrics = ['accuracy'])\n",
    "\n",
    "from keras.preprocessing.image import ImageDataGenerator\n",
    "\n",
    "train_datagen = ImageDataGenerator(rescale=1./255)\n",
    "\n",
    "test_datagen = ImageDataGenerator(rescale=1./255)\n",
    "\n",
    "curr_path = os.getcwd()\n",
    "basefolder = os.path.dirname(curr_path)\n",
    "train_folder = os.path.join(basefolder, \"DatasetITAHog\\\\Train\")\n",
    "test_folder = os.path.join(basefolder, \"DatasetITAHog\\\\Test\")\n",
    "train_set=tensorflow.data\n",
    "train_set = train_datagen.flow_from_directory(train_folder,target_size=(224, 224),batch_size=32,class_mode='categorical',color_mode='grayscale')\n",
    "\n",
    "\n",
    "test_set = test_datagen.flow_from_directory(test_folder,target_size=(224, 224),batch_size=32,class_mode='categorical',color_mode='grayscale')\n",
    "classifier.metrics_names\n",
    "\n",
    "\n"
   ]
  },
  {
   "cell_type": "code",
   "execution_count": 32,
   "outputs": [],
   "source": [
    "#nb_conda_kernels"
   ],
   "metadata": {
    "collapsed": false,
    "pycharm": {
     "name": "#%%\n"
    }
   }
  },
  {
   "cell_type": "code",
   "execution_count": 33,
   "metadata": {},
   "outputs": [
    {
     "name": "stdout",
     "output_type": "stream",
     "text": [
      "Epoch 1/50\n",
      "19/19 [==============================] - 24s 1s/step - loss: 2.7043 - accuracy: 0.2829 - val_loss: 2.2747 - val_accuracy: 0.1884\n",
      "Epoch 2/50\n",
      "19/19 [==============================] - 23s 1s/step - loss: 1.0736 - accuracy: 0.6743 - val_loss: 2.1944 - val_accuracy: 0.3768\n",
      "Epoch 3/50\n",
      "19/19 [==============================] - 23s 1s/step - loss: 0.4101 - accuracy: 0.8766 - val_loss: 2.1790 - val_accuracy: 0.2464\n",
      "Epoch 4/50\n",
      "19/19 [==============================] - 23s 1s/step - loss: 0.1759 - accuracy: 0.9622 - val_loss: 2.1760 - val_accuracy: 0.1304\n",
      "Epoch 5/50\n",
      "19/19 [==============================] - 23s 1s/step - loss: 0.0825 - accuracy: 0.9836 - val_loss: 2.1616 - val_accuracy: 0.1304\n",
      "Epoch 6/50\n",
      "19/19 [==============================] - 23s 1s/step - loss: 0.0442 - accuracy: 0.9918 - val_loss: 2.1381 - val_accuracy: 0.1304\n",
      "Epoch 7/50\n",
      "19/19 [==============================] - 23s 1s/step - loss: 0.0276 - accuracy: 1.0000 - val_loss: 2.1166 - val_accuracy: 0.1449\n",
      "Epoch 8/50\n",
      "19/19 [==============================] - 24s 1s/step - loss: 0.0178 - accuracy: 0.9984 - val_loss: 2.0846 - val_accuracy: 0.1449\n",
      "Epoch 9/50\n",
      "19/19 [==============================] - 24s 1s/step - loss: 0.0184 - accuracy: 0.9984 - val_loss: 2.0589 - val_accuracy: 0.1594\n",
      "Epoch 10/50\n",
      "19/19 [==============================] - 23s 1s/step - loss: 0.0115 - accuracy: 0.9984 - val_loss: 2.0399 - val_accuracy: 0.1594\n",
      "Epoch 11/50\n",
      "19/19 [==============================] - 23s 1s/step - loss: 0.0114 - accuracy: 0.9984 - val_loss: 1.9999 - val_accuracy: 0.1884\n",
      "Epoch 12/50\n",
      "19/19 [==============================] - 23s 1s/step - loss: 0.0098 - accuracy: 0.9984 - val_loss: 1.9680 - val_accuracy: 0.2319\n",
      "Epoch 13/50\n",
      "19/19 [==============================] - 23s 1s/step - loss: 0.0116 - accuracy: 0.9984 - val_loss: 1.9155 - val_accuracy: 0.2754\n",
      "Epoch 14/50\n",
      "19/19 [==============================] - 23s 1s/step - loss: 0.0077 - accuracy: 1.0000 - val_loss: 1.8553 - val_accuracy: 0.3913\n",
      "Epoch 15/50\n",
      "19/19 [==============================] - 23s 1s/step - loss: 0.0048 - accuracy: 1.0000 - val_loss: 1.7912 - val_accuracy: 0.4493\n",
      "Epoch 16/50\n",
      "19/19 [==============================] - 23s 1s/step - loss: 0.0052 - accuracy: 0.9984 - val_loss: 1.7279 - val_accuracy: 0.5072\n",
      "Epoch 17/50\n",
      "19/19 [==============================] - 23s 1s/step - loss: 0.0058 - accuracy: 1.0000 - val_loss: 1.6773 - val_accuracy: 0.5507\n",
      "Epoch 18/50\n",
      "19/19 [==============================] - 23s 1s/step - loss: 0.0038 - accuracy: 1.0000 - val_loss: 1.6063 - val_accuracy: 0.5942\n",
      "Epoch 19/50\n",
      "19/19 [==============================] - 23s 1s/step - loss: 0.0039 - accuracy: 1.0000 - val_loss: 1.5528 - val_accuracy: 0.6087\n",
      "Epoch 20/50\n",
      "19/19 [==============================] - 23s 1s/step - loss: 0.0025 - accuracy: 1.0000 - val_loss: 1.5031 - val_accuracy: 0.6087\n",
      "Epoch 21/50\n",
      "19/19 [==============================] - 24s 1s/step - loss: 0.0024 - accuracy: 1.0000 - val_loss: 1.4476 - val_accuracy: 0.6087\n",
      "Epoch 22/50\n",
      "19/19 [==============================] - 23s 1s/step - loss: 0.0022 - accuracy: 1.0000 - val_loss: 1.4001 - val_accuracy: 0.6087\n",
      "Epoch 23/50\n",
      "19/19 [==============================] - 24s 1s/step - loss: 0.0018 - accuracy: 1.0000 - val_loss: 1.3586 - val_accuracy: 0.6087\n",
      "Epoch 24/50\n",
      "19/19 [==============================] - 24s 1s/step - loss: 0.0020 - accuracy: 1.0000 - val_loss: 1.3228 - val_accuracy: 0.6087\n",
      "Epoch 25/50\n",
      "19/19 [==============================] - 23s 1s/step - loss: 0.0024 - accuracy: 1.0000 - val_loss: 1.2947 - val_accuracy: 0.6087\n",
      "Epoch 26/50\n",
      "19/19 [==============================] - 23s 1s/step - loss: 0.0016 - accuracy: 1.0000 - val_loss: 1.2836 - val_accuracy: 0.6087\n",
      "Epoch 27/50\n",
      "19/19 [==============================] - 23s 1s/step - loss: 0.0012 - accuracy: 1.0000 - val_loss: 1.2846 - val_accuracy: 0.6232\n",
      "Epoch 28/50\n",
      "19/19 [==============================] - 23s 1s/step - loss: 0.0014 - accuracy: 1.0000 - val_loss: 1.2883 - val_accuracy: 0.6377\n",
      "Epoch 29/50\n",
      "19/19 [==============================] - 23s 1s/step - loss: 0.0014 - accuracy: 1.0000 - val_loss: 1.3091 - val_accuracy: 0.6522\n",
      "Epoch 30/50\n",
      "19/19 [==============================] - 23s 1s/step - loss: 0.0016 - accuracy: 1.0000 - val_loss: 1.3277 - val_accuracy: 0.6522\n",
      "Epoch 31/50\n",
      "19/19 [==============================] - 23s 1s/step - loss: 0.0013 - accuracy: 1.0000 - val_loss: 1.3451 - val_accuracy: 0.6522\n",
      "Epoch 32/50\n",
      "19/19 [==============================] - 23s 1s/step - loss: 9.2163e-04 - accuracy: 1.0000 - val_loss: 1.3658 - val_accuracy: 0.6522\n",
      "Epoch 33/50\n",
      "19/19 [==============================] - 23s 1s/step - loss: 9.2012e-04 - accuracy: 1.0000 - val_loss: 1.3865 - val_accuracy: 0.6522\n",
      "Epoch 34/50\n",
      "19/19 [==============================] - 23s 1s/step - loss: 0.0013 - accuracy: 1.0000 - val_loss: 1.4160 - val_accuracy: 0.6522\n",
      "Epoch 35/50\n",
      "19/19 [==============================] - 23s 1s/step - loss: 9.8771e-04 - accuracy: 1.0000 - val_loss: 1.4514 - val_accuracy: 0.6377\n",
      "Epoch 36/50\n",
      "19/19 [==============================] - 23s 1s/step - loss: 8.2005e-04 - accuracy: 1.0000 - val_loss: 1.4780 - val_accuracy: 0.6377\n",
      "Epoch 37/50\n",
      "19/19 [==============================] - 23s 1s/step - loss: 8.9188e-04 - accuracy: 1.0000 - val_loss: 1.5105 - val_accuracy: 0.6522\n",
      "Epoch 38/50\n",
      "19/19 [==============================] - 23s 1s/step - loss: 9.1393e-04 - accuracy: 1.0000 - val_loss: 1.5423 - val_accuracy: 0.6522\n",
      "Epoch 39/50\n",
      "19/19 [==============================] - 23s 1s/step - loss: 9.0146e-04 - accuracy: 1.0000 - val_loss: 1.5617 - val_accuracy: 0.6522\n",
      "Epoch 40/50\n",
      "19/19 [==============================] - 23s 1s/step - loss: 6.3370e-04 - accuracy: 1.0000 - val_loss: 1.5819 - val_accuracy: 0.6522\n",
      "Epoch 41/50\n",
      "19/19 [==============================] - 23s 1s/step - loss: 8.1007e-04 - accuracy: 1.0000 - val_loss: 1.5997 - val_accuracy: 0.6522\n",
      "Epoch 42/50\n",
      "19/19 [==============================] - 23s 1s/step - loss: 0.0014 - accuracy: 1.0000 - val_loss: 1.6288 - val_accuracy: 0.6522\n",
      "Epoch 43/50\n",
      "19/19 [==============================] - 23s 1s/step - loss: 8.2272e-04 - accuracy: 1.0000 - val_loss: 1.6528 - val_accuracy: 0.6522\n",
      "Epoch 44/50\n",
      "19/19 [==============================] - 23s 1s/step - loss: 8.2302e-04 - accuracy: 1.0000 - val_loss: 1.6691 - val_accuracy: 0.6522\n",
      "Epoch 45/50\n",
      "19/19 [==============================] - 23s 1s/step - loss: 8.6499e-04 - accuracy: 1.0000 - val_loss: 1.6794 - val_accuracy: 0.6522\n",
      "Epoch 46/50\n",
      "19/19 [==============================] - 23s 1s/step - loss: 7.2439e-04 - accuracy: 1.0000 - val_loss: 1.6956 - val_accuracy: 0.6522\n",
      "Epoch 47/50\n",
      "19/19 [==============================] - 23s 1s/step - loss: 8.7737e-04 - accuracy: 1.0000 - val_loss: 1.7066 - val_accuracy: 0.6522\n",
      "Epoch 48/50\n",
      "19/19 [==============================] - 23s 1s/step - loss: 6.5002e-04 - accuracy: 1.0000 - val_loss: 1.7088 - val_accuracy: 0.6522\n",
      "Epoch 49/50\n",
      "19/19 [==============================] - 23s 1s/step - loss: 8.1243e-04 - accuracy: 1.0000 - val_loss: 1.7183 - val_accuracy: 0.6522\n",
      "Epoch 50/50\n",
      "19/19 [==============================] - 23s 1s/step - loss: 6.9643e-04 - accuracy: 1.0000 - val_loss: 1.7249 - val_accuracy: 0.6522\n"
     ]
    }
   ],
   "source": [
    "history = classifier.fit(train_set,steps_per_epoch=train_set.n/32,epochs=50,validation_data=test_set,validation_steps=test_set.n/32,callbacks=[csv],verbose=1)"
   ]
  },
  {
   "cell_type": "code",
   "execution_count": 36,
   "outputs": [],
   "source": [
    "classifier.save('2_adam_HOG.h5')\n"
   ],
   "metadata": {
    "collapsed": false,
    "pycharm": {
     "name": "#%%\n"
    }
   }
  },
  {
   "cell_type": "code",
   "execution_count": 35,
   "outputs": [
    {
     "data": {
      "text/plain": "<Figure size 432x288 with 1 Axes>",
      "image/png": "[encoded data removed]"
     },
     "metadata": {
      "needs_background": "light"
     },
     "output_type": "display_data"
    }
   ],
   "source": [
    "import matplotlib.pyplot as plt\n",
    "plt.plot(history.history['accuracy']) #validation\n",
    "plt.plot(history.history['val_accuracy']) #train\n",
    "plt.title('model accuracy')\n",
    "plt.ylabel('accuracy')\n",
    "plt.xlabel('epoch')\n",
    "plt.legend(['train', 'validation'], loc='upper left')\n",
    "plt.show()"
   ],
   "metadata": {
    "collapsed": false,
    "pycharm": {
     "name": "#%%\n"
    }
   }
  },
  {
   "cell_type": "code",
   "execution_count": 35,
   "outputs": [],
   "source": [],
   "metadata": {
    "collapsed": false,
    "pycharm": {
     "name": "#%%\n"
    }
   }
  }
 ],
 "metadata": {
  "kernelspec": {
   "name": "python3",
   "language": "python",
   "display_name": "Python 3 (ipykernel)"
  },
  "language_info": {
   "codemirror_mode": {
    "name": "ipython",
    "version": 3
   },
   "file_extension": ".py",
   "mimetype": "text/x-python",
   "name": "python",
   "nbconvert_exporter": "python",
   "pygments_lexer": "ipython3",
   "version": "3.6.4"
  }
 },
 "nbformat": 4,
 "nbformat_minor": 2
}