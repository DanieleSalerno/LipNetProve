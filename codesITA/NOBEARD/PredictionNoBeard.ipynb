{
 "cells": [
  {
   "cell_type": "code",
   "execution_count": 1,
   "metadata": {
    "collapsed": true
   },
   "outputs": [],
   "source": [
    "from keras.models import load_model\n",
    "model = load_model('2_adam_NoBeard.h5', compile = False)\n",
    "model.compile(optimizer = 'adam', loss = 'categorical_crossentropy', metrics = ['accuracy'])"
   ]
  },
  {
   "cell_type": "code",
   "source": [
    "from keras.preprocessing.image import ImageDataGenerator\n",
    "import os\n",
    "import pandas as pd\n",
    "import numpy as np\n",
    "\n",
    "\n",
    "\n",
    "dev_datagen = ImageDataGenerator(rescale = 1./255)\n",
    "\n",
    "\n",
    "\n",
    "print(os.getcwd())\n",
    "os.chdir('..')\n",
    "print(os.getcwd())\n",
    "\n",
    "\n",
    "\n",
    "dev_set = dev_datagen.flow_from_directory('DatasetITANoBeard/Test',\n",
    "target_size = (224, 224), # the size of the images expected in my cnn model\n",
    "batch_size = 32,\n",
    "class_mode = 'binary')\n"
   ],
   "metadata": {
    "collapsed": false,
    "pycharm": {
     "name": "#%%\n"
    }
   },
   "execution_count": 2,
   "outputs": [
    {
     "name": "stdout",
     "output_type": "stream",
     "text": [
      "C:\\Users\\Daniele\\PycharmProjects\\LipNetProve\\codesITA\n",
      "C:\\Users\\Daniele\\PycharmProjects\\LipNetProve\n",
      "Found 35 images belonging to 10 classes.\n"
     ]
    }
   ]
  },
  {
   "cell_type": "code",
   "execution_count": 3,
   "outputs": [
    {
     "name": "stdout",
     "output_type": "stream",
     "text": [
      "[[0.6492317  0.04466923 0.01901013 0.20198368 0.01345804 0.00435084\n",
      "  0.01353438 0.03955172 0.00197092 0.01223942]]\n",
      "[[0.7654117  0.02616622 0.00247355 0.01575423 0.06397478 0.0145293\n",
      "  0.00293414 0.105212   0.00093337 0.00261072]]\n",
      "[[0.01151337 0.09274559 0.20664375 0.31574303 0.04130797 0.04531544\n",
      "  0.00698042 0.2453529  0.00453027 0.02986736]]\n",
      "[[0.62835467 0.07265386 0.02286265 0.03229358 0.09305646 0.01771914\n",
      "  0.01077469 0.11451578 0.00265077 0.00511827]]\n",
      "[[0.41892618 0.20488994 0.06202894 0.15060385 0.09756756 0.01267196\n",
      "  0.01148023 0.02981981 0.00397282 0.00803875]]\n",
      "[[0.38516405 0.16943637 0.22215599 0.05679409 0.04703894 0.03958415\n",
      "  0.01368414 0.04919915 0.00859469 0.00834841]]\n",
      "[[0.00095426 0.9157827  0.00161696 0.00329436 0.00562199 0.00541577\n",
      "  0.00348293 0.04953196 0.00097542 0.01332364]]\n",
      "[[0.0559845  0.04889774 0.02136053 0.13430372 0.07867543 0.12172232\n",
      "  0.02482055 0.49783367 0.00723685 0.00916469]]\n",
      "[[0.0130811  0.70257056 0.06728076 0.01140141 0.0207131  0.0097324\n",
      "  0.00918236 0.14865549 0.00072714 0.0166557 ]]\n",
      "[[0.00515303 0.90266764 0.05843315 0.00529129 0.00358219 0.00255379\n",
      "  0.00140204 0.01589904 0.00236101 0.00265662]]\n",
      "[[0.0039448  0.88093174 0.00240479 0.01802889 0.05141991 0.00505039\n",
      "  0.00381764 0.02890677 0.00218134 0.00331379]]\n",
      "[[0.07937104 0.04995996 0.18185963 0.28815705 0.07504608 0.03637569\n",
      "  0.01501441 0.23753853 0.00727253 0.0294051 ]]\n",
      "[[0.02975236 0.25971037 0.42016077 0.06050192 0.06666517 0.02103367\n",
      "  0.0120641  0.08324952 0.00338002 0.04348218]]\n",
      "[[8.6718670e-04 6.0239020e-03 9.8468089e-01 2.0084078e-03 2.1320090e-03\n",
      "  1.4452554e-03 1.0070383e-04 1.7387189e-03 5.1082153e-04 4.9212913e-04]]\n",
      "[[0.11245052 0.02737902 0.16842914 0.14416978 0.02138488 0.02479241\n",
      "  0.02436647 0.45648184 0.00733727 0.01320875]]\n",
      "[[0.02165728 0.25866896 0.07394346 0.11410397 0.10319563 0.0068818\n",
      "  0.00927508 0.35157633 0.00987591 0.05082159]]\n",
      "[[0.03234418 0.02946021 0.1271083  0.10145115 0.14398874 0.08764194\n",
      "  0.00911946 0.41493452 0.00343552 0.05051592]]\n",
      "[[0.01936506 0.28373805 0.10027394 0.04334277 0.0744348  0.02767014\n",
      "  0.01634326 0.38969314 0.00627704 0.03886176]]\n",
      "[[0.00599068 0.04049866 0.06936523 0.00986155 0.79587036 0.01194023\n",
      "  0.00370346 0.05362103 0.00217475 0.00697405]]\n",
      "[[1.3171235e-03 2.0762920e-02 1.7338427e-03 1.3251733e-02 9.4688845e-01\n",
      "  1.3739750e-03 6.8216614e-04 1.0601381e-02 9.5798238e-04 2.4304218e-03]]\n",
      "[[0.01702054 0.0659252  0.06750445 0.191886   0.02817472 0.00346927\n",
      "  0.01647742 0.52529216 0.01692942 0.0673209 ]]\n",
      "[[0.0207471  0.15175775 0.16940975 0.0556926  0.04083337 0.04728772\n",
      "  0.00601827 0.50125074 0.00411609 0.00288658]]\n",
      "[[0.07472584 0.04575154 0.20177121 0.06433828 0.0693129  0.13133854\n",
      "  0.03874962 0.35715842 0.00718585 0.00966773]]\n",
      "[[0.04152016 0.1646586  0.06221788 0.10302652 0.05604946 0.08712428\n",
      "  0.01427894 0.4443836  0.00633691 0.02040365]]\n",
      "[[0.00455002 0.0869048  0.02807696 0.03133498 0.01919004 0.00278823\n",
      "  0.00472244 0.8140696  0.00236383 0.00599908]]\n",
      "[[0.02527139 0.03483893 0.09356259 0.24701329 0.06122568 0.03820045\n",
      "  0.00816225 0.4691977  0.00405225 0.01847552]]\n",
      "[[1.5005645e-03 2.6359360e-03 1.6498995e-03 2.0096737e-03 2.8725897e-03\n",
      "  5.4666819e-03 1.3534646e-03 9.8215401e-01 2.0428188e-04 1.5280992e-04]]\n",
      "[[0.03599131 0.20357645 0.0694344  0.02889873 0.01957976 0.02737585\n",
      "  0.0113987  0.59005713 0.00435655 0.00933114]]\n",
      "[[0.0061073  0.00971303 0.03958033 0.01157856 0.01769305 0.01146226\n",
      "  0.00148773 0.8937373  0.0014594  0.00718109]]\n",
      "[[0.07476647 0.12365052 0.08300819 0.05698245 0.07174218 0.04135166\n",
      "  0.01170907 0.49446747 0.00702012 0.03530191]]\n",
      "[[0.02838823 0.4078313  0.2597131  0.01315958 0.06260274 0.01455663\n",
      "  0.00593647 0.17926039 0.00237905 0.02617253]]\n",
      "[[0.02407993 0.08492383 0.46820933 0.10528187 0.01122487 0.00756606\n",
      "  0.0127179  0.08403863 0.19487536 0.00708218]]\n",
      "[[0.02306909 0.02544351 0.1403275  0.11845667 0.09298551 0.02856245\n",
      "  0.01141771 0.38956615 0.14387143 0.02629996]]\n",
      "[[0.07482859 0.05670736 0.13560902 0.05904222 0.05278612 0.04232687\n",
      "  0.01834796 0.503631   0.00673752 0.04998341]]\n",
      "[[0.01434396 0.49993598 0.07547332 0.01285946 0.01726002 0.01198627\n",
      "  0.01280112 0.33076558 0.00298283 0.0215914 ]]\n"
     ]
    }
   ],
   "source": [
    "from keras.preprocessing.image import load_img\n",
    "from keras.preprocessing.image import img_to_array\n",
    "from tensorflow.keras.preprocessing import image\n",
    "import os\n",
    "directory_array=[]\n",
    "\n",
    "prediction_array = []\n",
    "true_label = []\n",
    "os.chdir('DatasetITANoBeard/Test')\n",
    "for f in os.listdir():\n",
    "    os.chdir(f)\n",
    "    for l in os.listdir():\n",
    "        img = load_img(l, color_mode=\"grayscale\", target_size=(224, 224), interpolation=\"nearest\")\n",
    "        img_array = image.img_to_array(img)\n",
    "        img_array = img_array / 255.0\n",
    "        img_batch = np.expand_dims(img_array, axis=0)\n",
    "\n",
    "\n",
    "        prediction = model.predict(img_batch)\n",
    "        print(prediction)\n",
    "        prediction_class = np.argmax(prediction, axis=1)\n",
    "        #print(l)\n",
    "        true_label.append(f)\n",
    "        prediction_array.append(prediction_class[0])\n",
    "        class_names = [\"Buongiorno\", \"Automobili\", \"Regali\", \"Telefono\", \"Università\", \"Come stai\",\n",
    "                       \"Tutto bene\", \"Dobbiamo studiare\", \"Andiamo a casa\", \"Prendiamo un caffè\"]\n",
    "        #print(class_names[prediction_class[0]])\n",
    "        #print(prediction_class[0])\n",
    "        directory_array.append([f,l,prediction_class[0]])\n",
    "\n",
    "\n",
    "\n",
    "    os.chdir('..')"
   ],
   "metadata": {
    "collapsed": false,
    "pycharm": {
     "name": "#%%\n"
    }
   }
  },
  {
   "cell_type": "code",
   "execution_count": 4,
   "outputs": [
    {
     "name": "stdout",
     "output_type": "stream",
     "text": [
      "['a', 'AC_Word_a_08.png', 0]\n",
      "['a', 'AL_Word_a_16.png', 0]\n",
      "['a', 'AP_Word_a_18.png', 3]\n",
      "['a', 'AS_Word_a_09.png', 0]\n",
      "['a', 'BC_Word_a_01.png', 0]\n",
      "['a', 'MC_Word_a_14.png', 0]\n",
      "['b', 'AC_Word_b_08.png', 1]\n",
      "['b', 'AF_Word_b_19.png', 7]\n",
      "['b', 'AP_Word_b_18.png', 1]\n",
      "['b', 'MC_Word_b_14.png', 1]\n",
      "['b', 'ML_Word_b_13.png', 1]\n",
      "['c', 'AF_Word_c_19.png', 3]\n",
      "['c', 'AP_Word_c_18.png', 2]\n",
      "['c', 'MC_Word_c_14.png', 2]\n",
      "['d', 'AF_Word_d_19.png', 7]\n",
      "['d', 'AP_Word_d_18.png', 7]\n",
      "['e', 'AF_Word_e_19.png', 7]\n",
      "['e', 'AP_Word_e_18.png', 7]\n",
      "['e', 'AS_Word_e_09.png', 4]\n",
      "['e', 'ML_Word_e_13.png', 4]\n",
      "['f', 'AF_Phrases_f_19.png', 7]\n",
      "['f', 'AP_Phrases_f_18.png', 7]\n",
      "['g', 'AF_Phrases_g_19.png', 7]\n",
      "['g', 'AP_Phrases_g_18.png', 7]\n",
      "['h', 'AC1_Phrases_h_15.png', 7]\n",
      "['h', 'AF_Phrases_h_19.png', 7]\n",
      "['h', 'AL_Phrases_h_16.png', 7]\n",
      "['h', 'AP_Phrases_h_18.png', 7]\n",
      "['h', 'ML_Phrases_h_13.png', 7]\n",
      "['i', 'AF_Phrases_i_19.png', 7]\n",
      "['i', 'AP_Phrases_i_18.png', 1]\n",
      "['i', 'MC_Phrases_i_14.png', 2]\n",
      "['i', 'ML_Phrases_i_13.png', 7]\n",
      "['j', 'AF_Phrases_j_19.png', 7]\n",
      "['j', 'AP_Phrases_j_18.png', 1]\n"
     ]
    }
   ],
   "source": [
    "for item in directory_array:\n",
    "    print(item)"
   ],
   "metadata": {
    "collapsed": false,
    "pycharm": {
     "name": "#%%\n"
    }
   }
  },
  {
   "cell_type": "code",
   "execution_count": 5,
   "outputs": [
    {
     "name": "stdout",
     "output_type": "stream",
     "text": [
      "[0, 0, 3, 0, 0, 0, 1, 7, 1, 1, 1, 3, 2, 2, 7, 7, 7, 7, 4, 4, 7, 7, 7, 7, 7, 7, 7, 7, 7, 7, 1, 2, 7, 7, 1]\n"
     ]
    }
   ],
   "source": [
    "print(prediction_array)"
   ],
   "metadata": {
    "collapsed": false,
    "pycharm": {
     "name": "#%%\n"
    }
   }
  },
  {
   "cell_type": "code",
   "execution_count": 6,
   "outputs": [
    {
     "name": "stdout",
     "output_type": "stream",
     "text": [
      "['a', 'AP_Word_a_18.png', 3]\n",
      "['a', 'RC_Word_a_20.png', 7]\n",
      "['b', 'AF_Word_b_19.png', 7]\n",
      "['b', 'AP_Word_b_18.png', 1]\n",
      "['c', 'AF_Word_c_19.png', 3]\n",
      "['c', 'AP_Word_c_18.png', 2]\n",
      "['c', 'RC_Word_c_20.png', 2]\n",
      "['d', 'AF_Word_d_19.png', 7]\n",
      "['d', 'AP_Word_d_18.png', 7]\n",
      "['d', 'RC_Word_d_20.png', 3]\n",
      "['e', 'AF_Word_e_19.png', 7]\n",
      "['e', 'AP_Word_e_18.png', 7]\n",
      "['e', 'RC_Word_e_20.png', 3]\n",
      "['f', 'AF_Phrases_f_19.png', 7]\n",
      "['f', 'AP_Phrases_f_18.png', 7]\n",
      "['f', 'RC_Phrases_f_20.png', 7]\n",
      "['g', 'AF_Phrases_g_19.png', 7]\n",
      "['g', 'AP_Phrases_g_18.png', 7]\n",
      "['g', 'RC_Phrases_g_20.png', 3]\n",
      "['h', 'AF_Phrases_h_19.png', 7]\n",
      "['h', 'AP_Phrases_h_18.png', 7]\n",
      "['h', 'RC_Phrases_h_20.png', 7]\n",
      "['i', 'AF_Phrases_i_19.png', 7]\n",
      "['i', 'AP_Phrases_i_18.png', 1]\n",
      "['i', 'RC_Phrases_i_20.png', 3]\n",
      "['j', 'AF_Phrases_j_19.png', 7]\n",
      "['j', 'AP_Phrases_j_18.png', 1]\n",
      "['j', 'RC_Phrases_j_20.png', 3]\n"
     ]
    }
   ],
   "source": [
    "for item in directory_array:\n",
    "    if item[1].startswith('AP') or item[1].startswith('RC') or item[1].startswith('AF'):\n",
    "        print(item)"
   ],
   "metadata": {
    "collapsed": false,
    "pycharm": {
     "name": "#%%\n"
    }
   }
  },
  {
   "cell_type": "code",
   "execution_count": 6,
   "outputs": [
    {
     "name": "stdout",
     "output_type": "stream",
     "text": [
      "['a', 'a', 'a', 'a', 'a', 'a', 'b', 'b', 'b', 'b', 'b', 'c', 'c', 'c', 'd', 'd', 'e', 'e', 'e', 'e', 'f', 'f', 'g', 'g', 'h', 'h', 'h', 'h', 'h', 'i', 'i', 'i', 'i', 'j', 'j']\n"
     ]
    }
   ],
   "source": [
    "label_array=[]\n",
    "for item in directory_array:\n",
    "    label_array.append(item[0])\n",
    "print(label_array)"
   ],
   "metadata": {
    "collapsed": false,
    "pycharm": {
     "name": "#%%\n"
    }
   }
  },
  {
   "cell_type": "code",
   "execution_count": 7,
   "outputs": [
    {
     "name": "stdout",
     "output_type": "stream",
     "text": [
      "[0, 0, 0, 0, 0, 0, 1, 1, 1, 1, 1, 2, 2, 2, 3, 3, 4, 4, 4, 4, 5, 5, 6, 6, 7, 7, 7, 7, 7, 8, 8, 8, 8, 9, 9]\n"
     ]
    }
   ],
   "source": [
    "converted_label=[]\n",
    "for letter in label_array:\n",
    "  number = ord(letter) - 96 - 1\n",
    "  converted_label.append(number)\n",
    "print(converted_label)"
   ],
   "metadata": {
    "collapsed": false,
    "pycharm": {
     "name": "#%%\n"
    }
   }
  },
  {
   "cell_type": "code",
   "execution_count": 8,
   "outputs": [
    {
     "data": {
      "text/plain": "0.5142857142857142"
     },
     "execution_count": 8,
     "metadata": {},
     "output_type": "execute_result"
    }
   ],
   "source": [
    "\n",
    "from sklearn.metrics import accuracy_score\n",
    "accuracy_score(converted_label, prediction_array)"
   ],
   "metadata": {
    "collapsed": false,
    "pycharm": {
     "name": "#%%\n"
    }
   }
  },
  {
   "cell_type": "code",
   "execution_count": 9,
   "outputs": [],
   "source": [],
   "metadata": {
    "collapsed": false,
    "pycharm": {
     "name": "#%%\n"
    }
   }
  }
 ],
 "metadata": {
  "kernelspec": {
   "display_name": "Python 3",
   "language": "python",
   "name": "python3"
  },
  "language_info": {
   "codemirror_mode": {
    "name": "ipython",
    "version": 2
   },
   "file_extension": ".py",
   "mimetype": "text/x-python",
   "name": "python",
   "nbconvert_exporter": "python",
   "pygments_lexer": "ipython2",
   "version": "2.7.6"
  }
 },
 "nbformat": 4,
 "nbformat_minor": 0
}