{
 "cells": [
  {
   "cell_type": "code",
   "execution_count": 7,
   "metadata": {
    "collapsed": true
   },
   "outputs": [],
   "source": [
    "import os\n",
    "os.chdir('..\\DatasetITANoBeard')"
   ]
  },
  {
   "cell_type": "code",
   "execution_count": 8,
   "outputs": [],
   "source": [
    "from skimage.io import imread, imsave\n",
    "from skimage.transform import resize\n",
    "from skimage.feature import hog\n",
    "from skimage import exposure\n",
    "import matplotlib.pyplot as plt\n",
    "\n",
    "for l in os.listdir():\n",
    "    os.chdir(l)\n",
    "    for k in os.listdir():\n",
    "        os.chdir(k)\n",
    "        for image in os.listdir():\n",
    "            # reading the image\n",
    "            x=image[0:2]\n",
    "            #plt.axis(\"off\")\n",
    "            #plt.imshow(img)\n",
    "            #print(img.shape)\n",
    "            if x == 'AR' or x=='BS'or x=='CF' or x=='DS' or x=='IB' or x=='MA' or x=='PC' or x=='SS' or x=='RC':\n",
    "            #creating hog features\n",
    "                 os.remove(image)\n",
    "\n",
    "        os.chdir('..')\n",
    "    os.chdir('..')"
   ],
   "metadata": {
    "collapsed": false,
    "pycharm": {
     "name": "#%%\n"
    }
   }
  },
  {
   "cell_type": "code",
   "execution_count": 8,
   "outputs": [],
   "source": [],
   "metadata": {
    "collapsed": false,
    "pycharm": {
     "name": "#%%\n"
    }
   }
  }
 ],
 "metadata": {
  "kernelspec": {
   "display_name": "Python 3",
   "language": "python",
   "name": "python3"
  },
  "language_info": {
   "codemirror_mode": {
    "name": "ipython",
    "version": 2
   },
   "file_extension": ".py",
   "mimetype": "text/x-python",
   "name": "python",
   "nbconvert_exporter": "python",
   "pygments_lexer": "ipython2",
   "version": "2.7.6"
  }
 },
 "nbformat": 4,
 "nbformat_minor": 0
}