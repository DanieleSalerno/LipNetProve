{
 "cells": [
  {
   "cell_type": "code",
   "execution_count": 1,
   "metadata": {},
   "outputs": [
    {
     "name": "stdout",
     "output_type": "stream",
     "text": [
      "Model: \"sequential\"\n",
      "_________________________________________________________________\n",
      " Layer (type)                Output Shape              Param #   \n",
      "=================================================================\n",
      " convo1 (Conv2D)             (None, 112, 112, 32)      160       \n",
      "                                                                 \n",
      " convo2 (Conv2D)             (None, 110, 110, 64)      18496     \n",
      "                                                                 \n",
      " max_pooling2d (MaxPooling2D  (None, 55, 55, 64)       0         \n",
      " )                                                               \n",
      "                                                                 \n",
      " convo3 (Conv2D)             (None, 53, 53, 64)        36928     \n",
      "                                                                 \n",
      " max_pooling2d_1 (MaxPooling  (None, 26, 26, 64)       0         \n",
      " 2D)                                                             \n",
      "                                                                 \n",
      " flatten (Flatten)           (None, 43264)             0         \n",
      "                                                                 \n",
      " batch_normalization (BatchN  (None, 43264)            173056    \n",
      " ormalization)                                                   \n",
      "                                                                 \n",
      " dropout (Dropout)           (None, 43264)             0         \n",
      "                                                                 \n",
      " dense (Dense)               (None, 1024)              44303360  \n",
      "                                                                 \n",
      " batch_normalization_1 (Batc  (None, 1024)             4096      \n",
      " hNormalization)                                                 \n",
      "                                                                 \n",
      " dropout_1 (Dropout)         (None, 1024)              0         \n",
      "                                                                 \n",
      " dense_1 (Dense)             (None, 10)                10250     \n",
      "                                                                 \n",
      "=================================================================\n",
      "Total params: 44,546,346\n",
      "Trainable params: 44,457,770\n",
      "Non-trainable params: 88,576\n",
      "_________________________________________________________________\n"
     ]
    }
   ],
   "source": [
    "import os\n",
    "import numpy as np\n",
    "import pandas as pd\n",
    "import tensorflow\n",
    "from keras.models import Sequential # To initialise the nn as a sequence of layers\n",
    "from keras.layers import Convolution2D # To make the convolution layer for 2D images\n",
    "from keras.layers import MaxPooling2D # \n",
    "from keras.layers import Flatten\n",
    "from keras.layers import Dense\n",
    "from keras.layers import Dropout\n",
    "from keras.callbacks import CSVLogger\n",
    "from tensorflow.keras.optimizers import RMSprop\n",
    "from keras.layers import BatchNormalization\n",
    "from tensorflow.keras.optimizers import Adam\n",
    "from tensorflow import data\n",
    "from keras.models import load_model\n",
    "from keras.callbacks import ModelCheckpoint\n",
    "from tensorflow import repeat as rp\n",
    "\n",
    "csv=CSVLogger(\"2_adam.log\")\n",
    "#filepath=\"weights-improvement-{epoch:02d}-{val_acc:.2f}.hdf5\"\n",
    "#checkpoint = ModelCheckpoint(filepath, monitor='val_acc', verbose=1, save_best_only=True, mode='max')\n",
    "\n",
    "\n",
    "# Initialising the CNN\n",
    "classifier = Sequential()\n",
    "\n",
    "# Step 1 - Convolution\n",
    "classifier.add(Convolution2D(32,(2,2),input_shape = (224,224,1), activation = 'relu',strides=2,name='convo1'))\n",
    "classifier.add(Convolution2D(64,(3,3), activation = 'relu',name='convo2'))\n",
    "# Step 1 - Pooling\n",
    "classifier.add(MaxPooling2D(pool_size = (2,2)))\n",
    "\n",
    "# Step 2 - Convolution\n",
    "classifier.add(Convolution2D(64,(3,3),activation = 'relu',name='convo3'))\n",
    "# Step 2 - Pooling\n",
    "classifier.add(MaxPooling2D(pool_size = (2,2)))\n",
    "# Step 3 - Convolution\n",
    "#classifier.add(Convolution2D(64,(3,3),activation = 'relu',name='convo4'))\n",
    "# Step 3 - Pooling\n",
    "#classifier.add(MaxPooling2D(pool_size = (2,2)))\n",
    "#Step 4 - Flattening\n",
    "\n",
    "classifier.add(Flatten())\n",
    "\n",
    "classifier.add(BatchNormalization())\n",
    "classifier.add(Dropout((0.5)))\n",
    "classifier.add(Dense(1024, activation = 'relu'))\n",
    "\n",
    "'''classifier.add(BatchNormalization())\n",
    "classifier.add(Dropout((0.5)))\n",
    "classifier.add(Dense(512, activation = 'relu'))\n",
    "'''\n",
    "\n",
    "classifier.add(BatchNormalization())\n",
    "classifier.add(Dropout((0.4)))\n",
    "classifier.add(Dense(10, activation = 'softmax'))\n",
    "\n",
    "classifier.summary()"
   ]
  },
  {
   "cell_type": "code",
   "execution_count": 2,
   "metadata": {},
   "outputs": [
    {
     "name": "stdout",
     "output_type": "stream",
     "text": [
      "Found 608 images belonging to 10 classes.\n",
      "Found 69 images belonging to 10 classes.\n"
     ]
    },
    {
     "data": {
      "text/plain": "[]"
     },
     "execution_count": 2,
     "metadata": {},
     "output_type": "execute_result"
    }
   ],
   "source": [
    "import matplotlib.pyplot as plt\n",
    "adam = Adam(epsilon = 0.01)\n",
    "classifier.compile(optimizer = adam, loss = 'categorical_crossentropy', metrics = ['accuracy'])\n",
    "\n",
    "from keras.preprocessing.image import ImageDataGenerator\n",
    "\n",
    "train_datagen = ImageDataGenerator(rescale=1./255)\n",
    "\n",
    "test_datagen = ImageDataGenerator(rescale=1./255)\n",
    "\n",
    "curr_path = os.getcwd()\n",
    "basefolder = os.path.dirname(curr_path)\n",
    "train_folder = os.path.join(basefolder, \"DatasetITA/Train\")\n",
    "test_folder = os.path.join(basefolder, \"DatasetITA/Test\")\n",
    "train_set=tensorflow.data\n",
    "train_set = train_datagen.flow_from_directory(train_folder,target_size=(224, 224),batch_size=32,class_mode='categorical',color_mode='grayscale')\n",
    "\n",
    "\n",
    "test_set = test_datagen.flow_from_directory(test_folder,target_size=(224, 224),batch_size=32,class_mode='categorical',color_mode='grayscale')\n",
    "classifier.metrics_names\n",
    "\n",
    "\n"
   ]
  },
  {
   "cell_type": "code",
   "execution_count": 3,
   "outputs": [],
   "source": [
    "#nb_conda_kernels"
   ],
   "metadata": {
    "collapsed": false,
    "pycharm": {
     "name": "#%%\n"
    }
   }
  },
  {
   "cell_type": "code",
   "execution_count": 4,
   "metadata": {},
   "outputs": [
    {
     "name": "stdout",
     "output_type": "stream",
     "text": [
      "Epoch 1/50\n",
      "19/19 [==============================] - 13s 660ms/step - loss: 3.2644 - accuracy: 0.0872 - val_loss: 2.3051 - val_accuracy: 0.0870\n",
      "Epoch 2/50\n",
      "19/19 [==============================] - 12s 634ms/step - loss: 2.5669 - accuracy: 0.1859 - val_loss: 2.3183 - val_accuracy: 0.0725\n",
      "Epoch 3/50\n",
      "19/19 [==============================] - 12s 638ms/step - loss: 2.4020 - accuracy: 0.2533 - val_loss: 2.2784 - val_accuracy: 0.2174\n",
      "Epoch 4/50\n",
      "19/19 [==============================] - 12s 639ms/step - loss: 1.8463 - accuracy: 0.4112 - val_loss: 2.2838 - val_accuracy: 0.1159\n",
      "Epoch 5/50\n",
      "19/19 [==============================] - 12s 636ms/step - loss: 1.4361 - accuracy: 0.5428 - val_loss: 2.2227 - val_accuracy: 0.2174\n",
      "Epoch 6/50\n",
      "19/19 [==============================] - 12s 638ms/step - loss: 0.9941 - accuracy: 0.6809 - val_loss: 2.2215 - val_accuracy: 0.2464\n",
      "Epoch 7/50\n",
      "19/19 [==============================] - 12s 644ms/step - loss: 0.7655 - accuracy: 0.7451 - val_loss: 2.1923 - val_accuracy: 0.1739\n",
      "Epoch 8/50\n",
      "19/19 [==============================] - 12s 636ms/step - loss: 0.5110 - accuracy: 0.8421 - val_loss: 2.1269 - val_accuracy: 0.3768\n",
      "Epoch 9/50\n",
      "19/19 [==============================] - 12s 637ms/step - loss: 0.3515 - accuracy: 0.8964 - val_loss: 2.1645 - val_accuracy: 0.1449\n",
      "Epoch 10/50\n",
      "19/19 [==============================] - 12s 634ms/step - loss: 0.2438 - accuracy: 0.9309 - val_loss: 2.0891 - val_accuracy: 0.2464\n",
      "Epoch 11/50\n",
      "19/19 [==============================] - 12s 643ms/step - loss: 0.1887 - accuracy: 0.9457 - val_loss: 2.0189 - val_accuracy: 0.4348\n",
      "Epoch 12/50\n",
      "19/19 [==============================] - 12s 639ms/step - loss: 0.1551 - accuracy: 0.9572 - val_loss: 1.9139 - val_accuracy: 0.5797\n",
      "Epoch 13/50\n",
      "19/19 [==============================] - 12s 637ms/step - loss: 0.1000 - accuracy: 0.9737 - val_loss: 1.8631 - val_accuracy: 0.6522\n",
      "Epoch 14/50\n",
      "19/19 [==============================] - 12s 634ms/step - loss: 0.0596 - accuracy: 0.9852 - val_loss: 1.8133 - val_accuracy: 0.5217\n",
      "Epoch 15/50\n",
      "19/19 [==============================] - 12s 634ms/step - loss: 0.0353 - accuracy: 0.9967 - val_loss: 1.7443 - val_accuracy: 0.5797\n",
      "Epoch 16/50\n",
      "19/19 [==============================] - 12s 635ms/step - loss: 0.0297 - accuracy: 0.9967 - val_loss: 1.6804 - val_accuracy: 0.6522\n",
      "Epoch 17/50\n",
      "19/19 [==============================] - 12s 635ms/step - loss: 0.0245 - accuracy: 0.9967 - val_loss: 1.6201 - val_accuracy: 0.6522\n",
      "Epoch 18/50\n",
      "19/19 [==============================] - 12s 640ms/step - loss: 0.0211 - accuracy: 0.9967 - val_loss: 1.6013 - val_accuracy: 0.5652\n",
      "Epoch 19/50\n",
      "19/19 [==============================] - 12s 644ms/step - loss: 0.0171 - accuracy: 1.0000 - val_loss: 1.3899 - val_accuracy: 0.6957\n",
      "Epoch 20/50\n",
      "19/19 [==============================] - 12s 639ms/step - loss: 0.0182 - accuracy: 0.9967 - val_loss: 1.3167 - val_accuracy: 0.6957\n",
      "Epoch 21/50\n",
      "19/19 [==============================] - 12s 635ms/step - loss: 0.0086 - accuracy: 1.0000 - val_loss: 1.2556 - val_accuracy: 0.7101\n",
      "Epoch 22/50\n",
      "19/19 [==============================] - 12s 635ms/step - loss: 0.0106 - accuracy: 0.9984 - val_loss: 1.1435 - val_accuracy: 0.6957\n",
      "Epoch 23/50\n",
      "19/19 [==============================] - 12s 641ms/step - loss: 0.0112 - accuracy: 1.0000 - val_loss: 1.1247 - val_accuracy: 0.7101\n",
      "Epoch 24/50\n",
      "19/19 [==============================] - 12s 638ms/step - loss: 0.0061 - accuracy: 1.0000 - val_loss: 1.0531 - val_accuracy: 0.7391\n",
      "Epoch 25/50\n",
      "19/19 [==============================] - 12s 639ms/step - loss: 0.0091 - accuracy: 0.9984 - val_loss: 0.9826 - val_accuracy: 0.7101\n",
      "Epoch 26/50\n",
      "19/19 [==============================] - 12s 639ms/step - loss: 0.0155 - accuracy: 0.9967 - val_loss: 0.9545 - val_accuracy: 0.6667\n",
      "Epoch 27/50\n",
      "19/19 [==============================] - 12s 637ms/step - loss: 0.0185 - accuracy: 0.9967 - val_loss: 1.2688 - val_accuracy: 0.6522\n",
      "Epoch 28/50\n",
      "19/19 [==============================] - 12s 638ms/step - loss: 0.0399 - accuracy: 0.9885 - val_loss: 1.0520 - val_accuracy: 0.7101\n",
      "Epoch 29/50\n",
      "19/19 [==============================] - 12s 637ms/step - loss: 0.0278 - accuracy: 0.9918 - val_loss: 1.0041 - val_accuracy: 0.6812\n",
      "Epoch 30/50\n",
      "19/19 [==============================] - 12s 640ms/step - loss: 0.0211 - accuracy: 0.9967 - val_loss: 0.9975 - val_accuracy: 0.7101\n",
      "Epoch 31/50\n",
      "19/19 [==============================] - 12s 640ms/step - loss: 0.0206 - accuracy: 0.9951 - val_loss: 1.1983 - val_accuracy: 0.6667\n",
      "Epoch 32/50\n",
      "19/19 [==============================] - 12s 642ms/step - loss: 0.0129 - accuracy: 0.9984 - val_loss: 1.3120 - val_accuracy: 0.6377\n",
      "Epoch 33/50\n",
      "19/19 [==============================] - 12s 640ms/step - loss: 0.0108 - accuracy: 1.0000 - val_loss: 1.1796 - val_accuracy: 0.6957\n",
      "Epoch 34/50\n",
      "19/19 [==============================] - 12s 642ms/step - loss: 0.0044 - accuracy: 1.0000 - val_loss: 1.1636 - val_accuracy: 0.6522\n",
      "Epoch 35/50\n",
      "19/19 [==============================] - 12s 635ms/step - loss: 0.0035 - accuracy: 1.0000 - val_loss: 1.2032 - val_accuracy: 0.6812\n",
      "Epoch 36/50\n",
      "19/19 [==============================] - 12s 638ms/step - loss: 0.0016 - accuracy: 1.0000 - val_loss: 1.2257 - val_accuracy: 0.6812\n",
      "Epoch 37/50\n",
      "19/19 [==============================] - 12s 635ms/step - loss: 0.0018 - accuracy: 1.0000 - val_loss: 1.2807 - val_accuracy: 0.6522\n",
      "Epoch 38/50\n",
      "19/19 [==============================] - 12s 635ms/step - loss: 0.0016 - accuracy: 1.0000 - val_loss: 1.2696 - val_accuracy: 0.6812\n",
      "Epoch 39/50\n",
      "19/19 [==============================] - 12s 636ms/step - loss: 0.0051 - accuracy: 0.9984 - val_loss: 1.3658 - val_accuracy: 0.6957\n",
      "Epoch 40/50\n",
      "19/19 [==============================] - 12s 635ms/step - loss: 0.0026 - accuracy: 1.0000 - val_loss: 1.4662 - val_accuracy: 0.7101\n",
      "Epoch 41/50\n",
      "19/19 [==============================] - 12s 639ms/step - loss: 0.0015 - accuracy: 1.0000 - val_loss: 1.5267 - val_accuracy: 0.6957\n",
      "Epoch 42/50\n",
      "19/19 [==============================] - 12s 637ms/step - loss: 0.0023 - accuracy: 1.0000 - val_loss: 1.5687 - val_accuracy: 0.6957\n",
      "Epoch 43/50\n",
      "19/19 [==============================] - 12s 638ms/step - loss: 0.0016 - accuracy: 1.0000 - val_loss: 1.4856 - val_accuracy: 0.6667\n",
      "Epoch 44/50\n",
      "19/19 [==============================] - 12s 642ms/step - loss: 0.0014 - accuracy: 1.0000 - val_loss: 1.5198 - val_accuracy: 0.6667\n",
      "Epoch 45/50\n",
      "19/19 [==============================] - 12s 642ms/step - loss: 0.0019 - accuracy: 1.0000 - val_loss: 1.5531 - val_accuracy: 0.6957\n",
      "Epoch 46/50\n",
      "19/19 [==============================] - 12s 639ms/step - loss: 0.0014 - accuracy: 1.0000 - val_loss: 1.5136 - val_accuracy: 0.6812\n",
      "Epoch 47/50\n",
      "19/19 [==============================] - 12s 634ms/step - loss: 0.0020 - accuracy: 1.0000 - val_loss: 1.5429 - val_accuracy: 0.6812\n",
      "Epoch 48/50\n",
      "19/19 [==============================] - 12s 645ms/step - loss: 9.5101e-04 - accuracy: 1.0000 - val_loss: 1.5758 - val_accuracy: 0.6957\n",
      "Epoch 49/50\n",
      "19/19 [==============================] - 12s 636ms/step - loss: 7.9149e-04 - accuracy: 1.0000 - val_loss: 1.5908 - val_accuracy: 0.6812\n",
      "Epoch 50/50\n",
      "19/19 [==============================] - 12s 641ms/step - loss: 0.0011 - accuracy: 1.0000 - val_loss: 1.6636 - val_accuracy: 0.6812\n"
     ]
    }
   ],
   "source": [
    "history = classifier.fit(train_set,steps_per_epoch=train_set.n/32,epochs=50,validation_data=test_set,validation_steps=test_set.n/32,callbacks=[csv],verbose=1)"
   ]
  },
  {
   "cell_type": "code",
   "execution_count": 5,
   "outputs": [],
   "source": [
    "classifier.save('2_adam_prova.h5')\n"
   ],
   "metadata": {
    "collapsed": false,
    "pycharm": {
     "name": "#%%\n"
    }
   }
  },
  {
   "cell_type": "code",
   "execution_count": 6,
   "outputs": [
    {
     "data": {
      "text/plain": "<Figure size 432x288 with 1 Axes>",
      "image/png": "[encoded data removed]"
     },
     "metadata": {
      "needs_background": "light"
     },
     "output_type": "display_data"
    }
   ],
   "source": [
    "import matplotlib.pyplot as plt\n",
    "plt.plot(history.history['accuracy']) #validation\n",
    "plt.plot(history.history['val_accuracy']) #train\n",
    "plt.title('model accuracy')\n",
    "plt.ylabel('accuracy')\n",
    "plt.xlabel('epoch')\n",
    "plt.legend(['train', 'validation'], loc='upper left')\n",
    "plt.show()"
   ],
   "metadata": {
    "collapsed": false,
    "pycharm": {
     "name": "#%%\n"
    }
   }
  },
  {
   "cell_type": "code",
   "execution_count": 6,
   "outputs": [],
   "source": [],
   "metadata": {
    "collapsed": false,
    "pycharm": {
     "name": "#%%\n"
    }
   }
  }
 ],
 "metadata": {
  "kernelspec": {
   "name": "python3",
   "language": "python",
   "display_name": "Python 3 (ipykernel)"
  },
  "language_info": {
   "codemirror_mode": {
    "name": "ipython",
    "version": 3
   },
   "file_extension": ".py",
   "mimetype": "text/x-python",
   "name": "python",
   "nbconvert_exporter": "python",
   "pygments_lexer": "ipython3",
   "version": "3.6.4"
  }
 },
 "nbformat": 4,
 "nbformat_minor": 2
}