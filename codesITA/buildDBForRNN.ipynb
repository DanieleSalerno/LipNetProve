{
 "cells": [
  {
   "cell_type": "code",
   "execution_count": 1,
   "outputs": [
    {
     "data": {
      "text/plain": "'C:\\\\Users\\\\Daniele\\\\PycharmProjects\\\\LipNetProve\\\\codesITA'"
     },
     "execution_count": 1,
     "metadata": {},
     "output_type": "execute_result"
    }
   ],
   "source": [
    "import os\n",
    "os.getcwd()\n"
   ],
   "metadata": {
    "collapsed": false,
    "pycharm": {
     "name": "#%%\n"
    }
   }
  },
  {
   "cell_type": "code",
   "execution_count": 2,
   "metadata": {
    "collapsed": true
   },
   "outputs": [
    {
     "data": {
      "text/plain": "'C:\\\\Users\\\\Daniele\\\\PycharmProjects\\\\LipNetProve\\\\DatasetITA-RatioWithRNN\\\\Test_Prediction'"
     },
     "execution_count": 2,
     "metadata": {},
     "output_type": "execute_result"
    }
   ],
   "source": [
    "import os\n",
    "from PIL import ImageEnhance\n",
    "from PIL import Image\n",
    "from matplotlib import pyplot as plt\n",
    "#change test and train when u need\n",
    "os.chdir('..\\DatasetITA-RatioWithRNN\\Test_Prediction')\n",
    "os.getcwd()"
   ]
  },
  {
   "cell_type": "code",
   "execution_count": 3,
   "outputs": [
    {
     "name": "stdout",
     "output_type": "stream",
     "text": [
      "C:\\Users\\Daniele\\PycharmProjects\\LipNetProve\\DatasetITA-RatioWithRNN\\Test_Prediction\\a\n",
      "C:\\Users\\Daniele\\PycharmProjects\\LipNetProve\\DatasetITA-RatioWithRNN\\Test_Prediction\\b\n",
      "C:\\Users\\Daniele\\PycharmProjects\\LipNetProve\\DatasetITA-RatioWithRNN\\Test_Prediction\\c\n",
      "C:\\Users\\Daniele\\PycharmProjects\\LipNetProve\\DatasetITA-RatioWithRNN\\Test_Prediction\\d\n",
      "C:\\Users\\Daniele\\PycharmProjects\\LipNetProve\\DatasetITA-RatioWithRNN\\Test_Prediction\\e\n",
      "C:\\Users\\Daniele\\PycharmProjects\\LipNetProve\\DatasetITA-RatioWithRNN\\Test_Prediction\\f\n",
      "C:\\Users\\Daniele\\PycharmProjects\\LipNetProve\\DatasetITA-RatioWithRNN\\Test_Prediction\\g\n",
      "C:\\Users\\Daniele\\PycharmProjects\\LipNetProve\\DatasetITA-RatioWithRNN\\Test_Prediction\\h\n",
      "C:\\Users\\Daniele\\PycharmProjects\\LipNetProve\\DatasetITA-RatioWithRNN\\Test_Prediction\\i\n",
      "C:\\Users\\Daniele\\PycharmProjects\\LipNetProve\\DatasetITA-RatioWithRNN\\Test_Prediction\\j\n"
     ]
    }
   ],
   "source": [
    "import cv2\n",
    "import shutil\n",
    "for i in os.listdir():\n",
    "    if '.DS_Store' not in i:\n",
    "        os.chdir(i)\n",
    "        print(os.getcwd())\n",
    "        for k in os.listdir():\n",
    "            if '.DS_Store' not in k:\n",
    "                if '.DS_S_01.png' not in k:\n",
    "                    if '.ipynb_checkpoints' not in k:\n",
    "                        if os.path.isfile(k):\n",
    "                            dir=k[:-4]\n",
    "                            os.mkdir(dir)\n",
    "                            img=cv2.imread(k)\n",
    "                            img=cv2.resize(img, (224, 224))\n",
    "\n",
    "                            counter = 0\n",
    "                            for i in range (0,7):\n",
    "                                for j in range (0,7):\n",
    "                                    cropped = img[32*j:32*(j+1), 32* i:32*(i+1)]\n",
    "\n",
    "\n",
    "                                    cv2.imwrite(os.path.join(dir,\"frame%d.jpg\" % counter), cropped)\n",
    "                                    counter= counter +1\n",
    "\n",
    "        os.chdir('..')"
   ],
   "metadata": {
    "collapsed": false,
    "pycharm": {
     "name": "#%%\n"
    }
   }
  },
  {
   "cell_type": "code",
   "execution_count": 4,
   "outputs": [
    {
     "name": "stdout",
     "output_type": "stream",
     "text": [
      "C:\\Users\\Daniele\\PycharmProjects\\LipNetProve\\DatasetITA-RatioWithRNN\\Test_Prediction\\a\n",
      "C:\\Users\\Daniele\\PycharmProjects\\LipNetProve\\DatasetITA-RatioWithRNN\\Test_Prediction\\b\n",
      "C:\\Users\\Daniele\\PycharmProjects\\LipNetProve\\DatasetITA-RatioWithRNN\\Test_Prediction\\c\n",
      "C:\\Users\\Daniele\\PycharmProjects\\LipNetProve\\DatasetITA-RatioWithRNN\\Test_Prediction\\d\n",
      "C:\\Users\\Daniele\\PycharmProjects\\LipNetProve\\DatasetITA-RatioWithRNN\\Test_Prediction\\e\n",
      "C:\\Users\\Daniele\\PycharmProjects\\LipNetProve\\DatasetITA-RatioWithRNN\\Test_Prediction\\f\n",
      "C:\\Users\\Daniele\\PycharmProjects\\LipNetProve\\DatasetITA-RatioWithRNN\\Test_Prediction\\g\n",
      "C:\\Users\\Daniele\\PycharmProjects\\LipNetProve\\DatasetITA-RatioWithRNN\\Test_Prediction\\h\n",
      "C:\\Users\\Daniele\\PycharmProjects\\LipNetProve\\DatasetITA-RatioWithRNN\\Test_Prediction\\i\n",
      "C:\\Users\\Daniele\\PycharmProjects\\LipNetProve\\DatasetITA-RatioWithRNN\\Test_Prediction\\j\n"
     ]
    }
   ],
   "source": [
    "import cv2\n",
    "import shutil\n",
    "for i in os.listdir():\n",
    "    if '.DS_Store' not in i:\n",
    "        os.chdir(i)\n",
    "        print(os.getcwd())\n",
    "        for k in os.listdir():\n",
    "            if '.DS_Store' not in k:\n",
    "                if '.DS_S_01.png' not in k:\n",
    "                    if '.ipynb_checkpoints' not in k:\n",
    "                        if os.path.isfile(k):\n",
    "                            os.remove(k)\n",
    "\n",
    "        os.chdir('..')"
   ],
   "metadata": {
    "collapsed": false,
    "pycharm": {
     "name": "#%%\n"
    }
   }
  }
 ],
 "metadata": {
  "kernelspec": {
   "display_name": "Python 3",
   "language": "python",
   "name": "python3"
  },
  "language_info": {
   "codemirror_mode": {
    "name": "ipython",
    "version": 2
   },
   "file_extension": ".py",
   "mimetype": "text/x-python",
   "name": "python",
   "nbconvert_exporter": "python",
   "pygments_lexer": "ipython2",
   "version": "2.7.6"
  }
 },
 "nbformat": 4,
 "nbformat_minor": 0
}