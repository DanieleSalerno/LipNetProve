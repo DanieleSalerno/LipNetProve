{
 "cells": [
  {
   "cell_type": "code",
   "execution_count": 18,
   "outputs": [
    {
     "data": {
      "text/plain": "'C:\\\\Users\\\\Daniele\\\\PycharmProjects\\\\LipNetProve\\\\codesITA\\\\RATIO'"
     },
     "execution_count": 18,
     "metadata": {},
     "output_type": "execute_result"
    }
   ],
   "source": [
    "import os\n",
    "os.getcwd()"
   ],
   "metadata": {
    "collapsed": false,
    "pycharm": {
     "name": "#%%\n"
    }
   }
  },
  {
   "cell_type": "code",
   "execution_count": 19,
   "metadata": {
    "collapsed": true
   },
   "outputs": [],
   "source": [
    "\n",
    "from keras.models import load_model\n",
    "model = load_model('2_adam_100epR.h5', compile = False)\n",
    "model.compile(optimizer = 'adam', loss = 'categorical_crossentropy', metrics = ['accuracy'])"
   ]
  },
  {
   "cell_type": "code",
   "source": [
    "from keras.preprocessing.image import ImageDataGenerator\n",
    "import os\n",
    "import pandas as pd\n",
    "import numpy as np\n",
    "\n",
    "\n",
    "\n",
    "dev_datagen = ImageDataGenerator(rescale = 1./255)\n",
    "\n",
    "\n",
    "\n",
    "\n",
    "\n",
    "\n",
    "\n",
    "dev_set = dev_datagen.flow_from_directory('..\\..\\DatasetITA-Ratio-BS\\Test_Prediction',\n",
    "target_size = (224, 224), # the size of the images expected in my cnn model\n",
    "batch_size = 32,\n",
    "class_mode = 'binary')\n"
   ],
   "metadata": {
    "collapsed": false,
    "pycharm": {
     "name": "#%%\n"
    }
   },
   "execution_count": 21,
   "outputs": [
    {
     "name": "stdout",
     "output_type": "stream",
     "text": [
      "Found 40 images belonging to 10 classes.\n"
     ]
    }
   ]
  },
  {
   "cell_type": "code",
   "execution_count": 22,
   "outputs": [
    {
     "name": "stdout",
     "output_type": "stream",
     "text": [
      "[[4.6103005e-03 9.2972489e-04 7.2702947e-05 9.7485718e-06 7.5727987e-01\n",
      "  1.4258330e-02 2.1519789e-01 6.6618193e-03 2.9141895e-06 9.7675936e-04]]\n",
      "[[4.6103005e-03 9.2972489e-04 7.2702947e-05 9.7485718e-06 7.5727987e-01\n",
      "  1.4258330e-02 2.1519789e-01 6.6618193e-03 2.9141895e-06 9.7675936e-04]]\n",
      "[[1.1267209e-01 4.0656971e-03 7.0893082e-05 5.1400030e-04 7.5641400e-01\n",
      "  1.6132606e-02 9.6006498e-02 7.9448828e-03 1.5769170e-04 6.0216580e-03]]\n",
      "[[4.1402513e-03 2.6267166e-03 4.5356814e-05 1.4464055e-05 8.7268037e-01\n",
      "  4.5220055e-02 6.7676015e-02 6.8122814e-03 1.0338695e-06 7.8347320e-04]]\n",
      "[[1.9782819e-01 2.0328704e-03 5.3570599e-08 1.8194264e-04 7.9044837e-01\n",
      "  9.0226755e-03 4.1260725e-04 1.0774266e-06 5.2413274e-05 1.9818752e-05]]\n",
      "[[1.9782819e-01 2.0328704e-03 5.3570599e-08 1.8194264e-04 7.9044837e-01\n",
      "  9.0226755e-03 4.1260725e-04 1.0774266e-06 5.2413274e-05 1.9818752e-05]]\n",
      "[[4.1333851e-01 1.4033455e-02 1.6597440e-07 5.6786177e-04 5.6409860e-01\n",
      "  6.8765520e-03 7.9688878e-04 2.0168642e-05 2.5393721e-04 1.3810494e-05]]\n",
      "[[2.3022348e-02 2.0608601e-04 3.0786740e-10 5.5402556e-06 9.7440469e-01\n",
      "  2.3373947e-03 2.3039160e-05 1.1830256e-08 5.9213733e-07 3.6435185e-07]]\n",
      "[[7.8736732e-05 6.9633910e-07 1.0722270e-05 9.9968541e-01 1.9259003e-04\n",
      "  6.1853734e-06 2.0946169e-07 3.7261309e-06 2.1084919e-05 5.6126913e-07]]\n",
      "[[7.8736732e-05 6.9633910e-07 1.0722270e-05 9.9968541e-01 1.9259003e-04\n",
      "  6.1853734e-06 2.0946169e-07 3.7261309e-06 2.1084919e-05 5.6126913e-07]]\n",
      "[[8.6813286e-04 6.7849046e-06 8.0141246e-05 9.9803442e-01 4.2027410e-04\n",
      "  8.5748012e-05 7.0290031e-07 1.2351295e-04 3.7800023e-04 2.1981089e-06]]\n",
      "[[6.5351846e-06 2.8800738e-08 2.2548265e-07 9.9997389e-01 1.7658147e-05\n",
      "  4.5884065e-07 6.7415686e-09 1.0087074e-07 1.0633980e-06 1.6027913e-08]]\n",
      "[[5.3420943e-01 9.5859432e-04 1.5442899e-03 4.0670541e-01 2.3331417e-02\n",
      "  6.1600581e-03 4.9552595e-04 7.2636991e-03 1.6186441e-03 1.7713035e-02]]\n",
      "[[5.3420943e-01 9.5859432e-04 1.5442899e-03 4.0670541e-01 2.3331417e-02\n",
      "  6.1600581e-03 4.9552595e-04 7.2636991e-03 1.6186441e-03 1.7713035e-02]]\n",
      "[[3.28105003e-01 1.98781770e-03 2.76430137e-03 6.45316124e-01\n",
      "  1.61805598e-03 1.60697149e-03 9.76238880e-05 3.43847554e-03\n",
      "  2.67448253e-03 1.23911025e-02]]\n",
      "[[5.4085815e-01 1.1627260e-04 5.6486612e-04 4.4728506e-01 2.4265288e-03\n",
      "  1.5497811e-03 1.1348771e-05 3.3342806e-04 2.3064576e-04 6.6239648e-03]]\n",
      "[[1.0162364e-05 1.1744123e-05 4.6120849e-07 2.5034795e-04 9.9965763e-01\n",
      "  6.6108812e-05 2.4580012e-07 1.2934549e-07 2.8911099e-06 3.7040701e-07]]\n",
      "[[1.0162364e-05 1.1744123e-05 4.6120849e-07 2.5034795e-04 9.9965763e-01\n",
      "  6.6108812e-05 2.4580012e-07 1.2934549e-07 2.8911099e-06 3.7040701e-07]]\n",
      "[[5.0159666e-04 1.8188702e-04 3.3218694e-06 1.4115608e-03 9.9776959e-01\n",
      "  8.0047124e-05 1.3898190e-06 1.7762752e-06 4.7282469e-05 1.4563983e-06]]\n",
      "[[2.2864820e-06 8.4050578e-07 2.8765148e-09 2.9171391e-05 9.9996245e-01\n",
      "  5.1931488e-06 1.3203203e-08 6.3541221e-09 6.0203845e-08 6.0175456e-09]]\n",
      "[[4.21231758e-04 1.02613285e-05 3.36161210e-09 2.02896263e-05\n",
      "  9.98163044e-01 1.36240537e-03 1.18594544e-05 9.97581901e-06\n",
      "  4.30921034e-07 5.27087025e-07]]\n",
      "[[4.21231758e-04 1.02613285e-05 3.36161210e-09 2.02896263e-05\n",
      "  9.98163044e-01 1.36240537e-03 1.18594544e-05 9.97581901e-06\n",
      "  4.30921034e-07 5.27087025e-07]]\n",
      "[[1.8759611e-03 6.9161360e-05 1.8033431e-08 5.5748151e-05 9.9726945e-01\n",
      "  5.1932450e-04 1.3732555e-04 6.3206062e-05 8.7709623e-06 9.3152994e-07]]\n",
      "[[6.9704617e-04 3.3641293e-06 1.6347242e-10 8.1031185e-06 9.9776256e-01\n",
      "  1.5250152e-03 1.4915511e-06 2.2942527e-06 3.8855276e-08 1.3583842e-07]]\n",
      "[[3.0323732e-05 6.7500334e-04 2.3445518e-06 9.1026304e-06 9.8291641e-01\n",
      "  7.0859288e-04 1.5646812e-02 2.2069621e-06 8.7637291e-06 3.3451545e-07]]\n",
      "[[3.0323732e-05 6.7500334e-04 2.3445518e-06 9.1026304e-06 9.8291641e-01\n",
      "  7.0859288e-04 1.5646812e-02 2.2069621e-06 8.7637291e-06 3.3451545e-07]]\n",
      "[[9.4111566e-04 5.1117190e-03 2.8980772e-05 7.2700233e-05 9.3486428e-01\n",
      "  7.9458607e-03 5.0466157e-02 2.9000097e-05 5.3926365e-04 9.1568819e-07]]\n",
      "[[1.1157474e-05 4.7623704e-04 1.8564097e-07 2.8262216e-06 9.8634911e-01\n",
      "  2.4896808e-04 1.2909885e-02 2.2123443e-07 1.3824924e-06 6.4060913e-08]]\n",
      "[[5.2328962e-01 3.7798676e-01 1.5908820e-06 8.0103891e-05 9.5549561e-02\n",
      "  9.8902604e-04 1.6489475e-04 1.9164197e-03 2.0837502e-05 1.1365163e-06]]\n",
      "[[5.2328962e-01 3.7798676e-01 1.5908820e-06 8.0103891e-05 9.5549561e-02\n",
      "  9.8902604e-04 1.6489475e-04 1.9164197e-03 2.0837502e-05 1.1365163e-06]]\n",
      "[[6.0448140e-01 3.2260641e-01 2.3267357e-06 6.9081422e-04 5.4653849e-02\n",
      "  1.2930717e-03 1.6446887e-03 1.4488140e-02 1.2952408e-04 9.8734217e-06]]\n",
      "[[7.4379474e-01 2.2022574e-01 4.5606761e-08 1.1011432e-05 3.5255056e-02\n",
      "  4.1520008e-04 1.4654931e-05 2.8284767e-04 4.7620421e-07 1.3554758e-07]]\n",
      "[[1.7925981e-01 1.3371293e-01 3.5430113e-04 3.8542589e-07 4.4357174e-04\n",
      "  2.4154325e-04 8.7214226e-05 1.6485815e-03 6.8424630e-01 5.3539438e-06]]\n",
      "[[1.7925981e-01 1.3371293e-01 3.5430113e-04 3.8542589e-07 4.4357174e-04\n",
      "  2.4154325e-04 8.7214226e-05 1.6485815e-03 6.8424630e-01 5.3539438e-06]]\n",
      "[[1.6791286e-01 6.1834887e-02 1.9211971e-04 6.4653677e-06 2.2374697e-04\n",
      "  1.0116354e-04 8.0763362e-05 5.4176110e-03 7.6422429e-01 6.1164378e-06]]\n",
      "[[3.85854244e-01 1.20199256e-01 9.99584372e-05 1.28007073e-07\n",
      "  3.17215861e-04 1.25980398e-04 1.68534516e-05 1.00265862e-03\n",
      "  4.92382824e-01 9.26380324e-07]]\n",
      "[[2.1489637e-02 6.4345715e-03 6.0624182e-01 2.9067235e-04 9.0971433e-02\n",
      "  1.4178965e-03 5.0178200e-02 1.0145613e-03 2.2146650e-01 4.9470126e-04]]\n",
      "[[2.1489637e-02 6.4345715e-03 6.0624182e-01 2.9067235e-04 9.0971433e-02\n",
      "  1.4178965e-03 5.0178200e-02 1.0145613e-03 2.2146650e-01 4.9470126e-04]]\n",
      "[[0.06372743 0.01882179 0.2358324  0.00079147 0.02668709 0.00106178\n",
      "  0.04091793 0.00279503 0.60856366 0.00080137]]\n",
      "[[1.6976304e-02 7.0685353e-03 6.8552917e-01 2.3917826e-04 1.2372342e-01\n",
      "  6.2763121e-04 5.9022315e-02 4.1188271e-04 1.0622380e-01 1.7777270e-04]]\n"
     ]
    }
   ],
   "source": [
    "from keras.preprocessing.image import load_img\n",
    "from keras.preprocessing.image import img_to_array\n",
    "from tensorflow.keras.preprocessing import image\n",
    "import os\n",
    "directory_array=[]\n",
    "\n",
    "prediction_array = []\n",
    "true_label = []\n",
    "os.chdir('../../DatasetITA-Ratio-BS/Test_Prediction')\n",
    "for f in os.listdir():\n",
    "    os.chdir(f)\n",
    "    for l in os.listdir():\n",
    "        img = load_img(l, color_mode=\"grayscale\", target_size=(224, 224), interpolation=\"nearest\")\n",
    "        img_array = image.img_to_array(img)\n",
    "        img_array = img_array / 255.0\n",
    "        img_batch = np.expand_dims(img_array, axis=0)\n",
    "\n",
    "\n",
    "        prediction = model.predict(img_batch)\n",
    "        print(prediction)\n",
    "        prediction_class = np.argmax(prediction, axis=1)\n",
    "        #print(l)\n",
    "        true_label.append(f)\n",
    "        prediction_array.append(prediction_class[0])\n",
    "        class_names = [\"Buongiorno\", \"Automobili\", \"Regali\", \"Telefono\", \"Università\", \"Come stai\",\n",
    "                       \"Tutto bene\", \"Dobbiamo studiare\", \"Andiamo a casa\", \"Prendiamo un caffè\"]\n",
    "        #print(class_names[prediction_class[0]])\n",
    "        #print(prediction_class[0])\n",
    "        directory_array.append([f,l,prediction_class[0]])\n",
    "\n",
    "\n",
    "\n",
    "    os.chdir('..')"
   ],
   "metadata": {
    "collapsed": false,
    "pycharm": {
     "name": "#%%\n"
    }
   }
  },
  {
   "cell_type": "code",
   "execution_count": 23,
   "outputs": [
    {
     "name": "stdout",
     "output_type": "stream",
     "text": [
      "['a', 'BS_test_a.png', 4]\n",
      "['a', 'BS_test_a_01.png', 4]\n",
      "['a', 'BS_test_a_01_02.png', 4]\n",
      "['a', 'BS_test_a_01_03.png', 4]\n",
      "['b', 'BS_test_b.png', 4]\n",
      "['b', 'BS_test_b_01.png', 4]\n",
      "['b', 'BS_test_b_01_02.png', 4]\n",
      "['b', 'BS_test_b_01_03.png', 4]\n",
      "['c', 'BS_test_c.png', 3]\n",
      "['c', 'BS_test_c_01.png', 3]\n",
      "['c', 'BS_test_c_01_02.png', 3]\n",
      "['c', 'BS_test_c_01_03.png', 3]\n",
      "['d', 'BS_test_d.png', 0]\n",
      "['d', 'BS_test_d_01.png', 0]\n",
      "['d', 'BS_test_d_01_02.png', 3]\n",
      "['d', 'BS_test_d_01_03.png', 0]\n",
      "['e', 'BS_test_e.png', 4]\n",
      "['e', 'BS_test_e_01.png', 4]\n",
      "['e', 'BS_test_e_01_02.png', 4]\n",
      "['e', 'BS_test_e_01_03.png', 4]\n",
      "['f', 'BS_test_f.png', 4]\n",
      "['f', 'BS_test_f_01.png', 4]\n",
      "['f', 'BS_test_f_01_02.png', 4]\n",
      "['f', 'BS_test_f_01_03.png', 4]\n",
      "['g', 'BS_test_g.png', 4]\n",
      "['g', 'BS_test_g_01.png', 4]\n",
      "['g', 'BS_test_g_01_02.png', 4]\n",
      "['g', 'BS_test_g_01_03.png', 4]\n",
      "['h', 'BS_test_h.png', 0]\n",
      "['h', 'BS_test_h_01.png', 0]\n",
      "['h', 'BS_test_h_01_02.png', 0]\n",
      "['h', 'BS_test_h_01_03.png', 0]\n",
      "['i', 'BS_test_i.png', 8]\n",
      "['i', 'BS_test_i_01.png', 8]\n",
      "['i', 'BS_test_i_01_02.png', 8]\n",
      "['i', 'BS_test_i_01_03.png', 8]\n",
      "['j', 'BS_test_j.png', 2]\n",
      "['j', 'BS_test_j_01.png', 2]\n",
      "['j', 'BS_test_j_01_02.png', 8]\n",
      "['j', 'BS_test_j_01_03.png', 2]\n"
     ]
    }
   ],
   "source": [
    "for item in directory_array:\n",
    "    print(item)"
   ],
   "metadata": {
    "collapsed": false,
    "pycharm": {
     "name": "#%%\n"
    }
   }
  },
  {
   "cell_type": "code",
   "execution_count": 24,
   "outputs": [
    {
     "name": "stdout",
     "output_type": "stream",
     "text": [
      "[4, 4, 4, 4, 4, 4, 4, 4, 3, 3, 3, 3, 0, 0, 3, 0, 4, 4, 4, 4, 4, 4, 4, 4, 4, 4, 4, 4, 0, 0, 0, 0, 8, 8, 8, 8, 2, 2, 8, 2]\n"
     ]
    }
   ],
   "source": [
    "print(prediction_array)"
   ],
   "metadata": {
    "collapsed": false,
    "pycharm": {
     "name": "#%%\n"
    }
   }
  },
  {
   "cell_type": "code",
   "execution_count": 25,
   "outputs": [],
   "source": [
    "for item in directory_array:\n",
    "    if item[1].startswith('AP') or item[1].startswith('RC') or item[1].startswith('AF'):\n",
    "        print(item)"
   ],
   "metadata": {
    "collapsed": false,
    "pycharm": {
     "name": "#%%\n"
    }
   }
  },
  {
   "cell_type": "code",
   "execution_count": 26,
   "outputs": [
    {
     "name": "stdout",
     "output_type": "stream",
     "text": [
      "['a', 'a', 'a', 'a', 'b', 'b', 'b', 'b', 'c', 'c', 'c', 'c', 'd', 'd', 'd', 'd', 'e', 'e', 'e', 'e', 'f', 'f', 'f', 'f', 'g', 'g', 'g', 'g', 'h', 'h', 'h', 'h', 'i', 'i', 'i', 'i', 'j', 'j', 'j', 'j']\n"
     ]
    }
   ],
   "source": [
    "label_array=[]\n",
    "for item in directory_array:\n",
    "    label_array.append(item[0])\n",
    "print(label_array)"
   ],
   "metadata": {
    "collapsed": false,
    "pycharm": {
     "name": "#%%\n"
    }
   }
  },
  {
   "cell_type": "code",
   "execution_count": 27,
   "outputs": [
    {
     "name": "stdout",
     "output_type": "stream",
     "text": [
      "[0, 0, 0, 0, 1, 1, 1, 1, 2, 2, 2, 2, 3, 3, 3, 3, 4, 4, 4, 4, 5, 5, 5, 5, 6, 6, 6, 6, 7, 7, 7, 7, 8, 8, 8, 8, 9, 9, 9, 9]\n"
     ]
    }
   ],
   "source": [
    "converted_label=[]\n",
    "for letter in label_array:\n",
    "  number = ord(letter) - 96 - 1\n",
    "  converted_label.append(number)\n",
    "print(converted_label)"
   ],
   "metadata": {
    "collapsed": false,
    "pycharm": {
     "name": "#%%\n"
    }
   }
  },
  {
   "cell_type": "code",
   "execution_count": 28,
   "outputs": [
    {
     "data": {
      "text/plain": "0.225"
     },
     "execution_count": 28,
     "metadata": {},
     "output_type": "execute_result"
    }
   ],
   "source": [
    "\n",
    "from sklearn.metrics import accuracy_score\n",
    "accuracy_score(converted_label, prediction_array)"
   ],
   "metadata": {
    "collapsed": false,
    "pycharm": {
     "name": "#%%\n"
    }
   }
  },
  {
   "cell_type": "code",
   "execution_count": null,
   "outputs": [],
   "source": [
    "os.chdir('../../codesITA/RATIO')"
   ],
   "metadata": {
    "collapsed": false,
    "pycharm": {
     "name": "#%%\n"
    }
   }
  }
 ],
 "metadata": {
  "kernelspec": {
   "display_name": "Python 3",
   "language": "python",
   "name": "python3"
  },
  "language_info": {
   "codemirror_mode": {
    "name": "ipython",
    "version": 2
   },
   "file_extension": ".py",
   "mimetype": "text/x-python",
   "name": "python",
   "nbconvert_exporter": "python",
   "pygments_lexer": "ipython2",
   "version": "2.7.6"
  }
 },
 "nbformat": 4,
 "nbformat_minor": 0
}