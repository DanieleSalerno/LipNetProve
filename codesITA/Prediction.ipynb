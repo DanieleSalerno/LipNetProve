{
 "cells": [
  {
   "cell_type": "code",
   "execution_count": 1,
   "metadata": {
    "collapsed": true
   },
   "outputs": [],
   "source": [
    "from keras.models import load_model\n",
    "model = load_model('2_adam_DanRectangle2.h5', compile = False)\n",
    "model.compile(optimizer = 'adam', loss = 'categorical_crossentropy', metrics = ['accuracy'])"
   ]
  },
  {
   "cell_type": "code",
   "source": [
    "from keras.preprocessing.image import ImageDataGenerator\n",
    "import os\n",
    "import pandas as pd\n",
    "import numpy as np\n",
    "\n",
    "\n",
    "\n",
    "dev_datagen = ImageDataGenerator(rescale = 1./255)\n",
    "\n",
    "\n",
    "\n",
    "print(os.getcwd())\n",
    "os.chdir('..')\n",
    "print(os.getcwd())\n",
    "\n",
    "\n",
    "\n",
    "dev_set = dev_datagen.flow_from_directory('DatasetITA/Test',\n",
    "target_size = (224, 224), # the size of the images expected in my cnn model\n",
    "batch_size = 32,\n",
    "class_mode = 'binary')\n"
   ],
   "metadata": {
    "collapsed": false,
    "pycharm": {
     "name": "#%%\n"
    }
   },
   "execution_count": 2,
   "outputs": [
    {
     "name": "stdout",
     "output_type": "stream",
     "text": [
      "C:\\Users\\Daniele\\PycharmProjects\\LipNetProve\\codesITA\n",
      "C:\\Users\\Daniele\\PycharmProjects\\LipNetProve\n",
      "Found 41 images belonging to 10 classes.\n"
     ]
    }
   ]
  },
  {
   "cell_type": "code",
   "execution_count": 3,
   "outputs": [
    {
     "name": "stdout",
     "output_type": "stream",
     "text": [
      "[[0.86407423 0.0277502  0.00814306 0.00997091 0.0248245  0.00768229\n",
      "  0.02063616 0.0070907  0.01249334 0.01733464]]\n",
      "[[9.9570376e-01 6.1547302e-04 8.6544338e-04 1.7229748e-04 1.8724058e-04\n",
      "  4.6191941e-04 6.2916812e-04 3.3979194e-04 7.0027413e-04 3.2472116e-04]]\n",
      "[[0.87350154 0.01098497 0.01739281 0.00619613 0.01630215 0.00808074\n",
      "  0.02305643 0.00684689 0.01492345 0.02271496]]\n",
      "[[0.87118995 0.02398078 0.0111392  0.01564672 0.03049399 0.00780583\n",
      "  0.01160552 0.00603531 0.01365025 0.00845238]]\n",
      "[[0.83145785 0.03320608 0.01294889 0.01919489 0.02691743 0.00928177\n",
      "  0.027501   0.00492537 0.01724251 0.0173242 ]]\n",
      "[[0.89744955 0.0168348  0.01323119 0.00882121 0.01754816 0.00794683\n",
      "  0.01658125 0.00395853 0.00607948 0.01154898]]\n",
      "[[0.86231816 0.0344513  0.00621058 0.01212954 0.03870488 0.01132919\n",
      "  0.00732601 0.00624163 0.00385626 0.01743231]]\n",
      "[[0.8377935  0.02478492 0.01343382 0.0145734  0.01400178 0.01206625\n",
      "  0.00999156 0.01176953 0.02871506 0.03287015]]\n",
      "[[0.84242004 0.04885602 0.01288346 0.00823593 0.03257731 0.00892883\n",
      "  0.01018248 0.01298477 0.00634921 0.01658184]]\n",
      "[[0.77803624 0.06563012 0.01613989 0.01185056 0.04439685 0.00732449\n",
      "  0.01198959 0.01200982 0.02588383 0.02673847]]\n",
      "[[0.8924238  0.02762098 0.01277603 0.00884312 0.00872856 0.00596982\n",
      "  0.01482202 0.00495928 0.01673569 0.00712062]]\n",
      "[[0.8383184  0.03405552 0.01690044 0.00535814 0.02920879 0.00701983\n",
      "  0.01430209 0.00852089 0.01954033 0.02677565]]\n",
      "[[0.3330532  0.07115088 0.0394945  0.02023676 0.22495756 0.04752642\n",
      "  0.04036539 0.02279362 0.01915016 0.1812716 ]]\n",
      "[[0.01124    0.90840775 0.01242735 0.0025019  0.01567889 0.00750124\n",
      "  0.01546451 0.00594978 0.008693   0.01213557]]\n",
      "[[0.02054826 0.9143772  0.00658914 0.00690197 0.01766014 0.0031001\n",
      "  0.01138436 0.00581002 0.00381335 0.00981548]]\n",
      "[[0.02808462 0.88393486 0.00726183 0.00756772 0.02470479 0.00467882\n",
      "  0.01857966 0.00515073 0.00779921 0.01223784]]\n",
      "[[0.02294417 0.8932153  0.01509987 0.01242991 0.01000626 0.00565797\n",
      "  0.01046879 0.00761675 0.00747872 0.01508222]]\n",
      "[[0.02651035 0.8706591  0.01644315 0.00952928 0.03642378 0.00350123\n",
      "  0.00809608 0.00336294 0.0112146  0.0142594 ]]\n",
      "[[0.01405532 0.89375544 0.01499783 0.01153338 0.02061118 0.00705024\n",
      "  0.01158204 0.00396219 0.01247408 0.00997834]]\n",
      "[[0.00903388 0.9126401  0.01680803 0.00700346 0.02128207 0.00242851\n",
      "  0.01298619 0.00202475 0.00542727 0.01036563]]\n",
      "[[0.01493765 0.89083827 0.01691166 0.01273783 0.02365401 0.00475741\n",
      "  0.01236092 0.00359337 0.00414221 0.01606674]]\n",
      "[[0.01394888 0.01230902 0.90979445 0.01381312 0.01399601 0.00216611\n",
      "  0.0062658  0.00231482 0.01646887 0.00892286]]\n",
      "[[0.00820066 0.04315441 0.8427122  0.02372556 0.04541459 0.00305478\n",
      "  0.00645411 0.00126399 0.00774803 0.01827157]]\n",
      "[[0.03247669 0.0466434  0.00910408 0.7569921  0.07070754 0.02364797\n",
      "  0.01375979 0.00902378 0.01182972 0.02581493]]\n",
      "[[0.01291302 0.03882018 0.01230268 0.01052509 0.8723274  0.01217591\n",
      "  0.01528631 0.00698338 0.01138913 0.00727691]]\n",
      "[[0.01940361 0.02880877 0.01668237 0.00802705 0.88977754 0.01065055\n",
      "  0.00801767 0.00727059 0.00434962 0.00701224]]\n",
      "[[0.02729096 0.4152119  0.08027145 0.0215424  0.06026698 0.01425784\n",
      "  0.14335634 0.05814761 0.03602789 0.14362666]]\n",
      "[[0.05055016 0.02713243 0.04737468 0.01311431 0.0518246  0.73918486\n",
      "  0.03066648 0.00480191 0.02200453 0.01334621]]\n",
      "[[0.0294267  0.04135537 0.02363051 0.01798876 0.04954151 0.01264458\n",
      "  0.7888408  0.00842186 0.00573027 0.0224197 ]]\n",
      "[[0.05828916 0.2105005  0.08909227 0.05861307 0.36468896 0.0250639\n",
      "  0.07668003 0.03071071 0.0529118  0.03344968]]\n",
      "[[0.05006117 0.05197101 0.03380978 0.00936481 0.04428768 0.02639365\n",
      "  0.03988097 0.64213187 0.03444907 0.06765001]]\n",
      "[[0.01917944 0.05725056 0.02824207 0.01358607 0.04721561 0.01202788\n",
      "  0.01114792 0.7955597  0.00995536 0.00583539]]\n",
      "[[0.0079494  0.02364425 0.04492648 0.01870775 0.02380647 0.02747242\n",
      "  0.03008908 0.75504845 0.02417419 0.04418147]]\n",
      "[[0.04914401 0.06254371 0.01456757 0.0176403  0.08226342 0.03484074\n",
      "  0.02041724 0.6408807  0.04620193 0.03150036]]\n",
      "[[0.05682713 0.08712167 0.03286522 0.01533194 0.03608287 0.01123643\n",
      "  0.02320651 0.00923099 0.7019852  0.02611211]]\n",
      "[[0.04404499 0.02541978 0.02536005 0.01745098 0.01686719 0.01774527\n",
      "  0.02438793 0.01595366 0.7806967  0.0320734 ]]\n",
      "[[0.03073042 0.05029911 0.0258262  0.02076589 0.01577652 0.01113311\n",
      "  0.03070782 0.00943069 0.77769524 0.02763502]]\n",
      "[[0.05063273 0.04179666 0.01280914 0.01417477 0.01990255 0.01718462\n",
      "  0.02599204 0.01128474 0.7897204  0.01650236]]\n",
      "[[0.02701196 0.05346365 0.03534101 0.00874485 0.02572275 0.00623519\n",
      "  0.01693498 0.00693664 0.7841681  0.03544085]]\n",
      "[[0.07147433 0.07516376 0.020006   0.01427511 0.02783792 0.01277755\n",
      "  0.02047316 0.02169546 0.7023904  0.03390642]]\n",
      "[[0.04668752 0.03273952 0.02536372 0.02696541 0.03576716 0.01630018\n",
      "  0.03376757 0.01099849 0.03327685 0.73813355]]\n"
     ]
    }
   ],
   "source": [
    "from keras.preprocessing.image import load_img\n",
    "from keras.preprocessing.image import img_to_array\n",
    "from tensorflow.keras.preprocessing import image\n",
    "import os\n",
    "directory_array=[]\n",
    "\n",
    "prediction_array = []\n",
    "true_label = []\n",
    "os.chdir('DatasetITA/Test')\n",
    "for f in os.listdir():\n",
    "    os.chdir(f)\n",
    "    for l in os.listdir():\n",
    "        img = load_img(l, color_mode=\"grayscale\", target_size=(224, 224), interpolation=\"nearest\")\n",
    "        img_array = image.img_to_array(img)\n",
    "        img_array = img_array / 255.0\n",
    "        img_batch = np.expand_dims(img_array, axis=0)\n",
    "\n",
    "\n",
    "        prediction = model.predict(img_batch)\n",
    "        print(prediction)\n",
    "        prediction_class = np.argmax(prediction, axis=1)\n",
    "        #print(l)\n",
    "        true_label.append(f)\n",
    "        prediction_array.append(prediction_class[0])\n",
    "        class_names = [\"Buongiorno\", \"Automobili\", \"Regali\", \"Telefono\", \"Università\", \"Come stai\",\n",
    "                       \"Tutto bene\", \"Dobbiamo studiare\", \"Andiamo a casa\", \"Prendiamo un caffè\"]\n",
    "        #print(class_names[prediction_class[0]])\n",
    "        #print(prediction_class[0])\n",
    "        directory_array.append([f,l,prediction_class[0]])\n",
    "\n",
    "\n",
    "\n",
    "    os.chdir('..')"
   ],
   "metadata": {
    "collapsed": false,
    "pycharm": {
     "name": "#%%\n"
    }
   }
  },
  {
   "cell_type": "code",
   "execution_count": 4,
   "outputs": [
    {
     "name": "stdout",
     "output_type": "stream",
     "text": [
      "['a', 'AC_Word_a_08.png', 0]\n",
      "['a', 'AL_Word_a_16.png', 0]\n",
      "['a', 'AR_Word_a_07.png', 0]\n",
      "['a', 'AS_Word_a_09.png', 0]\n",
      "['a', 'BC_Word_a_01.png', 0]\n",
      "['a', 'BS_Word_a_02.png', 0]\n",
      "['a', 'CF_Word_a_12.png', 0]\n",
      "['a', 'DS_Word_a_05.png', 0]\n",
      "['a', 'DS_Word_a_10.png', 0]\n",
      "['a', 'IB_Word_a_17.png', 0]\n",
      "['a', 'MA_Word_a_03.png', 0]\n",
      "['a', 'MC_Word_a_14.png', 0]\n",
      "['a', 'TestBSa.png', 0]\n",
      "['b', 'AC_Word_b_08.png', 1]\n",
      "['b', 'CF_Word_b_12.png', 1]\n",
      "['b', 'DS_Word_b_05.png', 1]\n",
      "['b', 'DS_Word_b_10.png', 1]\n",
      "['b', 'IB_Word_b_17.png', 1]\n",
      "['b', 'MA_Word_b_03.png', 1]\n",
      "['b', 'MC_Word_b_14.png', 1]\n",
      "['b', 'ML_Word_b_13.png', 1]\n",
      "['c', 'BS_Word_c_02.png', 2]\n",
      "['c', 'MC_Word_c_14.png', 2]\n",
      "['d', 'AR_Word_d_07.png', 3]\n",
      "['e', 'AS_Word_e_09.png', 4]\n",
      "['e', 'ML_Word_e_13.png', 4]\n",
      "['f', 'f.png', 1]\n",
      "['f', 'PC_Phrases_f_04.png', 5]\n",
      "['g', 'DS_Phrases_g_10.png', 6]\n",
      "['g', 'g.png', 4]\n",
      "['h', 'AC1_Phrases_h_15.png', 7]\n",
      "['h', 'AL_Phrases_h_16.png', 7]\n",
      "['h', 'MA_Phrases_h_03.png', 7]\n",
      "['h', 'ML_Phrases_h_13.png', 7]\n",
      "['i', 'IB_Phrases_i_17.jpg', 8]\n",
      "['i', 'MA_Phrases_i_03.png', 8]\n",
      "['i', 'MC_Phrases_i_14.png', 8]\n",
      "['i', 'ML_Phrases_i_13.png', 8]\n",
      "['i', 'PC_Phrases_i_04.png', 8]\n",
      "['i', 'SS_Phrases_i_06.png', 8]\n",
      "['j', 'DS_Phrases_j_05.png', 9]\n"
     ]
    }
   ],
   "source": [
    "for item in directory_array:\n",
    "    print(item)"
   ],
   "metadata": {
    "collapsed": false,
    "pycharm": {
     "name": "#%%\n"
    }
   }
  },
  {
   "cell_type": "code",
   "execution_count": 5,
   "outputs": [
    {
     "name": "stdout",
     "output_type": "stream",
     "text": [
      "[0, 0, 0, 0, 0, 0, 0, 0, 0, 0, 0, 0, 0, 1, 1, 1, 1, 1, 1, 1, 1, 2, 2, 3, 4, 4, 1, 5, 6, 4, 7, 7, 7, 7, 8, 8, 8, 8, 8, 8, 9]\n"
     ]
    }
   ],
   "source": [
    "print(prediction_array)"
   ],
   "metadata": {
    "collapsed": false,
    "pycharm": {
     "name": "#%%\n"
    }
   }
  },
  {
   "cell_type": "code",
   "execution_count": 6,
   "outputs": [
    {
     "name": "stdout",
     "output_type": "stream",
     "text": [
      "['a', 'a', 'a', 'a', 'a', 'a', 'a', 'a', 'a', 'a', 'a', 'a', 'a', 'b', 'b', 'b', 'b', 'b', 'b', 'b', 'b', 'c', 'c', 'd', 'e', 'e', 'f', 'f', 'g', 'g', 'h', 'h', 'h', 'h', 'i', 'i', 'i', 'i', 'i', 'i', 'j']\n"
     ]
    }
   ],
   "source": [
    "label_array=[]\n",
    "for item in directory_array:\n",
    "    label_array.append(item[0])\n",
    "print(label_array)"
   ],
   "metadata": {
    "collapsed": false,
    "pycharm": {
     "name": "#%%\n"
    }
   }
  },
  {
   "cell_type": "code",
   "execution_count": 7,
   "outputs": [
    {
     "name": "stdout",
     "output_type": "stream",
     "text": [
      "[0, 0, 0, 0, 0, 0, 0, 0, 0, 0, 0, 0, 0, 1, 1, 1, 1, 1, 1, 1, 1, 2, 2, 3, 4, 4, 5, 5, 6, 6, 7, 7, 7, 7, 8, 8, 8, 8, 8, 8, 9]\n"
     ]
    }
   ],
   "source": [
    "converted_label=[]\n",
    "for letter in label_array:\n",
    "  number = ord(letter) - 96 - 1\n",
    "  converted_label.append(number)\n",
    "print(converted_label)"
   ],
   "metadata": {
    "collapsed": false,
    "pycharm": {
     "name": "#%%\n"
    }
   }
  },
  {
   "cell_type": "code",
   "execution_count": 8,
   "outputs": [
    {
     "data": {
      "text/plain": "0.9512195121951219"
     },
     "execution_count": 8,
     "metadata": {},
     "output_type": "execute_result"
    }
   ],
   "source": [
    "\n",
    "from sklearn.metrics import accuracy_score\n",
    "accuracy_score(converted_label, prediction_array)"
   ],
   "metadata": {
    "collapsed": false,
    "pycharm": {
     "name": "#%%\n"
    }
   }
  },
  {
   "cell_type": "code",
   "execution_count": 8,
   "outputs": [],
   "source": [],
   "metadata": {
    "collapsed": false,
    "pycharm": {
     "name": "#%%\n"
    }
   }
  }
 ],
 "metadata": {
  "kernelspec": {
   "display_name": "Python 3",
   "language": "python",
   "name": "python3"
  },
  "language_info": {
   "codemirror_mode": {
    "name": "ipython",
    "version": 2
   },
   "file_extension": ".py",
   "mimetype": "text/x-python",
   "name": "python",
   "nbconvert_exporter": "python",
   "pygments_lexer": "ipython2",
   "version": "2.7.6"
  }
 },
 "nbformat": 4,
 "nbformat_minor": 0
}